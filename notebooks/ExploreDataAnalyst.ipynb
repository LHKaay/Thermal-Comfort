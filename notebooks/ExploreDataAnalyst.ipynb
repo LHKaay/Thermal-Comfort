{
 "cells": [
  {
   "cell_type": "code",
   "execution_count": 1,
   "metadata": {},
   "outputs": [
    {
     "name": "stderr",
     "output_type": "stream",
     "text": [
      "C:\\Users\\hoang\\AppData\\Local\\Temp\\ipykernel_36664\\1935286545.py:3: DeprecationWarning: \n",
      "Pyarrow will become a required dependency of pandas in the next major release of pandas (pandas 3.0),\n",
      "(to allow more performant data types, such as the Arrow string type, and better interoperability with other libraries)\n",
      "but was not found to be installed on your system.\n",
      "If this would cause problems for you,\n",
      "please provide us feedback at https://github.com/pandas-dev/pandas/issues/54466\n",
      "        \n",
      "  import pandas as pd\n"
     ]
    }
   ],
   "source": [
    "import re\n",
    "import numpy as np\n",
    "import pandas as pd\n",
    "pd.options.mode.copy_on_write = True \n",
    "pd.set_option(\"display.max_columns\", None)\n",
    " \n",
    "import plotly.express as px\n",
    "import plotly.graph_objects as go\n",
    "\n",
    "from plotly.subplots import make_subplots\n",
    "\n",
    "from pprint import pprint\n"
   ]
  },
  {
   "cell_type": "markdown",
   "metadata": {},
   "source": [
    "# ASHRAE"
   ]
  },
  {
   "cell_type": "code",
   "execution_count": 3,
   "metadata": {},
   "outputs": [],
   "source": [
    "KOREA = True\n",
    "USA = True\n",
    "CHINA = True"
   ]
  },
  {
   "cell_type": "code",
   "execution_count": 4,
   "metadata": {},
   "outputs": [
    {
     "name": "stdout",
     "output_type": "stream",
     "text": [
      "[523, 524, 525, 526, 527, 528, 529, 530, 531, 532, 533, 534, 535, 536, 537, 538, 539, 540, 541, 542]\n"
     ]
    }
   ],
   "source": [
    "print([x for x in range(523, 543)])"
   ]
  },
  {
   "cell_type": "code",
   "execution_count": 5,
   "metadata": {},
   "outputs": [
    {
     "ename": "NameError",
     "evalue": "name 'org_ashrae_data' is not defined",
     "output_type": "error",
     "traceback": [
      "\u001b[1;31m---------------------------------------------------------------------------\u001b[0m",
      "\u001b[1;31mNameError\u001b[0m                                 Traceback (most recent call last)",
      "Cell \u001b[1;32mIn[5], line 1\u001b[0m\n\u001b[1;32m----> 1\u001b[0m \u001b[39mlist\u001b[39m(org_ashrae_data\u001b[39m.\u001b[39mcolumns)\n",
      "\u001b[1;31mNameError\u001b[0m: name 'org_ashrae_data' is not defined"
     ]
    }
   ],
   "source": [
    "list(org_ashrae_data.columns)"
   ]
  },
  {
   "cell_type": "code",
   "execution_count": null,
   "metadata": {},
   "outputs": [
    {
     "name": "stderr",
     "output_type": "stream",
     "text": [
      "C:\\Users\\hoang\\AppData\\Local\\Temp\\ipykernel_3812\\136866220.py:1: DtypeWarning:\n",
      "\n",
      "Columns (5,35,36) have mixed types. Specify dtype option on import or set low_memory=False.\n",
      "\n"
     ]
    },
    {
     "data": {
      "text/html": [
       "<div>\n",
       "<style scoped>\n",
       "    .dataframe tbody tr th:only-of-type {\n",
       "        vertical-align: middle;\n",
       "    }\n",
       "\n",
       "    .dataframe tbody tr th {\n",
       "        vertical-align: top;\n",
       "    }\n",
       "\n",
       "    .dataframe thead th {\n",
       "        text-align: right;\n",
       "    }\n",
       "</style>\n",
       "<table border=\"1\" class=\"dataframe\">\n",
       "  <thead>\n",
       "    <tr style=\"text-align: right;\">\n",
       "      <th></th>\n",
       "      <th>index</th>\n",
       "      <th>record_id</th>\n",
       "      <th>building_id</th>\n",
       "      <th>timestamp</th>\n",
       "      <th>season</th>\n",
       "      <th>subject_id</th>\n",
       "      <th>age</th>\n",
       "      <th>gender</th>\n",
       "      <th>ht</th>\n",
       "      <th>wt</th>\n",
       "      <th>ta</th>\n",
       "      <th>ta_h</th>\n",
       "      <th>ta_m</th>\n",
       "      <th>ta_l</th>\n",
       "      <th>top</th>\n",
       "      <th>tr</th>\n",
       "      <th>tg</th>\n",
       "      <th>tg_h</th>\n",
       "      <th>tg_m</th>\n",
       "      <th>tg_l</th>\n",
       "      <th>rh</th>\n",
       "      <th>vel</th>\n",
       "      <th>vel_h</th>\n",
       "      <th>vel_m</th>\n",
       "      <th>vel_l</th>\n",
       "      <th>met</th>\n",
       "      <th>clo</th>\n",
       "      <th>activity_10</th>\n",
       "      <th>activity_20</th>\n",
       "      <th>activity_30</th>\n",
       "      <th>activity_60</th>\n",
       "      <th>thermal_sensation</th>\n",
       "      <th>thermal_acceptability</th>\n",
       "      <th>thermal_preference</th>\n",
       "      <th>thermal_comfort</th>\n",
       "      <th>air_movement_acceptability</th>\n",
       "      <th>air_movement_preference</th>\n",
       "      <th>blind_curtain</th>\n",
       "      <th>fan</th>\n",
       "      <th>window</th>\n",
       "      <th>door</th>\n",
       "      <th>heater</th>\n",
       "      <th>t_out</th>\n",
       "      <th>rh_out</th>\n",
       "      <th>t_out_monthly</th>\n",
       "      <th>t_out_isd</th>\n",
       "      <th>rh_out_isd</th>\n",
       "      <th>set</th>\n",
       "      <th>pmv</th>\n",
       "      <th>ppd</th>\n",
       "      <th>pmv_ce</th>\n",
       "      <th>ppd_ce</th>\n",
       "      <th>t_mot_isd</th>\n",
       "    </tr>\n",
       "  </thead>\n",
       "  <tbody>\n",
       "    <tr>\n",
       "      <th>0</th>\n",
       "      <td>253</td>\n",
       "      <td>254</td>\n",
       "      <td>3</td>\n",
       "      <td>1992-01-29T00:00:00Z</td>\n",
       "      <td>winter</td>\n",
       "      <td>1.0</td>\n",
       "      <td>NaN</td>\n",
       "      <td>male</td>\n",
       "      <td>NaN</td>\n",
       "      <td>NaN</td>\n",
       "      <td>23.273333</td>\n",
       "      <td>23.65</td>\n",
       "      <td>23.28</td>\n",
       "      <td>22.89</td>\n",
       "      <td>23.250446</td>\n",
       "      <td>23.227558</td>\n",
       "      <td>NaN</td>\n",
       "      <td>23.65</td>\n",
       "      <td>23.24</td>\n",
       "      <td>22.81</td>\n",
       "      <td>40.548865</td>\n",
       "      <td>0.071667</td>\n",
       "      <td>0.107</td>\n",
       "      <td>0.064</td>\n",
       "      <td>0.044</td>\n",
       "      <td>1.0</td>\n",
       "      <td>0.59076</td>\n",
       "      <td>NaN</td>\n",
       "      <td>NaN</td>\n",
       "      <td>NaN</td>\n",
       "      <td>NaN</td>\n",
       "      <td>0.0</td>\n",
       "      <td>NaN</td>\n",
       "      <td>NaN</td>\n",
       "      <td>6.0</td>\n",
       "      <td>NaN</td>\n",
       "      <td>NaN</td>\n",
       "      <td>NaN</td>\n",
       "      <td>NaN</td>\n",
       "      <td>NaN</td>\n",
       "      <td>NaN</td>\n",
       "      <td>NaN</td>\n",
       "      <td>-0.555556</td>\n",
       "      <td>83.5</td>\n",
       "      <td>NaN</td>\n",
       "      <td>-0.583333</td>\n",
       "      <td>82.753266</td>\n",
       "      <td>22.7</td>\n",
       "      <td>-0.84</td>\n",
       "      <td>20.1</td>\n",
       "      <td>-0.84</td>\n",
       "      <td>20.1</td>\n",
       "      <td>-3.1</td>\n",
       "    </tr>\n",
       "    <tr>\n",
       "      <th>1</th>\n",
       "      <td>254</td>\n",
       "      <td>255</td>\n",
       "      <td>3</td>\n",
       "      <td>1992-01-29T00:00:00Z</td>\n",
       "      <td>winter</td>\n",
       "      <td>1.0</td>\n",
       "      <td>NaN</td>\n",
       "      <td>male</td>\n",
       "      <td>NaN</td>\n",
       "      <td>NaN</td>\n",
       "      <td>23.080000</td>\n",
       "      <td>23.56</td>\n",
       "      <td>23.24</td>\n",
       "      <td>22.44</td>\n",
       "      <td>23.098685</td>\n",
       "      <td>23.117369</td>\n",
       "      <td>NaN</td>\n",
       "      <td>23.67</td>\n",
       "      <td>23.26</td>\n",
       "      <td>22.42</td>\n",
       "      <td>38.046438</td>\n",
       "      <td>0.064667</td>\n",
       "      <td>0.089</td>\n",
       "      <td>0.060</td>\n",
       "      <td>0.045</td>\n",
       "      <td>1.0</td>\n",
       "      <td>0.59076</td>\n",
       "      <td>NaN</td>\n",
       "      <td>NaN</td>\n",
       "      <td>NaN</td>\n",
       "      <td>NaN</td>\n",
       "      <td>2.3</td>\n",
       "      <td>NaN</td>\n",
       "      <td>NaN</td>\n",
       "      <td>2.0</td>\n",
       "      <td>NaN</td>\n",
       "      <td>NaN</td>\n",
       "      <td>NaN</td>\n",
       "      <td>NaN</td>\n",
       "      <td>NaN</td>\n",
       "      <td>NaN</td>\n",
       "      <td>NaN</td>\n",
       "      <td>-0.555556</td>\n",
       "      <td>83.5</td>\n",
       "      <td>NaN</td>\n",
       "      <td>-0.583333</td>\n",
       "      <td>82.753266</td>\n",
       "      <td>22.5</td>\n",
       "      <td>-0.92</td>\n",
       "      <td>22.9</td>\n",
       "      <td>-0.92</td>\n",
       "      <td>22.9</td>\n",
       "      <td>-3.1</td>\n",
       "    </tr>\n",
       "    <tr>\n",
       "      <th>2</th>\n",
       "      <td>255</td>\n",
       "      <td>256</td>\n",
       "      <td>3</td>\n",
       "      <td>1992-01-29T00:00:00Z</td>\n",
       "      <td>winter</td>\n",
       "      <td>12.0</td>\n",
       "      <td>NaN</td>\n",
       "      <td>female</td>\n",
       "      <td>NaN</td>\n",
       "      <td>NaN</td>\n",
       "      <td>22.810000</td>\n",
       "      <td>22.86</td>\n",
       "      <td>22.90</td>\n",
       "      <td>22.67</td>\n",
       "      <td>22.845395</td>\n",
       "      <td>22.880790</td>\n",
       "      <td>NaN</td>\n",
       "      <td>23.04</td>\n",
       "      <td>22.93</td>\n",
       "      <td>22.66</td>\n",
       "      <td>37.682441</td>\n",
       "      <td>0.067000</td>\n",
       "      <td>0.089</td>\n",
       "      <td>0.070</td>\n",
       "      <td>0.042</td>\n",
       "      <td>1.0</td>\n",
       "      <td>1.12476</td>\n",
       "      <td>NaN</td>\n",
       "      <td>NaN</td>\n",
       "      <td>NaN</td>\n",
       "      <td>NaN</td>\n",
       "      <td>1.0</td>\n",
       "      <td>NaN</td>\n",
       "      <td>NaN</td>\n",
       "      <td>4.0</td>\n",
       "      <td>NaN</td>\n",
       "      <td>NaN</td>\n",
       "      <td>NaN</td>\n",
       "      <td>NaN</td>\n",
       "      <td>NaN</td>\n",
       "      <td>NaN</td>\n",
       "      <td>NaN</td>\n",
       "      <td>-0.555556</td>\n",
       "      <td>83.5</td>\n",
       "      <td>NaN</td>\n",
       "      <td>-0.583333</td>\n",
       "      <td>82.753266</td>\n",
       "      <td>25.8</td>\n",
       "      <td>0.02</td>\n",
       "      <td>5.0</td>\n",
       "      <td>0.02</td>\n",
       "      <td>5.0</td>\n",
       "      <td>-3.1</td>\n",
       "    </tr>\n",
       "    <tr>\n",
       "      <th>3</th>\n",
       "      <td>256</td>\n",
       "      <td>257</td>\n",
       "      <td>3</td>\n",
       "      <td>1992-01-29T00:00:00Z</td>\n",
       "      <td>winter</td>\n",
       "      <td>12.0</td>\n",
       "      <td>NaN</td>\n",
       "      <td>female</td>\n",
       "      <td>NaN</td>\n",
       "      <td>NaN</td>\n",
       "      <td>22.823333</td>\n",
       "      <td>22.92</td>\n",
       "      <td>22.87</td>\n",
       "      <td>22.68</td>\n",
       "      <td>22.869696</td>\n",
       "      <td>22.916058</td>\n",
       "      <td>NaN</td>\n",
       "      <td>23.08</td>\n",
       "      <td>22.96</td>\n",
       "      <td>22.69</td>\n",
       "      <td>35.902935</td>\n",
       "      <td>0.072667</td>\n",
       "      <td>0.085</td>\n",
       "      <td>0.080</td>\n",
       "      <td>0.053</td>\n",
       "      <td>1.2</td>\n",
       "      <td>1.12476</td>\n",
       "      <td>NaN</td>\n",
       "      <td>NaN</td>\n",
       "      <td>NaN</td>\n",
       "      <td>NaN</td>\n",
       "      <td>0.0</td>\n",
       "      <td>NaN</td>\n",
       "      <td>NaN</td>\n",
       "      <td>5.0</td>\n",
       "      <td>NaN</td>\n",
       "      <td>NaN</td>\n",
       "      <td>NaN</td>\n",
       "      <td>NaN</td>\n",
       "      <td>NaN</td>\n",
       "      <td>NaN</td>\n",
       "      <td>NaN</td>\n",
       "      <td>-0.555556</td>\n",
       "      <td>83.5</td>\n",
       "      <td>NaN</td>\n",
       "      <td>-0.583333</td>\n",
       "      <td>82.753266</td>\n",
       "      <td>26.5</td>\n",
       "      <td>0.29</td>\n",
       "      <td>6.7</td>\n",
       "      <td>0.29</td>\n",
       "      <td>6.7</td>\n",
       "      <td>-3.1</td>\n",
       "    </tr>\n",
       "    <tr>\n",
       "      <th>4</th>\n",
       "      <td>257</td>\n",
       "      <td>258</td>\n",
       "      <td>3</td>\n",
       "      <td>1992-01-29T00:00:00Z</td>\n",
       "      <td>winter</td>\n",
       "      <td>13.0</td>\n",
       "      <td>NaN</td>\n",
       "      <td>female</td>\n",
       "      <td>NaN</td>\n",
       "      <td>NaN</td>\n",
       "      <td>22.883333</td>\n",
       "      <td>22.98</td>\n",
       "      <td>22.94</td>\n",
       "      <td>22.73</td>\n",
       "      <td>22.880782</td>\n",
       "      <td>22.878231</td>\n",
       "      <td>NaN</td>\n",
       "      <td>23.05</td>\n",
       "      <td>22.90</td>\n",
       "      <td>22.69</td>\n",
       "      <td>37.284838</td>\n",
       "      <td>0.084667</td>\n",
       "      <td>0.071</td>\n",
       "      <td>0.090</td>\n",
       "      <td>0.093</td>\n",
       "      <td>1.0</td>\n",
       "      <td>0.95172</td>\n",
       "      <td>NaN</td>\n",
       "      <td>NaN</td>\n",
       "      <td>NaN</td>\n",
       "      <td>NaN</td>\n",
       "      <td>0.0</td>\n",
       "      <td>NaN</td>\n",
       "      <td>NaN</td>\n",
       "      <td>5.0</td>\n",
       "      <td>NaN</td>\n",
       "      <td>NaN</td>\n",
       "      <td>NaN</td>\n",
       "      <td>NaN</td>\n",
       "      <td>NaN</td>\n",
       "      <td>NaN</td>\n",
       "      <td>NaN</td>\n",
       "      <td>-0.555556</td>\n",
       "      <td>83.5</td>\n",
       "      <td>NaN</td>\n",
       "      <td>-0.583333</td>\n",
       "      <td>82.753266</td>\n",
       "      <td>24.7</td>\n",
       "      <td>-0.23</td>\n",
       "      <td>6.1</td>\n",
       "      <td>-0.23</td>\n",
       "      <td>6.1</td>\n",
       "      <td>-3.1</td>\n",
       "    </tr>\n",
       "    <tr>\n",
       "      <th>...</th>\n",
       "      <td>...</td>\n",
       "      <td>...</td>\n",
       "      <td>...</td>\n",
       "      <td>...</td>\n",
       "      <td>...</td>\n",
       "      <td>...</td>\n",
       "      <td>...</td>\n",
       "      <td>...</td>\n",
       "      <td>...</td>\n",
       "      <td>...</td>\n",
       "      <td>...</td>\n",
       "      <td>...</td>\n",
       "      <td>...</td>\n",
       "      <td>...</td>\n",
       "      <td>...</td>\n",
       "      <td>...</td>\n",
       "      <td>...</td>\n",
       "      <td>...</td>\n",
       "      <td>...</td>\n",
       "      <td>...</td>\n",
       "      <td>...</td>\n",
       "      <td>...</td>\n",
       "      <td>...</td>\n",
       "      <td>...</td>\n",
       "      <td>...</td>\n",
       "      <td>...</td>\n",
       "      <td>...</td>\n",
       "      <td>...</td>\n",
       "      <td>...</td>\n",
       "      <td>...</td>\n",
       "      <td>...</td>\n",
       "      <td>...</td>\n",
       "      <td>...</td>\n",
       "      <td>...</td>\n",
       "      <td>...</td>\n",
       "      <td>...</td>\n",
       "      <td>...</td>\n",
       "      <td>...</td>\n",
       "      <td>...</td>\n",
       "      <td>...</td>\n",
       "      <td>...</td>\n",
       "      <td>...</td>\n",
       "      <td>...</td>\n",
       "      <td>...</td>\n",
       "      <td>...</td>\n",
       "      <td>...</td>\n",
       "      <td>...</td>\n",
       "      <td>...</td>\n",
       "      <td>...</td>\n",
       "      <td>...</td>\n",
       "      <td>...</td>\n",
       "      <td>...</td>\n",
       "      <td>...</td>\n",
       "    </tr>\n",
       "    <tr>\n",
       "      <th>21881</th>\n",
       "      <td>108695</td>\n",
       "      <td>108696</td>\n",
       "      <td>804</td>\n",
       "      <td>2005-04-29T00:00:00Z</td>\n",
       "      <td>winter</td>\n",
       "      <td>NaN</td>\n",
       "      <td>NaN</td>\n",
       "      <td>NaN</td>\n",
       "      <td>NaN</td>\n",
       "      <td>NaN</td>\n",
       "      <td>27.800000</td>\n",
       "      <td>27.70</td>\n",
       "      <td>27.70</td>\n",
       "      <td>27.90</td>\n",
       "      <td>NaN</td>\n",
       "      <td>28.100000</td>\n",
       "      <td>NaN</td>\n",
       "      <td>28.20</td>\n",
       "      <td>27.90</td>\n",
       "      <td>27.60</td>\n",
       "      <td>49.500000</td>\n",
       "      <td>0.510000</td>\n",
       "      <td>0.400</td>\n",
       "      <td>0.470</td>\n",
       "      <td>0.650</td>\n",
       "      <td>1.2</td>\n",
       "      <td>0.71000</td>\n",
       "      <td>NaN</td>\n",
       "      <td>NaN</td>\n",
       "      <td>NaN</td>\n",
       "      <td>NaN</td>\n",
       "      <td>1.0</td>\n",
       "      <td>unacceptable</td>\n",
       "      <td>NaN</td>\n",
       "      <td>2.0</td>\n",
       "      <td>NaN</td>\n",
       "      <td>NaN</td>\n",
       "      <td>NaN</td>\n",
       "      <td>NaN</td>\n",
       "      <td>NaN</td>\n",
       "      <td>NaN</td>\n",
       "      <td>NaN</td>\n",
       "      <td>9.200000</td>\n",
       "      <td>NaN</td>\n",
       "      <td>21.2</td>\n",
       "      <td>26.733333</td>\n",
       "      <td>79.922326</td>\n",
       "      <td>27.1</td>\n",
       "      <td>0.84</td>\n",
       "      <td>19.9</td>\n",
       "      <td>0.41</td>\n",
       "      <td>8.5</td>\n",
       "      <td>23.7</td>\n",
       "    </tr>\n",
       "    <tr>\n",
       "      <th>21882</th>\n",
       "      <td>108696</td>\n",
       "      <td>108697</td>\n",
       "      <td>804</td>\n",
       "      <td>2005-04-29T00:00:00Z</td>\n",
       "      <td>winter</td>\n",
       "      <td>NaN</td>\n",
       "      <td>NaN</td>\n",
       "      <td>NaN</td>\n",
       "      <td>NaN</td>\n",
       "      <td>NaN</td>\n",
       "      <td>27.900000</td>\n",
       "      <td>28.00</td>\n",
       "      <td>27.80</td>\n",
       "      <td>28.00</td>\n",
       "      <td>NaN</td>\n",
       "      <td>29.400000</td>\n",
       "      <td>NaN</td>\n",
       "      <td>28.70</td>\n",
       "      <td>28.60</td>\n",
       "      <td>28.20</td>\n",
       "      <td>47.400000</td>\n",
       "      <td>0.510000</td>\n",
       "      <td>0.400</td>\n",
       "      <td>0.470</td>\n",
       "      <td>0.650</td>\n",
       "      <td>1.2</td>\n",
       "      <td>0.49000</td>\n",
       "      <td>NaN</td>\n",
       "      <td>NaN</td>\n",
       "      <td>NaN</td>\n",
       "      <td>NaN</td>\n",
       "      <td>1.0</td>\n",
       "      <td>acceptable</td>\n",
       "      <td>NaN</td>\n",
       "      <td>5.0</td>\n",
       "      <td>NaN</td>\n",
       "      <td>NaN</td>\n",
       "      <td>NaN</td>\n",
       "      <td>NaN</td>\n",
       "      <td>NaN</td>\n",
       "      <td>NaN</td>\n",
       "      <td>NaN</td>\n",
       "      <td>9.200000</td>\n",
       "      <td>NaN</td>\n",
       "      <td>21.2</td>\n",
       "      <td>26.733333</td>\n",
       "      <td>79.922326</td>\n",
       "      <td>25.7</td>\n",
       "      <td>0.60</td>\n",
       "      <td>12.7</td>\n",
       "      <td>0.14</td>\n",
       "      <td>5.4</td>\n",
       "      <td>23.7</td>\n",
       "    </tr>\n",
       "    <tr>\n",
       "      <th>21883</th>\n",
       "      <td>108697</td>\n",
       "      <td>108698</td>\n",
       "      <td>804</td>\n",
       "      <td>2005-04-29T00:00:00Z</td>\n",
       "      <td>winter</td>\n",
       "      <td>NaN</td>\n",
       "      <td>NaN</td>\n",
       "      <td>NaN</td>\n",
       "      <td>NaN</td>\n",
       "      <td>NaN</td>\n",
       "      <td>27.000000</td>\n",
       "      <td>26.80</td>\n",
       "      <td>27.00</td>\n",
       "      <td>27.30</td>\n",
       "      <td>NaN</td>\n",
       "      <td>28.400000</td>\n",
       "      <td>NaN</td>\n",
       "      <td>28.20</td>\n",
       "      <td>27.20</td>\n",
       "      <td>27.30</td>\n",
       "      <td>52.900000</td>\n",
       "      <td>0.510000</td>\n",
       "      <td>0.400</td>\n",
       "      <td>0.470</td>\n",
       "      <td>0.650</td>\n",
       "      <td>1.2</td>\n",
       "      <td>0.29000</td>\n",
       "      <td>NaN</td>\n",
       "      <td>NaN</td>\n",
       "      <td>NaN</td>\n",
       "      <td>NaN</td>\n",
       "      <td>-1.0</td>\n",
       "      <td>acceptable</td>\n",
       "      <td>NaN</td>\n",
       "      <td>5.0</td>\n",
       "      <td>NaN</td>\n",
       "      <td>NaN</td>\n",
       "      <td>NaN</td>\n",
       "      <td>NaN</td>\n",
       "      <td>NaN</td>\n",
       "      <td>NaN</td>\n",
       "      <td>NaN</td>\n",
       "      <td>9.200000</td>\n",
       "      <td>NaN</td>\n",
       "      <td>21.2</td>\n",
       "      <td>26.733333</td>\n",
       "      <td>79.922326</td>\n",
       "      <td>23.3</td>\n",
       "      <td>-0.29</td>\n",
       "      <td>6.8</td>\n",
       "      <td>-0.56</td>\n",
       "      <td>11.5</td>\n",
       "      <td>23.7</td>\n",
       "    </tr>\n",
       "    <tr>\n",
       "      <th>21884</th>\n",
       "      <td>108698</td>\n",
       "      <td>108699</td>\n",
       "      <td>804</td>\n",
       "      <td>2005-04-29T00:00:00Z</td>\n",
       "      <td>winter</td>\n",
       "      <td>NaN</td>\n",
       "      <td>NaN</td>\n",
       "      <td>NaN</td>\n",
       "      <td>NaN</td>\n",
       "      <td>NaN</td>\n",
       "      <td>27.000000</td>\n",
       "      <td>26.80</td>\n",
       "      <td>27.00</td>\n",
       "      <td>27.30</td>\n",
       "      <td>NaN</td>\n",
       "      <td>28.400000</td>\n",
       "      <td>NaN</td>\n",
       "      <td>28.20</td>\n",
       "      <td>27.20</td>\n",
       "      <td>27.30</td>\n",
       "      <td>52.900000</td>\n",
       "      <td>0.510000</td>\n",
       "      <td>0.400</td>\n",
       "      <td>0.470</td>\n",
       "      <td>0.650</td>\n",
       "      <td>1.2</td>\n",
       "      <td>0.47000</td>\n",
       "      <td>NaN</td>\n",
       "      <td>NaN</td>\n",
       "      <td>NaN</td>\n",
       "      <td>NaN</td>\n",
       "      <td>-1.0</td>\n",
       "      <td>acceptable</td>\n",
       "      <td>NaN</td>\n",
       "      <td>5.0</td>\n",
       "      <td>NaN</td>\n",
       "      <td>NaN</td>\n",
       "      <td>NaN</td>\n",
       "      <td>NaN</td>\n",
       "      <td>NaN</td>\n",
       "      <td>NaN</td>\n",
       "      <td>NaN</td>\n",
       "      <td>9.200000</td>\n",
       "      <td>NaN</td>\n",
       "      <td>21.2</td>\n",
       "      <td>26.733333</td>\n",
       "      <td>79.922326</td>\n",
       "      <td>24.9</td>\n",
       "      <td>0.24</td>\n",
       "      <td>6.2</td>\n",
       "      <td>-0.12</td>\n",
       "      <td>5.3</td>\n",
       "      <td>23.7</td>\n",
       "    </tr>\n",
       "    <tr>\n",
       "      <th>21885</th>\n",
       "      <td>108699</td>\n",
       "      <td>108700</td>\n",
       "      <td>804</td>\n",
       "      <td>2005-04-30T00:00:00Z</td>\n",
       "      <td>winter</td>\n",
       "      <td>NaN</td>\n",
       "      <td>NaN</td>\n",
       "      <td>NaN</td>\n",
       "      <td>NaN</td>\n",
       "      <td>NaN</td>\n",
       "      <td>26.300000</td>\n",
       "      <td>26.40</td>\n",
       "      <td>26.30</td>\n",
       "      <td>26.30</td>\n",
       "      <td>NaN</td>\n",
       "      <td>26.100000</td>\n",
       "      <td>NaN</td>\n",
       "      <td>26.80</td>\n",
       "      <td>26.20</td>\n",
       "      <td>25.70</td>\n",
       "      <td>50.000000</td>\n",
       "      <td>0.510000</td>\n",
       "      <td>0.400</td>\n",
       "      <td>0.470</td>\n",
       "      <td>0.650</td>\n",
       "      <td>1.6</td>\n",
       "      <td>0.59000</td>\n",
       "      <td>NaN</td>\n",
       "      <td>NaN</td>\n",
       "      <td>NaN</td>\n",
       "      <td>NaN</td>\n",
       "      <td>0.0</td>\n",
       "      <td>acceptable</td>\n",
       "      <td>NaN</td>\n",
       "      <td>3.0</td>\n",
       "      <td>NaN</td>\n",
       "      <td>NaN</td>\n",
       "      <td>NaN</td>\n",
       "      <td>NaN</td>\n",
       "      <td>NaN</td>\n",
       "      <td>NaN</td>\n",
       "      <td>NaN</td>\n",
       "      <td>12.150000</td>\n",
       "      <td>NaN</td>\n",
       "      <td>21.2</td>\n",
       "      <td>27.600000</td>\n",
       "      <td>80.574794</td>\n",
       "      <td>26.3</td>\n",
       "      <td>0.46</td>\n",
       "      <td>9.4</td>\n",
       "      <td>-0.03</td>\n",
       "      <td>5.0</td>\n",
       "      <td>24.4</td>\n",
       "    </tr>\n",
       "  </tbody>\n",
       "</table>\n",
       "<p>21886 rows × 53 columns</p>\n",
       "</div>"
      ],
      "text/plain": [
       "        index  record_id  building_id             timestamp  season  \\\n",
       "0         253        254            3  1992-01-29T00:00:00Z  winter   \n",
       "1         254        255            3  1992-01-29T00:00:00Z  winter   \n",
       "2         255        256            3  1992-01-29T00:00:00Z  winter   \n",
       "3         256        257            3  1992-01-29T00:00:00Z  winter   \n",
       "4         257        258            3  1992-01-29T00:00:00Z  winter   \n",
       "...       ...        ...          ...                   ...     ...   \n",
       "21881  108695     108696          804  2005-04-29T00:00:00Z  winter   \n",
       "21882  108696     108697          804  2005-04-29T00:00:00Z  winter   \n",
       "21883  108697     108698          804  2005-04-29T00:00:00Z  winter   \n",
       "21884  108698     108699          804  2005-04-29T00:00:00Z  winter   \n",
       "21885  108699     108700          804  2005-04-30T00:00:00Z  winter   \n",
       "\n",
       "      subject_id  age  gender  ht  wt         ta   ta_h   ta_m   ta_l  \\\n",
       "0            1.0  NaN    male NaN NaN  23.273333  23.65  23.28  22.89   \n",
       "1            1.0  NaN    male NaN NaN  23.080000  23.56  23.24  22.44   \n",
       "2           12.0  NaN  female NaN NaN  22.810000  22.86  22.90  22.67   \n",
       "3           12.0  NaN  female NaN NaN  22.823333  22.92  22.87  22.68   \n",
       "4           13.0  NaN  female NaN NaN  22.883333  22.98  22.94  22.73   \n",
       "...          ...  ...     ...  ..  ..        ...    ...    ...    ...   \n",
       "21881        NaN  NaN     NaN NaN NaN  27.800000  27.70  27.70  27.90   \n",
       "21882        NaN  NaN     NaN NaN NaN  27.900000  28.00  27.80  28.00   \n",
       "21883        NaN  NaN     NaN NaN NaN  27.000000  26.80  27.00  27.30   \n",
       "21884        NaN  NaN     NaN NaN NaN  27.000000  26.80  27.00  27.30   \n",
       "21885        NaN  NaN     NaN NaN NaN  26.300000  26.40  26.30  26.30   \n",
       "\n",
       "             top         tr  tg   tg_h   tg_m   tg_l         rh       vel  \\\n",
       "0      23.250446  23.227558 NaN  23.65  23.24  22.81  40.548865  0.071667   \n",
       "1      23.098685  23.117369 NaN  23.67  23.26  22.42  38.046438  0.064667   \n",
       "2      22.845395  22.880790 NaN  23.04  22.93  22.66  37.682441  0.067000   \n",
       "3      22.869696  22.916058 NaN  23.08  22.96  22.69  35.902935  0.072667   \n",
       "4      22.880782  22.878231 NaN  23.05  22.90  22.69  37.284838  0.084667   \n",
       "...          ...        ...  ..    ...    ...    ...        ...       ...   \n",
       "21881        NaN  28.100000 NaN  28.20  27.90  27.60  49.500000  0.510000   \n",
       "21882        NaN  29.400000 NaN  28.70  28.60  28.20  47.400000  0.510000   \n",
       "21883        NaN  28.400000 NaN  28.20  27.20  27.30  52.900000  0.510000   \n",
       "21884        NaN  28.400000 NaN  28.20  27.20  27.30  52.900000  0.510000   \n",
       "21885        NaN  26.100000 NaN  26.80  26.20  25.70  50.000000  0.510000   \n",
       "\n",
       "       vel_h  vel_m  vel_l  met      clo  activity_10  activity_20  \\\n",
       "0      0.107  0.064  0.044  1.0  0.59076          NaN          NaN   \n",
       "1      0.089  0.060  0.045  1.0  0.59076          NaN          NaN   \n",
       "2      0.089  0.070  0.042  1.0  1.12476          NaN          NaN   \n",
       "3      0.085  0.080  0.053  1.2  1.12476          NaN          NaN   \n",
       "4      0.071  0.090  0.093  1.0  0.95172          NaN          NaN   \n",
       "...      ...    ...    ...  ...      ...          ...          ...   \n",
       "21881  0.400  0.470  0.650  1.2  0.71000          NaN          NaN   \n",
       "21882  0.400  0.470  0.650  1.2  0.49000          NaN          NaN   \n",
       "21883  0.400  0.470  0.650  1.2  0.29000          NaN          NaN   \n",
       "21884  0.400  0.470  0.650  1.2  0.47000          NaN          NaN   \n",
       "21885  0.400  0.470  0.650  1.6  0.59000          NaN          NaN   \n",
       "\n",
       "       activity_30  activity_60  thermal_sensation thermal_acceptability  \\\n",
       "0              NaN          NaN                0.0                   NaN   \n",
       "1              NaN          NaN                2.3                   NaN   \n",
       "2              NaN          NaN                1.0                   NaN   \n",
       "3              NaN          NaN                0.0                   NaN   \n",
       "4              NaN          NaN                0.0                   NaN   \n",
       "...            ...          ...                ...                   ...   \n",
       "21881          NaN          NaN                1.0          unacceptable   \n",
       "21882          NaN          NaN                1.0            acceptable   \n",
       "21883          NaN          NaN               -1.0            acceptable   \n",
       "21884          NaN          NaN               -1.0            acceptable   \n",
       "21885          NaN          NaN                0.0            acceptable   \n",
       "\n",
       "      thermal_preference  thermal_comfort air_movement_acceptability  \\\n",
       "0                    NaN              6.0                        NaN   \n",
       "1                    NaN              2.0                        NaN   \n",
       "2                    NaN              4.0                        NaN   \n",
       "3                    NaN              5.0                        NaN   \n",
       "4                    NaN              5.0                        NaN   \n",
       "...                  ...              ...                        ...   \n",
       "21881                NaN              2.0                        NaN   \n",
       "21882                NaN              5.0                        NaN   \n",
       "21883                NaN              5.0                        NaN   \n",
       "21884                NaN              5.0                        NaN   \n",
       "21885                NaN              3.0                        NaN   \n",
       "\n",
       "      air_movement_preference  blind_curtain  fan  window  door  heater  \\\n",
       "0                         NaN            NaN  NaN     NaN   NaN     NaN   \n",
       "1                         NaN            NaN  NaN     NaN   NaN     NaN   \n",
       "2                         NaN            NaN  NaN     NaN   NaN     NaN   \n",
       "3                         NaN            NaN  NaN     NaN   NaN     NaN   \n",
       "4                         NaN            NaN  NaN     NaN   NaN     NaN   \n",
       "...                       ...            ...  ...     ...   ...     ...   \n",
       "21881                     NaN            NaN  NaN     NaN   NaN     NaN   \n",
       "21882                     NaN            NaN  NaN     NaN   NaN     NaN   \n",
       "21883                     NaN            NaN  NaN     NaN   NaN     NaN   \n",
       "21884                     NaN            NaN  NaN     NaN   NaN     NaN   \n",
       "21885                     NaN            NaN  NaN     NaN   NaN     NaN   \n",
       "\n",
       "           t_out  rh_out  t_out_monthly  t_out_isd  rh_out_isd   set   pmv  \\\n",
       "0      -0.555556    83.5            NaN  -0.583333   82.753266  22.7 -0.84   \n",
       "1      -0.555556    83.5            NaN  -0.583333   82.753266  22.5 -0.92   \n",
       "2      -0.555556    83.5            NaN  -0.583333   82.753266  25.8  0.02   \n",
       "3      -0.555556    83.5            NaN  -0.583333   82.753266  26.5  0.29   \n",
       "4      -0.555556    83.5            NaN  -0.583333   82.753266  24.7 -0.23   \n",
       "...          ...     ...            ...        ...         ...   ...   ...   \n",
       "21881   9.200000     NaN           21.2  26.733333   79.922326  27.1  0.84   \n",
       "21882   9.200000     NaN           21.2  26.733333   79.922326  25.7  0.60   \n",
       "21883   9.200000     NaN           21.2  26.733333   79.922326  23.3 -0.29   \n",
       "21884   9.200000     NaN           21.2  26.733333   79.922326  24.9  0.24   \n",
       "21885  12.150000     NaN           21.2  27.600000   80.574794  26.3  0.46   \n",
       "\n",
       "        ppd  pmv_ce  ppd_ce  t_mot_isd  \n",
       "0      20.1   -0.84    20.1       -3.1  \n",
       "1      22.9   -0.92    22.9       -3.1  \n",
       "2       5.0    0.02     5.0       -3.1  \n",
       "3       6.7    0.29     6.7       -3.1  \n",
       "4       6.1   -0.23     6.1       -3.1  \n",
       "...     ...     ...     ...        ...  \n",
       "21881  19.9    0.41     8.5       23.7  \n",
       "21882  12.7    0.14     5.4       23.7  \n",
       "21883   6.8   -0.56    11.5       23.7  \n",
       "21884   6.2   -0.12     5.3       23.7  \n",
       "21885   9.4   -0.03     5.0       24.4  \n",
       "\n",
       "[21886 rows x 53 columns]"
      ]
     },
     "execution_count": 66,
     "metadata": {},
     "output_type": "execute_result"
    }
   ],
   "source": [
    "ashrae_data = pd.read_csv(\"Dataset/ashrae-db-II-master/v2.1.0/db_measurements_v2.1.0.csv\")\n",
    "\n",
    "list_building_id = []\n",
    "if KOREA:\n",
    "    list_building_id.extend([561, 669, 670])\n",
    "if USA:\n",
    "    list_building_id.extend([3, 5, 6, 7, 8, 9, 154, 155, 156, 157, 158, 159, 160, 161, 162, 163, 164, 165, 523, 524, 525, 526, 527, 528, 529, 530, 531, 532, 533, 534, 535, 536, 537, 538, 539, 540, 541, 542, 623, 624, 635, 636, 664, 665, 666, 671, 672, 673, 674])\n",
    "if CHINA:\n",
    "    list_building_id.extend([593, 594, 595, 596, 597, 625, 626, 627, 663, 675, 782, 783, 784, 785, 786, 787, 788, 789, 790, 791, 792, 793, 794, 795, 796, 797, 798, 799, 800, 801, 802, 803, 804])\n",
    "\n",
    "\n",
    "ashrae_data = ashrae_data.loc[ashrae_data[\"building_id\"].isin(list_building_id)].reset_index(drop=True)\n",
    "\n",
    "ashrae_data"
   ]
  },
  {
   "cell_type": "code",
   "execution_count": null,
   "metadata": {},
   "outputs": [],
   "source": [
    "#Get necessary columns\n",
    "ashrae_data = ashrae_data[[\"timestamp\", \"season\", \"age\", \"gender\", \"ht\", \"wt\", \"met\", \"clo\", \"activity_10\", \"activity_20\", \"activity_30\", \"activity_60\", \n",
    "                           \"ta\", \"rh\", \"vel\", \n",
    "                           \"t_out\", \"rh_out\", \n",
    "                           \"blind_curtain\", \"fan\", \"window\", \"door\", \"heater\",\n",
    "                           \"thermal_sensation\", \"thermal_acceptability\", \"thermal_preference\", \"thermal_comfort\", \"pmv\", \"pmv_ce\", \"ppd\", \"ppd_ce\"]]\n",
    "\n",
    "ashrae_data.rename(columns={\"age\":\"person_age\",\"gender\":\"person_gender\", \"ht\":\"person_height\", \"wt\":\"person_weight\", \"met\":\"person_average_metabolic_rate\", \"clo\":\"person_clothing_insulation\", \"activity_10\":\"person_activity_10\", \"activity_20\":\"person_activity_20\", \"activity_30\":\"person_activity_30\", \"activity_60\":\"person_activity_60\", \n",
    "                            \"ta\":\"atmosphere_temperature\", \"rh\":\"atmosphere_relative_humidity\", \"vel\":\"atmosphere_air_speed\",\n",
    "                            \"t_out\":\"outdoor_temperature\", \"rh_out\":\"outdoor_relative_humidity\",\n",
    "                            \"blind_curtain\":\"house_blind_curtain\", \"fan\":\"house_fan\", \"window\":\"house_window\", \"door\":\"house_door\", \"heater\":\"house_heater\",\n",
    "                            \"pmv\":\"thermal_pmv\", \"pmv_ce\":\"thermal_pmv_ce\", \"ppd\":'thermal_ppd', \"ppd_ce\":\"thermal_ppd_ce\"}, inplace=True)"
   ]
  },
  {
   "cell_type": "code",
   "execution_count": null,
   "metadata": {},
   "outputs": [
    {
     "data": {
      "application/vnd.plotly.v1+json": {
       "config": {
        "plotlyServerURL": "https://plot.ly"
       },
       "data": [
        {
         "hovertemplate": "index=%{x}<br>amount=%{y}<extra></extra>",
         "legendgroup": "",
         "line": {
          "color": "#636efa",
          "dash": "solid"
         },
         "marker": {
          "symbol": "circle"
         },
         "mode": "lines",
         "name": "",
         "orientation": "v",
         "showlegend": false,
         "type": "scatter",
         "x": [
          "timestamp",
          "season",
          "person_age",
          "person_gender",
          "person_height",
          "person_weight",
          "person_average_metabolic_rate",
          "person_clothing_insulation",
          "person_activity_10",
          "person_activity_20",
          "person_activity_30",
          "person_activity_60",
          "atmosphere_temperature",
          "atmosphere_relative_humidity",
          "atmosphere_air_speed",
          "outdoor_temperature",
          "outdoor_relative_humidity",
          "house_blind_curtain",
          "house_fan",
          "house_window",
          "house_door",
          "house_heater",
          "thermal_sensation",
          "thermal_acceptability",
          "thermal_preference",
          "thermal_comfort",
          "thermal_pmv",
          "thermal_pmv_ce",
          "thermal_ppd",
          "thermal_ppd_ce"
         ],
         "xaxis": "x",
         "y": [
          3709,
          0,
          16280,
          8956,
          21055,
          21059,
          8624,
          2924,
          21886,
          19406,
          21886,
          19406,
          0,
          5369,
          8933,
          1047,
          15297,
          21584,
          20396,
          20559,
          21886,
          20480,
          2486,
          9390,
          10699,
          5909,
          15378,
          14745,
          15378,
          14745
         ],
         "yaxis": "y"
        }
       ],
       "layout": {
        "legend": {
         "tracegroupgap": 0
        },
        "template": {
         "data": {
          "bar": [
           {
            "error_x": {
             "color": "#f2f5fa"
            },
            "error_y": {
             "color": "#f2f5fa"
            },
            "marker": {
             "line": {
              "color": "rgb(17,17,17)",
              "width": 0.5
             },
             "pattern": {
              "fillmode": "overlay",
              "size": 10,
              "solidity": 0.2
             }
            },
            "type": "bar"
           }
          ],
          "barpolar": [
           {
            "marker": {
             "line": {
              "color": "rgb(17,17,17)",
              "width": 0.5
             },
             "pattern": {
              "fillmode": "overlay",
              "size": 10,
              "solidity": 0.2
             }
            },
            "type": "barpolar"
           }
          ],
          "carpet": [
           {
            "aaxis": {
             "endlinecolor": "#A2B1C6",
             "gridcolor": "#506784",
             "linecolor": "#506784",
             "minorgridcolor": "#506784",
             "startlinecolor": "#A2B1C6"
            },
            "baxis": {
             "endlinecolor": "#A2B1C6",
             "gridcolor": "#506784",
             "linecolor": "#506784",
             "minorgridcolor": "#506784",
             "startlinecolor": "#A2B1C6"
            },
            "type": "carpet"
           }
          ],
          "choropleth": [
           {
            "colorbar": {
             "outlinewidth": 0,
             "ticks": ""
            },
            "type": "choropleth"
           }
          ],
          "contour": [
           {
            "colorbar": {
             "outlinewidth": 0,
             "ticks": ""
            },
            "colorscale": [
             [
              0,
              "#0d0887"
             ],
             [
              0.1111111111111111,
              "#46039f"
             ],
             [
              0.2222222222222222,
              "#7201a8"
             ],
             [
              0.3333333333333333,
              "#9c179e"
             ],
             [
              0.4444444444444444,
              "#bd3786"
             ],
             [
              0.5555555555555556,
              "#d8576b"
             ],
             [
              0.6666666666666666,
              "#ed7953"
             ],
             [
              0.7777777777777778,
              "#fb9f3a"
             ],
             [
              0.8888888888888888,
              "#fdca26"
             ],
             [
              1,
              "#f0f921"
             ]
            ],
            "type": "contour"
           }
          ],
          "contourcarpet": [
           {
            "colorbar": {
             "outlinewidth": 0,
             "ticks": ""
            },
            "type": "contourcarpet"
           }
          ],
          "heatmap": [
           {
            "colorbar": {
             "outlinewidth": 0,
             "ticks": ""
            },
            "colorscale": [
             [
              0,
              "#0d0887"
             ],
             [
              0.1111111111111111,
              "#46039f"
             ],
             [
              0.2222222222222222,
              "#7201a8"
             ],
             [
              0.3333333333333333,
              "#9c179e"
             ],
             [
              0.4444444444444444,
              "#bd3786"
             ],
             [
              0.5555555555555556,
              "#d8576b"
             ],
             [
              0.6666666666666666,
              "#ed7953"
             ],
             [
              0.7777777777777778,
              "#fb9f3a"
             ],
             [
              0.8888888888888888,
              "#fdca26"
             ],
             [
              1,
              "#f0f921"
             ]
            ],
            "type": "heatmap"
           }
          ],
          "heatmapgl": [
           {
            "colorbar": {
             "outlinewidth": 0,
             "ticks": ""
            },
            "colorscale": [
             [
              0,
              "#0d0887"
             ],
             [
              0.1111111111111111,
              "#46039f"
             ],
             [
              0.2222222222222222,
              "#7201a8"
             ],
             [
              0.3333333333333333,
              "#9c179e"
             ],
             [
              0.4444444444444444,
              "#bd3786"
             ],
             [
              0.5555555555555556,
              "#d8576b"
             ],
             [
              0.6666666666666666,
              "#ed7953"
             ],
             [
              0.7777777777777778,
              "#fb9f3a"
             ],
             [
              0.8888888888888888,
              "#fdca26"
             ],
             [
              1,
              "#f0f921"
             ]
            ],
            "type": "heatmapgl"
           }
          ],
          "histogram": [
           {
            "marker": {
             "pattern": {
              "fillmode": "overlay",
              "size": 10,
              "solidity": 0.2
             }
            },
            "type": "histogram"
           }
          ],
          "histogram2d": [
           {
            "colorbar": {
             "outlinewidth": 0,
             "ticks": ""
            },
            "colorscale": [
             [
              0,
              "#0d0887"
             ],
             [
              0.1111111111111111,
              "#46039f"
             ],
             [
              0.2222222222222222,
              "#7201a8"
             ],
             [
              0.3333333333333333,
              "#9c179e"
             ],
             [
              0.4444444444444444,
              "#bd3786"
             ],
             [
              0.5555555555555556,
              "#d8576b"
             ],
             [
              0.6666666666666666,
              "#ed7953"
             ],
             [
              0.7777777777777778,
              "#fb9f3a"
             ],
             [
              0.8888888888888888,
              "#fdca26"
             ],
             [
              1,
              "#f0f921"
             ]
            ],
            "type": "histogram2d"
           }
          ],
          "histogram2dcontour": [
           {
            "colorbar": {
             "outlinewidth": 0,
             "ticks": ""
            },
            "colorscale": [
             [
              0,
              "#0d0887"
             ],
             [
              0.1111111111111111,
              "#46039f"
             ],
             [
              0.2222222222222222,
              "#7201a8"
             ],
             [
              0.3333333333333333,
              "#9c179e"
             ],
             [
              0.4444444444444444,
              "#bd3786"
             ],
             [
              0.5555555555555556,
              "#d8576b"
             ],
             [
              0.6666666666666666,
              "#ed7953"
             ],
             [
              0.7777777777777778,
              "#fb9f3a"
             ],
             [
              0.8888888888888888,
              "#fdca26"
             ],
             [
              1,
              "#f0f921"
             ]
            ],
            "type": "histogram2dcontour"
           }
          ],
          "mesh3d": [
           {
            "colorbar": {
             "outlinewidth": 0,
             "ticks": ""
            },
            "type": "mesh3d"
           }
          ],
          "parcoords": [
           {
            "line": {
             "colorbar": {
              "outlinewidth": 0,
              "ticks": ""
             }
            },
            "type": "parcoords"
           }
          ],
          "pie": [
           {
            "automargin": true,
            "type": "pie"
           }
          ],
          "scatter": [
           {
            "marker": {
             "line": {
              "color": "#283442"
             }
            },
            "type": "scatter"
           }
          ],
          "scatter3d": [
           {
            "line": {
             "colorbar": {
              "outlinewidth": 0,
              "ticks": ""
             }
            },
            "marker": {
             "colorbar": {
              "outlinewidth": 0,
              "ticks": ""
             }
            },
            "type": "scatter3d"
           }
          ],
          "scattercarpet": [
           {
            "marker": {
             "colorbar": {
              "outlinewidth": 0,
              "ticks": ""
             }
            },
            "type": "scattercarpet"
           }
          ],
          "scattergeo": [
           {
            "marker": {
             "colorbar": {
              "outlinewidth": 0,
              "ticks": ""
             }
            },
            "type": "scattergeo"
           }
          ],
          "scattergl": [
           {
            "marker": {
             "line": {
              "color": "#283442"
             }
            },
            "type": "scattergl"
           }
          ],
          "scattermapbox": [
           {
            "marker": {
             "colorbar": {
              "outlinewidth": 0,
              "ticks": ""
             }
            },
            "type": "scattermapbox"
           }
          ],
          "scatterpolar": [
           {
            "marker": {
             "colorbar": {
              "outlinewidth": 0,
              "ticks": ""
             }
            },
            "type": "scatterpolar"
           }
          ],
          "scatterpolargl": [
           {
            "marker": {
             "colorbar": {
              "outlinewidth": 0,
              "ticks": ""
             }
            },
            "type": "scatterpolargl"
           }
          ],
          "scatterternary": [
           {
            "marker": {
             "colorbar": {
              "outlinewidth": 0,
              "ticks": ""
             }
            },
            "type": "scatterternary"
           }
          ],
          "surface": [
           {
            "colorbar": {
             "outlinewidth": 0,
             "ticks": ""
            },
            "colorscale": [
             [
              0,
              "#0d0887"
             ],
             [
              0.1111111111111111,
              "#46039f"
             ],
             [
              0.2222222222222222,
              "#7201a8"
             ],
             [
              0.3333333333333333,
              "#9c179e"
             ],
             [
              0.4444444444444444,
              "#bd3786"
             ],
             [
              0.5555555555555556,
              "#d8576b"
             ],
             [
              0.6666666666666666,
              "#ed7953"
             ],
             [
              0.7777777777777778,
              "#fb9f3a"
             ],
             [
              0.8888888888888888,
              "#fdca26"
             ],
             [
              1,
              "#f0f921"
             ]
            ],
            "type": "surface"
           }
          ],
          "table": [
           {
            "cells": {
             "fill": {
              "color": "#506784"
             },
             "line": {
              "color": "rgb(17,17,17)"
             }
            },
            "header": {
             "fill": {
              "color": "#2a3f5f"
             },
             "line": {
              "color": "rgb(17,17,17)"
             }
            },
            "type": "table"
           }
          ]
         },
         "layout": {
          "annotationdefaults": {
           "arrowcolor": "#f2f5fa",
           "arrowhead": 0,
           "arrowwidth": 1
          },
          "autotypenumbers": "strict",
          "coloraxis": {
           "colorbar": {
            "outlinewidth": 0,
            "ticks": ""
           }
          },
          "colorscale": {
           "diverging": [
            [
             0,
             "#8e0152"
            ],
            [
             0.1,
             "#c51b7d"
            ],
            [
             0.2,
             "#de77ae"
            ],
            [
             0.3,
             "#f1b6da"
            ],
            [
             0.4,
             "#fde0ef"
            ],
            [
             0.5,
             "#f7f7f7"
            ],
            [
             0.6,
             "#e6f5d0"
            ],
            [
             0.7,
             "#b8e186"
            ],
            [
             0.8,
             "#7fbc41"
            ],
            [
             0.9,
             "#4d9221"
            ],
            [
             1,
             "#276419"
            ]
           ],
           "sequential": [
            [
             0,
             "#0d0887"
            ],
            [
             0.1111111111111111,
             "#46039f"
            ],
            [
             0.2222222222222222,
             "#7201a8"
            ],
            [
             0.3333333333333333,
             "#9c179e"
            ],
            [
             0.4444444444444444,
             "#bd3786"
            ],
            [
             0.5555555555555556,
             "#d8576b"
            ],
            [
             0.6666666666666666,
             "#ed7953"
            ],
            [
             0.7777777777777778,
             "#fb9f3a"
            ],
            [
             0.8888888888888888,
             "#fdca26"
            ],
            [
             1,
             "#f0f921"
            ]
           ],
           "sequentialminus": [
            [
             0,
             "#0d0887"
            ],
            [
             0.1111111111111111,
             "#46039f"
            ],
            [
             0.2222222222222222,
             "#7201a8"
            ],
            [
             0.3333333333333333,
             "#9c179e"
            ],
            [
             0.4444444444444444,
             "#bd3786"
            ],
            [
             0.5555555555555556,
             "#d8576b"
            ],
            [
             0.6666666666666666,
             "#ed7953"
            ],
            [
             0.7777777777777778,
             "#fb9f3a"
            ],
            [
             0.8888888888888888,
             "#fdca26"
            ],
            [
             1,
             "#f0f921"
            ]
           ]
          },
          "colorway": [
           "#636efa",
           "#EF553B",
           "#00cc96",
           "#ab63fa",
           "#FFA15A",
           "#19d3f3",
           "#FF6692",
           "#B6E880",
           "#FF97FF",
           "#FECB52"
          ],
          "font": {
           "color": "#f2f5fa"
          },
          "geo": {
           "bgcolor": "rgb(17,17,17)",
           "lakecolor": "rgb(17,17,17)",
           "landcolor": "rgb(17,17,17)",
           "showlakes": true,
           "showland": true,
           "subunitcolor": "#506784"
          },
          "hoverlabel": {
           "align": "left"
          },
          "hovermode": "closest",
          "mapbox": {
           "style": "dark"
          },
          "paper_bgcolor": "rgb(17,17,17)",
          "plot_bgcolor": "rgb(17,17,17)",
          "polar": {
           "angularaxis": {
            "gridcolor": "#506784",
            "linecolor": "#506784",
            "ticks": ""
           },
           "bgcolor": "rgb(17,17,17)",
           "radialaxis": {
            "gridcolor": "#506784",
            "linecolor": "#506784",
            "ticks": ""
           }
          },
          "scene": {
           "xaxis": {
            "backgroundcolor": "rgb(17,17,17)",
            "gridcolor": "#506784",
            "gridwidth": 2,
            "linecolor": "#506784",
            "showbackground": true,
            "ticks": "",
            "zerolinecolor": "#C8D4E3"
           },
           "yaxis": {
            "backgroundcolor": "rgb(17,17,17)",
            "gridcolor": "#506784",
            "gridwidth": 2,
            "linecolor": "#506784",
            "showbackground": true,
            "ticks": "",
            "zerolinecolor": "#C8D4E3"
           },
           "zaxis": {
            "backgroundcolor": "rgb(17,17,17)",
            "gridcolor": "#506784",
            "gridwidth": 2,
            "linecolor": "#506784",
            "showbackground": true,
            "ticks": "",
            "zerolinecolor": "#C8D4E3"
           }
          },
          "shapedefaults": {
           "line": {
            "color": "#f2f5fa"
           }
          },
          "sliderdefaults": {
           "bgcolor": "#C8D4E3",
           "bordercolor": "rgb(17,17,17)",
           "borderwidth": 1,
           "tickwidth": 0
          },
          "ternary": {
           "aaxis": {
            "gridcolor": "#506784",
            "linecolor": "#506784",
            "ticks": ""
           },
           "baxis": {
            "gridcolor": "#506784",
            "linecolor": "#506784",
            "ticks": ""
           },
           "bgcolor": "rgb(17,17,17)",
           "caxis": {
            "gridcolor": "#506784",
            "linecolor": "#506784",
            "ticks": ""
           }
          },
          "title": {
           "x": 0.05
          },
          "updatemenudefaults": {
           "bgcolor": "#506784",
           "borderwidth": 0
          },
          "xaxis": {
           "automargin": true,
           "gridcolor": "#283442",
           "linecolor": "#506784",
           "ticks": "",
           "title": {
            "standoff": 15
           },
           "zerolinecolor": "#283442",
           "zerolinewidth": 2
          },
          "yaxis": {
           "automargin": true,
           "gridcolor": "#283442",
           "linecolor": "#506784",
           "ticks": "",
           "title": {
            "standoff": 15
           },
           "zerolinecolor": "#283442",
           "zerolinewidth": 2
          }
         }
        },
        "title": {
         "text": "Count nan value in data table (total 21886 rows)"
        },
        "xaxis": {
         "anchor": "y",
         "domain": [
          0,
          1
         ],
         "title": {
          "text": "index"
         }
        },
        "yaxis": {
         "anchor": "x",
         "domain": [
          0,
          1
         ],
         "title": {
          "text": "amount"
         }
        }
       }
      }
     },
     "metadata": {},
     "output_type": "display_data"
    }
   ],
   "source": [
    "count_nan = ashrae_data.isna().sum().to_frame().reset_index().rename(columns={0:\"amount\"})\n",
    "\n",
    "fig = px.line(count_nan, x=\"index\",y=\"amount\", template=\"plotly_dark\", title=f\"Count nan value in data table (total {len(ashrae_data)} rows)\")\n",
    "fig.show()\n",
    "\n"
   ]
  },
  {
   "cell_type": "markdown",
   "metadata": {},
   "source": [
    "### Person"
   ]
  },
  {
   "cell_type": "code",
   "execution_count": null,
   "metadata": {},
   "outputs": [
    {
     "name": "stderr",
     "output_type": "stream",
     "text": [
      "e:\\LHK\\Study\\Lab\\SmartCity\\3.Others\\ThermalComfort\\.conda\\lib\\site-packages\\plotly\\express\\_core.py:2065: FutureWarning:\n",
      "\n",
      "When grouping with a length-1 list-like, you will need to pass a length-1 tuple to get_group in a future version of pandas. Pass `(name,)` instead of `name` to silence this warning.\n",
      "\n"
     ]
    },
    {
     "data": {
      "application/vnd.plotly.v1+json": {
       "config": {
        "plotlyServerURL": "https://plot.ly"
       },
       "data": [
        {
         "alignmentgroup": "True",
         "hovertemplate": "person_gender=female<br>person_age=%{x}<br>amount=%{y}<extra></extra>",
         "legendgroup": "female",
         "marker": {
          "color": "#636efa",
          "pattern": {
           "shape": ""
          }
         },
         "name": "female",
         "offsetgroup": "female",
         "orientation": "v",
         "showlegend": true,
         "textposition": "auto",
         "type": "bar",
         "x": [
          -1,
          1,
          2,
          3,
          4,
          5,
          6,
          7,
          8,
          9
         ],
         "xaxis": "x",
         "y": [
          4614,
          1846,
          324,
          164,
          149,
          84,
          74,
          106,
          47,
          5
         ],
         "yaxis": "y"
        },
        {
         "alignmentgroup": "True",
         "hovertemplate": "person_gender=male<br>person_age=%{x}<br>amount=%{y}<extra></extra>",
         "legendgroup": "male",
         "marker": {
          "color": "#EF553B",
          "pattern": {
           "shape": ""
          }
         },
         "name": "male",
         "offsetgroup": "male",
         "orientation": "v",
         "showlegend": true,
         "textposition": "auto",
         "type": "bar",
         "x": [
          -1,
          1,
          2,
          3,
          4,
          5,
          6,
          7,
          8
         ],
         "xaxis": "x",
         "y": [
          2795,
          1849,
          296,
          196,
          157,
          84,
          34,
          79,
          27
         ],
         "yaxis": "y"
        },
        {
         "alignmentgroup": "True",
         "hovertemplate": "person_gender=undefined<br>person_age=%{x}<br>amount=%{y}<extra></extra>",
         "legendgroup": "undefined",
         "marker": {
          "color": "#00cc96",
          "pattern": {
           "shape": ""
          }
         },
         "name": "undefined",
         "offsetgroup": "undefined",
         "orientation": "v",
         "showlegend": true,
         "textposition": "auto",
         "type": "bar",
         "x": [
          -1,
          2,
          3,
          4,
          5
         ],
         "xaxis": "x",
         "y": [
          8871,
          25,
          34,
          19,
          7
         ],
         "yaxis": "y"
        }
       ],
       "layout": {
        "barmode": "group",
        "legend": {
         "title": {
          "text": "person_gender"
         },
         "tracegroupgap": 0
        },
        "template": {
         "data": {
          "bar": [
           {
            "error_x": {
             "color": "#f2f5fa"
            },
            "error_y": {
             "color": "#f2f5fa"
            },
            "marker": {
             "line": {
              "color": "rgb(17,17,17)",
              "width": 0.5
             },
             "pattern": {
              "fillmode": "overlay",
              "size": 10,
              "solidity": 0.2
             }
            },
            "type": "bar"
           }
          ],
          "barpolar": [
           {
            "marker": {
             "line": {
              "color": "rgb(17,17,17)",
              "width": 0.5
             },
             "pattern": {
              "fillmode": "overlay",
              "size": 10,
              "solidity": 0.2
             }
            },
            "type": "barpolar"
           }
          ],
          "carpet": [
           {
            "aaxis": {
             "endlinecolor": "#A2B1C6",
             "gridcolor": "#506784",
             "linecolor": "#506784",
             "minorgridcolor": "#506784",
             "startlinecolor": "#A2B1C6"
            },
            "baxis": {
             "endlinecolor": "#A2B1C6",
             "gridcolor": "#506784",
             "linecolor": "#506784",
             "minorgridcolor": "#506784",
             "startlinecolor": "#A2B1C6"
            },
            "type": "carpet"
           }
          ],
          "choropleth": [
           {
            "colorbar": {
             "outlinewidth": 0,
             "ticks": ""
            },
            "type": "choropleth"
           }
          ],
          "contour": [
           {
            "colorbar": {
             "outlinewidth": 0,
             "ticks": ""
            },
            "colorscale": [
             [
              0,
              "#0d0887"
             ],
             [
              0.1111111111111111,
              "#46039f"
             ],
             [
              0.2222222222222222,
              "#7201a8"
             ],
             [
              0.3333333333333333,
              "#9c179e"
             ],
             [
              0.4444444444444444,
              "#bd3786"
             ],
             [
              0.5555555555555556,
              "#d8576b"
             ],
             [
              0.6666666666666666,
              "#ed7953"
             ],
             [
              0.7777777777777778,
              "#fb9f3a"
             ],
             [
              0.8888888888888888,
              "#fdca26"
             ],
             [
              1,
              "#f0f921"
             ]
            ],
            "type": "contour"
           }
          ],
          "contourcarpet": [
           {
            "colorbar": {
             "outlinewidth": 0,
             "ticks": ""
            },
            "type": "contourcarpet"
           }
          ],
          "heatmap": [
           {
            "colorbar": {
             "outlinewidth": 0,
             "ticks": ""
            },
            "colorscale": [
             [
              0,
              "#0d0887"
             ],
             [
              0.1111111111111111,
              "#46039f"
             ],
             [
              0.2222222222222222,
              "#7201a8"
             ],
             [
              0.3333333333333333,
              "#9c179e"
             ],
             [
              0.4444444444444444,
              "#bd3786"
             ],
             [
              0.5555555555555556,
              "#d8576b"
             ],
             [
              0.6666666666666666,
              "#ed7953"
             ],
             [
              0.7777777777777778,
              "#fb9f3a"
             ],
             [
              0.8888888888888888,
              "#fdca26"
             ],
             [
              1,
              "#f0f921"
             ]
            ],
            "type": "heatmap"
           }
          ],
          "heatmapgl": [
           {
            "colorbar": {
             "outlinewidth": 0,
             "ticks": ""
            },
            "colorscale": [
             [
              0,
              "#0d0887"
             ],
             [
              0.1111111111111111,
              "#46039f"
             ],
             [
              0.2222222222222222,
              "#7201a8"
             ],
             [
              0.3333333333333333,
              "#9c179e"
             ],
             [
              0.4444444444444444,
              "#bd3786"
             ],
             [
              0.5555555555555556,
              "#d8576b"
             ],
             [
              0.6666666666666666,
              "#ed7953"
             ],
             [
              0.7777777777777778,
              "#fb9f3a"
             ],
             [
              0.8888888888888888,
              "#fdca26"
             ],
             [
              1,
              "#f0f921"
             ]
            ],
            "type": "heatmapgl"
           }
          ],
          "histogram": [
           {
            "marker": {
             "pattern": {
              "fillmode": "overlay",
              "size": 10,
              "solidity": 0.2
             }
            },
            "type": "histogram"
           }
          ],
          "histogram2d": [
           {
            "colorbar": {
             "outlinewidth": 0,
             "ticks": ""
            },
            "colorscale": [
             [
              0,
              "#0d0887"
             ],
             [
              0.1111111111111111,
              "#46039f"
             ],
             [
              0.2222222222222222,
              "#7201a8"
             ],
             [
              0.3333333333333333,
              "#9c179e"
             ],
             [
              0.4444444444444444,
              "#bd3786"
             ],
             [
              0.5555555555555556,
              "#d8576b"
             ],
             [
              0.6666666666666666,
              "#ed7953"
             ],
             [
              0.7777777777777778,
              "#fb9f3a"
             ],
             [
              0.8888888888888888,
              "#fdca26"
             ],
             [
              1,
              "#f0f921"
             ]
            ],
            "type": "histogram2d"
           }
          ],
          "histogram2dcontour": [
           {
            "colorbar": {
             "outlinewidth": 0,
             "ticks": ""
            },
            "colorscale": [
             [
              0,
              "#0d0887"
             ],
             [
              0.1111111111111111,
              "#46039f"
             ],
             [
              0.2222222222222222,
              "#7201a8"
             ],
             [
              0.3333333333333333,
              "#9c179e"
             ],
             [
              0.4444444444444444,
              "#bd3786"
             ],
             [
              0.5555555555555556,
              "#d8576b"
             ],
             [
              0.6666666666666666,
              "#ed7953"
             ],
             [
              0.7777777777777778,
              "#fb9f3a"
             ],
             [
              0.8888888888888888,
              "#fdca26"
             ],
             [
              1,
              "#f0f921"
             ]
            ],
            "type": "histogram2dcontour"
           }
          ],
          "mesh3d": [
           {
            "colorbar": {
             "outlinewidth": 0,
             "ticks": ""
            },
            "type": "mesh3d"
           }
          ],
          "parcoords": [
           {
            "line": {
             "colorbar": {
              "outlinewidth": 0,
              "ticks": ""
             }
            },
            "type": "parcoords"
           }
          ],
          "pie": [
           {
            "automargin": true,
            "type": "pie"
           }
          ],
          "scatter": [
           {
            "marker": {
             "line": {
              "color": "#283442"
             }
            },
            "type": "scatter"
           }
          ],
          "scatter3d": [
           {
            "line": {
             "colorbar": {
              "outlinewidth": 0,
              "ticks": ""
             }
            },
            "marker": {
             "colorbar": {
              "outlinewidth": 0,
              "ticks": ""
             }
            },
            "type": "scatter3d"
           }
          ],
          "scattercarpet": [
           {
            "marker": {
             "colorbar": {
              "outlinewidth": 0,
              "ticks": ""
             }
            },
            "type": "scattercarpet"
           }
          ],
          "scattergeo": [
           {
            "marker": {
             "colorbar": {
              "outlinewidth": 0,
              "ticks": ""
             }
            },
            "type": "scattergeo"
           }
          ],
          "scattergl": [
           {
            "marker": {
             "line": {
              "color": "#283442"
             }
            },
            "type": "scattergl"
           }
          ],
          "scattermapbox": [
           {
            "marker": {
             "colorbar": {
              "outlinewidth": 0,
              "ticks": ""
             }
            },
            "type": "scattermapbox"
           }
          ],
          "scatterpolar": [
           {
            "marker": {
             "colorbar": {
              "outlinewidth": 0,
              "ticks": ""
             }
            },
            "type": "scatterpolar"
           }
          ],
          "scatterpolargl": [
           {
            "marker": {
             "colorbar": {
              "outlinewidth": 0,
              "ticks": ""
             }
            },
            "type": "scatterpolargl"
           }
          ],
          "scatterternary": [
           {
            "marker": {
             "colorbar": {
              "outlinewidth": 0,
              "ticks": ""
             }
            },
            "type": "scatterternary"
           }
          ],
          "surface": [
           {
            "colorbar": {
             "outlinewidth": 0,
             "ticks": ""
            },
            "colorscale": [
             [
              0,
              "#0d0887"
             ],
             [
              0.1111111111111111,
              "#46039f"
             ],
             [
              0.2222222222222222,
              "#7201a8"
             ],
             [
              0.3333333333333333,
              "#9c179e"
             ],
             [
              0.4444444444444444,
              "#bd3786"
             ],
             [
              0.5555555555555556,
              "#d8576b"
             ],
             [
              0.6666666666666666,
              "#ed7953"
             ],
             [
              0.7777777777777778,
              "#fb9f3a"
             ],
             [
              0.8888888888888888,
              "#fdca26"
             ],
             [
              1,
              "#f0f921"
             ]
            ],
            "type": "surface"
           }
          ],
          "table": [
           {
            "cells": {
             "fill": {
              "color": "#506784"
             },
             "line": {
              "color": "rgb(17,17,17)"
             }
            },
            "header": {
             "fill": {
              "color": "#2a3f5f"
             },
             "line": {
              "color": "rgb(17,17,17)"
             }
            },
            "type": "table"
           }
          ]
         },
         "layout": {
          "annotationdefaults": {
           "arrowcolor": "#f2f5fa",
           "arrowhead": 0,
           "arrowwidth": 1
          },
          "autotypenumbers": "strict",
          "coloraxis": {
           "colorbar": {
            "outlinewidth": 0,
            "ticks": ""
           }
          },
          "colorscale": {
           "diverging": [
            [
             0,
             "#8e0152"
            ],
            [
             0.1,
             "#c51b7d"
            ],
            [
             0.2,
             "#de77ae"
            ],
            [
             0.3,
             "#f1b6da"
            ],
            [
             0.4,
             "#fde0ef"
            ],
            [
             0.5,
             "#f7f7f7"
            ],
            [
             0.6,
             "#e6f5d0"
            ],
            [
             0.7,
             "#b8e186"
            ],
            [
             0.8,
             "#7fbc41"
            ],
            [
             0.9,
             "#4d9221"
            ],
            [
             1,
             "#276419"
            ]
           ],
           "sequential": [
            [
             0,
             "#0d0887"
            ],
            [
             0.1111111111111111,
             "#46039f"
            ],
            [
             0.2222222222222222,
             "#7201a8"
            ],
            [
             0.3333333333333333,
             "#9c179e"
            ],
            [
             0.4444444444444444,
             "#bd3786"
            ],
            [
             0.5555555555555556,
             "#d8576b"
            ],
            [
             0.6666666666666666,
             "#ed7953"
            ],
            [
             0.7777777777777778,
             "#fb9f3a"
            ],
            [
             0.8888888888888888,
             "#fdca26"
            ],
            [
             1,
             "#f0f921"
            ]
           ],
           "sequentialminus": [
            [
             0,
             "#0d0887"
            ],
            [
             0.1111111111111111,
             "#46039f"
            ],
            [
             0.2222222222222222,
             "#7201a8"
            ],
            [
             0.3333333333333333,
             "#9c179e"
            ],
            [
             0.4444444444444444,
             "#bd3786"
            ],
            [
             0.5555555555555556,
             "#d8576b"
            ],
            [
             0.6666666666666666,
             "#ed7953"
            ],
            [
             0.7777777777777778,
             "#fb9f3a"
            ],
            [
             0.8888888888888888,
             "#fdca26"
            ],
            [
             1,
             "#f0f921"
            ]
           ]
          },
          "colorway": [
           "#636efa",
           "#EF553B",
           "#00cc96",
           "#ab63fa",
           "#FFA15A",
           "#19d3f3",
           "#FF6692",
           "#B6E880",
           "#FF97FF",
           "#FECB52"
          ],
          "font": {
           "color": "#f2f5fa"
          },
          "geo": {
           "bgcolor": "rgb(17,17,17)",
           "lakecolor": "rgb(17,17,17)",
           "landcolor": "rgb(17,17,17)",
           "showlakes": true,
           "showland": true,
           "subunitcolor": "#506784"
          },
          "hoverlabel": {
           "align": "left"
          },
          "hovermode": "closest",
          "mapbox": {
           "style": "dark"
          },
          "paper_bgcolor": "rgb(17,17,17)",
          "plot_bgcolor": "rgb(17,17,17)",
          "polar": {
           "angularaxis": {
            "gridcolor": "#506784",
            "linecolor": "#506784",
            "ticks": ""
           },
           "bgcolor": "rgb(17,17,17)",
           "radialaxis": {
            "gridcolor": "#506784",
            "linecolor": "#506784",
            "ticks": ""
           }
          },
          "scene": {
           "xaxis": {
            "backgroundcolor": "rgb(17,17,17)",
            "gridcolor": "#506784",
            "gridwidth": 2,
            "linecolor": "#506784",
            "showbackground": true,
            "ticks": "",
            "zerolinecolor": "#C8D4E3"
           },
           "yaxis": {
            "backgroundcolor": "rgb(17,17,17)",
            "gridcolor": "#506784",
            "gridwidth": 2,
            "linecolor": "#506784",
            "showbackground": true,
            "ticks": "",
            "zerolinecolor": "#C8D4E3"
           },
           "zaxis": {
            "backgroundcolor": "rgb(17,17,17)",
            "gridcolor": "#506784",
            "gridwidth": 2,
            "linecolor": "#506784",
            "showbackground": true,
            "ticks": "",
            "zerolinecolor": "#C8D4E3"
           }
          },
          "shapedefaults": {
           "line": {
            "color": "#f2f5fa"
           }
          },
          "sliderdefaults": {
           "bgcolor": "#C8D4E3",
           "bordercolor": "rgb(17,17,17)",
           "borderwidth": 1,
           "tickwidth": 0
          },
          "ternary": {
           "aaxis": {
            "gridcolor": "#506784",
            "linecolor": "#506784",
            "ticks": ""
           },
           "baxis": {
            "gridcolor": "#506784",
            "linecolor": "#506784",
            "ticks": ""
           },
           "bgcolor": "rgb(17,17,17)",
           "caxis": {
            "gridcolor": "#506784",
            "linecolor": "#506784",
            "ticks": ""
           }
          },
          "title": {
           "x": 0.05
          },
          "updatemenudefaults": {
           "bgcolor": "#506784",
           "borderwidth": 0
          },
          "xaxis": {
           "automargin": true,
           "gridcolor": "#283442",
           "linecolor": "#506784",
           "ticks": "",
           "title": {
            "standoff": 15
           },
           "zerolinecolor": "#283442",
           "zerolinewidth": 2
          },
          "yaxis": {
           "automargin": true,
           "gridcolor": "#283442",
           "linecolor": "#506784",
           "ticks": "",
           "title": {
            "standoff": 15
           },
           "zerolinecolor": "#283442",
           "zerolinewidth": 2
          }
         }
        },
        "title": {
         "text": "Amount of person in each group of 10-year old"
        },
        "xaxis": {
         "anchor": "y",
         "domain": [
          0,
          1
         ],
         "title": {
          "text": "person_age"
         }
        },
        "yaxis": {
         "anchor": "x",
         "domain": [
          0,
          1
         ],
         "title": {
          "text": "amount"
         }
        }
       }
      }
     },
     "metadata": {},
     "output_type": "display_data"
    },
    {
     "data": {
      "application/vnd.plotly.v1+json": {
       "config": {
        "plotlyServerURL": "https://plot.ly"
       },
       "data": [
        {
         "domain": {
          "x": [
           0,
           1
          ],
          "y": [
           0,
           1
          ]
         },
         "hovertemplate": "thermal_preference=%{label}<br>0=%{value}<extra></extra>",
         "labels": [
          "cooler",
          "no change",
          "warmer"
         ],
         "legendgroup": "",
         "name": "",
         "showlegend": true,
         "type": "pie",
         "values": [
          3349,
          6148,
          1690
         ]
        }
       ],
       "layout": {
        "legend": {
         "tracegroupgap": 0
        },
        "template": {
         "data": {
          "bar": [
           {
            "error_x": {
             "color": "#f2f5fa"
            },
            "error_y": {
             "color": "#f2f5fa"
            },
            "marker": {
             "line": {
              "color": "rgb(17,17,17)",
              "width": 0.5
             },
             "pattern": {
              "fillmode": "overlay",
              "size": 10,
              "solidity": 0.2
             }
            },
            "type": "bar"
           }
          ],
          "barpolar": [
           {
            "marker": {
             "line": {
              "color": "rgb(17,17,17)",
              "width": 0.5
             },
             "pattern": {
              "fillmode": "overlay",
              "size": 10,
              "solidity": 0.2
             }
            },
            "type": "barpolar"
           }
          ],
          "carpet": [
           {
            "aaxis": {
             "endlinecolor": "#A2B1C6",
             "gridcolor": "#506784",
             "linecolor": "#506784",
             "minorgridcolor": "#506784",
             "startlinecolor": "#A2B1C6"
            },
            "baxis": {
             "endlinecolor": "#A2B1C6",
             "gridcolor": "#506784",
             "linecolor": "#506784",
             "minorgridcolor": "#506784",
             "startlinecolor": "#A2B1C6"
            },
            "type": "carpet"
           }
          ],
          "choropleth": [
           {
            "colorbar": {
             "outlinewidth": 0,
             "ticks": ""
            },
            "type": "choropleth"
           }
          ],
          "contour": [
           {
            "colorbar": {
             "outlinewidth": 0,
             "ticks": ""
            },
            "colorscale": [
             [
              0,
              "#0d0887"
             ],
             [
              0.1111111111111111,
              "#46039f"
             ],
             [
              0.2222222222222222,
              "#7201a8"
             ],
             [
              0.3333333333333333,
              "#9c179e"
             ],
             [
              0.4444444444444444,
              "#bd3786"
             ],
             [
              0.5555555555555556,
              "#d8576b"
             ],
             [
              0.6666666666666666,
              "#ed7953"
             ],
             [
              0.7777777777777778,
              "#fb9f3a"
             ],
             [
              0.8888888888888888,
              "#fdca26"
             ],
             [
              1,
              "#f0f921"
             ]
            ],
            "type": "contour"
           }
          ],
          "contourcarpet": [
           {
            "colorbar": {
             "outlinewidth": 0,
             "ticks": ""
            },
            "type": "contourcarpet"
           }
          ],
          "heatmap": [
           {
            "colorbar": {
             "outlinewidth": 0,
             "ticks": ""
            },
            "colorscale": [
             [
              0,
              "#0d0887"
             ],
             [
              0.1111111111111111,
              "#46039f"
             ],
             [
              0.2222222222222222,
              "#7201a8"
             ],
             [
              0.3333333333333333,
              "#9c179e"
             ],
             [
              0.4444444444444444,
              "#bd3786"
             ],
             [
              0.5555555555555556,
              "#d8576b"
             ],
             [
              0.6666666666666666,
              "#ed7953"
             ],
             [
              0.7777777777777778,
              "#fb9f3a"
             ],
             [
              0.8888888888888888,
              "#fdca26"
             ],
             [
              1,
              "#f0f921"
             ]
            ],
            "type": "heatmap"
           }
          ],
          "heatmapgl": [
           {
            "colorbar": {
             "outlinewidth": 0,
             "ticks": ""
            },
            "colorscale": [
             [
              0,
              "#0d0887"
             ],
             [
              0.1111111111111111,
              "#46039f"
             ],
             [
              0.2222222222222222,
              "#7201a8"
             ],
             [
              0.3333333333333333,
              "#9c179e"
             ],
             [
              0.4444444444444444,
              "#bd3786"
             ],
             [
              0.5555555555555556,
              "#d8576b"
             ],
             [
              0.6666666666666666,
              "#ed7953"
             ],
             [
              0.7777777777777778,
              "#fb9f3a"
             ],
             [
              0.8888888888888888,
              "#fdca26"
             ],
             [
              1,
              "#f0f921"
             ]
            ],
            "type": "heatmapgl"
           }
          ],
          "histogram": [
           {
            "marker": {
             "pattern": {
              "fillmode": "overlay",
              "size": 10,
              "solidity": 0.2
             }
            },
            "type": "histogram"
           }
          ],
          "histogram2d": [
           {
            "colorbar": {
             "outlinewidth": 0,
             "ticks": ""
            },
            "colorscale": [
             [
              0,
              "#0d0887"
             ],
             [
              0.1111111111111111,
              "#46039f"
             ],
             [
              0.2222222222222222,
              "#7201a8"
             ],
             [
              0.3333333333333333,
              "#9c179e"
             ],
             [
              0.4444444444444444,
              "#bd3786"
             ],
             [
              0.5555555555555556,
              "#d8576b"
             ],
             [
              0.6666666666666666,
              "#ed7953"
             ],
             [
              0.7777777777777778,
              "#fb9f3a"
             ],
             [
              0.8888888888888888,
              "#fdca26"
             ],
             [
              1,
              "#f0f921"
             ]
            ],
            "type": "histogram2d"
           }
          ],
          "histogram2dcontour": [
           {
            "colorbar": {
             "outlinewidth": 0,
             "ticks": ""
            },
            "colorscale": [
             [
              0,
              "#0d0887"
             ],
             [
              0.1111111111111111,
              "#46039f"
             ],
             [
              0.2222222222222222,
              "#7201a8"
             ],
             [
              0.3333333333333333,
              "#9c179e"
             ],
             [
              0.4444444444444444,
              "#bd3786"
             ],
             [
              0.5555555555555556,
              "#d8576b"
             ],
             [
              0.6666666666666666,
              "#ed7953"
             ],
             [
              0.7777777777777778,
              "#fb9f3a"
             ],
             [
              0.8888888888888888,
              "#fdca26"
             ],
             [
              1,
              "#f0f921"
             ]
            ],
            "type": "histogram2dcontour"
           }
          ],
          "mesh3d": [
           {
            "colorbar": {
             "outlinewidth": 0,
             "ticks": ""
            },
            "type": "mesh3d"
           }
          ],
          "parcoords": [
           {
            "line": {
             "colorbar": {
              "outlinewidth": 0,
              "ticks": ""
             }
            },
            "type": "parcoords"
           }
          ],
          "pie": [
           {
            "automargin": true,
            "type": "pie"
           }
          ],
          "scatter": [
           {
            "marker": {
             "line": {
              "color": "#283442"
             }
            },
            "type": "scatter"
           }
          ],
          "scatter3d": [
           {
            "line": {
             "colorbar": {
              "outlinewidth": 0,
              "ticks": ""
             }
            },
            "marker": {
             "colorbar": {
              "outlinewidth": 0,
              "ticks": ""
             }
            },
            "type": "scatter3d"
           }
          ],
          "scattercarpet": [
           {
            "marker": {
             "colorbar": {
              "outlinewidth": 0,
              "ticks": ""
             }
            },
            "type": "scattercarpet"
           }
          ],
          "scattergeo": [
           {
            "marker": {
             "colorbar": {
              "outlinewidth": 0,
              "ticks": ""
             }
            },
            "type": "scattergeo"
           }
          ],
          "scattergl": [
           {
            "marker": {
             "line": {
              "color": "#283442"
             }
            },
            "type": "scattergl"
           }
          ],
          "scattermapbox": [
           {
            "marker": {
             "colorbar": {
              "outlinewidth": 0,
              "ticks": ""
             }
            },
            "type": "scattermapbox"
           }
          ],
          "scatterpolar": [
           {
            "marker": {
             "colorbar": {
              "outlinewidth": 0,
              "ticks": ""
             }
            },
            "type": "scatterpolar"
           }
          ],
          "scatterpolargl": [
           {
            "marker": {
             "colorbar": {
              "outlinewidth": 0,
              "ticks": ""
             }
            },
            "type": "scatterpolargl"
           }
          ],
          "scatterternary": [
           {
            "marker": {
             "colorbar": {
              "outlinewidth": 0,
              "ticks": ""
             }
            },
            "type": "scatterternary"
           }
          ],
          "surface": [
           {
            "colorbar": {
             "outlinewidth": 0,
             "ticks": ""
            },
            "colorscale": [
             [
              0,
              "#0d0887"
             ],
             [
              0.1111111111111111,
              "#46039f"
             ],
             [
              0.2222222222222222,
              "#7201a8"
             ],
             [
              0.3333333333333333,
              "#9c179e"
             ],
             [
              0.4444444444444444,
              "#bd3786"
             ],
             [
              0.5555555555555556,
              "#d8576b"
             ],
             [
              0.6666666666666666,
              "#ed7953"
             ],
             [
              0.7777777777777778,
              "#fb9f3a"
             ],
             [
              0.8888888888888888,
              "#fdca26"
             ],
             [
              1,
              "#f0f921"
             ]
            ],
            "type": "surface"
           }
          ],
          "table": [
           {
            "cells": {
             "fill": {
              "color": "#506784"
             },
             "line": {
              "color": "rgb(17,17,17)"
             }
            },
            "header": {
             "fill": {
              "color": "#2a3f5f"
             },
             "line": {
              "color": "rgb(17,17,17)"
             }
            },
            "type": "table"
           }
          ]
         },
         "layout": {
          "annotationdefaults": {
           "arrowcolor": "#f2f5fa",
           "arrowhead": 0,
           "arrowwidth": 1
          },
          "autotypenumbers": "strict",
          "coloraxis": {
           "colorbar": {
            "outlinewidth": 0,
            "ticks": ""
           }
          },
          "colorscale": {
           "diverging": [
            [
             0,
             "#8e0152"
            ],
            [
             0.1,
             "#c51b7d"
            ],
            [
             0.2,
             "#de77ae"
            ],
            [
             0.3,
             "#f1b6da"
            ],
            [
             0.4,
             "#fde0ef"
            ],
            [
             0.5,
             "#f7f7f7"
            ],
            [
             0.6,
             "#e6f5d0"
            ],
            [
             0.7,
             "#b8e186"
            ],
            [
             0.8,
             "#7fbc41"
            ],
            [
             0.9,
             "#4d9221"
            ],
            [
             1,
             "#276419"
            ]
           ],
           "sequential": [
            [
             0,
             "#0d0887"
            ],
            [
             0.1111111111111111,
             "#46039f"
            ],
            [
             0.2222222222222222,
             "#7201a8"
            ],
            [
             0.3333333333333333,
             "#9c179e"
            ],
            [
             0.4444444444444444,
             "#bd3786"
            ],
            [
             0.5555555555555556,
             "#d8576b"
            ],
            [
             0.6666666666666666,
             "#ed7953"
            ],
            [
             0.7777777777777778,
             "#fb9f3a"
            ],
            [
             0.8888888888888888,
             "#fdca26"
            ],
            [
             1,
             "#f0f921"
            ]
           ],
           "sequentialminus": [
            [
             0,
             "#0d0887"
            ],
            [
             0.1111111111111111,
             "#46039f"
            ],
            [
             0.2222222222222222,
             "#7201a8"
            ],
            [
             0.3333333333333333,
             "#9c179e"
            ],
            [
             0.4444444444444444,
             "#bd3786"
            ],
            [
             0.5555555555555556,
             "#d8576b"
            ],
            [
             0.6666666666666666,
             "#ed7953"
            ],
            [
             0.7777777777777778,
             "#fb9f3a"
            ],
            [
             0.8888888888888888,
             "#fdca26"
            ],
            [
             1,
             "#f0f921"
            ]
           ]
          },
          "colorway": [
           "#636efa",
           "#EF553B",
           "#00cc96",
           "#ab63fa",
           "#FFA15A",
           "#19d3f3",
           "#FF6692",
           "#B6E880",
           "#FF97FF",
           "#FECB52"
          ],
          "font": {
           "color": "#f2f5fa"
          },
          "geo": {
           "bgcolor": "rgb(17,17,17)",
           "lakecolor": "rgb(17,17,17)",
           "landcolor": "rgb(17,17,17)",
           "showlakes": true,
           "showland": true,
           "subunitcolor": "#506784"
          },
          "hoverlabel": {
           "align": "left"
          },
          "hovermode": "closest",
          "mapbox": {
           "style": "dark"
          },
          "paper_bgcolor": "rgb(17,17,17)",
          "plot_bgcolor": "rgb(17,17,17)",
          "polar": {
           "angularaxis": {
            "gridcolor": "#506784",
            "linecolor": "#506784",
            "ticks": ""
           },
           "bgcolor": "rgb(17,17,17)",
           "radialaxis": {
            "gridcolor": "#506784",
            "linecolor": "#506784",
            "ticks": ""
           }
          },
          "scene": {
           "xaxis": {
            "backgroundcolor": "rgb(17,17,17)",
            "gridcolor": "#506784",
            "gridwidth": 2,
            "linecolor": "#506784",
            "showbackground": true,
            "ticks": "",
            "zerolinecolor": "#C8D4E3"
           },
           "yaxis": {
            "backgroundcolor": "rgb(17,17,17)",
            "gridcolor": "#506784",
            "gridwidth": 2,
            "linecolor": "#506784",
            "showbackground": true,
            "ticks": "",
            "zerolinecolor": "#C8D4E3"
           },
           "zaxis": {
            "backgroundcolor": "rgb(17,17,17)",
            "gridcolor": "#506784",
            "gridwidth": 2,
            "linecolor": "#506784",
            "showbackground": true,
            "ticks": "",
            "zerolinecolor": "#C8D4E3"
           }
          },
          "shapedefaults": {
           "line": {
            "color": "#f2f5fa"
           }
          },
          "sliderdefaults": {
           "bgcolor": "#C8D4E3",
           "bordercolor": "rgb(17,17,17)",
           "borderwidth": 1,
           "tickwidth": 0
          },
          "ternary": {
           "aaxis": {
            "gridcolor": "#506784",
            "linecolor": "#506784",
            "ticks": ""
           },
           "baxis": {
            "gridcolor": "#506784",
            "linecolor": "#506784",
            "ticks": ""
           },
           "bgcolor": "rgb(17,17,17)",
           "caxis": {
            "gridcolor": "#506784",
            "linecolor": "#506784",
            "ticks": ""
           }
          },
          "title": {
           "x": 0.05
          },
          "updatemenudefaults": {
           "bgcolor": "#506784",
           "borderwidth": 0
          },
          "xaxis": {
           "automargin": true,
           "gridcolor": "#283442",
           "linecolor": "#506784",
           "ticks": "",
           "title": {
            "standoff": 15
           },
           "zerolinecolor": "#283442",
           "zerolinewidth": 2
          },
          "yaxis": {
           "automargin": true,
           "gridcolor": "#283442",
           "linecolor": "#506784",
           "ticks": "",
           "title": {
            "standoff": 15
           },
           "zerolinecolor": "#283442",
           "zerolinewidth": 2
          }
         }
        },
        "title": {
         "text": "Proportion of Thermal Preference"
        }
       }
      }
     },
     "metadata": {},
     "output_type": "display_data"
    },
    {
     "name": "stderr",
     "output_type": "stream",
     "text": [
      "e:\\LHK\\Study\\Lab\\SmartCity\\3.Others\\ThermalComfort\\.conda\\lib\\site-packages\\plotly\\express\\_core.py:2065: FutureWarning:\n",
      "\n",
      "When grouping with a length-1 list-like, you will need to pass a length-1 tuple to get_group in a future version of pandas. Pass `(name,)` instead of `name` to silence this warning.\n",
      "\n"
     ]
    },
    {
     "data": {
      "application/vnd.plotly.v1+json": {
       "config": {
        "plotlyServerURL": "https://plot.ly"
       },
       "data": [
        {
         "alignmentgroup": "True",
         "hovertemplate": "thermal_preference=cooler<br>person_age=%{x}<br>person_clothing_insulation=%{y}<extra></extra>",
         "legendgroup": "cooler",
         "marker": {
          "color": "#636efa",
          "pattern": {
           "shape": ""
          }
         },
         "name": "cooler",
         "offsetgroup": "cooler",
         "orientation": "v",
         "showlegend": true,
         "textposition": "auto",
         "type": "bar",
         "x": [
          -1,
          1,
          2,
          3,
          4,
          5,
          6
         ],
         "xaxis": "x",
         "y": [
          0.6763860682051281,
          0.4027266797129811,
          0.7147272727272728,
          0.586590909090909,
          0.5285294117647058,
          0.3463636363636364,
          0.38999999999999996
         ],
         "yaxis": "y"
        },
        {
         "alignmentgroup": "True",
         "hovertemplate": "thermal_preference=no change<br>person_age=%{x}<br>person_clothing_insulation=%{y}<extra></extra>",
         "legendgroup": "no change",
         "marker": {
          "color": "#EF553B",
          "pattern": {
           "shape": ""
          }
         },
         "name": "no change",
         "offsetgroup": "no change",
         "orientation": "v",
         "showlegend": true,
         "textposition": "auto",
         "type": "bar",
         "x": [
          -1,
          1,
          2,
          3,
          4,
          5,
          6,
          7
         ],
         "xaxis": "x",
         "y": [
          0.6675545527077749,
          0.4398888888888889,
          0.8085531914893617,
          0.7272463768115942,
          0.572972972972973,
          0.6091666666666666,
          0.7694444444444444,
          null
         ],
         "yaxis": "y"
        },
        {
         "alignmentgroup": "True",
         "hovertemplate": "thermal_preference=warmer<br>person_age=%{x}<br>person_clothing_insulation=%{y}<extra></extra>",
         "legendgroup": "warmer",
         "marker": {
          "color": "#00cc96",
          "pattern": {
           "shape": ""
          }
         },
         "name": "warmer",
         "offsetgroup": "warmer",
         "orientation": "v",
         "showlegend": true,
         "textposition": "auto",
         "type": "bar",
         "x": [
          -1,
          1,
          2,
          3,
          4,
          5,
          6
         ],
         "xaxis": "x",
         "y": [
          0.7329308646739131,
          0.4719727891156462,
          0.8832592592592592,
          0.69275,
          0.7458024691358025,
          0.8460869565217392,
          0.8833333333333333
         ],
         "yaxis": "y"
        }
       ],
       "layout": {
        "barmode": "group",
        "legend": {
         "title": {
          "text": "thermal_preference"
         },
         "tracegroupgap": 0
        },
        "template": {
         "data": {
          "bar": [
           {
            "error_x": {
             "color": "#f2f5fa"
            },
            "error_y": {
             "color": "#f2f5fa"
            },
            "marker": {
             "line": {
              "color": "rgb(17,17,17)",
              "width": 0.5
             },
             "pattern": {
              "fillmode": "overlay",
              "size": 10,
              "solidity": 0.2
             }
            },
            "type": "bar"
           }
          ],
          "barpolar": [
           {
            "marker": {
             "line": {
              "color": "rgb(17,17,17)",
              "width": 0.5
             },
             "pattern": {
              "fillmode": "overlay",
              "size": 10,
              "solidity": 0.2
             }
            },
            "type": "barpolar"
           }
          ],
          "carpet": [
           {
            "aaxis": {
             "endlinecolor": "#A2B1C6",
             "gridcolor": "#506784",
             "linecolor": "#506784",
             "minorgridcolor": "#506784",
             "startlinecolor": "#A2B1C6"
            },
            "baxis": {
             "endlinecolor": "#A2B1C6",
             "gridcolor": "#506784",
             "linecolor": "#506784",
             "minorgridcolor": "#506784",
             "startlinecolor": "#A2B1C6"
            },
            "type": "carpet"
           }
          ],
          "choropleth": [
           {
            "colorbar": {
             "outlinewidth": 0,
             "ticks": ""
            },
            "type": "choropleth"
           }
          ],
          "contour": [
           {
            "colorbar": {
             "outlinewidth": 0,
             "ticks": ""
            },
            "colorscale": [
             [
              0,
              "#0d0887"
             ],
             [
              0.1111111111111111,
              "#46039f"
             ],
             [
              0.2222222222222222,
              "#7201a8"
             ],
             [
              0.3333333333333333,
              "#9c179e"
             ],
             [
              0.4444444444444444,
              "#bd3786"
             ],
             [
              0.5555555555555556,
              "#d8576b"
             ],
             [
              0.6666666666666666,
              "#ed7953"
             ],
             [
              0.7777777777777778,
              "#fb9f3a"
             ],
             [
              0.8888888888888888,
              "#fdca26"
             ],
             [
              1,
              "#f0f921"
             ]
            ],
            "type": "contour"
           }
          ],
          "contourcarpet": [
           {
            "colorbar": {
             "outlinewidth": 0,
             "ticks": ""
            },
            "type": "contourcarpet"
           }
          ],
          "heatmap": [
           {
            "colorbar": {
             "outlinewidth": 0,
             "ticks": ""
            },
            "colorscale": [
             [
              0,
              "#0d0887"
             ],
             [
              0.1111111111111111,
              "#46039f"
             ],
             [
              0.2222222222222222,
              "#7201a8"
             ],
             [
              0.3333333333333333,
              "#9c179e"
             ],
             [
              0.4444444444444444,
              "#bd3786"
             ],
             [
              0.5555555555555556,
              "#d8576b"
             ],
             [
              0.6666666666666666,
              "#ed7953"
             ],
             [
              0.7777777777777778,
              "#fb9f3a"
             ],
             [
              0.8888888888888888,
              "#fdca26"
             ],
             [
              1,
              "#f0f921"
             ]
            ],
            "type": "heatmap"
           }
          ],
          "heatmapgl": [
           {
            "colorbar": {
             "outlinewidth": 0,
             "ticks": ""
            },
            "colorscale": [
             [
              0,
              "#0d0887"
             ],
             [
              0.1111111111111111,
              "#46039f"
             ],
             [
              0.2222222222222222,
              "#7201a8"
             ],
             [
              0.3333333333333333,
              "#9c179e"
             ],
             [
              0.4444444444444444,
              "#bd3786"
             ],
             [
              0.5555555555555556,
              "#d8576b"
             ],
             [
              0.6666666666666666,
              "#ed7953"
             ],
             [
              0.7777777777777778,
              "#fb9f3a"
             ],
             [
              0.8888888888888888,
              "#fdca26"
             ],
             [
              1,
              "#f0f921"
             ]
            ],
            "type": "heatmapgl"
           }
          ],
          "histogram": [
           {
            "marker": {
             "pattern": {
              "fillmode": "overlay",
              "size": 10,
              "solidity": 0.2
             }
            },
            "type": "histogram"
           }
          ],
          "histogram2d": [
           {
            "colorbar": {
             "outlinewidth": 0,
             "ticks": ""
            },
            "colorscale": [
             [
              0,
              "#0d0887"
             ],
             [
              0.1111111111111111,
              "#46039f"
             ],
             [
              0.2222222222222222,
              "#7201a8"
             ],
             [
              0.3333333333333333,
              "#9c179e"
             ],
             [
              0.4444444444444444,
              "#bd3786"
             ],
             [
              0.5555555555555556,
              "#d8576b"
             ],
             [
              0.6666666666666666,
              "#ed7953"
             ],
             [
              0.7777777777777778,
              "#fb9f3a"
             ],
             [
              0.8888888888888888,
              "#fdca26"
             ],
             [
              1,
              "#f0f921"
             ]
            ],
            "type": "histogram2d"
           }
          ],
          "histogram2dcontour": [
           {
            "colorbar": {
             "outlinewidth": 0,
             "ticks": ""
            },
            "colorscale": [
             [
              0,
              "#0d0887"
             ],
             [
              0.1111111111111111,
              "#46039f"
             ],
             [
              0.2222222222222222,
              "#7201a8"
             ],
             [
              0.3333333333333333,
              "#9c179e"
             ],
             [
              0.4444444444444444,
              "#bd3786"
             ],
             [
              0.5555555555555556,
              "#d8576b"
             ],
             [
              0.6666666666666666,
              "#ed7953"
             ],
             [
              0.7777777777777778,
              "#fb9f3a"
             ],
             [
              0.8888888888888888,
              "#fdca26"
             ],
             [
              1,
              "#f0f921"
             ]
            ],
            "type": "histogram2dcontour"
           }
          ],
          "mesh3d": [
           {
            "colorbar": {
             "outlinewidth": 0,
             "ticks": ""
            },
            "type": "mesh3d"
           }
          ],
          "parcoords": [
           {
            "line": {
             "colorbar": {
              "outlinewidth": 0,
              "ticks": ""
             }
            },
            "type": "parcoords"
           }
          ],
          "pie": [
           {
            "automargin": true,
            "type": "pie"
           }
          ],
          "scatter": [
           {
            "marker": {
             "line": {
              "color": "#283442"
             }
            },
            "type": "scatter"
           }
          ],
          "scatter3d": [
           {
            "line": {
             "colorbar": {
              "outlinewidth": 0,
              "ticks": ""
             }
            },
            "marker": {
             "colorbar": {
              "outlinewidth": 0,
              "ticks": ""
             }
            },
            "type": "scatter3d"
           }
          ],
          "scattercarpet": [
           {
            "marker": {
             "colorbar": {
              "outlinewidth": 0,
              "ticks": ""
             }
            },
            "type": "scattercarpet"
           }
          ],
          "scattergeo": [
           {
            "marker": {
             "colorbar": {
              "outlinewidth": 0,
              "ticks": ""
             }
            },
            "type": "scattergeo"
           }
          ],
          "scattergl": [
           {
            "marker": {
             "line": {
              "color": "#283442"
             }
            },
            "type": "scattergl"
           }
          ],
          "scattermapbox": [
           {
            "marker": {
             "colorbar": {
              "outlinewidth": 0,
              "ticks": ""
             }
            },
            "type": "scattermapbox"
           }
          ],
          "scatterpolar": [
           {
            "marker": {
             "colorbar": {
              "outlinewidth": 0,
              "ticks": ""
             }
            },
            "type": "scatterpolar"
           }
          ],
          "scatterpolargl": [
           {
            "marker": {
             "colorbar": {
              "outlinewidth": 0,
              "ticks": ""
             }
            },
            "type": "scatterpolargl"
           }
          ],
          "scatterternary": [
           {
            "marker": {
             "colorbar": {
              "outlinewidth": 0,
              "ticks": ""
             }
            },
            "type": "scatterternary"
           }
          ],
          "surface": [
           {
            "colorbar": {
             "outlinewidth": 0,
             "ticks": ""
            },
            "colorscale": [
             [
              0,
              "#0d0887"
             ],
             [
              0.1111111111111111,
              "#46039f"
             ],
             [
              0.2222222222222222,
              "#7201a8"
             ],
             [
              0.3333333333333333,
              "#9c179e"
             ],
             [
              0.4444444444444444,
              "#bd3786"
             ],
             [
              0.5555555555555556,
              "#d8576b"
             ],
             [
              0.6666666666666666,
              "#ed7953"
             ],
             [
              0.7777777777777778,
              "#fb9f3a"
             ],
             [
              0.8888888888888888,
              "#fdca26"
             ],
             [
              1,
              "#f0f921"
             ]
            ],
            "type": "surface"
           }
          ],
          "table": [
           {
            "cells": {
             "fill": {
              "color": "#506784"
             },
             "line": {
              "color": "rgb(17,17,17)"
             }
            },
            "header": {
             "fill": {
              "color": "#2a3f5f"
             },
             "line": {
              "color": "rgb(17,17,17)"
             }
            },
            "type": "table"
           }
          ]
         },
         "layout": {
          "annotationdefaults": {
           "arrowcolor": "#f2f5fa",
           "arrowhead": 0,
           "arrowwidth": 1
          },
          "autotypenumbers": "strict",
          "coloraxis": {
           "colorbar": {
            "outlinewidth": 0,
            "ticks": ""
           }
          },
          "colorscale": {
           "diverging": [
            [
             0,
             "#8e0152"
            ],
            [
             0.1,
             "#c51b7d"
            ],
            [
             0.2,
             "#de77ae"
            ],
            [
             0.3,
             "#f1b6da"
            ],
            [
             0.4,
             "#fde0ef"
            ],
            [
             0.5,
             "#f7f7f7"
            ],
            [
             0.6,
             "#e6f5d0"
            ],
            [
             0.7,
             "#b8e186"
            ],
            [
             0.8,
             "#7fbc41"
            ],
            [
             0.9,
             "#4d9221"
            ],
            [
             1,
             "#276419"
            ]
           ],
           "sequential": [
            [
             0,
             "#0d0887"
            ],
            [
             0.1111111111111111,
             "#46039f"
            ],
            [
             0.2222222222222222,
             "#7201a8"
            ],
            [
             0.3333333333333333,
             "#9c179e"
            ],
            [
             0.4444444444444444,
             "#bd3786"
            ],
            [
             0.5555555555555556,
             "#d8576b"
            ],
            [
             0.6666666666666666,
             "#ed7953"
            ],
            [
             0.7777777777777778,
             "#fb9f3a"
            ],
            [
             0.8888888888888888,
             "#fdca26"
            ],
            [
             1,
             "#f0f921"
            ]
           ],
           "sequentialminus": [
            [
             0,
             "#0d0887"
            ],
            [
             0.1111111111111111,
             "#46039f"
            ],
            [
             0.2222222222222222,
             "#7201a8"
            ],
            [
             0.3333333333333333,
             "#9c179e"
            ],
            [
             0.4444444444444444,
             "#bd3786"
            ],
            [
             0.5555555555555556,
             "#d8576b"
            ],
            [
             0.6666666666666666,
             "#ed7953"
            ],
            [
             0.7777777777777778,
             "#fb9f3a"
            ],
            [
             0.8888888888888888,
             "#fdca26"
            ],
            [
             1,
             "#f0f921"
            ]
           ]
          },
          "colorway": [
           "#636efa",
           "#EF553B",
           "#00cc96",
           "#ab63fa",
           "#FFA15A",
           "#19d3f3",
           "#FF6692",
           "#B6E880",
           "#FF97FF",
           "#FECB52"
          ],
          "font": {
           "color": "#f2f5fa"
          },
          "geo": {
           "bgcolor": "rgb(17,17,17)",
           "lakecolor": "rgb(17,17,17)",
           "landcolor": "rgb(17,17,17)",
           "showlakes": true,
           "showland": true,
           "subunitcolor": "#506784"
          },
          "hoverlabel": {
           "align": "left"
          },
          "hovermode": "closest",
          "mapbox": {
           "style": "dark"
          },
          "paper_bgcolor": "rgb(17,17,17)",
          "plot_bgcolor": "rgb(17,17,17)",
          "polar": {
           "angularaxis": {
            "gridcolor": "#506784",
            "linecolor": "#506784",
            "ticks": ""
           },
           "bgcolor": "rgb(17,17,17)",
           "radialaxis": {
            "gridcolor": "#506784",
            "linecolor": "#506784",
            "ticks": ""
           }
          },
          "scene": {
           "xaxis": {
            "backgroundcolor": "rgb(17,17,17)",
            "gridcolor": "#506784",
            "gridwidth": 2,
            "linecolor": "#506784",
            "showbackground": true,
            "ticks": "",
            "zerolinecolor": "#C8D4E3"
           },
           "yaxis": {
            "backgroundcolor": "rgb(17,17,17)",
            "gridcolor": "#506784",
            "gridwidth": 2,
            "linecolor": "#506784",
            "showbackground": true,
            "ticks": "",
            "zerolinecolor": "#C8D4E3"
           },
           "zaxis": {
            "backgroundcolor": "rgb(17,17,17)",
            "gridcolor": "#506784",
            "gridwidth": 2,
            "linecolor": "#506784",
            "showbackground": true,
            "ticks": "",
            "zerolinecolor": "#C8D4E3"
           }
          },
          "shapedefaults": {
           "line": {
            "color": "#f2f5fa"
           }
          },
          "sliderdefaults": {
           "bgcolor": "#C8D4E3",
           "bordercolor": "rgb(17,17,17)",
           "borderwidth": 1,
           "tickwidth": 0
          },
          "ternary": {
           "aaxis": {
            "gridcolor": "#506784",
            "linecolor": "#506784",
            "ticks": ""
           },
           "baxis": {
            "gridcolor": "#506784",
            "linecolor": "#506784",
            "ticks": ""
           },
           "bgcolor": "rgb(17,17,17)",
           "caxis": {
            "gridcolor": "#506784",
            "linecolor": "#506784",
            "ticks": ""
           }
          },
          "title": {
           "x": 0.05
          },
          "updatemenudefaults": {
           "bgcolor": "#506784",
           "borderwidth": 0
          },
          "xaxis": {
           "automargin": true,
           "gridcolor": "#283442",
           "linecolor": "#506784",
           "ticks": "",
           "title": {
            "standoff": 15
           },
           "zerolinecolor": "#283442",
           "zerolinewidth": 2
          },
          "yaxis": {
           "automargin": true,
           "gridcolor": "#283442",
           "linecolor": "#506784",
           "ticks": "",
           "title": {
            "standoff": 15
           },
           "zerolinecolor": "#283442",
           "zerolinewidth": 2
          }
         }
        },
        "title": {
         "text": "Relation between People's measurement and their thermal preference"
        },
        "updatemenus": [
         {
          "buttons": [
           {
            "args": [
             {
              "y": [
               [
                1.1849682427664079,
                1.1738615327656423,
                1.1485148514851484,
                1.2,
                1.2,
                1.2,
                1.1333333333333333,
                1.216,
                1.325,
                1.22,
                1.2054545454545453,
                1.1777777777777778,
                1.2157894736842105,
                1.1666666666666667,
                1.1333333333333335,
                1.2,
                1.1833333333333333,
                1.35,
                1.2,
                1.2,
                null,
                null
               ]
              ]
             },
             {
              "yaxis": {
               "title": "person_average_metabolic_rate"
              }
             }
            ],
            "label": "person_average_metabolic_rate",
            "method": "update"
           },
           {
            "args": [
             {
              "y": [
               [
                0.6763860682051281,
                0.6675545527077749,
                0.7329308646739131,
                0.4027266797129811,
                0.4398888888888889,
                0.4719727891156462,
                0.7147272727272728,
                0.8085531914893617,
                0.8832592592592592,
                0.586590909090909,
                0.7272463768115942,
                0.69275,
                0.5285294117647058,
                0.572972972972973,
                0.7458024691358025,
                0.3463636363636364,
                0.6091666666666666,
                0.8460869565217392,
                0.38999999999999996,
                0.7694444444444444,
                0.8833333333333333,
                null
               ]
              ]
             },
             {
              "yaxis": {
               "title": "person_clothing_insulation"
              }
             }
            ],
            "label": "person_clothing_insulation",
            "method": "update"
           }
          ]
         }
        ],
        "xaxis": {
         "anchor": "y",
         "domain": [
          0,
          1
         ],
         "title": {
          "text": "person_age"
         }
        },
        "yaxis": {
         "anchor": "x",
         "domain": [
          0,
          1
         ],
         "title": {
          "text": "person_clothing_insulation"
         }
        }
       }
      }
     },
     "metadata": {},
     "output_type": "display_data"
    }
   ],
   "source": [
    "df_person = ashrae_data[[col for col in list(ashrae_data.columns) if col.startswith(\"person\")]]\n",
    "df_person.loc[:,'person_age'] = (df_person['person_age']//10).fillna(-1).reset_index()\n",
    "df_person.loc[:,'person_gender'] = df_person['person_gender'].fillna(\"undefined\")\n",
    "\n",
    "df_age = df_person.groupby([\"person_age\",\"person_gender\"]).size().to_frame().reset_index()\n",
    "df_age = df_age.rename(columns={0:\"amount\"})\n",
    "\n",
    "fig = px.bar(df_age, x=\"person_age\", y=\"amount\", color=\"person_gender\", barmode=\"group\", title=\"Amount of person in each group of 10-year old\", template=\"plotly_dark\")\n",
    "fig.show()\n",
    "\n",
    "df_person_thermal = df_person\n",
    "df_person_thermal.loc[:,\"thermal_preference\"] = ashrae_data[\"thermal_preference\"]\n",
    "\n",
    "df_person_thermal = df_person.groupby([\"thermal_preference\"]).size().reset_index()\n",
    "\n",
    "fig = px.pie(df_person_thermal, values=0, names=\"thermal_preference\", title=\"Proportion of Thermal Preference\", template=\"plotly_dark\")\n",
    "fig.show()\n",
    "\n",
    "df_person_thermal = df_person\n",
    "df_person_thermal.loc[:,\"thermal_preference\"] = ashrae_data[\"thermal_preference\"]\n",
    "df_person_thermal = df_person_thermal.groupby([\"person_age\",\"thermal_preference\"]).agg({\n",
    "                                                                                \"person_average_metabolic_rate\":\"mean\",\n",
    "                                                                                \"person_clothing_insulation\":\"mean\",\n",
    "                                                                                \"person_activity_10\":\"mean\",\n",
    "                                                                                \"person_activity_20\":\"mean\",\n",
    "                                                                                \"person_activity_30\":\"mean\",\n",
    "                                                                                \"person_activity_60\":\"mean\",\n",
    "                                                                            }).reset_index()\n",
    "\n",
    "fig = px.bar(df_person_thermal, x=\"person_age\", y=\"person_clothing_insulation\", color=\"thermal_preference\", barmode=\"group\", title=\"Relation between People's measurement and their thermal preference\", template=\"plotly_dark\")\n",
    "fig.update_layout(\n",
    "    updatemenus=[\n",
    "        {\n",
    "            \"buttons\":[\n",
    "                {\n",
    "                    \"label\":\"person_average_metabolic_rate\",\n",
    "                    \"method\":\"update\",\n",
    "                    \"args\":\n",
    "                    [\n",
    "                        {\"y\":[df_person_thermal[\"person_average_metabolic_rate\"]]},\n",
    "                        {\"yaxis\":{\"title\":\"person_average_metabolic_rate\"}},\n",
    "                    ]\n",
    "                },\n",
    "                {\n",
    "                    \"label\":\"person_clothing_insulation\",\n",
    "                    \"method\":\"update\",\n",
    "                    \"args\":\n",
    "                    [\n",
    "                        {\"y\":[df_person_thermal[\"person_clothing_insulation\"]]},\n",
    "                        {\"yaxis\":{\"title\":\"person_clothing_insulation\"}},\n",
    "                    ]\n",
    "                } \n",
    "            ]\n",
    "        }\n",
    "    ]\n",
    ")\n",
    "fig.show()\n"
   ]
  },
  {
   "cell_type": "code",
   "execution_count": null,
   "metadata": {},
   "outputs": [
    {
     "ename": "TypeError",
     "evalue": "agg function failed [how->mean,dtype->object]",
     "output_type": "error",
     "traceback": [
      "\u001b[1;31m---------------------------------------------------------------------------\u001b[0m",
      "\u001b[1;31mTypeError\u001b[0m                                 Traceback (most recent call last)",
      "File \u001b[1;32me:\\LHK\\Study\\Lab\\SmartCity\\3.Others\\ThermalComfort\\.conda\\lib\\site-packages\\pandas\\core\\groupby\\groupby.py:1942\u001b[0m, in \u001b[0;36mGroupBy._agg_py_fallback\u001b[1;34m(self, how, values, ndim, alt)\u001b[0m\n\u001b[0;32m   1941\u001b[0m \u001b[39mtry\u001b[39;00m:\n\u001b[1;32m-> 1942\u001b[0m     res_values \u001b[39m=\u001b[39m \u001b[39mself\u001b[39;49m\u001b[39m.\u001b[39;49m_grouper\u001b[39m.\u001b[39;49magg_series(ser, alt, preserve_dtype\u001b[39m=\u001b[39;49m\u001b[39mTrue\u001b[39;49;00m)\n\u001b[0;32m   1943\u001b[0m \u001b[39mexcept\u001b[39;00m \u001b[39mException\u001b[39;00m \u001b[39mas\u001b[39;00m err:\n",
      "File \u001b[1;32me:\\LHK\\Study\\Lab\\SmartCity\\3.Others\\ThermalComfort\\.conda\\lib\\site-packages\\pandas\\core\\groupby\\ops.py:863\u001b[0m, in \u001b[0;36mBaseGrouper.agg_series\u001b[1;34m(self, obj, func, preserve_dtype)\u001b[0m\n\u001b[0;32m    861\u001b[0m     preserve_dtype \u001b[39m=\u001b[39m \u001b[39mTrue\u001b[39;00m\n\u001b[1;32m--> 863\u001b[0m result \u001b[39m=\u001b[39m \u001b[39mself\u001b[39;49m\u001b[39m.\u001b[39;49m_aggregate_series_pure_python(obj, func)\n\u001b[0;32m    865\u001b[0m npvalues \u001b[39m=\u001b[39m lib\u001b[39m.\u001b[39mmaybe_convert_objects(result, try_float\u001b[39m=\u001b[39m\u001b[39mFalse\u001b[39;00m)\n",
      "File \u001b[1;32me:\\LHK\\Study\\Lab\\SmartCity\\3.Others\\ThermalComfort\\.conda\\lib\\site-packages\\pandas\\core\\groupby\\ops.py:884\u001b[0m, in \u001b[0;36mBaseGrouper._aggregate_series_pure_python\u001b[1;34m(self, obj, func)\u001b[0m\n\u001b[0;32m    883\u001b[0m \u001b[39mfor\u001b[39;00m i, group \u001b[39min\u001b[39;00m \u001b[39menumerate\u001b[39m(splitter):\n\u001b[1;32m--> 884\u001b[0m     res \u001b[39m=\u001b[39m func(group)\n\u001b[0;32m    885\u001b[0m     res \u001b[39m=\u001b[39m extract_result(res)\n",
      "File \u001b[1;32me:\\LHK\\Study\\Lab\\SmartCity\\3.Others\\ThermalComfort\\.conda\\lib\\site-packages\\pandas\\core\\groupby\\groupby.py:2454\u001b[0m, in \u001b[0;36mGroupBy.mean.<locals>.<lambda>\u001b[1;34m(x)\u001b[0m\n\u001b[0;32m   2451\u001b[0m \u001b[39melse\u001b[39;00m:\n\u001b[0;32m   2452\u001b[0m     result \u001b[39m=\u001b[39m \u001b[39mself\u001b[39m\u001b[39m.\u001b[39m_cython_agg_general(\n\u001b[0;32m   2453\u001b[0m         \u001b[39m\"\u001b[39m\u001b[39mmean\u001b[39m\u001b[39m\"\u001b[39m,\n\u001b[1;32m-> 2454\u001b[0m         alt\u001b[39m=\u001b[39m\u001b[39mlambda\u001b[39;00m x: Series(x, copy\u001b[39m=\u001b[39;49m\u001b[39mFalse\u001b[39;49;00m)\u001b[39m.\u001b[39;49mmean(numeric_only\u001b[39m=\u001b[39;49mnumeric_only),\n\u001b[0;32m   2455\u001b[0m         numeric_only\u001b[39m=\u001b[39mnumeric_only,\n\u001b[0;32m   2456\u001b[0m     )\n\u001b[0;32m   2457\u001b[0m     \u001b[39mreturn\u001b[39;00m result\u001b[39m.\u001b[39m__finalize__(\u001b[39mself\u001b[39m\u001b[39m.\u001b[39mobj, method\u001b[39m=\u001b[39m\u001b[39m\"\u001b[39m\u001b[39mgroupby\u001b[39m\u001b[39m\"\u001b[39m)\n",
      "File \u001b[1;32me:\\LHK\\Study\\Lab\\SmartCity\\3.Others\\ThermalComfort\\.conda\\lib\\site-packages\\pandas\\core\\series.py:6529\u001b[0m, in \u001b[0;36mSeries.mean\u001b[1;34m(self, axis, skipna, numeric_only, **kwargs)\u001b[0m\n\u001b[0;32m   6521\u001b[0m \u001b[39m@doc\u001b[39m(make_doc(\u001b[39m\"\u001b[39m\u001b[39mmean\u001b[39m\u001b[39m\"\u001b[39m, ndim\u001b[39m=\u001b[39m\u001b[39m1\u001b[39m))\n\u001b[0;32m   6522\u001b[0m \u001b[39mdef\u001b[39;00m \u001b[39mmean\u001b[39m(\n\u001b[0;32m   6523\u001b[0m     \u001b[39mself\u001b[39m,\n\u001b[1;32m   (...)\u001b[0m\n\u001b[0;32m   6527\u001b[0m     \u001b[39m*\u001b[39m\u001b[39m*\u001b[39mkwargs,\n\u001b[0;32m   6528\u001b[0m ):\n\u001b[1;32m-> 6529\u001b[0m     \u001b[39mreturn\u001b[39;00m NDFrame\u001b[39m.\u001b[39mmean(\u001b[39mself\u001b[39m, axis, skipna, numeric_only, \u001b[39m*\u001b[39m\u001b[39m*\u001b[39mkwargs)\n",
      "File \u001b[1;32me:\\LHK\\Study\\Lab\\SmartCity\\3.Others\\ThermalComfort\\.conda\\lib\\site-packages\\pandas\\core\\generic.py:12413\u001b[0m, in \u001b[0;36mNDFrame.mean\u001b[1;34m(self, axis, skipna, numeric_only, **kwargs)\u001b[0m\n\u001b[0;32m  12406\u001b[0m \u001b[39mdef\u001b[39;00m \u001b[39mmean\u001b[39m(\n\u001b[0;32m  12407\u001b[0m     \u001b[39mself\u001b[39m,\n\u001b[0;32m  12408\u001b[0m     axis: Axis \u001b[39m|\u001b[39m \u001b[39mNone\u001b[39;00m \u001b[39m=\u001b[39m \u001b[39m0\u001b[39m,\n\u001b[1;32m   (...)\u001b[0m\n\u001b[0;32m  12411\u001b[0m     \u001b[39m*\u001b[39m\u001b[39m*\u001b[39mkwargs,\n\u001b[0;32m  12412\u001b[0m ) \u001b[39m-\u001b[39m\u001b[39m>\u001b[39m Series \u001b[39m|\u001b[39m \u001b[39mfloat\u001b[39m:\n\u001b[1;32m> 12413\u001b[0m     \u001b[39mreturn\u001b[39;00m \u001b[39mself\u001b[39m\u001b[39m.\u001b[39m_stat_function(\n\u001b[0;32m  12414\u001b[0m         \u001b[39m\"\u001b[39m\u001b[39mmean\u001b[39m\u001b[39m\"\u001b[39m, nanops\u001b[39m.\u001b[39mnanmean, axis, skipna, numeric_only, \u001b[39m*\u001b[39m\u001b[39m*\u001b[39mkwargs\n\u001b[0;32m  12415\u001b[0m     )\n",
      "File \u001b[1;32me:\\LHK\\Study\\Lab\\SmartCity\\3.Others\\ThermalComfort\\.conda\\lib\\site-packages\\pandas\\core\\generic.py:12370\u001b[0m, in \u001b[0;36mNDFrame._stat_function\u001b[1;34m(self, name, func, axis, skipna, numeric_only, **kwargs)\u001b[0m\n\u001b[0;32m  12368\u001b[0m validate_bool_kwarg(skipna, \u001b[39m\"\u001b[39m\u001b[39mskipna\u001b[39m\u001b[39m\"\u001b[39m, none_allowed\u001b[39m=\u001b[39m\u001b[39mFalse\u001b[39;00m)\n\u001b[1;32m> 12370\u001b[0m \u001b[39mreturn\u001b[39;00m \u001b[39mself\u001b[39;49m\u001b[39m.\u001b[39;49m_reduce(\n\u001b[0;32m  12371\u001b[0m     func, name\u001b[39m=\u001b[39;49mname, axis\u001b[39m=\u001b[39;49maxis, skipna\u001b[39m=\u001b[39;49mskipna, numeric_only\u001b[39m=\u001b[39;49mnumeric_only\n\u001b[0;32m  12372\u001b[0m )\n",
      "File \u001b[1;32me:\\LHK\\Study\\Lab\\SmartCity\\3.Others\\ThermalComfort\\.conda\\lib\\site-packages\\pandas\\core\\series.py:6437\u001b[0m, in \u001b[0;36mSeries._reduce\u001b[1;34m(self, op, name, axis, skipna, numeric_only, filter_type, **kwds)\u001b[0m\n\u001b[0;32m   6433\u001b[0m     \u001b[39mraise\u001b[39;00m \u001b[39mTypeError\u001b[39;00m(\n\u001b[0;32m   6434\u001b[0m         \u001b[39mf\u001b[39m\u001b[39m\"\u001b[39m\u001b[39mSeries.\u001b[39m\u001b[39m{\u001b[39;00mname\u001b[39m}\u001b[39;00m\u001b[39m does not allow \u001b[39m\u001b[39m{\u001b[39;00mkwd_name\u001b[39m}\u001b[39;00m\u001b[39m=\u001b[39m\u001b[39m{\u001b[39;00mnumeric_only\u001b[39m}\u001b[39;00m\u001b[39m \u001b[39m\u001b[39m\"\u001b[39m\n\u001b[0;32m   6435\u001b[0m         \u001b[39m\"\u001b[39m\u001b[39mwith non-numeric dtypes.\u001b[39m\u001b[39m\"\u001b[39m\n\u001b[0;32m   6436\u001b[0m     )\n\u001b[1;32m-> 6437\u001b[0m \u001b[39mreturn\u001b[39;00m op(delegate, skipna\u001b[39m=\u001b[39mskipna, \u001b[39m*\u001b[39m\u001b[39m*\u001b[39mkwds)\n",
      "File \u001b[1;32me:\\LHK\\Study\\Lab\\SmartCity\\3.Others\\ThermalComfort\\.conda\\lib\\site-packages\\pandas\\core\\nanops.py:147\u001b[0m, in \u001b[0;36mbottleneck_switch.__call__.<locals>.f\u001b[1;34m(values, axis, skipna, **kwds)\u001b[0m\n\u001b[0;32m    146\u001b[0m \u001b[39melse\u001b[39;00m:\n\u001b[1;32m--> 147\u001b[0m     result \u001b[39m=\u001b[39m alt(values, axis\u001b[39m=\u001b[39maxis, skipna\u001b[39m=\u001b[39mskipna, \u001b[39m*\u001b[39m\u001b[39m*\u001b[39mkwds)\n\u001b[0;32m    149\u001b[0m \u001b[39mreturn\u001b[39;00m result\n",
      "File \u001b[1;32me:\\LHK\\Study\\Lab\\SmartCity\\3.Others\\ThermalComfort\\.conda\\lib\\site-packages\\pandas\\core\\nanops.py:404\u001b[0m, in \u001b[0;36m_datetimelike_compat.<locals>.new_func\u001b[1;34m(values, axis, skipna, mask, **kwargs)\u001b[0m\n\u001b[0;32m    402\u001b[0m     mask \u001b[39m=\u001b[39m isna(values)\n\u001b[1;32m--> 404\u001b[0m result \u001b[39m=\u001b[39m func(values, axis\u001b[39m=\u001b[39maxis, skipna\u001b[39m=\u001b[39mskipna, mask\u001b[39m=\u001b[39mmask, \u001b[39m*\u001b[39m\u001b[39m*\u001b[39mkwargs)\n\u001b[0;32m    406\u001b[0m \u001b[39mif\u001b[39;00m datetimelike:\n",
      "File \u001b[1;32me:\\LHK\\Study\\Lab\\SmartCity\\3.Others\\ThermalComfort\\.conda\\lib\\site-packages\\pandas\\core\\nanops.py:719\u001b[0m, in \u001b[0;36mnanmean\u001b[1;34m(values, axis, skipna, mask)\u001b[0m\n\u001b[0;32m    718\u001b[0m count \u001b[39m=\u001b[39m _get_counts(values\u001b[39m.\u001b[39mshape, mask, axis, dtype\u001b[39m=\u001b[39mdtype_count)\n\u001b[1;32m--> 719\u001b[0m the_sum \u001b[39m=\u001b[39m values\u001b[39m.\u001b[39;49msum(axis, dtype\u001b[39m=\u001b[39;49mdtype_sum)\n\u001b[0;32m    720\u001b[0m the_sum \u001b[39m=\u001b[39m _ensure_numeric(the_sum)\n",
      "File \u001b[1;32me:\\LHK\\Study\\Lab\\SmartCity\\3.Others\\ThermalComfort\\.conda\\lib\\site-packages\\numpy\\core\\_methods.py:49\u001b[0m, in \u001b[0;36m_sum\u001b[1;34m(a, axis, dtype, out, keepdims, initial, where)\u001b[0m\n\u001b[0;32m     47\u001b[0m \u001b[39mdef\u001b[39;00m \u001b[39m_sum\u001b[39m(a, axis\u001b[39m=\u001b[39m\u001b[39mNone\u001b[39;00m, dtype\u001b[39m=\u001b[39m\u001b[39mNone\u001b[39;00m, out\u001b[39m=\u001b[39m\u001b[39mNone\u001b[39;00m, keepdims\u001b[39m=\u001b[39m\u001b[39mFalse\u001b[39;00m,\n\u001b[0;32m     48\u001b[0m          initial\u001b[39m=\u001b[39m_NoValue, where\u001b[39m=\u001b[39m\u001b[39mTrue\u001b[39;00m):\n\u001b[1;32m---> 49\u001b[0m     \u001b[39mreturn\u001b[39;00m umr_sum(a, axis, dtype, out, keepdims, initial, where)\n",
      "\u001b[1;31mTypeError\u001b[0m: can only concatenate str (not \"int\") to str",
      "\nThe above exception was the direct cause of the following exception:\n",
      "\u001b[1;31mTypeError\u001b[0m                                 Traceback (most recent call last)",
      "Cell \u001b[1;32mIn[8], line 1\u001b[0m\n\u001b[1;32m----> 1\u001b[0m df_bmi \u001b[39m=\u001b[39m df_person\u001b[39m.\u001b[39;49mgroupby([\u001b[39m\"\u001b[39;49m\u001b[39mperson_age\u001b[39;49m\u001b[39m\"\u001b[39;49m,\u001b[39m\"\u001b[39;49m\u001b[39mperson_gender\u001b[39;49m\u001b[39m\"\u001b[39;49m])\u001b[39m.\u001b[39;49mmean()\u001b[39m.\u001b[39mreset_index()\n\u001b[0;32m      2\u001b[0m df_bmi \u001b[39m=\u001b[39m df_bmi\u001b[39m.\u001b[39mrename(columns\u001b[39m=\u001b[39m{\u001b[39m0\u001b[39m:\u001b[39m\"\u001b[39m\u001b[39mamount\u001b[39m\u001b[39m\"\u001b[39m})\n\u001b[0;32m      3\u001b[0m df_bmi\u001b[39m.\u001b[39mloc[:,\u001b[39m\"\u001b[39m\u001b[39mperson_weight\u001b[39m\u001b[39m\"\u001b[39m] \u001b[39m=\u001b[39m df_bmi[\u001b[39m\"\u001b[39m\u001b[39mperson_weight\u001b[39m\u001b[39m\"\u001b[39m]\u001b[39m/\u001b[39m\u001b[39m10\u001b[39m\n",
      "File \u001b[1;32me:\\LHK\\Study\\Lab\\SmartCity\\3.Others\\ThermalComfort\\.conda\\lib\\site-packages\\pandas\\core\\groupby\\groupby.py:2452\u001b[0m, in \u001b[0;36mGroupBy.mean\u001b[1;34m(self, numeric_only, engine, engine_kwargs)\u001b[0m\n\u001b[0;32m   2445\u001b[0m     \u001b[39mreturn\u001b[39;00m \u001b[39mself\u001b[39m\u001b[39m.\u001b[39m_numba_agg_general(\n\u001b[0;32m   2446\u001b[0m         grouped_mean,\n\u001b[0;32m   2447\u001b[0m         executor\u001b[39m.\u001b[39mfloat_dtype_mapping,\n\u001b[0;32m   2448\u001b[0m         engine_kwargs,\n\u001b[0;32m   2449\u001b[0m         min_periods\u001b[39m=\u001b[39m\u001b[39m0\u001b[39m,\n\u001b[0;32m   2450\u001b[0m     )\n\u001b[0;32m   2451\u001b[0m \u001b[39melse\u001b[39;00m:\n\u001b[1;32m-> 2452\u001b[0m     result \u001b[39m=\u001b[39m \u001b[39mself\u001b[39;49m\u001b[39m.\u001b[39;49m_cython_agg_general(\n\u001b[0;32m   2453\u001b[0m         \u001b[39m\"\u001b[39;49m\u001b[39mmean\u001b[39;49m\u001b[39m\"\u001b[39;49m,\n\u001b[0;32m   2454\u001b[0m         alt\u001b[39m=\u001b[39;49m\u001b[39mlambda\u001b[39;49;00m x: Series(x, copy\u001b[39m=\u001b[39;49m\u001b[39mFalse\u001b[39;49;00m)\u001b[39m.\u001b[39;49mmean(numeric_only\u001b[39m=\u001b[39;49mnumeric_only),\n\u001b[0;32m   2455\u001b[0m         numeric_only\u001b[39m=\u001b[39;49mnumeric_only,\n\u001b[0;32m   2456\u001b[0m     )\n\u001b[0;32m   2457\u001b[0m     \u001b[39mreturn\u001b[39;00m result\u001b[39m.\u001b[39m__finalize__(\u001b[39mself\u001b[39m\u001b[39m.\u001b[39mobj, method\u001b[39m=\u001b[39m\u001b[39m\"\u001b[39m\u001b[39mgroupby\u001b[39m\u001b[39m\"\u001b[39m)\n",
      "File \u001b[1;32me:\\LHK\\Study\\Lab\\SmartCity\\3.Others\\ThermalComfort\\.conda\\lib\\site-packages\\pandas\\core\\groupby\\groupby.py:1998\u001b[0m, in \u001b[0;36mGroupBy._cython_agg_general\u001b[1;34m(self, how, alt, numeric_only, min_count, **kwargs)\u001b[0m\n\u001b[0;32m   1995\u001b[0m     result \u001b[39m=\u001b[39m \u001b[39mself\u001b[39m\u001b[39m.\u001b[39m_agg_py_fallback(how, values, ndim\u001b[39m=\u001b[39mdata\u001b[39m.\u001b[39mndim, alt\u001b[39m=\u001b[39malt)\n\u001b[0;32m   1996\u001b[0m     \u001b[39mreturn\u001b[39;00m result\n\u001b[1;32m-> 1998\u001b[0m new_mgr \u001b[39m=\u001b[39m data\u001b[39m.\u001b[39;49mgrouped_reduce(array_func)\n\u001b[0;32m   1999\u001b[0m res \u001b[39m=\u001b[39m \u001b[39mself\u001b[39m\u001b[39m.\u001b[39m_wrap_agged_manager(new_mgr)\n\u001b[0;32m   2000\u001b[0m \u001b[39mif\u001b[39;00m how \u001b[39min\u001b[39;00m [\u001b[39m\"\u001b[39m\u001b[39midxmin\u001b[39m\u001b[39m\"\u001b[39m, \u001b[39m\"\u001b[39m\u001b[39midxmax\u001b[39m\u001b[39m\"\u001b[39m]:\n",
      "File \u001b[1;32me:\\LHK\\Study\\Lab\\SmartCity\\3.Others\\ThermalComfort\\.conda\\lib\\site-packages\\pandas\\core\\internals\\managers.py:1470\u001b[0m, in \u001b[0;36mBlockManager.grouped_reduce\u001b[1;34m(self, func)\u001b[0m\n\u001b[0;32m   1466\u001b[0m \u001b[39mif\u001b[39;00m blk\u001b[39m.\u001b[39mis_object:\n\u001b[0;32m   1467\u001b[0m     \u001b[39m# split on object-dtype blocks bc some columns may raise\u001b[39;00m\n\u001b[0;32m   1468\u001b[0m     \u001b[39m#  while others do not.\u001b[39;00m\n\u001b[0;32m   1469\u001b[0m     \u001b[39mfor\u001b[39;00m sb \u001b[39min\u001b[39;00m blk\u001b[39m.\u001b[39m_split():\n\u001b[1;32m-> 1470\u001b[0m         applied \u001b[39m=\u001b[39m sb\u001b[39m.\u001b[39;49mapply(func)\n\u001b[0;32m   1471\u001b[0m         result_blocks \u001b[39m=\u001b[39m extend_blocks(applied, result_blocks)\n\u001b[0;32m   1472\u001b[0m \u001b[39melse\u001b[39;00m:\n",
      "File \u001b[1;32me:\\LHK\\Study\\Lab\\SmartCity\\3.Others\\ThermalComfort\\.conda\\lib\\site-packages\\pandas\\core\\internals\\blocks.py:393\u001b[0m, in \u001b[0;36mBlock.apply\u001b[1;34m(self, func, **kwargs)\u001b[0m\n\u001b[0;32m    387\u001b[0m \u001b[39m@final\u001b[39m\n\u001b[0;32m    388\u001b[0m \u001b[39mdef\u001b[39;00m \u001b[39mapply\u001b[39m(\u001b[39mself\u001b[39m, func, \u001b[39m*\u001b[39m\u001b[39m*\u001b[39mkwargs) \u001b[39m-\u001b[39m\u001b[39m>\u001b[39m \u001b[39mlist\u001b[39m[Block]:\n\u001b[0;32m    389\u001b[0m \u001b[39m    \u001b[39m\u001b[39m\"\"\"\u001b[39;00m\n\u001b[0;32m    390\u001b[0m \u001b[39m    apply the function to my values; return a block if we are not\u001b[39;00m\n\u001b[0;32m    391\u001b[0m \u001b[39m    one\u001b[39;00m\n\u001b[0;32m    392\u001b[0m \u001b[39m    \"\"\"\u001b[39;00m\n\u001b[1;32m--> 393\u001b[0m     result \u001b[39m=\u001b[39m func(\u001b[39mself\u001b[39m\u001b[39m.\u001b[39mvalues, \u001b[39m*\u001b[39m\u001b[39m*\u001b[39mkwargs)\n\u001b[0;32m    395\u001b[0m     result \u001b[39m=\u001b[39m maybe_coerce_values(result)\n\u001b[0;32m    396\u001b[0m     \u001b[39mreturn\u001b[39;00m \u001b[39mself\u001b[39m\u001b[39m.\u001b[39m_split_op_result(result)\n",
      "File \u001b[1;32me:\\LHK\\Study\\Lab\\SmartCity\\3.Others\\ThermalComfort\\.conda\\lib\\site-packages\\pandas\\core\\groupby\\groupby.py:1995\u001b[0m, in \u001b[0;36mGroupBy._cython_agg_general.<locals>.array_func\u001b[1;34m(values)\u001b[0m\n\u001b[0;32m   1992\u001b[0m     \u001b[39mreturn\u001b[39;00m result\n\u001b[0;32m   1994\u001b[0m \u001b[39massert\u001b[39;00m alt \u001b[39mis\u001b[39;00m \u001b[39mnot\u001b[39;00m \u001b[39mNone\u001b[39;00m\n\u001b[1;32m-> 1995\u001b[0m result \u001b[39m=\u001b[39m \u001b[39mself\u001b[39;49m\u001b[39m.\u001b[39;49m_agg_py_fallback(how, values, ndim\u001b[39m=\u001b[39;49mdata\u001b[39m.\u001b[39;49mndim, alt\u001b[39m=\u001b[39;49malt)\n\u001b[0;32m   1996\u001b[0m \u001b[39mreturn\u001b[39;00m result\n",
      "File \u001b[1;32me:\\LHK\\Study\\Lab\\SmartCity\\3.Others\\ThermalComfort\\.conda\\lib\\site-packages\\pandas\\core\\groupby\\groupby.py:1946\u001b[0m, in \u001b[0;36mGroupBy._agg_py_fallback\u001b[1;34m(self, how, values, ndim, alt)\u001b[0m\n\u001b[0;32m   1944\u001b[0m     msg \u001b[39m=\u001b[39m \u001b[39mf\u001b[39m\u001b[39m\"\u001b[39m\u001b[39magg function failed [how->\u001b[39m\u001b[39m{\u001b[39;00mhow\u001b[39m}\u001b[39;00m\u001b[39m,dtype->\u001b[39m\u001b[39m{\u001b[39;00mser\u001b[39m.\u001b[39mdtype\u001b[39m}\u001b[39;00m\u001b[39m]\u001b[39m\u001b[39m\"\u001b[39m\n\u001b[0;32m   1945\u001b[0m     \u001b[39m# preserve the kind of exception that raised\u001b[39;00m\n\u001b[1;32m-> 1946\u001b[0m     \u001b[39mraise\u001b[39;00m \u001b[39mtype\u001b[39m(err)(msg) \u001b[39mfrom\u001b[39;00m \u001b[39merr\u001b[39;00m\n\u001b[0;32m   1948\u001b[0m \u001b[39mif\u001b[39;00m ser\u001b[39m.\u001b[39mdtype \u001b[39m==\u001b[39m \u001b[39mobject\u001b[39m:\n\u001b[0;32m   1949\u001b[0m     res_values \u001b[39m=\u001b[39m res_values\u001b[39m.\u001b[39mastype(\u001b[39mobject\u001b[39m, copy\u001b[39m=\u001b[39m\u001b[39mFalse\u001b[39;00m)\n",
      "\u001b[1;31mTypeError\u001b[0m: agg function failed [how->mean,dtype->object]"
     ]
    }
   ],
   "source": [
    "df_bmi = df_person.groupby([\"person_age\",\"person_gender\"]).mean().reset_index()\n",
    "df_bmi = df_bmi.rename(columns={0:\"amount\"})\n",
    "df_bmi.loc[:,\"person_weight\"] = df_bmi[\"person_weight\"]/10\n",
    "\n",
    "\n",
    "fig = px.line(df_bmi, x=\"person_age\", y=df_bmi.columns[2:4], color=\"person_gender\", title=\"Average Height(m) and Weight(kg/10)\", template=\"plotly_dark\", markers=True)\n",
    "fig.show()"
   ]
  },
  {
   "cell_type": "markdown",
   "metadata": {},
   "source": [
    "### House"
   ]
  },
  {
   "cell_type": "code",
   "execution_count": null,
   "metadata": {},
   "outputs": [],
   "source": []
  },
  {
   "cell_type": "markdown",
   "metadata": {},
   "source": []
  },
  {
   "cell_type": "markdown",
   "metadata": {},
   "source": [
    "### Atmosphere"
   ]
  },
  {
   "cell_type": "markdown",
   "metadata": {},
   "source": []
  },
  {
   "cell_type": "markdown",
   "metadata": {},
   "source": [
    "### Clean"
   ]
  },
  {
   "cell_type": "code",
   "execution_count": null,
   "metadata": {},
   "outputs": [
    {
     "data": {
      "text/plain": [
       "Index(['timestamp', 'season', 'person_age', 'person_gender', 'person_height',\n",
       "       'person_weight', 'person_average_metabolic_rate',\n",
       "       'person_clothing_insulation', 'person_activity_10',\n",
       "       'person_activity_20', 'person_activity_30', 'person_activity_60',\n",
       "       'atmosphere_temperature', 'atmosphere_relative_humidity',\n",
       "       'atmosphere_air_speed', 'outdoor_temperature',\n",
       "       'outdoor_relative_humidity', 'house_blind_curtain', 'house_fan',\n",
       "       'house_window', 'house_door', 'house_heater', 'thermal_sensation',\n",
       "       'thermal_acceptability', 'thermal_preference', 'thermal_comfort',\n",
       "       'thermal_pmv', 'thermal_pmv_ce', 'thermal_ppd', 'thermal_ppd_ce'],\n",
       "      dtype='object')"
      ]
     },
     "execution_count": 70,
     "metadata": {},
     "output_type": "execute_result"
    }
   ],
   "source": [
    "ashrae_data.columns"
   ]
  },
  {
   "cell_type": "code",
   "execution_count": null,
   "metadata": {},
   "outputs": [
    {
     "data": {
      "text/html": [
       "<div>\n",
       "<style scoped>\n",
       "    .dataframe tbody tr th:only-of-type {\n",
       "        vertical-align: middle;\n",
       "    }\n",
       "\n",
       "    .dataframe tbody tr th {\n",
       "        vertical-align: top;\n",
       "    }\n",
       "\n",
       "    .dataframe thead th {\n",
       "        text-align: right;\n",
       "    }\n",
       "</style>\n",
       "<table border=\"1\" class=\"dataframe\">\n",
       "  <thead>\n",
       "    <tr style=\"text-align: right;\">\n",
       "      <th></th>\n",
       "      <th>timestamp</th>\n",
       "      <th>season</th>\n",
       "      <th>person_age</th>\n",
       "      <th>person_gender</th>\n",
       "      <th>person_clothing_insulation</th>\n",
       "      <th>atmosphere_temperature</th>\n",
       "      <th>outdoor_temperature</th>\n",
       "      <th>thermal_sensation</th>\n",
       "    </tr>\n",
       "  </thead>\n",
       "  <tbody>\n",
       "    <tr>\n",
       "      <th>0</th>\n",
       "      <td>2009-09-16T00:00:00Z</td>\n",
       "      <td>summer</td>\n",
       "      <td>68.0</td>\n",
       "      <td>male</td>\n",
       "      <td>0.99</td>\n",
       "      <td>27.1</td>\n",
       "      <td>NaN</td>\n",
       "      <td>0.0</td>\n",
       "    </tr>\n",
       "    <tr>\n",
       "      <th>1</th>\n",
       "      <td>2009-09-16T00:00:00Z</td>\n",
       "      <td>summer</td>\n",
       "      <td>70.0</td>\n",
       "      <td>male</td>\n",
       "      <td>0.54</td>\n",
       "      <td>27.1</td>\n",
       "      <td>NaN</td>\n",
       "      <td>0.0</td>\n",
       "    </tr>\n",
       "    <tr>\n",
       "      <th>2</th>\n",
       "      <td>2009-09-16T00:00:00Z</td>\n",
       "      <td>summer</td>\n",
       "      <td>72.0</td>\n",
       "      <td>male</td>\n",
       "      <td>0.65</td>\n",
       "      <td>27.1</td>\n",
       "      <td>NaN</td>\n",
       "      <td>0.0</td>\n",
       "    </tr>\n",
       "    <tr>\n",
       "      <th>3</th>\n",
       "      <td>2009-09-16T00:00:00Z</td>\n",
       "      <td>summer</td>\n",
       "      <td>72.0</td>\n",
       "      <td>male</td>\n",
       "      <td>0.71</td>\n",
       "      <td>26.5</td>\n",
       "      <td>NaN</td>\n",
       "      <td>0.0</td>\n",
       "    </tr>\n",
       "    <tr>\n",
       "      <th>4</th>\n",
       "      <td>2009-09-16T00:00:00Z</td>\n",
       "      <td>summer</td>\n",
       "      <td>73.0</td>\n",
       "      <td>male</td>\n",
       "      <td>0.99</td>\n",
       "      <td>27.1</td>\n",
       "      <td>NaN</td>\n",
       "      <td>0.0</td>\n",
       "    </tr>\n",
       "    <tr>\n",
       "      <th>5</th>\n",
       "      <td>2009-09-16T00:00:00Z</td>\n",
       "      <td>summer</td>\n",
       "      <td>73.0</td>\n",
       "      <td>male</td>\n",
       "      <td>0.91</td>\n",
       "      <td>26.5</td>\n",
       "      <td>NaN</td>\n",
       "      <td>1.0</td>\n",
       "    </tr>\n",
       "    <tr>\n",
       "      <th>6</th>\n",
       "      <td>2009-09-16T00:00:00Z</td>\n",
       "      <td>summer</td>\n",
       "      <td>74.0</td>\n",
       "      <td>male</td>\n",
       "      <td>0.54</td>\n",
       "      <td>26.1</td>\n",
       "      <td>NaN</td>\n",
       "      <td>1.0</td>\n",
       "    </tr>\n",
       "    <tr>\n",
       "      <th>7</th>\n",
       "      <td>2009-09-16T00:00:00Z</td>\n",
       "      <td>summer</td>\n",
       "      <td>78.0</td>\n",
       "      <td>male</td>\n",
       "      <td>0.91</td>\n",
       "      <td>26.1</td>\n",
       "      <td>NaN</td>\n",
       "      <td>0.0</td>\n",
       "    </tr>\n",
       "    <tr>\n",
       "      <th>8</th>\n",
       "      <td>2009-09-16T00:00:00Z</td>\n",
       "      <td>summer</td>\n",
       "      <td>79.0</td>\n",
       "      <td>male</td>\n",
       "      <td>0.63</td>\n",
       "      <td>26.7</td>\n",
       "      <td>NaN</td>\n",
       "      <td>1.0</td>\n",
       "    </tr>\n",
       "    <tr>\n",
       "      <th>9</th>\n",
       "      <td>2009-09-16T00:00:00Z</td>\n",
       "      <td>summer</td>\n",
       "      <td>82.0</td>\n",
       "      <td>male</td>\n",
       "      <td>0.57</td>\n",
       "      <td>26.5</td>\n",
       "      <td>NaN</td>\n",
       "      <td>0.0</td>\n",
       "    </tr>\n",
       "    <tr>\n",
       "      <th>10</th>\n",
       "      <td>2009-09-16T00:00:00Z</td>\n",
       "      <td>summer</td>\n",
       "      <td>82.0</td>\n",
       "      <td>male</td>\n",
       "      <td>1.05</td>\n",
       "      <td>27.1</td>\n",
       "      <td>NaN</td>\n",
       "      <td>1.0</td>\n",
       "    </tr>\n",
       "    <tr>\n",
       "      <th>11</th>\n",
       "      <td>2009-09-16T00:00:00Z</td>\n",
       "      <td>summer</td>\n",
       "      <td>84.0</td>\n",
       "      <td>male</td>\n",
       "      <td>0.74</td>\n",
       "      <td>27.1</td>\n",
       "      <td>NaN</td>\n",
       "      <td>1.0</td>\n",
       "    </tr>\n",
       "    <tr>\n",
       "      <th>12</th>\n",
       "      <td>2009-09-16T00:00:00Z</td>\n",
       "      <td>summer</td>\n",
       "      <td>84.0</td>\n",
       "      <td>male</td>\n",
       "      <td>0.54</td>\n",
       "      <td>25.9</td>\n",
       "      <td>NaN</td>\n",
       "      <td>0.0</td>\n",
       "    </tr>\n",
       "    <tr>\n",
       "      <th>13</th>\n",
       "      <td>2009-09-16T00:00:00Z</td>\n",
       "      <td>summer</td>\n",
       "      <td>85.0</td>\n",
       "      <td>male</td>\n",
       "      <td>0.79</td>\n",
       "      <td>26.7</td>\n",
       "      <td>NaN</td>\n",
       "      <td>1.0</td>\n",
       "    </tr>\n",
       "    <tr>\n",
       "      <th>14</th>\n",
       "      <td>2009-09-16T00:00:00Z</td>\n",
       "      <td>summer</td>\n",
       "      <td>85.0</td>\n",
       "      <td>male</td>\n",
       "      <td>0.85</td>\n",
       "      <td>26.7</td>\n",
       "      <td>NaN</td>\n",
       "      <td>1.0</td>\n",
       "    </tr>\n",
       "    <tr>\n",
       "      <th>15</th>\n",
       "      <td>2009-09-16T00:00:00Z</td>\n",
       "      <td>summer</td>\n",
       "      <td>86.0</td>\n",
       "      <td>male</td>\n",
       "      <td>0.79</td>\n",
       "      <td>26.5</td>\n",
       "      <td>NaN</td>\n",
       "      <td>0.0</td>\n",
       "    </tr>\n",
       "    <tr>\n",
       "      <th>16</th>\n",
       "      <td>2009-09-16T00:00:00Z</td>\n",
       "      <td>summer</td>\n",
       "      <td>68.0</td>\n",
       "      <td>female</td>\n",
       "      <td>0.79</td>\n",
       "      <td>27.1</td>\n",
       "      <td>NaN</td>\n",
       "      <td>0.0</td>\n",
       "    </tr>\n",
       "    <tr>\n",
       "      <th>17</th>\n",
       "      <td>2009-09-16T00:00:00Z</td>\n",
       "      <td>summer</td>\n",
       "      <td>68.0</td>\n",
       "      <td>female</td>\n",
       "      <td>0.39</td>\n",
       "      <td>26.5</td>\n",
       "      <td>NaN</td>\n",
       "      <td>1.0</td>\n",
       "    </tr>\n",
       "    <tr>\n",
       "      <th>18</th>\n",
       "      <td>2009-09-16T00:00:00Z</td>\n",
       "      <td>summer</td>\n",
       "      <td>71.0</td>\n",
       "      <td>female</td>\n",
       "      <td>0.54</td>\n",
       "      <td>26.7</td>\n",
       "      <td>NaN</td>\n",
       "      <td>1.0</td>\n",
       "    </tr>\n",
       "    <tr>\n",
       "      <th>19</th>\n",
       "      <td>2009-09-16T00:00:00Z</td>\n",
       "      <td>summer</td>\n",
       "      <td>72.0</td>\n",
       "      <td>female</td>\n",
       "      <td>0.55</td>\n",
       "      <td>27.1</td>\n",
       "      <td>NaN</td>\n",
       "      <td>0.0</td>\n",
       "    </tr>\n",
       "    <tr>\n",
       "      <th>20</th>\n",
       "      <td>2009-09-16T00:00:00Z</td>\n",
       "      <td>summer</td>\n",
       "      <td>72.0</td>\n",
       "      <td>female</td>\n",
       "      <td>0.60</td>\n",
       "      <td>26.5</td>\n",
       "      <td>NaN</td>\n",
       "      <td>-1.0</td>\n",
       "    </tr>\n",
       "    <tr>\n",
       "      <th>21</th>\n",
       "      <td>2009-09-16T00:00:00Z</td>\n",
       "      <td>summer</td>\n",
       "      <td>72.0</td>\n",
       "      <td>female</td>\n",
       "      <td>0.90</td>\n",
       "      <td>25.9</td>\n",
       "      <td>NaN</td>\n",
       "      <td>-1.0</td>\n",
       "    </tr>\n",
       "    <tr>\n",
       "      <th>22</th>\n",
       "      <td>2009-09-16T00:00:00Z</td>\n",
       "      <td>summer</td>\n",
       "      <td>73.0</td>\n",
       "      <td>female</td>\n",
       "      <td>0.86</td>\n",
       "      <td>26.5</td>\n",
       "      <td>NaN</td>\n",
       "      <td>0.0</td>\n",
       "    </tr>\n",
       "    <tr>\n",
       "      <th>23</th>\n",
       "      <td>2009-09-16T00:00:00Z</td>\n",
       "      <td>summer</td>\n",
       "      <td>73.0</td>\n",
       "      <td>female</td>\n",
       "      <td>0.86</td>\n",
       "      <td>26.5</td>\n",
       "      <td>NaN</td>\n",
       "      <td>2.0</td>\n",
       "    </tr>\n",
       "    <tr>\n",
       "      <th>24</th>\n",
       "      <td>2009-09-16T00:00:00Z</td>\n",
       "      <td>summer</td>\n",
       "      <td>79.0</td>\n",
       "      <td>female</td>\n",
       "      <td>0.64</td>\n",
       "      <td>26.5</td>\n",
       "      <td>NaN</td>\n",
       "      <td>0.0</td>\n",
       "    </tr>\n",
       "    <tr>\n",
       "      <th>25</th>\n",
       "      <td>2009-09-16T00:00:00Z</td>\n",
       "      <td>summer</td>\n",
       "      <td>80.0</td>\n",
       "      <td>female</td>\n",
       "      <td>0.54</td>\n",
       "      <td>26.5</td>\n",
       "      <td>NaN</td>\n",
       "      <td>0.0</td>\n",
       "    </tr>\n",
       "    <tr>\n",
       "      <th>26</th>\n",
       "      <td>2009-09-16T00:00:00Z</td>\n",
       "      <td>summer</td>\n",
       "      <td>81.0</td>\n",
       "      <td>female</td>\n",
       "      <td>0.68</td>\n",
       "      <td>26.7</td>\n",
       "      <td>NaN</td>\n",
       "      <td>2.0</td>\n",
       "    </tr>\n",
       "    <tr>\n",
       "      <th>27</th>\n",
       "      <td>2009-09-16T00:00:00Z</td>\n",
       "      <td>summer</td>\n",
       "      <td>83.0</td>\n",
       "      <td>female</td>\n",
       "      <td>0.89</td>\n",
       "      <td>26.5</td>\n",
       "      <td>NaN</td>\n",
       "      <td>0.0</td>\n",
       "    </tr>\n",
       "    <tr>\n",
       "      <th>28</th>\n",
       "      <td>2009-09-16T00:00:00Z</td>\n",
       "      <td>summer</td>\n",
       "      <td>84.0</td>\n",
       "      <td>female</td>\n",
       "      <td>0.97</td>\n",
       "      <td>26.5</td>\n",
       "      <td>NaN</td>\n",
       "      <td>1.0</td>\n",
       "    </tr>\n",
       "    <tr>\n",
       "      <th>29</th>\n",
       "      <td>2009-09-17T00:00:00Z</td>\n",
       "      <td>summer</td>\n",
       "      <td>73.0</td>\n",
       "      <td>male</td>\n",
       "      <td>1.04</td>\n",
       "      <td>28.1</td>\n",
       "      <td>21.15</td>\n",
       "      <td>0.0</td>\n",
       "    </tr>\n",
       "    <tr>\n",
       "      <th>30</th>\n",
       "      <td>2009-09-17T00:00:00Z</td>\n",
       "      <td>summer</td>\n",
       "      <td>74.0</td>\n",
       "      <td>male</td>\n",
       "      <td>0.74</td>\n",
       "      <td>28.1</td>\n",
       "      <td>21.15</td>\n",
       "      <td>1.0</td>\n",
       "    </tr>\n",
       "    <tr>\n",
       "      <th>31</th>\n",
       "      <td>2009-09-17T00:00:00Z</td>\n",
       "      <td>summer</td>\n",
       "      <td>77.0</td>\n",
       "      <td>male</td>\n",
       "      <td>0.55</td>\n",
       "      <td>28.1</td>\n",
       "      <td>21.15</td>\n",
       "      <td>0.0</td>\n",
       "    </tr>\n",
       "    <tr>\n",
       "      <th>32</th>\n",
       "      <td>2009-09-17T00:00:00Z</td>\n",
       "      <td>summer</td>\n",
       "      <td>69.0</td>\n",
       "      <td>female</td>\n",
       "      <td>0.52</td>\n",
       "      <td>28.1</td>\n",
       "      <td>21.15</td>\n",
       "      <td>1.0</td>\n",
       "    </tr>\n",
       "    <tr>\n",
       "      <th>33</th>\n",
       "      <td>2009-09-17T00:00:00Z</td>\n",
       "      <td>summer</td>\n",
       "      <td>69.0</td>\n",
       "      <td>female</td>\n",
       "      <td>0.54</td>\n",
       "      <td>28.1</td>\n",
       "      <td>21.15</td>\n",
       "      <td>0.0</td>\n",
       "    </tr>\n",
       "    <tr>\n",
       "      <th>34</th>\n",
       "      <td>2009-09-17T00:00:00Z</td>\n",
       "      <td>summer</td>\n",
       "      <td>69.0</td>\n",
       "      <td>female</td>\n",
       "      <td>0.64</td>\n",
       "      <td>28.3</td>\n",
       "      <td>21.15</td>\n",
       "      <td>1.0</td>\n",
       "    </tr>\n",
       "    <tr>\n",
       "      <th>35</th>\n",
       "      <td>2009-09-17T00:00:00Z</td>\n",
       "      <td>summer</td>\n",
       "      <td>70.0</td>\n",
       "      <td>female</td>\n",
       "      <td>0.57</td>\n",
       "      <td>28.2</td>\n",
       "      <td>21.15</td>\n",
       "      <td>0.0</td>\n",
       "    </tr>\n",
       "    <tr>\n",
       "      <th>36</th>\n",
       "      <td>2009-09-17T00:00:00Z</td>\n",
       "      <td>summer</td>\n",
       "      <td>70.0</td>\n",
       "      <td>female</td>\n",
       "      <td>0.64</td>\n",
       "      <td>28.2</td>\n",
       "      <td>21.15</td>\n",
       "      <td>1.0</td>\n",
       "    </tr>\n",
       "    <tr>\n",
       "      <th>37</th>\n",
       "      <td>2009-09-17T00:00:00Z</td>\n",
       "      <td>summer</td>\n",
       "      <td>71.0</td>\n",
       "      <td>female</td>\n",
       "      <td>0.85</td>\n",
       "      <td>28.3</td>\n",
       "      <td>21.15</td>\n",
       "      <td>1.0</td>\n",
       "    </tr>\n",
       "    <tr>\n",
       "      <th>38</th>\n",
       "      <td>2009-09-17T00:00:00Z</td>\n",
       "      <td>summer</td>\n",
       "      <td>72.0</td>\n",
       "      <td>female</td>\n",
       "      <td>0.55</td>\n",
       "      <td>28.2</td>\n",
       "      <td>21.15</td>\n",
       "      <td>1.0</td>\n",
       "    </tr>\n",
       "    <tr>\n",
       "      <th>39</th>\n",
       "      <td>2009-09-17T00:00:00Z</td>\n",
       "      <td>summer</td>\n",
       "      <td>72.0</td>\n",
       "      <td>female</td>\n",
       "      <td>0.69</td>\n",
       "      <td>28.1</td>\n",
       "      <td>21.15</td>\n",
       "      <td>2.0</td>\n",
       "    </tr>\n",
       "    <tr>\n",
       "      <th>40</th>\n",
       "      <td>2009-09-17T00:00:00Z</td>\n",
       "      <td>summer</td>\n",
       "      <td>73.0</td>\n",
       "      <td>female</td>\n",
       "      <td>0.54</td>\n",
       "      <td>28.1</td>\n",
       "      <td>21.15</td>\n",
       "      <td>1.0</td>\n",
       "    </tr>\n",
       "    <tr>\n",
       "      <th>41</th>\n",
       "      <td>2009-09-17T00:00:00Z</td>\n",
       "      <td>summer</td>\n",
       "      <td>73.0</td>\n",
       "      <td>female</td>\n",
       "      <td>1.08</td>\n",
       "      <td>28.3</td>\n",
       "      <td>21.15</td>\n",
       "      <td>1.0</td>\n",
       "    </tr>\n",
       "    <tr>\n",
       "      <th>42</th>\n",
       "      <td>2009-09-17T00:00:00Z</td>\n",
       "      <td>summer</td>\n",
       "      <td>74.0</td>\n",
       "      <td>female</td>\n",
       "      <td>0.89</td>\n",
       "      <td>28.2</td>\n",
       "      <td>21.15</td>\n",
       "      <td>1.0</td>\n",
       "    </tr>\n",
       "    <tr>\n",
       "      <th>43</th>\n",
       "      <td>2009-09-17T00:00:00Z</td>\n",
       "      <td>summer</td>\n",
       "      <td>76.0</td>\n",
       "      <td>female</td>\n",
       "      <td>0.54</td>\n",
       "      <td>28.2</td>\n",
       "      <td>21.15</td>\n",
       "      <td>0.0</td>\n",
       "    </tr>\n",
       "    <tr>\n",
       "      <th>44</th>\n",
       "      <td>2009-09-17T00:00:00Z</td>\n",
       "      <td>summer</td>\n",
       "      <td>76.0</td>\n",
       "      <td>female</td>\n",
       "      <td>0.85</td>\n",
       "      <td>28.1</td>\n",
       "      <td>21.15</td>\n",
       "      <td>1.0</td>\n",
       "    </tr>\n",
       "    <tr>\n",
       "      <th>45</th>\n",
       "      <td>2009-09-17T00:00:00Z</td>\n",
       "      <td>summer</td>\n",
       "      <td>76.0</td>\n",
       "      <td>female</td>\n",
       "      <td>0.54</td>\n",
       "      <td>28.1</td>\n",
       "      <td>21.15</td>\n",
       "      <td>1.0</td>\n",
       "    </tr>\n",
       "    <tr>\n",
       "      <th>46</th>\n",
       "      <td>2009-09-17T00:00:00Z</td>\n",
       "      <td>summer</td>\n",
       "      <td>77.0</td>\n",
       "      <td>female</td>\n",
       "      <td>0.56</td>\n",
       "      <td>28.2</td>\n",
       "      <td>21.15</td>\n",
       "      <td>0.0</td>\n",
       "    </tr>\n",
       "    <tr>\n",
       "      <th>47</th>\n",
       "      <td>2009-09-17T00:00:00Z</td>\n",
       "      <td>summer</td>\n",
       "      <td>77.0</td>\n",
       "      <td>female</td>\n",
       "      <td>0.67</td>\n",
       "      <td>28.2</td>\n",
       "      <td>21.15</td>\n",
       "      <td>2.0</td>\n",
       "    </tr>\n",
       "    <tr>\n",
       "      <th>48</th>\n",
       "      <td>2009-09-17T00:00:00Z</td>\n",
       "      <td>summer</td>\n",
       "      <td>77.0</td>\n",
       "      <td>female</td>\n",
       "      <td>1.00</td>\n",
       "      <td>28.2</td>\n",
       "      <td>21.15</td>\n",
       "      <td>1.0</td>\n",
       "    </tr>\n",
       "    <tr>\n",
       "      <th>49</th>\n",
       "      <td>2009-09-17T00:00:00Z</td>\n",
       "      <td>summer</td>\n",
       "      <td>77.0</td>\n",
       "      <td>female</td>\n",
       "      <td>0.87</td>\n",
       "      <td>28.2</td>\n",
       "      <td>21.15</td>\n",
       "      <td>1.0</td>\n",
       "    </tr>\n",
       "  </tbody>\n",
       "</table>\n",
       "</div>"
      ],
      "text/plain": [
       "               timestamp  season  person_age person_gender  \\\n",
       "0   2009-09-16T00:00:00Z  summer        68.0          male   \n",
       "1   2009-09-16T00:00:00Z  summer        70.0          male   \n",
       "2   2009-09-16T00:00:00Z  summer        72.0          male   \n",
       "3   2009-09-16T00:00:00Z  summer        72.0          male   \n",
       "4   2009-09-16T00:00:00Z  summer        73.0          male   \n",
       "5   2009-09-16T00:00:00Z  summer        73.0          male   \n",
       "6   2009-09-16T00:00:00Z  summer        74.0          male   \n",
       "7   2009-09-16T00:00:00Z  summer        78.0          male   \n",
       "8   2009-09-16T00:00:00Z  summer        79.0          male   \n",
       "9   2009-09-16T00:00:00Z  summer        82.0          male   \n",
       "10  2009-09-16T00:00:00Z  summer        82.0          male   \n",
       "11  2009-09-16T00:00:00Z  summer        84.0          male   \n",
       "12  2009-09-16T00:00:00Z  summer        84.0          male   \n",
       "13  2009-09-16T00:00:00Z  summer        85.0          male   \n",
       "14  2009-09-16T00:00:00Z  summer        85.0          male   \n",
       "15  2009-09-16T00:00:00Z  summer        86.0          male   \n",
       "16  2009-09-16T00:00:00Z  summer        68.0        female   \n",
       "17  2009-09-16T00:00:00Z  summer        68.0        female   \n",
       "18  2009-09-16T00:00:00Z  summer        71.0        female   \n",
       "19  2009-09-16T00:00:00Z  summer        72.0        female   \n",
       "20  2009-09-16T00:00:00Z  summer        72.0        female   \n",
       "21  2009-09-16T00:00:00Z  summer        72.0        female   \n",
       "22  2009-09-16T00:00:00Z  summer        73.0        female   \n",
       "23  2009-09-16T00:00:00Z  summer        73.0        female   \n",
       "24  2009-09-16T00:00:00Z  summer        79.0        female   \n",
       "25  2009-09-16T00:00:00Z  summer        80.0        female   \n",
       "26  2009-09-16T00:00:00Z  summer        81.0        female   \n",
       "27  2009-09-16T00:00:00Z  summer        83.0        female   \n",
       "28  2009-09-16T00:00:00Z  summer        84.0        female   \n",
       "29  2009-09-17T00:00:00Z  summer        73.0          male   \n",
       "30  2009-09-17T00:00:00Z  summer        74.0          male   \n",
       "31  2009-09-17T00:00:00Z  summer        77.0          male   \n",
       "32  2009-09-17T00:00:00Z  summer        69.0        female   \n",
       "33  2009-09-17T00:00:00Z  summer        69.0        female   \n",
       "34  2009-09-17T00:00:00Z  summer        69.0        female   \n",
       "35  2009-09-17T00:00:00Z  summer        70.0        female   \n",
       "36  2009-09-17T00:00:00Z  summer        70.0        female   \n",
       "37  2009-09-17T00:00:00Z  summer        71.0        female   \n",
       "38  2009-09-17T00:00:00Z  summer        72.0        female   \n",
       "39  2009-09-17T00:00:00Z  summer        72.0        female   \n",
       "40  2009-09-17T00:00:00Z  summer        73.0        female   \n",
       "41  2009-09-17T00:00:00Z  summer        73.0        female   \n",
       "42  2009-09-17T00:00:00Z  summer        74.0        female   \n",
       "43  2009-09-17T00:00:00Z  summer        76.0        female   \n",
       "44  2009-09-17T00:00:00Z  summer        76.0        female   \n",
       "45  2009-09-17T00:00:00Z  summer        76.0        female   \n",
       "46  2009-09-17T00:00:00Z  summer        77.0        female   \n",
       "47  2009-09-17T00:00:00Z  summer        77.0        female   \n",
       "48  2009-09-17T00:00:00Z  summer        77.0        female   \n",
       "49  2009-09-17T00:00:00Z  summer        77.0        female   \n",
       "\n",
       "    person_clothing_insulation  atmosphere_temperature  outdoor_temperature  \\\n",
       "0                         0.99                    27.1                  NaN   \n",
       "1                         0.54                    27.1                  NaN   \n",
       "2                         0.65                    27.1                  NaN   \n",
       "3                         0.71                    26.5                  NaN   \n",
       "4                         0.99                    27.1                  NaN   \n",
       "5                         0.91                    26.5                  NaN   \n",
       "6                         0.54                    26.1                  NaN   \n",
       "7                         0.91                    26.1                  NaN   \n",
       "8                         0.63                    26.7                  NaN   \n",
       "9                         0.57                    26.5                  NaN   \n",
       "10                        1.05                    27.1                  NaN   \n",
       "11                        0.74                    27.1                  NaN   \n",
       "12                        0.54                    25.9                  NaN   \n",
       "13                        0.79                    26.7                  NaN   \n",
       "14                        0.85                    26.7                  NaN   \n",
       "15                        0.79                    26.5                  NaN   \n",
       "16                        0.79                    27.1                  NaN   \n",
       "17                        0.39                    26.5                  NaN   \n",
       "18                        0.54                    26.7                  NaN   \n",
       "19                        0.55                    27.1                  NaN   \n",
       "20                        0.60                    26.5                  NaN   \n",
       "21                        0.90                    25.9                  NaN   \n",
       "22                        0.86                    26.5                  NaN   \n",
       "23                        0.86                    26.5                  NaN   \n",
       "24                        0.64                    26.5                  NaN   \n",
       "25                        0.54                    26.5                  NaN   \n",
       "26                        0.68                    26.7                  NaN   \n",
       "27                        0.89                    26.5                  NaN   \n",
       "28                        0.97                    26.5                  NaN   \n",
       "29                        1.04                    28.1                21.15   \n",
       "30                        0.74                    28.1                21.15   \n",
       "31                        0.55                    28.1                21.15   \n",
       "32                        0.52                    28.1                21.15   \n",
       "33                        0.54                    28.1                21.15   \n",
       "34                        0.64                    28.3                21.15   \n",
       "35                        0.57                    28.2                21.15   \n",
       "36                        0.64                    28.2                21.15   \n",
       "37                        0.85                    28.3                21.15   \n",
       "38                        0.55                    28.2                21.15   \n",
       "39                        0.69                    28.1                21.15   \n",
       "40                        0.54                    28.1                21.15   \n",
       "41                        1.08                    28.3                21.15   \n",
       "42                        0.89                    28.2                21.15   \n",
       "43                        0.54                    28.2                21.15   \n",
       "44                        0.85                    28.1                21.15   \n",
       "45                        0.54                    28.1                21.15   \n",
       "46                        0.56                    28.2                21.15   \n",
       "47                        0.67                    28.2                21.15   \n",
       "48                        1.00                    28.2                21.15   \n",
       "49                        0.87                    28.2                21.15   \n",
       "\n",
       "    thermal_sensation  \n",
       "0                 0.0  \n",
       "1                 0.0  \n",
       "2                 0.0  \n",
       "3                 0.0  \n",
       "4                 0.0  \n",
       "5                 1.0  \n",
       "6                 1.0  \n",
       "7                 0.0  \n",
       "8                 1.0  \n",
       "9                 0.0  \n",
       "10                1.0  \n",
       "11                1.0  \n",
       "12                0.0  \n",
       "13                1.0  \n",
       "14                1.0  \n",
       "15                0.0  \n",
       "16                0.0  \n",
       "17                1.0  \n",
       "18                1.0  \n",
       "19                0.0  \n",
       "20               -1.0  \n",
       "21               -1.0  \n",
       "22                0.0  \n",
       "23                2.0  \n",
       "24                0.0  \n",
       "25                0.0  \n",
       "26                2.0  \n",
       "27                0.0  \n",
       "28                1.0  \n",
       "29                0.0  \n",
       "30                1.0  \n",
       "31                0.0  \n",
       "32                1.0  \n",
       "33                0.0  \n",
       "34                1.0  \n",
       "35                0.0  \n",
       "36                1.0  \n",
       "37                1.0  \n",
       "38                1.0  \n",
       "39                2.0  \n",
       "40                1.0  \n",
       "41                1.0  \n",
       "42                1.0  \n",
       "43                0.0  \n",
       "44                1.0  \n",
       "45                1.0  \n",
       "46                0.0  \n",
       "47                2.0  \n",
       "48                1.0  \n",
       "49                1.0  "
      ]
     },
     "execution_count": 47,
     "metadata": {},
     "output_type": "execute_result"
    }
   ],
   "source": [
    "clean_ashrae = ashrae_data[[\"timestamp\", \"season\", \"person_age\", \"person_gender\", \"person_clothing_insulation\",\n",
    "                            \"atmosphere_temperature\", \"atmosphere_relative_humidity\", \"atmosphere_air_speed\",\n",
    "                            \"outdoor_temperature\", #\"outdoor_relative_humidity\",\n",
    "                            \"house_fan\", \"house_window\", \"house_heater\",\n",
    "                            \"thermal_sensation\"]]\n",
    "# clean_ashrae = clean_ashrae.dropna(subset=[col for col in list(clean_ashrae.columns) if col in [\"thermal_preference\", \"thermal_comfort\"]])\n",
    "\n",
    "clean_ashrae.head(50)\n",
    "\n"
   ]
  },
  {
   "cell_type": "code",
   "execution_count": null,
   "metadata": {},
   "outputs": [],
   "source": []
  },
  {
   "cell_type": "markdown",
   "metadata": {},
   "source": [
    "# THE CHINESE"
   ]
  },
  {
   "cell_type": "code",
   "execution_count": 124,
   "metadata": {},
   "outputs": [
    {
     "data": {
      "text/html": [
       "<div>\n",
       "<style scoped>\n",
       "    .dataframe tbody tr th:only-of-type {\n",
       "        vertical-align: middle;\n",
       "    }\n",
       "\n",
       "    .dataframe tbody tr th {\n",
       "        vertical-align: top;\n",
       "    }\n",
       "\n",
       "    .dataframe thead th {\n",
       "        text-align: right;\n",
       "    }\n",
       "</style>\n",
       "<table border=\"1\" class=\"dataframe\">\n",
       "  <thead>\n",
       "    <tr style=\"text-align: right;\">\n",
       "      <th></th>\n",
       "      <th>ID</th>\n",
       "      <th>A1.Code</th>\n",
       "      <th>A2.Date</th>\n",
       "      <th>A3.Data Contributor</th>\n",
       "      <th>A4.Season</th>\n",
       "      <th>A5.City</th>\n",
       "      <th>A6.Climate Zone</th>\n",
       "      <th>B1.Building Type</th>\n",
       "      <th>B2.Building Function</th>\n",
       "      <th>B3.Floors</th>\n",
       "      <th>B4.Building Operation Mode</th>\n",
       "      <th>B5.Room (LengthxWidth)</th>\n",
       "      <th>B5.Room Height (m)</th>\n",
       "      <th>C1.Sex</th>\n",
       "      <th>C2.Age</th>\n",
       "      <th>C3.Heightxcmx</th>\n",
       "      <th>C4.Weightxkgx</th>\n",
       "      <th>C5.Living Years</th>\n",
       "      <th>D1.TSV</th>\n",
       "      <th>D2.TCV</th>\n",
       "      <th>D3.TAV</th>\n",
       "      <th>D5.Clothing Insulation (clo)</th>\n",
       "      <th>D6.Metabolic Rate (met)</th>\n",
       "      <th>Measured Height (m)</th>\n",
       "      <th>E1.Indoor Air Temperature (x)</th>\n",
       "      <th>E2.Indoor Relative Humidity (%)</th>\n",
       "      <th>E3.Indoor Air Velocity (m/s)</th>\n",
       "      <th>E4.Globe Temperature (x)</th>\n",
       "      <th>Measured Height (m)</th>\n",
       "      <th>E1.Indoor Air Temperature (x)</th>\n",
       "      <th>E2.Indoor Relative Humidity (%)</th>\n",
       "      <th>E3.Indoor Air Velocity (m/s)</th>\n",
       "      <th>E4.Globe Temperature (x)</th>\n",
       "      <th>Measured Height (m)</th>\n",
       "      <th>E1.Indoor Air Temperature (x)</th>\n",
       "      <th>E2.Indoor Relative Humidity (%)</th>\n",
       "      <th>E3.Indoor Air Velocity (m/s)</th>\n",
       "      <th>E4.Globe Temperature (x)</th>\n",
       "      <th>E5.Roof Temperature (x)</th>\n",
       "      <th>E5.Wall Temperature (x)</th>\n",
       "      <th>E5.Floor Temperature (x)</th>\n",
       "      <th>F1.Operative Temperature (x)</th>\n",
       "      <th>F2.Mean Radiant Temperature (x)</th>\n",
       "      <th>F3.Radiant Temperature Asymmetry (x)</th>\n",
       "      <th>F4.PMV</th>\n",
       "      <th>F5.PPD</th>\n",
       "      <th>G1.Real-Time Outdoor Temperature (x)</th>\n",
       "      <th>G2.Mean Daily Outdoor Temperature (x)</th>\n",
       "      <th>G3.Monthly Mean Outdoor Temperature (x)</th>\n",
       "      <th>G4.7-Day Running Mean Outdoor Temperature (x)</th>\n",
       "      <th>G4.15-Day Running Mean Outdoor Temperature (x)</th>\n",
       "      <th>G5.Mean Daily Outdoor Relative Humidity (%)</th>\n",
       "      <th>G6.Mean Daily Outdoor Air Velocity (m/s)</th>\n",
       "    </tr>\n",
       "  </thead>\n",
       "  <tbody>\n",
       "    <tr>\n",
       "      <th>0</th>\n",
       "      <td>1</td>\n",
       "      <td>DLUT1st0172</td>\n",
       "      <td>1/30/2019 10:35</td>\n",
       "      <td>Dalian University of Technology</td>\n",
       "      <td>Winter Season</td>\n",
       "      <td>Hebei Province,Handan City</td>\n",
       "      <td>Cold zone</td>\n",
       "      <td>Residential</td>\n",
       "      <td>Bedroom</td>\n",
       "      <td>1</td>\n",
       "      <td>Radiator heating</td>\n",
       "      <td>6.1x3.4</td>\n",
       "      <td>3.9</td>\n",
       "      <td>Female</td>\n",
       "      <td>18-30</td>\n",
       "      <td>170</td>\n",
       "      <td>62</td>\n",
       "      <td>25</td>\n",
       "      <td>-1</td>\n",
       "      <td>1</td>\n",
       "      <td>0.1</td>\n",
       "      <td>1.1</td>\n",
       "      <td>1</td>\n",
       "      <td>0.1</td>\n",
       "      <td>18.6</td>\n",
       "      <td>32</td>\n",
       "      <td>0</td>\n",
       "      <td>20.9</td>\n",
       "      <td>0.6</td>\n",
       "      <td>21.4</td>\n",
       "      <td>32</td>\n",
       "      <td>0</td>\n",
       "      <td>20.9</td>\n",
       "      <td>1.1</td>\n",
       "      <td>21.5</td>\n",
       "      <td>32</td>\n",
       "      <td>0</td>\n",
       "      <td>20.9</td>\n",
       "      <td>NaN</td>\n",
       "      <td>NaN</td>\n",
       "      <td>NaN</td>\n",
       "      <td>20.8</td>\n",
       "      <td>20.9</td>\n",
       "      <td>0.74</td>\n",
       "      <td>-0.58</td>\n",
       "      <td>12.01</td>\n",
       "      <td>NaN</td>\n",
       "      <td>-2.9</td>\n",
       "      <td>0.4</td>\n",
       "      <td>1.2</td>\n",
       "      <td>1</td>\n",
       "      <td>NaN</td>\n",
       "      <td>NaN</td>\n",
       "    </tr>\n",
       "    <tr>\n",
       "      <th>1</th>\n",
       "      <td>2</td>\n",
       "      <td>DLUT1st0173</td>\n",
       "      <td>1/30/2019 10:42</td>\n",
       "      <td>Dalian University of Technology</td>\n",
       "      <td>Winter Season</td>\n",
       "      <td>Hebei Province,Handan City</td>\n",
       "      <td>Cold zone</td>\n",
       "      <td>Residential</td>\n",
       "      <td>Bedroom</td>\n",
       "      <td>1</td>\n",
       "      <td>Radiator heating</td>\n",
       "      <td>6.1x3.4</td>\n",
       "      <td>3.9</td>\n",
       "      <td>Female</td>\n",
       "      <td>41-50</td>\n",
       "      <td>168</td>\n",
       "      <td>80</td>\n",
       "      <td>30</td>\n",
       "      <td>-1</td>\n",
       "      <td>1</td>\n",
       "      <td>1</td>\n",
       "      <td>1.83</td>\n",
       "      <td>0.9</td>\n",
       "      <td>0.1</td>\n",
       "      <td>18.6</td>\n",
       "      <td>32</td>\n",
       "      <td>0</td>\n",
       "      <td>20.9</td>\n",
       "      <td>0.6</td>\n",
       "      <td>21.4</td>\n",
       "      <td>32</td>\n",
       "      <td>0</td>\n",
       "      <td>20.9</td>\n",
       "      <td>1.1</td>\n",
       "      <td>21.5</td>\n",
       "      <td>32</td>\n",
       "      <td>0</td>\n",
       "      <td>20.9</td>\n",
       "      <td>NaN</td>\n",
       "      <td>NaN</td>\n",
       "      <td>NaN</td>\n",
       "      <td>20.8</td>\n",
       "      <td>20.9</td>\n",
       "      <td>0.74</td>\n",
       "      <td>-0.1</td>\n",
       "      <td>5.19</td>\n",
       "      <td>NaN</td>\n",
       "      <td>-2.9</td>\n",
       "      <td>0.4</td>\n",
       "      <td>1.2</td>\n",
       "      <td>1</td>\n",
       "      <td>NaN</td>\n",
       "      <td>NaN</td>\n",
       "    </tr>\n",
       "    <tr>\n",
       "      <th>2</th>\n",
       "      <td>3</td>\n",
       "      <td>DLUT1st0174</td>\n",
       "      <td>1/30/2019 10:45</td>\n",
       "      <td>Dalian University of Technology</td>\n",
       "      <td>Winter Season</td>\n",
       "      <td>Hebei Province,Handan City</td>\n",
       "      <td>Cold zone</td>\n",
       "      <td>Residential</td>\n",
       "      <td>Bedroom</td>\n",
       "      <td>1</td>\n",
       "      <td>Radiator heating</td>\n",
       "      <td>6.1x3.4</td>\n",
       "      <td>3.9</td>\n",
       "      <td>Male</td>\n",
       "      <td>41-50</td>\n",
       "      <td>170</td>\n",
       "      <td>82</td>\n",
       "      <td>49</td>\n",
       "      <td>0</td>\n",
       "      <td>1</td>\n",
       "      <td>1</td>\n",
       "      <td>1.36</td>\n",
       "      <td>0.9</td>\n",
       "      <td>0.1</td>\n",
       "      <td>18.6</td>\n",
       "      <td>32</td>\n",
       "      <td>0</td>\n",
       "      <td>20.9</td>\n",
       "      <td>0.6</td>\n",
       "      <td>21.4</td>\n",
       "      <td>32</td>\n",
       "      <td>0</td>\n",
       "      <td>20.9</td>\n",
       "      <td>1.1</td>\n",
       "      <td>21.5</td>\n",
       "      <td>32</td>\n",
       "      <td>0</td>\n",
       "      <td>20.9</td>\n",
       "      <td>NaN</td>\n",
       "      <td>NaN</td>\n",
       "      <td>NaN</td>\n",
       "      <td>20.8</td>\n",
       "      <td>20.9</td>\n",
       "      <td>0.74</td>\n",
       "      <td>-0.66</td>\n",
       "      <td>14.14</td>\n",
       "      <td>NaN</td>\n",
       "      <td>-2.9</td>\n",
       "      <td>0.4</td>\n",
       "      <td>1.2</td>\n",
       "      <td>1</td>\n",
       "      <td>NaN</td>\n",
       "      <td>NaN</td>\n",
       "    </tr>\n",
       "    <tr>\n",
       "      <th>3</th>\n",
       "      <td>4</td>\n",
       "      <td>DLUT1st0175</td>\n",
       "      <td>1/30/2019 10:47</td>\n",
       "      <td>Dalian University of Technology</td>\n",
       "      <td>Winter Season</td>\n",
       "      <td>Hebei Province,Handan City</td>\n",
       "      <td>Cold zone</td>\n",
       "      <td>Residential</td>\n",
       "      <td>Bedroom</td>\n",
       "      <td>1</td>\n",
       "      <td>Radiator heating</td>\n",
       "      <td>6.1x3.4</td>\n",
       "      <td>3.9</td>\n",
       "      <td>Male</td>\n",
       "      <td>18-30</td>\n",
       "      <td>178</td>\n",
       "      <td>65</td>\n",
       "      <td>19</td>\n",
       "      <td>0</td>\n",
       "      <td>1</td>\n",
       "      <td>1</td>\n",
       "      <td>1.58</td>\n",
       "      <td>0.9</td>\n",
       "      <td>0.1</td>\n",
       "      <td>18.6</td>\n",
       "      <td>32</td>\n",
       "      <td>0</td>\n",
       "      <td>20.9</td>\n",
       "      <td>0.6</td>\n",
       "      <td>21.4</td>\n",
       "      <td>32</td>\n",
       "      <td>0</td>\n",
       "      <td>20.9</td>\n",
       "      <td>1.1</td>\n",
       "      <td>21.5</td>\n",
       "      <td>32</td>\n",
       "      <td>0</td>\n",
       "      <td>20.9</td>\n",
       "      <td>NaN</td>\n",
       "      <td>NaN</td>\n",
       "      <td>NaN</td>\n",
       "      <td>20.8</td>\n",
       "      <td>20.9</td>\n",
       "      <td>0.74</td>\n",
       "      <td>-0.36</td>\n",
       "      <td>7.78</td>\n",
       "      <td>NaN</td>\n",
       "      <td>-2.9</td>\n",
       "      <td>0.4</td>\n",
       "      <td>1.2</td>\n",
       "      <td>1</td>\n",
       "      <td>NaN</td>\n",
       "      <td>NaN</td>\n",
       "    </tr>\n",
       "    <tr>\n",
       "      <th>4</th>\n",
       "      <td>5</td>\n",
       "      <td>DLUT1st0176</td>\n",
       "      <td>1/31/2019 20:20</td>\n",
       "      <td>Dalian University of Technology</td>\n",
       "      <td>Winter Season</td>\n",
       "      <td>Hebei Province,Handan City</td>\n",
       "      <td>Cold zone</td>\n",
       "      <td>Residential</td>\n",
       "      <td>Bedroom</td>\n",
       "      <td>1</td>\n",
       "      <td>Radiator heating</td>\n",
       "      <td>6.1x3.4</td>\n",
       "      <td>3.9</td>\n",
       "      <td>Male</td>\n",
       "      <td>18-30</td>\n",
       "      <td>174</td>\n",
       "      <td>80</td>\n",
       "      <td>44</td>\n",
       "      <td>0</td>\n",
       "      <td>1</td>\n",
       "      <td>1</td>\n",
       "      <td>1.38</td>\n",
       "      <td>0.9</td>\n",
       "      <td>0.1</td>\n",
       "      <td>19.5</td>\n",
       "      <td>33</td>\n",
       "      <td>0</td>\n",
       "      <td>19.8</td>\n",
       "      <td>0.6</td>\n",
       "      <td>20.1</td>\n",
       "      <td>33</td>\n",
       "      <td>0</td>\n",
       "      <td>19.8</td>\n",
       "      <td>1.1</td>\n",
       "      <td>20.9</td>\n",
       "      <td>33</td>\n",
       "      <td>0</td>\n",
       "      <td>19.8</td>\n",
       "      <td>NaN</td>\n",
       "      <td>NaN</td>\n",
       "      <td>NaN</td>\n",
       "      <td>20</td>\n",
       "      <td>19.8</td>\n",
       "      <td>1.12</td>\n",
       "      <td>-0.82</td>\n",
       "      <td>19.45</td>\n",
       "      <td>NaN</td>\n",
       "      <td>0.6</td>\n",
       "      <td>0.4</td>\n",
       "      <td>0.5</td>\n",
       "      <td>0.2</td>\n",
       "      <td>NaN</td>\n",
       "      <td>NaN</td>\n",
       "    </tr>\n",
       "    <tr>\n",
       "      <th>...</th>\n",
       "      <td>...</td>\n",
       "      <td>...</td>\n",
       "      <td>...</td>\n",
       "      <td>...</td>\n",
       "      <td>...</td>\n",
       "      <td>...</td>\n",
       "      <td>...</td>\n",
       "      <td>...</td>\n",
       "      <td>...</td>\n",
       "      <td>...</td>\n",
       "      <td>...</td>\n",
       "      <td>...</td>\n",
       "      <td>...</td>\n",
       "      <td>...</td>\n",
       "      <td>...</td>\n",
       "      <td>...</td>\n",
       "      <td>...</td>\n",
       "      <td>...</td>\n",
       "      <td>...</td>\n",
       "      <td>...</td>\n",
       "      <td>...</td>\n",
       "      <td>...</td>\n",
       "      <td>...</td>\n",
       "      <td>...</td>\n",
       "      <td>...</td>\n",
       "      <td>...</td>\n",
       "      <td>...</td>\n",
       "      <td>...</td>\n",
       "      <td>...</td>\n",
       "      <td>...</td>\n",
       "      <td>...</td>\n",
       "      <td>...</td>\n",
       "      <td>...</td>\n",
       "      <td>...</td>\n",
       "      <td>...</td>\n",
       "      <td>...</td>\n",
       "      <td>...</td>\n",
       "      <td>...</td>\n",
       "      <td>...</td>\n",
       "      <td>...</td>\n",
       "      <td>...</td>\n",
       "      <td>...</td>\n",
       "      <td>...</td>\n",
       "      <td>...</td>\n",
       "      <td>...</td>\n",
       "      <td>...</td>\n",
       "      <td>...</td>\n",
       "      <td>...</td>\n",
       "      <td>...</td>\n",
       "      <td>...</td>\n",
       "      <td>...</td>\n",
       "      <td>...</td>\n",
       "      <td>...</td>\n",
       "    </tr>\n",
       "    <tr>\n",
       "      <th>7241</th>\n",
       "      <td>7242</td>\n",
       "      <td>TJU1st2089</td>\n",
       "      <td>12/20/2019 17:00</td>\n",
       "      <td>Tongji University</td>\n",
       "      <td>Winter Season</td>\n",
       "      <td>Shanghai City</td>\n",
       "      <td>Hot summer and cold winter zone</td>\n",
       "      <td>Office</td>\n",
       "      <td>Laboratory</td>\n",
       "      <td>1</td>\n",
       "      <td>Radiant floor heating</td>\n",
       "      <td>4.2x3.6</td>\n",
       "      <td>NaN</td>\n",
       "      <td>Female</td>\n",
       "      <td>22</td>\n",
       "      <td>161</td>\n",
       "      <td>58</td>\n",
       "      <td>3</td>\n",
       "      <td>0.4</td>\n",
       "      <td>1.6</td>\n",
       "      <td>0.1</td>\n",
       "      <td>0.6</td>\n",
       "      <td>1.1</td>\n",
       "      <td>0.1</td>\n",
       "      <td>29.7</td>\n",
       "      <td>60</td>\n",
       "      <td>0.01</td>\n",
       "      <td>25.3</td>\n",
       "      <td>0.6</td>\n",
       "      <td>27.5</td>\n",
       "      <td>60</td>\n",
       "      <td>0.1</td>\n",
       "      <td>25.3</td>\n",
       "      <td>1.1</td>\n",
       "      <td>25.3</td>\n",
       "      <td>60</td>\n",
       "      <td>0.1</td>\n",
       "      <td>25.3</td>\n",
       "      <td>17.8</td>\n",
       "      <td>17.8</td>\n",
       "      <td>40</td>\n",
       "      <td>26.6</td>\n",
       "      <td>25.6</td>\n",
       "      <td>20.57</td>\n",
       "      <td>0.7</td>\n",
       "      <td>15.34</td>\n",
       "      <td>NaN</td>\n",
       "      <td>NaN</td>\n",
       "      <td>NaN</td>\n",
       "      <td>NaN</td>\n",
       "      <td>NaN</td>\n",
       "      <td>NaN</td>\n",
       "      <td>NaN</td>\n",
       "    </tr>\n",
       "    <tr>\n",
       "      <th>7242</th>\n",
       "      <td>7243</td>\n",
       "      <td>TJU1st2090</td>\n",
       "      <td>12/21/2019 17:00</td>\n",
       "      <td>Tongji University</td>\n",
       "      <td>Winter Season</td>\n",
       "      <td>Shanghai City</td>\n",
       "      <td>Hot summer and cold winter zone</td>\n",
       "      <td>Office</td>\n",
       "      <td>Laboratory</td>\n",
       "      <td>1</td>\n",
       "      <td>Radiant floor heating</td>\n",
       "      <td>4.2x3.6</td>\n",
       "      <td>NaN</td>\n",
       "      <td>Female</td>\n",
       "      <td>22</td>\n",
       "      <td>161</td>\n",
       "      <td>58</td>\n",
       "      <td>3</td>\n",
       "      <td>0.4</td>\n",
       "      <td>1.6</td>\n",
       "      <td>0.1</td>\n",
       "      <td>0.6</td>\n",
       "      <td>1.1</td>\n",
       "      <td>0.1</td>\n",
       "      <td>29.7</td>\n",
       "      <td>60</td>\n",
       "      <td>0.01</td>\n",
       "      <td>25.3</td>\n",
       "      <td>0.6</td>\n",
       "      <td>27.5</td>\n",
       "      <td>60</td>\n",
       "      <td>0.1</td>\n",
       "      <td>25.3</td>\n",
       "      <td>1.1</td>\n",
       "      <td>25.3</td>\n",
       "      <td>60</td>\n",
       "      <td>0.1</td>\n",
       "      <td>25.3</td>\n",
       "      <td>17.8</td>\n",
       "      <td>17.8</td>\n",
       "      <td>40</td>\n",
       "      <td>26.6</td>\n",
       "      <td>25.6</td>\n",
       "      <td>20.57</td>\n",
       "      <td>0.7</td>\n",
       "      <td>15.34</td>\n",
       "      <td>NaN</td>\n",
       "      <td>NaN</td>\n",
       "      <td>NaN</td>\n",
       "      <td>NaN</td>\n",
       "      <td>NaN</td>\n",
       "      <td>NaN</td>\n",
       "      <td>NaN</td>\n",
       "    </tr>\n",
       "    <tr>\n",
       "      <th>7243</th>\n",
       "      <td>7244</td>\n",
       "      <td>TJU1st2091</td>\n",
       "      <td>12/22/2019 17:00</td>\n",
       "      <td>Tongji University</td>\n",
       "      <td>Winter Season</td>\n",
       "      <td>Shanghai City</td>\n",
       "      <td>Hot summer and cold winter zone</td>\n",
       "      <td>Office</td>\n",
       "      <td>Laboratory</td>\n",
       "      <td>1</td>\n",
       "      <td>Radiant floor heating</td>\n",
       "      <td>4.2x3.6</td>\n",
       "      <td>NaN</td>\n",
       "      <td>Female</td>\n",
       "      <td>22</td>\n",
       "      <td>161</td>\n",
       "      <td>58</td>\n",
       "      <td>3</td>\n",
       "      <td>0.4</td>\n",
       "      <td>1.6</td>\n",
       "      <td>0.1</td>\n",
       "      <td>0.6</td>\n",
       "      <td>1.1</td>\n",
       "      <td>0.1</td>\n",
       "      <td>29.7</td>\n",
       "      <td>60</td>\n",
       "      <td>0.01</td>\n",
       "      <td>25.3</td>\n",
       "      <td>0.6</td>\n",
       "      <td>27.5</td>\n",
       "      <td>60</td>\n",
       "      <td>0.1</td>\n",
       "      <td>25.3</td>\n",
       "      <td>1.1</td>\n",
       "      <td>25.3</td>\n",
       "      <td>60</td>\n",
       "      <td>0.1</td>\n",
       "      <td>25.3</td>\n",
       "      <td>17.8</td>\n",
       "      <td>17.8</td>\n",
       "      <td>40</td>\n",
       "      <td>26.6</td>\n",
       "      <td>25.6</td>\n",
       "      <td>20.57</td>\n",
       "      <td>0.7</td>\n",
       "      <td>15.34</td>\n",
       "      <td>NaN</td>\n",
       "      <td>NaN</td>\n",
       "      <td>NaN</td>\n",
       "      <td>NaN</td>\n",
       "      <td>NaN</td>\n",
       "      <td>NaN</td>\n",
       "      <td>NaN</td>\n",
       "    </tr>\n",
       "    <tr>\n",
       "      <th>7244</th>\n",
       "      <td>7245</td>\n",
       "      <td>TJU1st2092</td>\n",
       "      <td>12/23/2019 17:00</td>\n",
       "      <td>Tongji University</td>\n",
       "      <td>Winter Season</td>\n",
       "      <td>Shanghai City</td>\n",
       "      <td>Hot summer and cold winter zone</td>\n",
       "      <td>Office</td>\n",
       "      <td>Laboratory</td>\n",
       "      <td>1</td>\n",
       "      <td>Radiant floor heating</td>\n",
       "      <td>4.2x3.6</td>\n",
       "      <td>NaN</td>\n",
       "      <td>Female</td>\n",
       "      <td>22</td>\n",
       "      <td>161</td>\n",
       "      <td>58</td>\n",
       "      <td>3</td>\n",
       "      <td>0.4</td>\n",
       "      <td>1.6</td>\n",
       "      <td>0.1</td>\n",
       "      <td>0.6</td>\n",
       "      <td>1.1</td>\n",
       "      <td>0.1</td>\n",
       "      <td>29.7</td>\n",
       "      <td>60</td>\n",
       "      <td>0.01</td>\n",
       "      <td>25.3</td>\n",
       "      <td>0.6</td>\n",
       "      <td>27.5</td>\n",
       "      <td>60</td>\n",
       "      <td>0.1</td>\n",
       "      <td>25.3</td>\n",
       "      <td>1.1</td>\n",
       "      <td>25.3</td>\n",
       "      <td>60</td>\n",
       "      <td>0.1</td>\n",
       "      <td>25.3</td>\n",
       "      <td>17.8</td>\n",
       "      <td>17.8</td>\n",
       "      <td>40</td>\n",
       "      <td>26.6</td>\n",
       "      <td>25.6</td>\n",
       "      <td>20.57</td>\n",
       "      <td>0.7</td>\n",
       "      <td>15.31</td>\n",
       "      <td>NaN</td>\n",
       "      <td>NaN</td>\n",
       "      <td>NaN</td>\n",
       "      <td>NaN</td>\n",
       "      <td>NaN</td>\n",
       "      <td>NaN</td>\n",
       "      <td>NaN</td>\n",
       "    </tr>\n",
       "    <tr>\n",
       "      <th>7245</th>\n",
       "      <td>7246</td>\n",
       "      <td>TJU1st2093</td>\n",
       "      <td>12/24/2019 17:00</td>\n",
       "      <td>Tongji University</td>\n",
       "      <td>Winter Season</td>\n",
       "      <td>Shanghai City</td>\n",
       "      <td>Hot summer and cold winter zone</td>\n",
       "      <td>Office</td>\n",
       "      <td>Laboratory</td>\n",
       "      <td>1</td>\n",
       "      <td>Radiant floor heating</td>\n",
       "      <td>4.2x3.6</td>\n",
       "      <td>NaN</td>\n",
       "      <td>Female</td>\n",
       "      <td>22</td>\n",
       "      <td>161</td>\n",
       "      <td>58</td>\n",
       "      <td>3</td>\n",
       "      <td>0.4</td>\n",
       "      <td>1.6</td>\n",
       "      <td>0.1</td>\n",
       "      <td>0.6</td>\n",
       "      <td>1.1</td>\n",
       "      <td>0.1</td>\n",
       "      <td>29.7</td>\n",
       "      <td>60</td>\n",
       "      <td>0.01</td>\n",
       "      <td>25.3</td>\n",
       "      <td>0.6</td>\n",
       "      <td>27.5</td>\n",
       "      <td>60</td>\n",
       "      <td>0.1</td>\n",
       "      <td>25.3</td>\n",
       "      <td>1.1</td>\n",
       "      <td>25.3</td>\n",
       "      <td>60</td>\n",
       "      <td>0.1</td>\n",
       "      <td>25.3</td>\n",
       "      <td>17.8</td>\n",
       "      <td>17.8</td>\n",
       "      <td>40</td>\n",
       "      <td>26.6</td>\n",
       "      <td>25.6</td>\n",
       "      <td>20.57</td>\n",
       "      <td>0.7</td>\n",
       "      <td>15.31</td>\n",
       "      <td>NaN</td>\n",
       "      <td>NaN</td>\n",
       "      <td>NaN</td>\n",
       "      <td>NaN</td>\n",
       "      <td>NaN</td>\n",
       "      <td>NaN</td>\n",
       "      <td>NaN</td>\n",
       "    </tr>\n",
       "  </tbody>\n",
       "</table>\n",
       "<p>7246 rows × 53 columns</p>\n",
       "</div>"
      ],
      "text/plain": [
       "        ID      A1.Code           A2.Date              A3.Data Contributor  \\\n",
       "0        1  DLUT1st0172   1/30/2019 10:35  Dalian University of Technology   \n",
       "1        2  DLUT1st0173   1/30/2019 10:42  Dalian University of Technology   \n",
       "2        3  DLUT1st0174   1/30/2019 10:45  Dalian University of Technology   \n",
       "3        4  DLUT1st0175   1/30/2019 10:47  Dalian University of Technology   \n",
       "4        5  DLUT1st0176   1/31/2019 20:20  Dalian University of Technology   \n",
       "...    ...          ...               ...                              ...   \n",
       "7241  7242   TJU1st2089  12/20/2019 17:00                Tongji University   \n",
       "7242  7243   TJU1st2090  12/21/2019 17:00                Tongji University   \n",
       "7243  7244   TJU1st2091  12/22/2019 17:00                Tongji University   \n",
       "7244  7245   TJU1st2092  12/23/2019 17:00                Tongji University   \n",
       "7245  7246   TJU1st2093  12/24/2019 17:00                Tongji University   \n",
       "\n",
       "          A4.Season                     A5.City  \\\n",
       "0     Winter Season  Hebei Province,Handan City   \n",
       "1     Winter Season  Hebei Province,Handan City   \n",
       "2     Winter Season  Hebei Province,Handan City   \n",
       "3     Winter Season  Hebei Province,Handan City   \n",
       "4     Winter Season  Hebei Province,Handan City   \n",
       "...             ...                         ...   \n",
       "7241  Winter Season               Shanghai City   \n",
       "7242  Winter Season               Shanghai City   \n",
       "7243  Winter Season               Shanghai City   \n",
       "7244  Winter Season               Shanghai City   \n",
       "7245  Winter Season               Shanghai City   \n",
       "\n",
       "                      A6.Climate Zone B1.Building Type B2.Building Function  \\\n",
       "0                           Cold zone      Residential              Bedroom   \n",
       "1                           Cold zone      Residential              Bedroom   \n",
       "2                           Cold zone      Residential              Bedroom   \n",
       "3                           Cold zone      Residential              Bedroom   \n",
       "4                           Cold zone      Residential              Bedroom   \n",
       "...                               ...              ...                  ...   \n",
       "7241  Hot summer and cold winter zone           Office           Laboratory   \n",
       "7242  Hot summer and cold winter zone           Office           Laboratory   \n",
       "7243  Hot summer and cold winter zone           Office           Laboratory   \n",
       "7244  Hot summer and cold winter zone           Office           Laboratory   \n",
       "7245  Hot summer and cold winter zone           Office           Laboratory   \n",
       "\n",
       "     B3.Floors B4.Building Operation Mode B5.Room (LengthxWidth)  \\\n",
       "0            1           Radiator heating                6.1x3.4   \n",
       "1            1           Radiator heating                6.1x3.4   \n",
       "2            1           Radiator heating                6.1x3.4   \n",
       "3            1           Radiator heating                6.1x3.4   \n",
       "4            1           Radiator heating                6.1x3.4   \n",
       "...        ...                        ...                    ...   \n",
       "7241         1      Radiant floor heating                4.2x3.6   \n",
       "7242         1      Radiant floor heating                4.2x3.6   \n",
       "7243         1      Radiant floor heating                4.2x3.6   \n",
       "7244         1      Radiant floor heating                4.2x3.6   \n",
       "7245         1      Radiant floor heating                4.2x3.6   \n",
       "\n",
       "     B5.Room Height (m)  C1.Sex C2.Age C3.Heightxcmx C4.Weightxkgx  \\\n",
       "0                   3.9  Female  18-30           170            62   \n",
       "1                   3.9  Female  41-50           168            80   \n",
       "2                   3.9    Male  41-50           170            82   \n",
       "3                   3.9    Male  18-30           178            65   \n",
       "4                   3.9    Male  18-30           174            80   \n",
       "...                 ...     ...    ...           ...           ...   \n",
       "7241                NaN  Female     22           161            58   \n",
       "7242                NaN  Female     22           161            58   \n",
       "7243                NaN  Female     22           161            58   \n",
       "7244                NaN  Female     22           161            58   \n",
       "7245                NaN  Female     22           161            58   \n",
       "\n",
       "     C5.Living Years D1.TSV D2.TCV D3.TAV D5.Clothing Insulation (clo)  \\\n",
       "0                 25     -1      1    0.1                          1.1   \n",
       "1                 30     -1      1      1                         1.83   \n",
       "2                 49      0      1      1                         1.36   \n",
       "3                 19      0      1      1                         1.58   \n",
       "4                 44      0      1      1                         1.38   \n",
       "...              ...    ...    ...    ...                          ...   \n",
       "7241               3    0.4    1.6    0.1                          0.6   \n",
       "7242               3    0.4    1.6    0.1                          0.6   \n",
       "7243               3    0.4    1.6    0.1                          0.6   \n",
       "7244               3    0.4    1.6    0.1                          0.6   \n",
       "7245               3    0.4    1.6    0.1                          0.6   \n",
       "\n",
       "     D6.Metabolic Rate (met) Measured Height (m)  \\\n",
       "0                          1                 0.1   \n",
       "1                        0.9                 0.1   \n",
       "2                        0.9                 0.1   \n",
       "3                        0.9                 0.1   \n",
       "4                        0.9                 0.1   \n",
       "...                      ...                 ...   \n",
       "7241                     1.1                 0.1   \n",
       "7242                     1.1                 0.1   \n",
       "7243                     1.1                 0.1   \n",
       "7244                     1.1                 0.1   \n",
       "7245                     1.1                 0.1   \n",
       "\n",
       "     E1.Indoor Air Temperature (x) E2.Indoor Relative Humidity (%)  \\\n",
       "0                             18.6                              32   \n",
       "1                             18.6                              32   \n",
       "2                             18.6                              32   \n",
       "3                             18.6                              32   \n",
       "4                             19.5                              33   \n",
       "...                            ...                             ...   \n",
       "7241                          29.7                              60   \n",
       "7242                          29.7                              60   \n",
       "7243                          29.7                              60   \n",
       "7244                          29.7                              60   \n",
       "7245                          29.7                              60   \n",
       "\n",
       "     E3.Indoor Air Velocity (m/s) E4.Globe Temperature (x)  \\\n",
       "0                               0                     20.9   \n",
       "1                               0                     20.9   \n",
       "2                               0                     20.9   \n",
       "3                               0                     20.9   \n",
       "4                               0                     19.8   \n",
       "...                           ...                      ...   \n",
       "7241                         0.01                     25.3   \n",
       "7242                         0.01                     25.3   \n",
       "7243                         0.01                     25.3   \n",
       "7244                         0.01                     25.3   \n",
       "7245                         0.01                     25.3   \n",
       "\n",
       "     Measured Height (m) E1.Indoor Air Temperature (x)  \\\n",
       "0                    0.6                          21.4   \n",
       "1                    0.6                          21.4   \n",
       "2                    0.6                          21.4   \n",
       "3                    0.6                          21.4   \n",
       "4                    0.6                          20.1   \n",
       "...                  ...                           ...   \n",
       "7241                 0.6                          27.5   \n",
       "7242                 0.6                          27.5   \n",
       "7243                 0.6                          27.5   \n",
       "7244                 0.6                          27.5   \n",
       "7245                 0.6                          27.5   \n",
       "\n",
       "     E2.Indoor Relative Humidity (%) E3.Indoor Air Velocity (m/s)  \\\n",
       "0                                 32                            0   \n",
       "1                                 32                            0   \n",
       "2                                 32                            0   \n",
       "3                                 32                            0   \n",
       "4                                 33                            0   \n",
       "...                              ...                          ...   \n",
       "7241                              60                          0.1   \n",
       "7242                              60                          0.1   \n",
       "7243                              60                          0.1   \n",
       "7244                              60                          0.1   \n",
       "7245                              60                          0.1   \n",
       "\n",
       "     E4.Globe Temperature (x) Measured Height (m)  \\\n",
       "0                        20.9                 1.1   \n",
       "1                        20.9                 1.1   \n",
       "2                        20.9                 1.1   \n",
       "3                        20.9                 1.1   \n",
       "4                        19.8                 1.1   \n",
       "...                       ...                 ...   \n",
       "7241                     25.3                 1.1   \n",
       "7242                     25.3                 1.1   \n",
       "7243                     25.3                 1.1   \n",
       "7244                     25.3                 1.1   \n",
       "7245                     25.3                 1.1   \n",
       "\n",
       "     E1.Indoor Air Temperature (x) E2.Indoor Relative Humidity (%)  \\\n",
       "0                             21.5                              32   \n",
       "1                             21.5                              32   \n",
       "2                             21.5                              32   \n",
       "3                             21.5                              32   \n",
       "4                             20.9                              33   \n",
       "...                            ...                             ...   \n",
       "7241                          25.3                              60   \n",
       "7242                          25.3                              60   \n",
       "7243                          25.3                              60   \n",
       "7244                          25.3                              60   \n",
       "7245                          25.3                              60   \n",
       "\n",
       "     E3.Indoor Air Velocity (m/s) E4.Globe Temperature (x)  \\\n",
       "0                               0                     20.9   \n",
       "1                               0                     20.9   \n",
       "2                               0                     20.9   \n",
       "3                               0                     20.9   \n",
       "4                               0                     19.8   \n",
       "...                           ...                      ...   \n",
       "7241                          0.1                     25.3   \n",
       "7242                          0.1                     25.3   \n",
       "7243                          0.1                     25.3   \n",
       "7244                          0.1                     25.3   \n",
       "7245                          0.1                     25.3   \n",
       "\n",
       "     E5.Roof Temperature (x) E5.Wall Temperature (x) E5.Floor Temperature (x)  \\\n",
       "0                        NaN                     NaN                      NaN   \n",
       "1                        NaN                     NaN                      NaN   \n",
       "2                        NaN                     NaN                      NaN   \n",
       "3                        NaN                     NaN                      NaN   \n",
       "4                        NaN                     NaN                      NaN   \n",
       "...                      ...                     ...                      ...   \n",
       "7241                    17.8                    17.8                       40   \n",
       "7242                    17.8                    17.8                       40   \n",
       "7243                    17.8                    17.8                       40   \n",
       "7244                    17.8                    17.8                       40   \n",
       "7245                    17.8                    17.8                       40   \n",
       "\n",
       "     F1.Operative Temperature (x) F2.Mean Radiant Temperature (x)  \\\n",
       "0                            20.8                            20.9   \n",
       "1                            20.8                            20.9   \n",
       "2                            20.8                            20.9   \n",
       "3                            20.8                            20.9   \n",
       "4                              20                            19.8   \n",
       "...                           ...                             ...   \n",
       "7241                         26.6                            25.6   \n",
       "7242                         26.6                            25.6   \n",
       "7243                         26.6                            25.6   \n",
       "7244                         26.6                            25.6   \n",
       "7245                         26.6                            25.6   \n",
       "\n",
       "     F3.Radiant Temperature Asymmetry (x) F4.PMV F5.PPD  \\\n",
       "0                                    0.74  -0.58  12.01   \n",
       "1                                    0.74   -0.1   5.19   \n",
       "2                                    0.74  -0.66  14.14   \n",
       "3                                    0.74  -0.36   7.78   \n",
       "4                                    1.12  -0.82  19.45   \n",
       "...                                   ...    ...    ...   \n",
       "7241                                20.57    0.7  15.34   \n",
       "7242                                20.57    0.7  15.34   \n",
       "7243                                20.57    0.7  15.34   \n",
       "7244                                20.57    0.7  15.31   \n",
       "7245                                20.57    0.7  15.31   \n",
       "\n",
       "     G1.Real-Time Outdoor Temperature (x)  \\\n",
       "0                                     NaN   \n",
       "1                                     NaN   \n",
       "2                                     NaN   \n",
       "3                                     NaN   \n",
       "4                                     NaN   \n",
       "...                                   ...   \n",
       "7241                                  NaN   \n",
       "7242                                  NaN   \n",
       "7243                                  NaN   \n",
       "7244                                  NaN   \n",
       "7245                                  NaN   \n",
       "\n",
       "     G2.Mean Daily Outdoor Temperature (x)  \\\n",
       "0                                     -2.9   \n",
       "1                                     -2.9   \n",
       "2                                     -2.9   \n",
       "3                                     -2.9   \n",
       "4                                      0.6   \n",
       "...                                    ...   \n",
       "7241                                   NaN   \n",
       "7242                                   NaN   \n",
       "7243                                   NaN   \n",
       "7244                                   NaN   \n",
       "7245                                   NaN   \n",
       "\n",
       "     G3.Monthly Mean Outdoor Temperature (x)  \\\n",
       "0                                        0.4   \n",
       "1                                        0.4   \n",
       "2                                        0.4   \n",
       "3                                        0.4   \n",
       "4                                        0.4   \n",
       "...                                      ...   \n",
       "7241                                     NaN   \n",
       "7242                                     NaN   \n",
       "7243                                     NaN   \n",
       "7244                                     NaN   \n",
       "7245                                     NaN   \n",
       "\n",
       "     G4.7-Day Running Mean Outdoor Temperature (x)  \\\n",
       "0                                              1.2   \n",
       "1                                              1.2   \n",
       "2                                              1.2   \n",
       "3                                              1.2   \n",
       "4                                              0.5   \n",
       "...                                            ...   \n",
       "7241                                           NaN   \n",
       "7242                                           NaN   \n",
       "7243                                           NaN   \n",
       "7244                                           NaN   \n",
       "7245                                           NaN   \n",
       "\n",
       "     G4.15-Day Running Mean Outdoor Temperature (x)  \\\n",
       "0                                                 1   \n",
       "1                                                 1   \n",
       "2                                                 1   \n",
       "3                                                 1   \n",
       "4                                               0.2   \n",
       "...                                             ...   \n",
       "7241                                            NaN   \n",
       "7242                                            NaN   \n",
       "7243                                            NaN   \n",
       "7244                                            NaN   \n",
       "7245                                            NaN   \n",
       "\n",
       "     G5.Mean Daily Outdoor Relative Humidity (%)  \\\n",
       "0                                            NaN   \n",
       "1                                            NaN   \n",
       "2                                            NaN   \n",
       "3                                            NaN   \n",
       "4                                            NaN   \n",
       "...                                          ...   \n",
       "7241                                         NaN   \n",
       "7242                                         NaN   \n",
       "7243                                         NaN   \n",
       "7244                                         NaN   \n",
       "7245                                         NaN   \n",
       "\n",
       "     G6.Mean Daily Outdoor Air Velocity (m/s)  \n",
       "0                                         NaN  \n",
       "1                                         NaN  \n",
       "2                                         NaN  \n",
       "3                                         NaN  \n",
       "4                                         NaN  \n",
       "...                                       ...  \n",
       "7241                                      NaN  \n",
       "7242                                      NaN  \n",
       "7243                                      NaN  \n",
       "7244                                      NaN  \n",
       "7245                                      NaN  \n",
       "\n",
       "[7246 rows x 53 columns]"
      ]
     },
     "execution_count": 124,
     "metadata": {},
     "output_type": "execute_result"
    }
   ],
   "source": [
    "chinese_dataset_1 = pd.read_csv(\"Dataset\\The_Chinese_thermal_comfort_dataset\\Chinese Thermal Comfort Dataset Class I.csv\", encoding=\"ISO-8859-1\")\n",
    "chinese_dataset_1 = chinese_dataset_1.rename(columns=chinese_dataset_1.iloc[0]).iloc[1:].reset_index(drop=True)\n",
    "\n",
    "chinese_dataset_1"
   ]
  },
  {
   "cell_type": "code",
   "execution_count": 133,
   "metadata": {},
   "outputs": [
    {
     "name": "stderr",
     "output_type": "stream",
     "text": [
      "C:\\Users\\hoang\\AppData\\Local\\Temp\\ipykernel_36664\\527944983.py:1: DtypeWarning:\n",
      "\n",
      "Columns (0,9,12,15,16,17,18,19,20,21,22,23,24,25,26,27,28,29,30,31,32,33,34,35,36,37,38,39,40,41,42,43,44,45,46,47,48,49,50,51,52) have mixed types. Specify dtype option on import or set low_memory=False.\n",
      "\n"
     ]
    }
   ],
   "source": [
    "chinese_dataset_2 = pd.read_csv(\"Dataset\\The_Chinese_thermal_comfort_dataset\\Chinese Thermal Comfort Dataset Class II.csv\", encoding=\"ISO-8859-1\")\n",
    "chinese_dataset_2 = chinese_dataset_2.rename(columns=chinese_dataset_2.iloc[0]).iloc[1:].reset_index(drop=True)\n",
    "\n",
    "chinese_dataset_3 = pd.read_csv(\"Dataset\\The_Chinese_thermal_comfort_dataset\\Chinese Thermal Comfort Dataset Class III.csv\", encoding=\"ISO-8859-1\")\n",
    "chinese_dataset_3 = chinese_dataset_3.rename(columns=chinese_dataset_3.iloc[0]).iloc[1:].reset_index(drop=True)\n"
   ]
  },
  {
   "cell_type": "code",
   "execution_count": 136,
   "metadata": {},
   "outputs": [
    {
     "name": "stdout",
     "output_type": "stream",
     "text": [
      "[]\n",
      "[]\n",
      "[]\n",
      "[]\n",
      "[]\n",
      "[]\n"
     ]
    }
   ],
   "source": [
    "print(np.setdiff1d(chinese_dataset_1.columns.to_numpy(), chinese_dataset_2.columns.to_numpy()))\n",
    "print(np.setdiff1d(chinese_dataset_2.columns.to_numpy(), chinese_dataset_1.columns.to_numpy()))\n",
    "\n",
    "print(np.setdiff1d(chinese_dataset_1.columns.to_numpy(), chinese_dataset_3.columns.to_numpy()))\n",
    "print(np.setdiff1d(chinese_dataset_3.columns.to_numpy(), chinese_dataset_1.columns.to_numpy()))\n",
    "\n",
    "print(np.setdiff1d(chinese_dataset_3.columns.to_numpy(), chinese_dataset_2.columns.to_numpy()))\n",
    "print(np.setdiff1d(chinese_dataset_2.columns.to_numpy(), chinese_dataset_3.columns.to_numpy()))\n"
   ]
  },
  {
   "cell_type": "code",
   "execution_count": 137,
   "metadata": {},
   "outputs": [
    {
     "data": {
      "text/html": [
       "<div>\n",
       "<style scoped>\n",
       "    .dataframe tbody tr th:only-of-type {\n",
       "        vertical-align: middle;\n",
       "    }\n",
       "\n",
       "    .dataframe tbody tr th {\n",
       "        vertical-align: top;\n",
       "    }\n",
       "\n",
       "    .dataframe thead th {\n",
       "        text-align: right;\n",
       "    }\n",
       "</style>\n",
       "<table border=\"1\" class=\"dataframe\">\n",
       "  <thead>\n",
       "    <tr style=\"text-align: right;\">\n",
       "      <th></th>\n",
       "      <th>ID</th>\n",
       "      <th>A1.Code</th>\n",
       "      <th>A2.Date</th>\n",
       "      <th>A3.Data Contributor</th>\n",
       "      <th>A4.Season</th>\n",
       "      <th>A5.City</th>\n",
       "      <th>A6.Climate Zone</th>\n",
       "      <th>B1.Building Type</th>\n",
       "      <th>B2.Building Function</th>\n",
       "      <th>B3.Floors</th>\n",
       "      <th>B4.Building Operation Mode</th>\n",
       "      <th>B5.Room (LengthxWidth)</th>\n",
       "      <th>B5.Room Height (m)</th>\n",
       "      <th>C1.Sex</th>\n",
       "      <th>C2.Age</th>\n",
       "      <th>C3.Heightxcmx</th>\n",
       "      <th>C4.Weightxkgx</th>\n",
       "      <th>C5.Living Years</th>\n",
       "      <th>D1.TSV</th>\n",
       "      <th>D2.TCV</th>\n",
       "      <th>D3.TAV</th>\n",
       "      <th>D5.Clothing Insulation (clo)</th>\n",
       "      <th>D6.Metabolic Rate (met)</th>\n",
       "      <th>Measured Height (m)</th>\n",
       "      <th>E1.Indoor Air Temperature (x)</th>\n",
       "      <th>E2.Indoor Relative Humidity (%)</th>\n",
       "      <th>E3.Indoor Air Velocity (m/s)</th>\n",
       "      <th>E4.Globe Temperature (x)</th>\n",
       "      <th>Measured Height (m)</th>\n",
       "      <th>E1.Indoor Air Temperature (x)</th>\n",
       "      <th>E2.Indoor Relative Humidity (%)</th>\n",
       "      <th>E3.Indoor Air Velocity (m/s)</th>\n",
       "      <th>E4.Globe Temperature (x)</th>\n",
       "      <th>Measured Height (m)</th>\n",
       "      <th>E1.Indoor Air Temperature (x)</th>\n",
       "      <th>E2.Indoor Relative Humidity (%)</th>\n",
       "      <th>E3.Indoor Air Velocity (m/s)</th>\n",
       "      <th>E4.Globe Temperature (x)</th>\n",
       "      <th>E5.Roof Temperature (x)</th>\n",
       "      <th>E5.Wall Temperature (x)</th>\n",
       "      <th>E5.Floor Temperature (x)</th>\n",
       "      <th>F1.Operative Temperature (x)</th>\n",
       "      <th>F2.Mean Radiant Temperature (x)</th>\n",
       "      <th>F3.Radiant Temperature Asymmetry (x)</th>\n",
       "      <th>F4.PMV</th>\n",
       "      <th>F5.PPD</th>\n",
       "      <th>G1.Real-Time Outdoor Temperature (x)</th>\n",
       "      <th>G2.Mean Daily Outdoor Temperature (x)</th>\n",
       "      <th>G3.Monthly Mean Outdoor Temperature (x)</th>\n",
       "      <th>G4.7-Day Running Mean Outdoor Temperature (x)</th>\n",
       "      <th>G4.15-Day Running Mean Outdoor Temperature (x)</th>\n",
       "      <th>G5.Mean Daily Outdoor Relative Humidity (%)</th>\n",
       "      <th>G6.Mean Daily Outdoor Air Velocity (m/s)</th>\n",
       "    </tr>\n",
       "  </thead>\n",
       "  <tbody>\n",
       "    <tr>\n",
       "      <th>0</th>\n",
       "      <td>1</td>\n",
       "      <td>DLUT1st0172</td>\n",
       "      <td>1/30/2019 10:35</td>\n",
       "      <td>Dalian University of Technology</td>\n",
       "      <td>Winter Season</td>\n",
       "      <td>Hebei Province,Handan City</td>\n",
       "      <td>Cold zone</td>\n",
       "      <td>Residential</td>\n",
       "      <td>Bedroom</td>\n",
       "      <td>1</td>\n",
       "      <td>Radiator heating</td>\n",
       "      <td>6.1x3.4</td>\n",
       "      <td>3.9</td>\n",
       "      <td>Female</td>\n",
       "      <td>18-30</td>\n",
       "      <td>170</td>\n",
       "      <td>62</td>\n",
       "      <td>25</td>\n",
       "      <td>-1</td>\n",
       "      <td>1</td>\n",
       "      <td>0.1</td>\n",
       "      <td>1.1</td>\n",
       "      <td>1</td>\n",
       "      <td>0.1</td>\n",
       "      <td>18.6</td>\n",
       "      <td>32</td>\n",
       "      <td>0</td>\n",
       "      <td>20.9</td>\n",
       "      <td>0.6</td>\n",
       "      <td>21.4</td>\n",
       "      <td>32</td>\n",
       "      <td>0</td>\n",
       "      <td>20.9</td>\n",
       "      <td>1.1</td>\n",
       "      <td>21.5</td>\n",
       "      <td>32</td>\n",
       "      <td>0</td>\n",
       "      <td>20.9</td>\n",
       "      <td>NaN</td>\n",
       "      <td>NaN</td>\n",
       "      <td>NaN</td>\n",
       "      <td>20.8</td>\n",
       "      <td>20.9</td>\n",
       "      <td>0.74</td>\n",
       "      <td>-0.58</td>\n",
       "      <td>12.01</td>\n",
       "      <td>NaN</td>\n",
       "      <td>-2.9</td>\n",
       "      <td>0.4</td>\n",
       "      <td>1.2</td>\n",
       "      <td>1</td>\n",
       "      <td>NaN</td>\n",
       "      <td>NaN</td>\n",
       "    </tr>\n",
       "    <tr>\n",
       "      <th>1</th>\n",
       "      <td>2</td>\n",
       "      <td>DLUT1st0173</td>\n",
       "      <td>1/30/2019 10:42</td>\n",
       "      <td>Dalian University of Technology</td>\n",
       "      <td>Winter Season</td>\n",
       "      <td>Hebei Province,Handan City</td>\n",
       "      <td>Cold zone</td>\n",
       "      <td>Residential</td>\n",
       "      <td>Bedroom</td>\n",
       "      <td>1</td>\n",
       "      <td>Radiator heating</td>\n",
       "      <td>6.1x3.4</td>\n",
       "      <td>3.9</td>\n",
       "      <td>Female</td>\n",
       "      <td>41-50</td>\n",
       "      <td>168</td>\n",
       "      <td>80</td>\n",
       "      <td>30</td>\n",
       "      <td>-1</td>\n",
       "      <td>1</td>\n",
       "      <td>1</td>\n",
       "      <td>1.83</td>\n",
       "      <td>0.9</td>\n",
       "      <td>0.1</td>\n",
       "      <td>18.6</td>\n",
       "      <td>32</td>\n",
       "      <td>0</td>\n",
       "      <td>20.9</td>\n",
       "      <td>0.6</td>\n",
       "      <td>21.4</td>\n",
       "      <td>32</td>\n",
       "      <td>0</td>\n",
       "      <td>20.9</td>\n",
       "      <td>1.1</td>\n",
       "      <td>21.5</td>\n",
       "      <td>32</td>\n",
       "      <td>0</td>\n",
       "      <td>20.9</td>\n",
       "      <td>NaN</td>\n",
       "      <td>NaN</td>\n",
       "      <td>NaN</td>\n",
       "      <td>20.8</td>\n",
       "      <td>20.9</td>\n",
       "      <td>0.74</td>\n",
       "      <td>-0.1</td>\n",
       "      <td>5.19</td>\n",
       "      <td>NaN</td>\n",
       "      <td>-2.9</td>\n",
       "      <td>0.4</td>\n",
       "      <td>1.2</td>\n",
       "      <td>1</td>\n",
       "      <td>NaN</td>\n",
       "      <td>NaN</td>\n",
       "    </tr>\n",
       "    <tr>\n",
       "      <th>2</th>\n",
       "      <td>3</td>\n",
       "      <td>DLUT1st0174</td>\n",
       "      <td>1/30/2019 10:45</td>\n",
       "      <td>Dalian University of Technology</td>\n",
       "      <td>Winter Season</td>\n",
       "      <td>Hebei Province,Handan City</td>\n",
       "      <td>Cold zone</td>\n",
       "      <td>Residential</td>\n",
       "      <td>Bedroom</td>\n",
       "      <td>1</td>\n",
       "      <td>Radiator heating</td>\n",
       "      <td>6.1x3.4</td>\n",
       "      <td>3.9</td>\n",
       "      <td>Male</td>\n",
       "      <td>41-50</td>\n",
       "      <td>170</td>\n",
       "      <td>82</td>\n",
       "      <td>49</td>\n",
       "      <td>0</td>\n",
       "      <td>1</td>\n",
       "      <td>1</td>\n",
       "      <td>1.36</td>\n",
       "      <td>0.9</td>\n",
       "      <td>0.1</td>\n",
       "      <td>18.6</td>\n",
       "      <td>32</td>\n",
       "      <td>0</td>\n",
       "      <td>20.9</td>\n",
       "      <td>0.6</td>\n",
       "      <td>21.4</td>\n",
       "      <td>32</td>\n",
       "      <td>0</td>\n",
       "      <td>20.9</td>\n",
       "      <td>1.1</td>\n",
       "      <td>21.5</td>\n",
       "      <td>32</td>\n",
       "      <td>0</td>\n",
       "      <td>20.9</td>\n",
       "      <td>NaN</td>\n",
       "      <td>NaN</td>\n",
       "      <td>NaN</td>\n",
       "      <td>20.8</td>\n",
       "      <td>20.9</td>\n",
       "      <td>0.74</td>\n",
       "      <td>-0.66</td>\n",
       "      <td>14.14</td>\n",
       "      <td>NaN</td>\n",
       "      <td>-2.9</td>\n",
       "      <td>0.4</td>\n",
       "      <td>1.2</td>\n",
       "      <td>1</td>\n",
       "      <td>NaN</td>\n",
       "      <td>NaN</td>\n",
       "    </tr>\n",
       "    <tr>\n",
       "      <th>3</th>\n",
       "      <td>4</td>\n",
       "      <td>DLUT1st0175</td>\n",
       "      <td>1/30/2019 10:47</td>\n",
       "      <td>Dalian University of Technology</td>\n",
       "      <td>Winter Season</td>\n",
       "      <td>Hebei Province,Handan City</td>\n",
       "      <td>Cold zone</td>\n",
       "      <td>Residential</td>\n",
       "      <td>Bedroom</td>\n",
       "      <td>1</td>\n",
       "      <td>Radiator heating</td>\n",
       "      <td>6.1x3.4</td>\n",
       "      <td>3.9</td>\n",
       "      <td>Male</td>\n",
       "      <td>18-30</td>\n",
       "      <td>178</td>\n",
       "      <td>65</td>\n",
       "      <td>19</td>\n",
       "      <td>0</td>\n",
       "      <td>1</td>\n",
       "      <td>1</td>\n",
       "      <td>1.58</td>\n",
       "      <td>0.9</td>\n",
       "      <td>0.1</td>\n",
       "      <td>18.6</td>\n",
       "      <td>32</td>\n",
       "      <td>0</td>\n",
       "      <td>20.9</td>\n",
       "      <td>0.6</td>\n",
       "      <td>21.4</td>\n",
       "      <td>32</td>\n",
       "      <td>0</td>\n",
       "      <td>20.9</td>\n",
       "      <td>1.1</td>\n",
       "      <td>21.5</td>\n",
       "      <td>32</td>\n",
       "      <td>0</td>\n",
       "      <td>20.9</td>\n",
       "      <td>NaN</td>\n",
       "      <td>NaN</td>\n",
       "      <td>NaN</td>\n",
       "      <td>20.8</td>\n",
       "      <td>20.9</td>\n",
       "      <td>0.74</td>\n",
       "      <td>-0.36</td>\n",
       "      <td>7.78</td>\n",
       "      <td>NaN</td>\n",
       "      <td>-2.9</td>\n",
       "      <td>0.4</td>\n",
       "      <td>1.2</td>\n",
       "      <td>1</td>\n",
       "      <td>NaN</td>\n",
       "      <td>NaN</td>\n",
       "    </tr>\n",
       "    <tr>\n",
       "      <th>4</th>\n",
       "      <td>5</td>\n",
       "      <td>DLUT1st0176</td>\n",
       "      <td>1/31/2019 20:20</td>\n",
       "      <td>Dalian University of Technology</td>\n",
       "      <td>Winter Season</td>\n",
       "      <td>Hebei Province,Handan City</td>\n",
       "      <td>Cold zone</td>\n",
       "      <td>Residential</td>\n",
       "      <td>Bedroom</td>\n",
       "      <td>1</td>\n",
       "      <td>Radiator heating</td>\n",
       "      <td>6.1x3.4</td>\n",
       "      <td>3.9</td>\n",
       "      <td>Male</td>\n",
       "      <td>18-30</td>\n",
       "      <td>174</td>\n",
       "      <td>80</td>\n",
       "      <td>44</td>\n",
       "      <td>0</td>\n",
       "      <td>1</td>\n",
       "      <td>1</td>\n",
       "      <td>1.38</td>\n",
       "      <td>0.9</td>\n",
       "      <td>0.1</td>\n",
       "      <td>19.5</td>\n",
       "      <td>33</td>\n",
       "      <td>0</td>\n",
       "      <td>19.8</td>\n",
       "      <td>0.6</td>\n",
       "      <td>20.1</td>\n",
       "      <td>33</td>\n",
       "      <td>0</td>\n",
       "      <td>19.8</td>\n",
       "      <td>1.1</td>\n",
       "      <td>20.9</td>\n",
       "      <td>33</td>\n",
       "      <td>0</td>\n",
       "      <td>19.8</td>\n",
       "      <td>NaN</td>\n",
       "      <td>NaN</td>\n",
       "      <td>NaN</td>\n",
       "      <td>20</td>\n",
       "      <td>19.8</td>\n",
       "      <td>1.12</td>\n",
       "      <td>-0.82</td>\n",
       "      <td>19.45</td>\n",
       "      <td>NaN</td>\n",
       "      <td>0.6</td>\n",
       "      <td>0.4</td>\n",
       "      <td>0.5</td>\n",
       "      <td>0.2</td>\n",
       "      <td>NaN</td>\n",
       "      <td>NaN</td>\n",
       "    </tr>\n",
       "    <tr>\n",
       "      <th>...</th>\n",
       "      <td>...</td>\n",
       "      <td>...</td>\n",
       "      <td>...</td>\n",
       "      <td>...</td>\n",
       "      <td>...</td>\n",
       "      <td>...</td>\n",
       "      <td>...</td>\n",
       "      <td>...</td>\n",
       "      <td>...</td>\n",
       "      <td>...</td>\n",
       "      <td>...</td>\n",
       "      <td>...</td>\n",
       "      <td>...</td>\n",
       "      <td>...</td>\n",
       "      <td>...</td>\n",
       "      <td>...</td>\n",
       "      <td>...</td>\n",
       "      <td>...</td>\n",
       "      <td>...</td>\n",
       "      <td>...</td>\n",
       "      <td>...</td>\n",
       "      <td>...</td>\n",
       "      <td>...</td>\n",
       "      <td>...</td>\n",
       "      <td>...</td>\n",
       "      <td>...</td>\n",
       "      <td>...</td>\n",
       "      <td>...</td>\n",
       "      <td>...</td>\n",
       "      <td>...</td>\n",
       "      <td>...</td>\n",
       "      <td>...</td>\n",
       "      <td>...</td>\n",
       "      <td>...</td>\n",
       "      <td>...</td>\n",
       "      <td>...</td>\n",
       "      <td>...</td>\n",
       "      <td>...</td>\n",
       "      <td>...</td>\n",
       "      <td>...</td>\n",
       "      <td>...</td>\n",
       "      <td>...</td>\n",
       "      <td>...</td>\n",
       "      <td>...</td>\n",
       "      <td>...</td>\n",
       "      <td>...</td>\n",
       "      <td>...</td>\n",
       "      <td>...</td>\n",
       "      <td>...</td>\n",
       "      <td>...</td>\n",
       "      <td>...</td>\n",
       "      <td>...</td>\n",
       "      <td>...</td>\n",
       "    </tr>\n",
       "    <tr>\n",
       "      <th>8542</th>\n",
       "      <td>8543</td>\n",
       "      <td>TJU3rd1375</td>\n",
       "      <td>4/21/2021 11:08</td>\n",
       "      <td>Tongji University</td>\n",
       "      <td>Winter Season</td>\n",
       "      <td>Shanghai City</td>\n",
       "      <td>Hot summer and cold winter zone</td>\n",
       "      <td>Office</td>\n",
       "      <td>Office</td>\n",
       "      <td>NaN</td>\n",
       "      <td>Naturally Ventilated</td>\n",
       "      <td>NaN</td>\n",
       "      <td>NaN</td>\n",
       "      <td>NaN</td>\n",
       "      <td>NaN</td>\n",
       "      <td>NaN</td>\n",
       "      <td>NaN</td>\n",
       "      <td>NaN</td>\n",
       "      <td>1</td>\n",
       "      <td>1</td>\n",
       "      <td>1</td>\n",
       "      <td>0.28</td>\n",
       "      <td>1</td>\n",
       "      <td>0.1</td>\n",
       "      <td>NaN</td>\n",
       "      <td>52</td>\n",
       "      <td>NaN</td>\n",
       "      <td>NaN</td>\n",
       "      <td>0.6</td>\n",
       "      <td>25.3</td>\n",
       "      <td>52</td>\n",
       "      <td>NaN</td>\n",
       "      <td>NaN</td>\n",
       "      <td>1.1</td>\n",
       "      <td>25.3</td>\n",
       "      <td>52</td>\n",
       "      <td>0</td>\n",
       "      <td>25.3</td>\n",
       "      <td>NaN</td>\n",
       "      <td>NaN</td>\n",
       "      <td>NaN</td>\n",
       "      <td>25.3</td>\n",
       "      <td>25.3</td>\n",
       "      <td>NaN</td>\n",
       "      <td>-0.83</td>\n",
       "      <td>19.55</td>\n",
       "      <td>NaN</td>\n",
       "      <td>NaN</td>\n",
       "      <td>NaN</td>\n",
       "      <td>NaN</td>\n",
       "      <td>NaN</td>\n",
       "      <td>NaN</td>\n",
       "      <td>NaN</td>\n",
       "    </tr>\n",
       "    <tr>\n",
       "      <th>8543</th>\n",
       "      <td>8544</td>\n",
       "      <td>TJU3rd1376</td>\n",
       "      <td>4/21/2021 11:11</td>\n",
       "      <td>Tongji University</td>\n",
       "      <td>Winter Season</td>\n",
       "      <td>Shanghai City</td>\n",
       "      <td>Hot summer and cold winter zone</td>\n",
       "      <td>Office</td>\n",
       "      <td>Office</td>\n",
       "      <td>NaN</td>\n",
       "      <td>Convection heating</td>\n",
       "      <td>NaN</td>\n",
       "      <td>NaN</td>\n",
       "      <td>NaN</td>\n",
       "      <td>NaN</td>\n",
       "      <td>NaN</td>\n",
       "      <td>NaN</td>\n",
       "      <td>NaN</td>\n",
       "      <td>1</td>\n",
       "      <td>2</td>\n",
       "      <td>-0.1</td>\n",
       "      <td>0.49</td>\n",
       "      <td>1.3</td>\n",
       "      <td>0.1</td>\n",
       "      <td>NaN</td>\n",
       "      <td>52</td>\n",
       "      <td>NaN</td>\n",
       "      <td>NaN</td>\n",
       "      <td>0.6</td>\n",
       "      <td>25.3</td>\n",
       "      <td>52</td>\n",
       "      <td>NaN</td>\n",
       "      <td>NaN</td>\n",
       "      <td>1.1</td>\n",
       "      <td>25.3</td>\n",
       "      <td>52</td>\n",
       "      <td>0</td>\n",
       "      <td>25.3</td>\n",
       "      <td>NaN</td>\n",
       "      <td>NaN</td>\n",
       "      <td>NaN</td>\n",
       "      <td>25.3</td>\n",
       "      <td>25.3</td>\n",
       "      <td>NaN</td>\n",
       "      <td>0.38</td>\n",
       "      <td>8.06</td>\n",
       "      <td>NaN</td>\n",
       "      <td>NaN</td>\n",
       "      <td>NaN</td>\n",
       "      <td>NaN</td>\n",
       "      <td>NaN</td>\n",
       "      <td>NaN</td>\n",
       "      <td>NaN</td>\n",
       "    </tr>\n",
       "    <tr>\n",
       "      <th>8544</th>\n",
       "      <td>8545</td>\n",
       "      <td>TJU3rd1377</td>\n",
       "      <td>4/21/2021 16:31</td>\n",
       "      <td>Tongji University</td>\n",
       "      <td>Winter Season</td>\n",
       "      <td>Shanghai City</td>\n",
       "      <td>Hot summer and cold winter zone</td>\n",
       "      <td>Office</td>\n",
       "      <td>Office</td>\n",
       "      <td>NaN</td>\n",
       "      <td>Naturally Ventilated</td>\n",
       "      <td>NaN</td>\n",
       "      <td>NaN</td>\n",
       "      <td>NaN</td>\n",
       "      <td>NaN</td>\n",
       "      <td>NaN</td>\n",
       "      <td>NaN</td>\n",
       "      <td>NaN</td>\n",
       "      <td>1</td>\n",
       "      <td>2</td>\n",
       "      <td>1</td>\n",
       "      <td>0.28</td>\n",
       "      <td>1</td>\n",
       "      <td>0.1</td>\n",
       "      <td>NaN</td>\n",
       "      <td>52</td>\n",
       "      <td>NaN</td>\n",
       "      <td>NaN</td>\n",
       "      <td>0.6</td>\n",
       "      <td>25.8</td>\n",
       "      <td>52</td>\n",
       "      <td>NaN</td>\n",
       "      <td>NaN</td>\n",
       "      <td>1.1</td>\n",
       "      <td>25.8</td>\n",
       "      <td>52</td>\n",
       "      <td>0</td>\n",
       "      <td>25.8</td>\n",
       "      <td>NaN</td>\n",
       "      <td>NaN</td>\n",
       "      <td>NaN</td>\n",
       "      <td>25.8</td>\n",
       "      <td>25.8</td>\n",
       "      <td>NaN</td>\n",
       "      <td>-0.6</td>\n",
       "      <td>12.49</td>\n",
       "      <td>NaN</td>\n",
       "      <td>NaN</td>\n",
       "      <td>NaN</td>\n",
       "      <td>NaN</td>\n",
       "      <td>NaN</td>\n",
       "      <td>NaN</td>\n",
       "      <td>NaN</td>\n",
       "    </tr>\n",
       "    <tr>\n",
       "      <th>8545</th>\n",
       "      <td>8546</td>\n",
       "      <td>TJU3rd1378</td>\n",
       "      <td>4/21/2021 16:32</td>\n",
       "      <td>Tongji University</td>\n",
       "      <td>Winter Season</td>\n",
       "      <td>Shanghai City</td>\n",
       "      <td>Hot summer and cold winter zone</td>\n",
       "      <td>Office</td>\n",
       "      <td>Office</td>\n",
       "      <td>NaN</td>\n",
       "      <td>Naturally Ventilated</td>\n",
       "      <td>NaN</td>\n",
       "      <td>NaN</td>\n",
       "      <td>NaN</td>\n",
       "      <td>NaN</td>\n",
       "      <td>NaN</td>\n",
       "      <td>NaN</td>\n",
       "      <td>NaN</td>\n",
       "      <td>0</td>\n",
       "      <td>1</td>\n",
       "      <td>1</td>\n",
       "      <td>0.53</td>\n",
       "      <td>1</td>\n",
       "      <td>0.1</td>\n",
       "      <td>NaN</td>\n",
       "      <td>52</td>\n",
       "      <td>NaN</td>\n",
       "      <td>NaN</td>\n",
       "      <td>0.6</td>\n",
       "      <td>26.2</td>\n",
       "      <td>52</td>\n",
       "      <td>NaN</td>\n",
       "      <td>NaN</td>\n",
       "      <td>1.1</td>\n",
       "      <td>26.2</td>\n",
       "      <td>52</td>\n",
       "      <td>0</td>\n",
       "      <td>26.2</td>\n",
       "      <td>NaN</td>\n",
       "      <td>NaN</td>\n",
       "      <td>NaN</td>\n",
       "      <td>26.2</td>\n",
       "      <td>26.2</td>\n",
       "      <td>NaN</td>\n",
       "      <td>0.19</td>\n",
       "      <td>5.72</td>\n",
       "      <td>NaN</td>\n",
       "      <td>NaN</td>\n",
       "      <td>NaN</td>\n",
       "      <td>NaN</td>\n",
       "      <td>NaN</td>\n",
       "      <td>NaN</td>\n",
       "      <td>NaN</td>\n",
       "    </tr>\n",
       "    <tr>\n",
       "      <th>8546</th>\n",
       "      <td>8547</td>\n",
       "      <td>TJU3rd1379</td>\n",
       "      <td>4/22/2021 11:14</td>\n",
       "      <td>Tongji University</td>\n",
       "      <td>Winter Season</td>\n",
       "      <td>Shanghai City</td>\n",
       "      <td>Hot summer and cold winter zone</td>\n",
       "      <td>Office</td>\n",
       "      <td>Office</td>\n",
       "      <td>NaN</td>\n",
       "      <td>Naturally Ventilated</td>\n",
       "      <td>NaN</td>\n",
       "      <td>NaN</td>\n",
       "      <td>NaN</td>\n",
       "      <td>NaN</td>\n",
       "      <td>NaN</td>\n",
       "      <td>NaN</td>\n",
       "      <td>NaN</td>\n",
       "      <td>0</td>\n",
       "      <td>1</td>\n",
       "      <td>1</td>\n",
       "      <td>0.53</td>\n",
       "      <td>1</td>\n",
       "      <td>0.1</td>\n",
       "      <td>NaN</td>\n",
       "      <td>57</td>\n",
       "      <td>NaN</td>\n",
       "      <td>NaN</td>\n",
       "      <td>0.6</td>\n",
       "      <td>26.9</td>\n",
       "      <td>57</td>\n",
       "      <td>NaN</td>\n",
       "      <td>NaN</td>\n",
       "      <td>1.1</td>\n",
       "      <td>26.9</td>\n",
       "      <td>57</td>\n",
       "      <td>0</td>\n",
       "      <td>26.9</td>\n",
       "      <td>NaN</td>\n",
       "      <td>NaN</td>\n",
       "      <td>NaN</td>\n",
       "      <td>26.9</td>\n",
       "      <td>26.9</td>\n",
       "      <td>NaN</td>\n",
       "      <td>0.5</td>\n",
       "      <td>10.18</td>\n",
       "      <td>NaN</td>\n",
       "      <td>NaN</td>\n",
       "      <td>NaN</td>\n",
       "      <td>NaN</td>\n",
       "      <td>NaN</td>\n",
       "      <td>NaN</td>\n",
       "      <td>NaN</td>\n",
       "    </tr>\n",
       "  </tbody>\n",
       "</table>\n",
       "<p>41977 rows × 53 columns</p>\n",
       "</div>"
      ],
      "text/plain": [
       "        ID      A1.Code          A2.Date              A3.Data Contributor  \\\n",
       "0        1  DLUT1st0172  1/30/2019 10:35  Dalian University of Technology   \n",
       "1        2  DLUT1st0173  1/30/2019 10:42  Dalian University of Technology   \n",
       "2        3  DLUT1st0174  1/30/2019 10:45  Dalian University of Technology   \n",
       "3        4  DLUT1st0175  1/30/2019 10:47  Dalian University of Technology   \n",
       "4        5  DLUT1st0176  1/31/2019 20:20  Dalian University of Technology   \n",
       "...    ...          ...              ...                              ...   \n",
       "8542  8543   TJU3rd1375  4/21/2021 11:08                Tongji University   \n",
       "8543  8544   TJU3rd1376  4/21/2021 11:11                Tongji University   \n",
       "8544  8545   TJU3rd1377  4/21/2021 16:31                Tongji University   \n",
       "8545  8546   TJU3rd1378  4/21/2021 16:32                Tongji University   \n",
       "8546  8547   TJU3rd1379  4/22/2021 11:14                Tongji University   \n",
       "\n",
       "          A4.Season                     A5.City  \\\n",
       "0     Winter Season  Hebei Province,Handan City   \n",
       "1     Winter Season  Hebei Province,Handan City   \n",
       "2     Winter Season  Hebei Province,Handan City   \n",
       "3     Winter Season  Hebei Province,Handan City   \n",
       "4     Winter Season  Hebei Province,Handan City   \n",
       "...             ...                         ...   \n",
       "8542  Winter Season               Shanghai City   \n",
       "8543  Winter Season               Shanghai City   \n",
       "8544  Winter Season               Shanghai City   \n",
       "8545  Winter Season               Shanghai City   \n",
       "8546  Winter Season               Shanghai City   \n",
       "\n",
       "                      A6.Climate Zone B1.Building Type B2.Building Function  \\\n",
       "0                           Cold zone      Residential              Bedroom   \n",
       "1                           Cold zone      Residential              Bedroom   \n",
       "2                           Cold zone      Residential              Bedroom   \n",
       "3                           Cold zone      Residential              Bedroom   \n",
       "4                           Cold zone      Residential              Bedroom   \n",
       "...                               ...              ...                  ...   \n",
       "8542  Hot summer and cold winter zone           Office               Office   \n",
       "8543  Hot summer and cold winter zone           Office               Office   \n",
       "8544  Hot summer and cold winter zone           Office               Office   \n",
       "8545  Hot summer and cold winter zone           Office               Office   \n",
       "8546  Hot summer and cold winter zone           Office               Office   \n",
       "\n",
       "     B3.Floors B4.Building Operation Mode B5.Room (LengthxWidth)  \\\n",
       "0            1           Radiator heating                6.1x3.4   \n",
       "1            1           Radiator heating                6.1x3.4   \n",
       "2            1           Radiator heating                6.1x3.4   \n",
       "3            1           Radiator heating                6.1x3.4   \n",
       "4            1           Radiator heating                6.1x3.4   \n",
       "...        ...                        ...                    ...   \n",
       "8542       NaN       Naturally Ventilated                    NaN   \n",
       "8543       NaN         Convection heating                    NaN   \n",
       "8544       NaN       Naturally Ventilated                    NaN   \n",
       "8545       NaN       Naturally Ventilated                    NaN   \n",
       "8546       NaN       Naturally Ventilated                    NaN   \n",
       "\n",
       "     B5.Room Height (m)  C1.Sex C2.Age C3.Heightxcmx C4.Weightxkgx  \\\n",
       "0                   3.9  Female  18-30           170            62   \n",
       "1                   3.9  Female  41-50           168            80   \n",
       "2                   3.9    Male  41-50           170            82   \n",
       "3                   3.9    Male  18-30           178            65   \n",
       "4                   3.9    Male  18-30           174            80   \n",
       "...                 ...     ...    ...           ...           ...   \n",
       "8542                NaN     NaN    NaN           NaN           NaN   \n",
       "8543                NaN     NaN    NaN           NaN           NaN   \n",
       "8544                NaN     NaN    NaN           NaN           NaN   \n",
       "8545                NaN     NaN    NaN           NaN           NaN   \n",
       "8546                NaN     NaN    NaN           NaN           NaN   \n",
       "\n",
       "     C5.Living Years D1.TSV D2.TCV D3.TAV D5.Clothing Insulation (clo)  \\\n",
       "0                 25     -1      1    0.1                          1.1   \n",
       "1                 30     -1      1      1                         1.83   \n",
       "2                 49      0      1      1                         1.36   \n",
       "3                 19      0      1      1                         1.58   \n",
       "4                 44      0      1      1                         1.38   \n",
       "...              ...    ...    ...    ...                          ...   \n",
       "8542             NaN      1      1      1                         0.28   \n",
       "8543             NaN      1      2   -0.1                         0.49   \n",
       "8544             NaN      1      2      1                         0.28   \n",
       "8545             NaN      0      1      1                         0.53   \n",
       "8546             NaN      0      1      1                         0.53   \n",
       "\n",
       "     D6.Metabolic Rate (met) Measured Height (m)  \\\n",
       "0                          1                 0.1   \n",
       "1                        0.9                 0.1   \n",
       "2                        0.9                 0.1   \n",
       "3                        0.9                 0.1   \n",
       "4                        0.9                 0.1   \n",
       "...                      ...                 ...   \n",
       "8542                       1                 0.1   \n",
       "8543                     1.3                 0.1   \n",
       "8544                       1                 0.1   \n",
       "8545                       1                 0.1   \n",
       "8546                       1                 0.1   \n",
       "\n",
       "     E1.Indoor Air Temperature (x) E2.Indoor Relative Humidity (%)  \\\n",
       "0                             18.6                              32   \n",
       "1                             18.6                              32   \n",
       "2                             18.6                              32   \n",
       "3                             18.6                              32   \n",
       "4                             19.5                              33   \n",
       "...                            ...                             ...   \n",
       "8542                           NaN                              52   \n",
       "8543                           NaN                              52   \n",
       "8544                           NaN                              52   \n",
       "8545                           NaN                              52   \n",
       "8546                           NaN                              57   \n",
       "\n",
       "     E3.Indoor Air Velocity (m/s) E4.Globe Temperature (x)  \\\n",
       "0                               0                     20.9   \n",
       "1                               0                     20.9   \n",
       "2                               0                     20.9   \n",
       "3                               0                     20.9   \n",
       "4                               0                     19.8   \n",
       "...                           ...                      ...   \n",
       "8542                          NaN                      NaN   \n",
       "8543                          NaN                      NaN   \n",
       "8544                          NaN                      NaN   \n",
       "8545                          NaN                      NaN   \n",
       "8546                          NaN                      NaN   \n",
       "\n",
       "     Measured Height (m) E1.Indoor Air Temperature (x)  \\\n",
       "0                    0.6                          21.4   \n",
       "1                    0.6                          21.4   \n",
       "2                    0.6                          21.4   \n",
       "3                    0.6                          21.4   \n",
       "4                    0.6                          20.1   \n",
       "...                  ...                           ...   \n",
       "8542                 0.6                          25.3   \n",
       "8543                 0.6                          25.3   \n",
       "8544                 0.6                          25.8   \n",
       "8545                 0.6                          26.2   \n",
       "8546                 0.6                          26.9   \n",
       "\n",
       "     E2.Indoor Relative Humidity (%) E3.Indoor Air Velocity (m/s)  \\\n",
       "0                                 32                            0   \n",
       "1                                 32                            0   \n",
       "2                                 32                            0   \n",
       "3                                 32                            0   \n",
       "4                                 33                            0   \n",
       "...                              ...                          ...   \n",
       "8542                              52                          NaN   \n",
       "8543                              52                          NaN   \n",
       "8544                              52                          NaN   \n",
       "8545                              52                          NaN   \n",
       "8546                              57                          NaN   \n",
       "\n",
       "     E4.Globe Temperature (x) Measured Height (m)  \\\n",
       "0                        20.9                 1.1   \n",
       "1                        20.9                 1.1   \n",
       "2                        20.9                 1.1   \n",
       "3                        20.9                 1.1   \n",
       "4                        19.8                 1.1   \n",
       "...                       ...                 ...   \n",
       "8542                      NaN                 1.1   \n",
       "8543                      NaN                 1.1   \n",
       "8544                      NaN                 1.1   \n",
       "8545                      NaN                 1.1   \n",
       "8546                      NaN                 1.1   \n",
       "\n",
       "     E1.Indoor Air Temperature (x) E2.Indoor Relative Humidity (%)  \\\n",
       "0                             21.5                              32   \n",
       "1                             21.5                              32   \n",
       "2                             21.5                              32   \n",
       "3                             21.5                              32   \n",
       "4                             20.9                              33   \n",
       "...                            ...                             ...   \n",
       "8542                          25.3                              52   \n",
       "8543                          25.3                              52   \n",
       "8544                          25.8                              52   \n",
       "8545                          26.2                              52   \n",
       "8546                          26.9                              57   \n",
       "\n",
       "     E3.Indoor Air Velocity (m/s) E4.Globe Temperature (x)  \\\n",
       "0                               0                     20.9   \n",
       "1                               0                     20.9   \n",
       "2                               0                     20.9   \n",
       "3                               0                     20.9   \n",
       "4                               0                     19.8   \n",
       "...                           ...                      ...   \n",
       "8542                            0                     25.3   \n",
       "8543                            0                     25.3   \n",
       "8544                            0                     25.8   \n",
       "8545                            0                     26.2   \n",
       "8546                            0                     26.9   \n",
       "\n",
       "     E5.Roof Temperature (x) E5.Wall Temperature (x) E5.Floor Temperature (x)  \\\n",
       "0                        NaN                     NaN                      NaN   \n",
       "1                        NaN                     NaN                      NaN   \n",
       "2                        NaN                     NaN                      NaN   \n",
       "3                        NaN                     NaN                      NaN   \n",
       "4                        NaN                     NaN                      NaN   \n",
       "...                      ...                     ...                      ...   \n",
       "8542                     NaN                     NaN                      NaN   \n",
       "8543                     NaN                     NaN                      NaN   \n",
       "8544                     NaN                     NaN                      NaN   \n",
       "8545                     NaN                     NaN                      NaN   \n",
       "8546                     NaN                     NaN                      NaN   \n",
       "\n",
       "     F1.Operative Temperature (x) F2.Mean Radiant Temperature (x)  \\\n",
       "0                            20.8                            20.9   \n",
       "1                            20.8                            20.9   \n",
       "2                            20.8                            20.9   \n",
       "3                            20.8                            20.9   \n",
       "4                              20                            19.8   \n",
       "...                           ...                             ...   \n",
       "8542                         25.3                            25.3   \n",
       "8543                         25.3                            25.3   \n",
       "8544                         25.8                            25.8   \n",
       "8545                         26.2                            26.2   \n",
       "8546                         26.9                            26.9   \n",
       "\n",
       "     F3.Radiant Temperature Asymmetry (x) F4.PMV F5.PPD  \\\n",
       "0                                    0.74  -0.58  12.01   \n",
       "1                                    0.74   -0.1   5.19   \n",
       "2                                    0.74  -0.66  14.14   \n",
       "3                                    0.74  -0.36   7.78   \n",
       "4                                    1.12  -0.82  19.45   \n",
       "...                                   ...    ...    ...   \n",
       "8542                                  NaN  -0.83  19.55   \n",
       "8543                                  NaN   0.38   8.06   \n",
       "8544                                  NaN   -0.6  12.49   \n",
       "8545                                  NaN   0.19   5.72   \n",
       "8546                                  NaN    0.5  10.18   \n",
       "\n",
       "     G1.Real-Time Outdoor Temperature (x)  \\\n",
       "0                                     NaN   \n",
       "1                                     NaN   \n",
       "2                                     NaN   \n",
       "3                                     NaN   \n",
       "4                                     NaN   \n",
       "...                                   ...   \n",
       "8542                                  NaN   \n",
       "8543                                  NaN   \n",
       "8544                                  NaN   \n",
       "8545                                  NaN   \n",
       "8546                                  NaN   \n",
       "\n",
       "     G2.Mean Daily Outdoor Temperature (x)  \\\n",
       "0                                     -2.9   \n",
       "1                                     -2.9   \n",
       "2                                     -2.9   \n",
       "3                                     -2.9   \n",
       "4                                      0.6   \n",
       "...                                    ...   \n",
       "8542                                   NaN   \n",
       "8543                                   NaN   \n",
       "8544                                   NaN   \n",
       "8545                                   NaN   \n",
       "8546                                   NaN   \n",
       "\n",
       "     G3.Monthly Mean Outdoor Temperature (x)  \\\n",
       "0                                        0.4   \n",
       "1                                        0.4   \n",
       "2                                        0.4   \n",
       "3                                        0.4   \n",
       "4                                        0.4   \n",
       "...                                      ...   \n",
       "8542                                     NaN   \n",
       "8543                                     NaN   \n",
       "8544                                     NaN   \n",
       "8545                                     NaN   \n",
       "8546                                     NaN   \n",
       "\n",
       "     G4.7-Day Running Mean Outdoor Temperature (x)  \\\n",
       "0                                              1.2   \n",
       "1                                              1.2   \n",
       "2                                              1.2   \n",
       "3                                              1.2   \n",
       "4                                              0.5   \n",
       "...                                            ...   \n",
       "8542                                           NaN   \n",
       "8543                                           NaN   \n",
       "8544                                           NaN   \n",
       "8545                                           NaN   \n",
       "8546                                           NaN   \n",
       "\n",
       "     G4.15-Day Running Mean Outdoor Temperature (x)  \\\n",
       "0                                                 1   \n",
       "1                                                 1   \n",
       "2                                                 1   \n",
       "3                                                 1   \n",
       "4                                               0.2   \n",
       "...                                             ...   \n",
       "8542                                            NaN   \n",
       "8543                                            NaN   \n",
       "8544                                            NaN   \n",
       "8545                                            NaN   \n",
       "8546                                            NaN   \n",
       "\n",
       "     G5.Mean Daily Outdoor Relative Humidity (%)  \\\n",
       "0                                            NaN   \n",
       "1                                            NaN   \n",
       "2                                            NaN   \n",
       "3                                            NaN   \n",
       "4                                            NaN   \n",
       "...                                          ...   \n",
       "8542                                         NaN   \n",
       "8543                                         NaN   \n",
       "8544                                         NaN   \n",
       "8545                                         NaN   \n",
       "8546                                         NaN   \n",
       "\n",
       "     G6.Mean Daily Outdoor Air Velocity (m/s)  \n",
       "0                                         NaN  \n",
       "1                                         NaN  \n",
       "2                                         NaN  \n",
       "3                                         NaN  \n",
       "4                                         NaN  \n",
       "...                                       ...  \n",
       "8542                                      NaN  \n",
       "8543                                      NaN  \n",
       "8544                                      NaN  \n",
       "8545                                      NaN  \n",
       "8546                                      NaN  \n",
       "\n",
       "[41977 rows x 53 columns]"
      ]
     },
     "execution_count": 137,
     "metadata": {},
     "output_type": "execute_result"
    }
   ],
   "source": [
    "chinese_dataset_1 = pd.concat([chinese_dataset_1, chinese_dataset_2, chinese_dataset_3], join='outer', sort=False)\n",
    "chinese_dataset_1"
   ]
  },
  {
   "cell_type": "code",
   "execution_count": 138,
   "metadata": {},
   "outputs": [
    {
     "data": {
      "text/html": [
       "<div>\n",
       "<style scoped>\n",
       "    .dataframe tbody tr th:only-of-type {\n",
       "        vertical-align: middle;\n",
       "    }\n",
       "\n",
       "    .dataframe tbody tr th {\n",
       "        vertical-align: top;\n",
       "    }\n",
       "\n",
       "    .dataframe thead th {\n",
       "        text-align: right;\n",
       "    }\n",
       "</style>\n",
       "<table border=\"1\" class=\"dataframe\">\n",
       "  <thead>\n",
       "    <tr style=\"text-align: right;\">\n",
       "      <th></th>\n",
       "      <th>A2.Date</th>\n",
       "      <th>A4.Season</th>\n",
       "      <th>A5.City</th>\n",
       "      <th>A6.Climate Zone</th>\n",
       "      <th>B1.Building Type</th>\n",
       "      <th>B2.Building Function</th>\n",
       "      <th>B4.Building Operation Mode</th>\n",
       "      <th>B5.Room (LengthxWidth)</th>\n",
       "      <th>B5.Room Height (m)</th>\n",
       "      <th>C1.Sex</th>\n",
       "      <th>C2.Age</th>\n",
       "      <th>C3.Heightxcmx</th>\n",
       "      <th>C4.Weightxkgx</th>\n",
       "      <th>D1.TSV</th>\n",
       "      <th>D2.TCV</th>\n",
       "      <th>D3.TAV</th>\n",
       "      <th>D5.Clothing Insulation (clo)</th>\n",
       "      <th>D6.Metabolic Rate (met)</th>\n",
       "      <th>F1.Operative Temperature (x)</th>\n",
       "      <th>F2.Mean Radiant Temperature (x)</th>\n",
       "      <th>F3.Radiant Temperature Asymmetry (x)</th>\n",
       "      <th>F4.PMV</th>\n",
       "      <th>F5.PPD</th>\n",
       "      <th>Indoor Humidity (%)</th>\n",
       "      <th>Indoor Air Velocity (m/s)</th>\n",
       "    </tr>\n",
       "  </thead>\n",
       "  <tbody>\n",
       "    <tr>\n",
       "      <th>0</th>\n",
       "      <td>1/30/2019 10:35</td>\n",
       "      <td>Winter Season</td>\n",
       "      <td>Hebei Province,Handan City</td>\n",
       "      <td>Cold zone</td>\n",
       "      <td>Residential</td>\n",
       "      <td>Bedroom</td>\n",
       "      <td>Radiator heating</td>\n",
       "      <td>6.1x3.4</td>\n",
       "      <td>3.9</td>\n",
       "      <td>Female</td>\n",
       "      <td>18-30</td>\n",
       "      <td>170</td>\n",
       "      <td>62</td>\n",
       "      <td>-1</td>\n",
       "      <td>1</td>\n",
       "      <td>0.1</td>\n",
       "      <td>1.1</td>\n",
       "      <td>1</td>\n",
       "      <td>20.8</td>\n",
       "      <td>20.9</td>\n",
       "      <td>0.74</td>\n",
       "      <td>-0.58</td>\n",
       "      <td>12.01</td>\n",
       "      <td>32</td>\n",
       "      <td>0</td>\n",
       "    </tr>\n",
       "    <tr>\n",
       "      <th>1</th>\n",
       "      <td>1/30/2019 10:42</td>\n",
       "      <td>Winter Season</td>\n",
       "      <td>Hebei Province,Handan City</td>\n",
       "      <td>Cold zone</td>\n",
       "      <td>Residential</td>\n",
       "      <td>Bedroom</td>\n",
       "      <td>Radiator heating</td>\n",
       "      <td>6.1x3.4</td>\n",
       "      <td>3.9</td>\n",
       "      <td>Female</td>\n",
       "      <td>41-50</td>\n",
       "      <td>168</td>\n",
       "      <td>80</td>\n",
       "      <td>-1</td>\n",
       "      <td>1</td>\n",
       "      <td>1</td>\n",
       "      <td>1.83</td>\n",
       "      <td>0.9</td>\n",
       "      <td>20.8</td>\n",
       "      <td>20.9</td>\n",
       "      <td>0.74</td>\n",
       "      <td>-0.1</td>\n",
       "      <td>5.19</td>\n",
       "      <td>32</td>\n",
       "      <td>0</td>\n",
       "    </tr>\n",
       "    <tr>\n",
       "      <th>2</th>\n",
       "      <td>1/30/2019 10:45</td>\n",
       "      <td>Winter Season</td>\n",
       "      <td>Hebei Province,Handan City</td>\n",
       "      <td>Cold zone</td>\n",
       "      <td>Residential</td>\n",
       "      <td>Bedroom</td>\n",
       "      <td>Radiator heating</td>\n",
       "      <td>6.1x3.4</td>\n",
       "      <td>3.9</td>\n",
       "      <td>Male</td>\n",
       "      <td>41-50</td>\n",
       "      <td>170</td>\n",
       "      <td>82</td>\n",
       "      <td>0</td>\n",
       "      <td>1</td>\n",
       "      <td>1</td>\n",
       "      <td>1.36</td>\n",
       "      <td>0.9</td>\n",
       "      <td>20.8</td>\n",
       "      <td>20.9</td>\n",
       "      <td>0.74</td>\n",
       "      <td>-0.66</td>\n",
       "      <td>14.14</td>\n",
       "      <td>32</td>\n",
       "      <td>0</td>\n",
       "    </tr>\n",
       "    <tr>\n",
       "      <th>3</th>\n",
       "      <td>1/30/2019 10:47</td>\n",
       "      <td>Winter Season</td>\n",
       "      <td>Hebei Province,Handan City</td>\n",
       "      <td>Cold zone</td>\n",
       "      <td>Residential</td>\n",
       "      <td>Bedroom</td>\n",
       "      <td>Radiator heating</td>\n",
       "      <td>6.1x3.4</td>\n",
       "      <td>3.9</td>\n",
       "      <td>Male</td>\n",
       "      <td>18-30</td>\n",
       "      <td>178</td>\n",
       "      <td>65</td>\n",
       "      <td>0</td>\n",
       "      <td>1</td>\n",
       "      <td>1</td>\n",
       "      <td>1.58</td>\n",
       "      <td>0.9</td>\n",
       "      <td>20.8</td>\n",
       "      <td>20.9</td>\n",
       "      <td>0.74</td>\n",
       "      <td>-0.36</td>\n",
       "      <td>7.78</td>\n",
       "      <td>32</td>\n",
       "      <td>0</td>\n",
       "    </tr>\n",
       "    <tr>\n",
       "      <th>4</th>\n",
       "      <td>1/31/2019 20:20</td>\n",
       "      <td>Winter Season</td>\n",
       "      <td>Hebei Province,Handan City</td>\n",
       "      <td>Cold zone</td>\n",
       "      <td>Residential</td>\n",
       "      <td>Bedroom</td>\n",
       "      <td>Radiator heating</td>\n",
       "      <td>6.1x3.4</td>\n",
       "      <td>3.9</td>\n",
       "      <td>Male</td>\n",
       "      <td>18-30</td>\n",
       "      <td>174</td>\n",
       "      <td>80</td>\n",
       "      <td>0</td>\n",
       "      <td>1</td>\n",
       "      <td>1</td>\n",
       "      <td>1.38</td>\n",
       "      <td>0.9</td>\n",
       "      <td>20</td>\n",
       "      <td>19.8</td>\n",
       "      <td>1.12</td>\n",
       "      <td>-0.82</td>\n",
       "      <td>19.45</td>\n",
       "      <td>33</td>\n",
       "      <td>0</td>\n",
       "    </tr>\n",
       "    <tr>\n",
       "      <th>...</th>\n",
       "      <td>...</td>\n",
       "      <td>...</td>\n",
       "      <td>...</td>\n",
       "      <td>...</td>\n",
       "      <td>...</td>\n",
       "      <td>...</td>\n",
       "      <td>...</td>\n",
       "      <td>...</td>\n",
       "      <td>...</td>\n",
       "      <td>...</td>\n",
       "      <td>...</td>\n",
       "      <td>...</td>\n",
       "      <td>...</td>\n",
       "      <td>...</td>\n",
       "      <td>...</td>\n",
       "      <td>...</td>\n",
       "      <td>...</td>\n",
       "      <td>...</td>\n",
       "      <td>...</td>\n",
       "      <td>...</td>\n",
       "      <td>...</td>\n",
       "      <td>...</td>\n",
       "      <td>...</td>\n",
       "      <td>...</td>\n",
       "      <td>...</td>\n",
       "    </tr>\n",
       "    <tr>\n",
       "      <th>8542</th>\n",
       "      <td>4/21/2021 11:08</td>\n",
       "      <td>Winter Season</td>\n",
       "      <td>Shanghai City</td>\n",
       "      <td>Hot summer and cold winter zone</td>\n",
       "      <td>Office</td>\n",
       "      <td>Office</td>\n",
       "      <td>Naturally Ventilated</td>\n",
       "      <td>NaN</td>\n",
       "      <td>NaN</td>\n",
       "      <td>NaN</td>\n",
       "      <td>NaN</td>\n",
       "      <td>NaN</td>\n",
       "      <td>NaN</td>\n",
       "      <td>1</td>\n",
       "      <td>1</td>\n",
       "      <td>1</td>\n",
       "      <td>0.28</td>\n",
       "      <td>1</td>\n",
       "      <td>25.3</td>\n",
       "      <td>25.3</td>\n",
       "      <td>NaN</td>\n",
       "      <td>-0.83</td>\n",
       "      <td>19.55</td>\n",
       "      <td>52</td>\n",
       "      <td>0</td>\n",
       "    </tr>\n",
       "    <tr>\n",
       "      <th>8543</th>\n",
       "      <td>4/21/2021 11:11</td>\n",
       "      <td>Winter Season</td>\n",
       "      <td>Shanghai City</td>\n",
       "      <td>Hot summer and cold winter zone</td>\n",
       "      <td>Office</td>\n",
       "      <td>Office</td>\n",
       "      <td>Convection heating</td>\n",
       "      <td>NaN</td>\n",
       "      <td>NaN</td>\n",
       "      <td>NaN</td>\n",
       "      <td>NaN</td>\n",
       "      <td>NaN</td>\n",
       "      <td>NaN</td>\n",
       "      <td>1</td>\n",
       "      <td>2</td>\n",
       "      <td>-0.1</td>\n",
       "      <td>0.49</td>\n",
       "      <td>1.3</td>\n",
       "      <td>25.3</td>\n",
       "      <td>25.3</td>\n",
       "      <td>NaN</td>\n",
       "      <td>0.38</td>\n",
       "      <td>8.06</td>\n",
       "      <td>52</td>\n",
       "      <td>0</td>\n",
       "    </tr>\n",
       "    <tr>\n",
       "      <th>8544</th>\n",
       "      <td>4/21/2021 16:31</td>\n",
       "      <td>Winter Season</td>\n",
       "      <td>Shanghai City</td>\n",
       "      <td>Hot summer and cold winter zone</td>\n",
       "      <td>Office</td>\n",
       "      <td>Office</td>\n",
       "      <td>Naturally Ventilated</td>\n",
       "      <td>NaN</td>\n",
       "      <td>NaN</td>\n",
       "      <td>NaN</td>\n",
       "      <td>NaN</td>\n",
       "      <td>NaN</td>\n",
       "      <td>NaN</td>\n",
       "      <td>1</td>\n",
       "      <td>2</td>\n",
       "      <td>1</td>\n",
       "      <td>0.28</td>\n",
       "      <td>1</td>\n",
       "      <td>25.8</td>\n",
       "      <td>25.8</td>\n",
       "      <td>NaN</td>\n",
       "      <td>-0.6</td>\n",
       "      <td>12.49</td>\n",
       "      <td>52</td>\n",
       "      <td>0</td>\n",
       "    </tr>\n",
       "    <tr>\n",
       "      <th>8545</th>\n",
       "      <td>4/21/2021 16:32</td>\n",
       "      <td>Winter Season</td>\n",
       "      <td>Shanghai City</td>\n",
       "      <td>Hot summer and cold winter zone</td>\n",
       "      <td>Office</td>\n",
       "      <td>Office</td>\n",
       "      <td>Naturally Ventilated</td>\n",
       "      <td>NaN</td>\n",
       "      <td>NaN</td>\n",
       "      <td>NaN</td>\n",
       "      <td>NaN</td>\n",
       "      <td>NaN</td>\n",
       "      <td>NaN</td>\n",
       "      <td>0</td>\n",
       "      <td>1</td>\n",
       "      <td>1</td>\n",
       "      <td>0.53</td>\n",
       "      <td>1</td>\n",
       "      <td>26.2</td>\n",
       "      <td>26.2</td>\n",
       "      <td>NaN</td>\n",
       "      <td>0.19</td>\n",
       "      <td>5.72</td>\n",
       "      <td>52</td>\n",
       "      <td>0</td>\n",
       "    </tr>\n",
       "    <tr>\n",
       "      <th>8546</th>\n",
       "      <td>4/22/2021 11:14</td>\n",
       "      <td>Winter Season</td>\n",
       "      <td>Shanghai City</td>\n",
       "      <td>Hot summer and cold winter zone</td>\n",
       "      <td>Office</td>\n",
       "      <td>Office</td>\n",
       "      <td>Naturally Ventilated</td>\n",
       "      <td>NaN</td>\n",
       "      <td>NaN</td>\n",
       "      <td>NaN</td>\n",
       "      <td>NaN</td>\n",
       "      <td>NaN</td>\n",
       "      <td>NaN</td>\n",
       "      <td>0</td>\n",
       "      <td>1</td>\n",
       "      <td>1</td>\n",
       "      <td>0.53</td>\n",
       "      <td>1</td>\n",
       "      <td>26.9</td>\n",
       "      <td>26.9</td>\n",
       "      <td>NaN</td>\n",
       "      <td>0.5</td>\n",
       "      <td>10.18</td>\n",
       "      <td>57</td>\n",
       "      <td>0</td>\n",
       "    </tr>\n",
       "  </tbody>\n",
       "</table>\n",
       "<p>41977 rows × 25 columns</p>\n",
       "</div>"
      ],
      "text/plain": [
       "              A2.Date      A4.Season                     A5.City  \\\n",
       "0     1/30/2019 10:35  Winter Season  Hebei Province,Handan City   \n",
       "1     1/30/2019 10:42  Winter Season  Hebei Province,Handan City   \n",
       "2     1/30/2019 10:45  Winter Season  Hebei Province,Handan City   \n",
       "3     1/30/2019 10:47  Winter Season  Hebei Province,Handan City   \n",
       "4     1/31/2019 20:20  Winter Season  Hebei Province,Handan City   \n",
       "...               ...            ...                         ...   \n",
       "8542  4/21/2021 11:08  Winter Season               Shanghai City   \n",
       "8543  4/21/2021 11:11  Winter Season               Shanghai City   \n",
       "8544  4/21/2021 16:31  Winter Season               Shanghai City   \n",
       "8545  4/21/2021 16:32  Winter Season               Shanghai City   \n",
       "8546  4/22/2021 11:14  Winter Season               Shanghai City   \n",
       "\n",
       "                      A6.Climate Zone B1.Building Type B2.Building Function  \\\n",
       "0                           Cold zone      Residential              Bedroom   \n",
       "1                           Cold zone      Residential              Bedroom   \n",
       "2                           Cold zone      Residential              Bedroom   \n",
       "3                           Cold zone      Residential              Bedroom   \n",
       "4                           Cold zone      Residential              Bedroom   \n",
       "...                               ...              ...                  ...   \n",
       "8542  Hot summer and cold winter zone           Office               Office   \n",
       "8543  Hot summer and cold winter zone           Office               Office   \n",
       "8544  Hot summer and cold winter zone           Office               Office   \n",
       "8545  Hot summer and cold winter zone           Office               Office   \n",
       "8546  Hot summer and cold winter zone           Office               Office   \n",
       "\n",
       "     B4.Building Operation Mode B5.Room (LengthxWidth) B5.Room Height (m)  \\\n",
       "0              Radiator heating                6.1x3.4                3.9   \n",
       "1              Radiator heating                6.1x3.4                3.9   \n",
       "2              Radiator heating                6.1x3.4                3.9   \n",
       "3              Radiator heating                6.1x3.4                3.9   \n",
       "4              Radiator heating                6.1x3.4                3.9   \n",
       "...                         ...                    ...                ...   \n",
       "8542       Naturally Ventilated                    NaN                NaN   \n",
       "8543         Convection heating                    NaN                NaN   \n",
       "8544       Naturally Ventilated                    NaN                NaN   \n",
       "8545       Naturally Ventilated                    NaN                NaN   \n",
       "8546       Naturally Ventilated                    NaN                NaN   \n",
       "\n",
       "      C1.Sex C2.Age C3.Heightxcmx C4.Weightxkgx D1.TSV D2.TCV D3.TAV  \\\n",
       "0     Female  18-30           170            62     -1      1    0.1   \n",
       "1     Female  41-50           168            80     -1      1      1   \n",
       "2       Male  41-50           170            82      0      1      1   \n",
       "3       Male  18-30           178            65      0      1      1   \n",
       "4       Male  18-30           174            80      0      1      1   \n",
       "...      ...    ...           ...           ...    ...    ...    ...   \n",
       "8542     NaN    NaN           NaN           NaN      1      1      1   \n",
       "8543     NaN    NaN           NaN           NaN      1      2   -0.1   \n",
       "8544     NaN    NaN           NaN           NaN      1      2      1   \n",
       "8545     NaN    NaN           NaN           NaN      0      1      1   \n",
       "8546     NaN    NaN           NaN           NaN      0      1      1   \n",
       "\n",
       "     D5.Clothing Insulation (clo) D6.Metabolic Rate (met)  \\\n",
       "0                             1.1                       1   \n",
       "1                            1.83                     0.9   \n",
       "2                            1.36                     0.9   \n",
       "3                            1.58                     0.9   \n",
       "4                            1.38                     0.9   \n",
       "...                           ...                     ...   \n",
       "8542                         0.28                       1   \n",
       "8543                         0.49                     1.3   \n",
       "8544                         0.28                       1   \n",
       "8545                         0.53                       1   \n",
       "8546                         0.53                       1   \n",
       "\n",
       "     F1.Operative Temperature (x) F2.Mean Radiant Temperature (x)  \\\n",
       "0                            20.8                            20.9   \n",
       "1                            20.8                            20.9   \n",
       "2                            20.8                            20.9   \n",
       "3                            20.8                            20.9   \n",
       "4                              20                            19.8   \n",
       "...                           ...                             ...   \n",
       "8542                         25.3                            25.3   \n",
       "8543                         25.3                            25.3   \n",
       "8544                         25.8                            25.8   \n",
       "8545                         26.2                            26.2   \n",
       "8546                         26.9                            26.9   \n",
       "\n",
       "     F3.Radiant Temperature Asymmetry (x) F4.PMV F5.PPD Indoor Humidity (%)  \\\n",
       "0                                    0.74  -0.58  12.01                  32   \n",
       "1                                    0.74   -0.1   5.19                  32   \n",
       "2                                    0.74  -0.66  14.14                  32   \n",
       "3                                    0.74  -0.36   7.78                  32   \n",
       "4                                    1.12  -0.82  19.45                  33   \n",
       "...                                   ...    ...    ...                 ...   \n",
       "8542                                  NaN  -0.83  19.55                  52   \n",
       "8543                                  NaN   0.38   8.06                  52   \n",
       "8544                                  NaN   -0.6  12.49                  52   \n",
       "8545                                  NaN   0.19   5.72                  52   \n",
       "8546                                  NaN    0.5  10.18                  57   \n",
       "\n",
       "     Indoor Air Velocity (m/s)  \n",
       "0                            0  \n",
       "1                            0  \n",
       "2                            0  \n",
       "3                            0  \n",
       "4                            0  \n",
       "...                        ...  \n",
       "8542                         0  \n",
       "8543                         0  \n",
       "8544                         0  \n",
       "8545                         0  \n",
       "8546                         0  \n",
       "\n",
       "[41977 rows x 25 columns]"
      ]
     },
     "execution_count": 138,
     "metadata": {},
     "output_type": "execute_result"
    }
   ],
   "source": [
    "chinese_dataset_1[\"Indoor Humidity (%)\"] = chinese_dataset_1.iloc[:,35]\n",
    "chinese_dataset_1[\"Indoor Air Velocity (m/s)\"] = chinese_dataset_1.iloc[:,36]\n",
    "chinese_dataset_1.drop(columns=[\"ID\", \"A1.Code\", \"A3.Data Contributor\", 'Measured Height (m)',\n",
    " 'E1.Indoor Air Temperature (x)',\n",
    " 'E2.Indoor Relative Humidity (%)',\n",
    " 'E3.Indoor Air Velocity (m/s)',\n",
    " 'E4.Globe Temperature (x)',\n",
    " 'Measured Height (m)',\n",
    " 'E1.Indoor Air Temperature (x)',\n",
    " 'E2.Indoor Relative Humidity (%)',\n",
    " 'E3.Indoor Air Velocity (m/s)',\n",
    " 'E4.Globe Temperature (x)',\n",
    " 'Measured Height (m)',\n",
    " 'E1.Indoor Air Temperature (x)',\n",
    " 'E3.Indoor Air Velocity (m/s)',\n",
    " 'E4.Globe Temperature (x)',\n",
    " 'E5.Roof Temperature (x)',\n",
    " 'E5.Wall Temperature (x)',\n",
    " 'E5.Floor Temperature (x)',\n",
    " 'B3.Floors',\n",
    " 'C5.Living Years',\n",
    " 'G3.Monthly Mean Outdoor Temperature (x)', \n",
    " 'G4.7-Day Running Mean Outdoor Temperature (x)', \n",
    " 'G4.15-Day Running Mean Outdoor Temperature (x)',\n",
    " 'G1.Real-Time Outdoor Temperature (x)',\n",
    " 'G2.Mean Daily Outdoor Temperature (x)',\n",
    " 'G5.Mean Daily Outdoor Relative Humidity (%)',\n",
    " 'G6.Mean Daily Outdoor Air Velocity (m/s)'], inplace=True)\n",
    "chinese_dataset_1"
   ]
  },
  {
   "cell_type": "code",
   "execution_count": 160,
   "metadata": {},
   "outputs": [
    {
     "data": {
      "application/vnd.plotly.v1+json": {
       "config": {
        "plotlyServerURL": "https://plot.ly"
       },
       "data": [
        {
         "hovertemplate": "index=%{x}<br>amount=%{y}<extra></extra>",
         "legendgroup": "",
         "line": {
          "color": "#636efa",
          "dash": "solid"
         },
         "marker": {
          "symbol": "circle"
         },
         "mode": "lines",
         "name": "",
         "orientation": "v",
         "showlegend": false,
         "type": "scatter",
         "x": [
          "month",
          "day",
          "hour",
          "minute",
          "room_height",
          "room_length",
          "room_width",
          "person_age",
          "person_height",
          "person_weight",
          "person_cloth",
          "person_activity",
          "indoor_operative_temperature",
          "indoor_mean_radiant_temp",
          "indoor_asymmetry_temp",
          "indoor_humidity",
          "indoor_air_velocity",
          "ashrae_predicted_mean_vote",
          "ashrae_predicted_percentage_of_dissatisfied",
          "label_thermal_sensation_vote",
          "label_thermal_comfort_vote",
          "label_thermal_acceptability_vote",
          "person_gender_Female",
          "person_gender_Male",
          "season_Summer Season",
          "season_Transition Season",
          "season_Winter Season",
          "climate_zone_Cold zone",
          "climate_zone_Hot summer and cold winter zone",
          "climate_zone_Severe cold zone",
          "building_type _Educational",
          "building_type _Office",
          "building_type _Residential",
          "building_function_Bedroom",
          "building_function_Classroom",
          "building_function_Living room",
          "building_function_Office",
          "building_operation_mode_Air conditioning heating",
          "building_operation_mode_Ceiling capillary heating",
          "building_operation_mode_Cold radiation ceiling cooling",
          "building_operation_mode_Convection cooling",
          "building_operation_mode_Convection heating",
          "building_operation_mode_Naturally Ventilated",
          "building_operation_mode_Others",
          "building_operation_mode_Radiant floor cooling",
          "building_operation_mode_Radiant floor heating",
          "building_operation_mode_Radiator heating"
         ],
         "xaxis": "x",
         "y": [
          0,
          0,
          0,
          0,
          0,
          0,
          0,
          0,
          0,
          0,
          0,
          0,
          0,
          0,
          0,
          0,
          0,
          0,
          0,
          0,
          0,
          0,
          0,
          0,
          0,
          0,
          0,
          0,
          0,
          0,
          0,
          0,
          0,
          0,
          0,
          0,
          0,
          0,
          0,
          0,
          0,
          0,
          0,
          0,
          0,
          0,
          0
         ],
         "yaxis": "y"
        }
       ],
       "layout": {
        "legend": {
         "tracegroupgap": 0
        },
        "template": {
         "data": {
          "bar": [
           {
            "error_x": {
             "color": "#f2f5fa"
            },
            "error_y": {
             "color": "#f2f5fa"
            },
            "marker": {
             "line": {
              "color": "rgb(17,17,17)",
              "width": 0.5
             },
             "pattern": {
              "fillmode": "overlay",
              "size": 10,
              "solidity": 0.2
             }
            },
            "type": "bar"
           }
          ],
          "barpolar": [
           {
            "marker": {
             "line": {
              "color": "rgb(17,17,17)",
              "width": 0.5
             },
             "pattern": {
              "fillmode": "overlay",
              "size": 10,
              "solidity": 0.2
             }
            },
            "type": "barpolar"
           }
          ],
          "carpet": [
           {
            "aaxis": {
             "endlinecolor": "#A2B1C6",
             "gridcolor": "#506784",
             "linecolor": "#506784",
             "minorgridcolor": "#506784",
             "startlinecolor": "#A2B1C6"
            },
            "baxis": {
             "endlinecolor": "#A2B1C6",
             "gridcolor": "#506784",
             "linecolor": "#506784",
             "minorgridcolor": "#506784",
             "startlinecolor": "#A2B1C6"
            },
            "type": "carpet"
           }
          ],
          "choropleth": [
           {
            "colorbar": {
             "outlinewidth": 0,
             "ticks": ""
            },
            "type": "choropleth"
           }
          ],
          "contour": [
           {
            "colorbar": {
             "outlinewidth": 0,
             "ticks": ""
            },
            "colorscale": [
             [
              0,
              "#0d0887"
             ],
             [
              0.1111111111111111,
              "#46039f"
             ],
             [
              0.2222222222222222,
              "#7201a8"
             ],
             [
              0.3333333333333333,
              "#9c179e"
             ],
             [
              0.4444444444444444,
              "#bd3786"
             ],
             [
              0.5555555555555556,
              "#d8576b"
             ],
             [
              0.6666666666666666,
              "#ed7953"
             ],
             [
              0.7777777777777778,
              "#fb9f3a"
             ],
             [
              0.8888888888888888,
              "#fdca26"
             ],
             [
              1,
              "#f0f921"
             ]
            ],
            "type": "contour"
           }
          ],
          "contourcarpet": [
           {
            "colorbar": {
             "outlinewidth": 0,
             "ticks": ""
            },
            "type": "contourcarpet"
           }
          ],
          "heatmap": [
           {
            "colorbar": {
             "outlinewidth": 0,
             "ticks": ""
            },
            "colorscale": [
             [
              0,
              "#0d0887"
             ],
             [
              0.1111111111111111,
              "#46039f"
             ],
             [
              0.2222222222222222,
              "#7201a8"
             ],
             [
              0.3333333333333333,
              "#9c179e"
             ],
             [
              0.4444444444444444,
              "#bd3786"
             ],
             [
              0.5555555555555556,
              "#d8576b"
             ],
             [
              0.6666666666666666,
              "#ed7953"
             ],
             [
              0.7777777777777778,
              "#fb9f3a"
             ],
             [
              0.8888888888888888,
              "#fdca26"
             ],
             [
              1,
              "#f0f921"
             ]
            ],
            "type": "heatmap"
           }
          ],
          "heatmapgl": [
           {
            "colorbar": {
             "outlinewidth": 0,
             "ticks": ""
            },
            "colorscale": [
             [
              0,
              "#0d0887"
             ],
             [
              0.1111111111111111,
              "#46039f"
             ],
             [
              0.2222222222222222,
              "#7201a8"
             ],
             [
              0.3333333333333333,
              "#9c179e"
             ],
             [
              0.4444444444444444,
              "#bd3786"
             ],
             [
              0.5555555555555556,
              "#d8576b"
             ],
             [
              0.6666666666666666,
              "#ed7953"
             ],
             [
              0.7777777777777778,
              "#fb9f3a"
             ],
             [
              0.8888888888888888,
              "#fdca26"
             ],
             [
              1,
              "#f0f921"
             ]
            ],
            "type": "heatmapgl"
           }
          ],
          "histogram": [
           {
            "marker": {
             "pattern": {
              "fillmode": "overlay",
              "size": 10,
              "solidity": 0.2
             }
            },
            "type": "histogram"
           }
          ],
          "histogram2d": [
           {
            "colorbar": {
             "outlinewidth": 0,
             "ticks": ""
            },
            "colorscale": [
             [
              0,
              "#0d0887"
             ],
             [
              0.1111111111111111,
              "#46039f"
             ],
             [
              0.2222222222222222,
              "#7201a8"
             ],
             [
              0.3333333333333333,
              "#9c179e"
             ],
             [
              0.4444444444444444,
              "#bd3786"
             ],
             [
              0.5555555555555556,
              "#d8576b"
             ],
             [
              0.6666666666666666,
              "#ed7953"
             ],
             [
              0.7777777777777778,
              "#fb9f3a"
             ],
             [
              0.8888888888888888,
              "#fdca26"
             ],
             [
              1,
              "#f0f921"
             ]
            ],
            "type": "histogram2d"
           }
          ],
          "histogram2dcontour": [
           {
            "colorbar": {
             "outlinewidth": 0,
             "ticks": ""
            },
            "colorscale": [
             [
              0,
              "#0d0887"
             ],
             [
              0.1111111111111111,
              "#46039f"
             ],
             [
              0.2222222222222222,
              "#7201a8"
             ],
             [
              0.3333333333333333,
              "#9c179e"
             ],
             [
              0.4444444444444444,
              "#bd3786"
             ],
             [
              0.5555555555555556,
              "#d8576b"
             ],
             [
              0.6666666666666666,
              "#ed7953"
             ],
             [
              0.7777777777777778,
              "#fb9f3a"
             ],
             [
              0.8888888888888888,
              "#fdca26"
             ],
             [
              1,
              "#f0f921"
             ]
            ],
            "type": "histogram2dcontour"
           }
          ],
          "mesh3d": [
           {
            "colorbar": {
             "outlinewidth": 0,
             "ticks": ""
            },
            "type": "mesh3d"
           }
          ],
          "parcoords": [
           {
            "line": {
             "colorbar": {
              "outlinewidth": 0,
              "ticks": ""
             }
            },
            "type": "parcoords"
           }
          ],
          "pie": [
           {
            "automargin": true,
            "type": "pie"
           }
          ],
          "scatter": [
           {
            "marker": {
             "line": {
              "color": "#283442"
             }
            },
            "type": "scatter"
           }
          ],
          "scatter3d": [
           {
            "line": {
             "colorbar": {
              "outlinewidth": 0,
              "ticks": ""
             }
            },
            "marker": {
             "colorbar": {
              "outlinewidth": 0,
              "ticks": ""
             }
            },
            "type": "scatter3d"
           }
          ],
          "scattercarpet": [
           {
            "marker": {
             "colorbar": {
              "outlinewidth": 0,
              "ticks": ""
             }
            },
            "type": "scattercarpet"
           }
          ],
          "scattergeo": [
           {
            "marker": {
             "colorbar": {
              "outlinewidth": 0,
              "ticks": ""
             }
            },
            "type": "scattergeo"
           }
          ],
          "scattergl": [
           {
            "marker": {
             "line": {
              "color": "#283442"
             }
            },
            "type": "scattergl"
           }
          ],
          "scattermapbox": [
           {
            "marker": {
             "colorbar": {
              "outlinewidth": 0,
              "ticks": ""
             }
            },
            "type": "scattermapbox"
           }
          ],
          "scatterpolar": [
           {
            "marker": {
             "colorbar": {
              "outlinewidth": 0,
              "ticks": ""
             }
            },
            "type": "scatterpolar"
           }
          ],
          "scatterpolargl": [
           {
            "marker": {
             "colorbar": {
              "outlinewidth": 0,
              "ticks": ""
             }
            },
            "type": "scatterpolargl"
           }
          ],
          "scatterternary": [
           {
            "marker": {
             "colorbar": {
              "outlinewidth": 0,
              "ticks": ""
             }
            },
            "type": "scatterternary"
           }
          ],
          "surface": [
           {
            "colorbar": {
             "outlinewidth": 0,
             "ticks": ""
            },
            "colorscale": [
             [
              0,
              "#0d0887"
             ],
             [
              0.1111111111111111,
              "#46039f"
             ],
             [
              0.2222222222222222,
              "#7201a8"
             ],
             [
              0.3333333333333333,
              "#9c179e"
             ],
             [
              0.4444444444444444,
              "#bd3786"
             ],
             [
              0.5555555555555556,
              "#d8576b"
             ],
             [
              0.6666666666666666,
              "#ed7953"
             ],
             [
              0.7777777777777778,
              "#fb9f3a"
             ],
             [
              0.8888888888888888,
              "#fdca26"
             ],
             [
              1,
              "#f0f921"
             ]
            ],
            "type": "surface"
           }
          ],
          "table": [
           {
            "cells": {
             "fill": {
              "color": "#506784"
             },
             "line": {
              "color": "rgb(17,17,17)"
             }
            },
            "header": {
             "fill": {
              "color": "#2a3f5f"
             },
             "line": {
              "color": "rgb(17,17,17)"
             }
            },
            "type": "table"
           }
          ]
         },
         "layout": {
          "annotationdefaults": {
           "arrowcolor": "#f2f5fa",
           "arrowhead": 0,
           "arrowwidth": 1
          },
          "autotypenumbers": "strict",
          "coloraxis": {
           "colorbar": {
            "outlinewidth": 0,
            "ticks": ""
           }
          },
          "colorscale": {
           "diverging": [
            [
             0,
             "#8e0152"
            ],
            [
             0.1,
             "#c51b7d"
            ],
            [
             0.2,
             "#de77ae"
            ],
            [
             0.3,
             "#f1b6da"
            ],
            [
             0.4,
             "#fde0ef"
            ],
            [
             0.5,
             "#f7f7f7"
            ],
            [
             0.6,
             "#e6f5d0"
            ],
            [
             0.7,
             "#b8e186"
            ],
            [
             0.8,
             "#7fbc41"
            ],
            [
             0.9,
             "#4d9221"
            ],
            [
             1,
             "#276419"
            ]
           ],
           "sequential": [
            [
             0,
             "#0d0887"
            ],
            [
             0.1111111111111111,
             "#46039f"
            ],
            [
             0.2222222222222222,
             "#7201a8"
            ],
            [
             0.3333333333333333,
             "#9c179e"
            ],
            [
             0.4444444444444444,
             "#bd3786"
            ],
            [
             0.5555555555555556,
             "#d8576b"
            ],
            [
             0.6666666666666666,
             "#ed7953"
            ],
            [
             0.7777777777777778,
             "#fb9f3a"
            ],
            [
             0.8888888888888888,
             "#fdca26"
            ],
            [
             1,
             "#f0f921"
            ]
           ],
           "sequentialminus": [
            [
             0,
             "#0d0887"
            ],
            [
             0.1111111111111111,
             "#46039f"
            ],
            [
             0.2222222222222222,
             "#7201a8"
            ],
            [
             0.3333333333333333,
             "#9c179e"
            ],
            [
             0.4444444444444444,
             "#bd3786"
            ],
            [
             0.5555555555555556,
             "#d8576b"
            ],
            [
             0.6666666666666666,
             "#ed7953"
            ],
            [
             0.7777777777777778,
             "#fb9f3a"
            ],
            [
             0.8888888888888888,
             "#fdca26"
            ],
            [
             1,
             "#f0f921"
            ]
           ]
          },
          "colorway": [
           "#636efa",
           "#EF553B",
           "#00cc96",
           "#ab63fa",
           "#FFA15A",
           "#19d3f3",
           "#FF6692",
           "#B6E880",
           "#FF97FF",
           "#FECB52"
          ],
          "font": {
           "color": "#f2f5fa"
          },
          "geo": {
           "bgcolor": "rgb(17,17,17)",
           "lakecolor": "rgb(17,17,17)",
           "landcolor": "rgb(17,17,17)",
           "showlakes": true,
           "showland": true,
           "subunitcolor": "#506784"
          },
          "hoverlabel": {
           "align": "left"
          },
          "hovermode": "closest",
          "mapbox": {
           "style": "dark"
          },
          "paper_bgcolor": "rgb(17,17,17)",
          "plot_bgcolor": "rgb(17,17,17)",
          "polar": {
           "angularaxis": {
            "gridcolor": "#506784",
            "linecolor": "#506784",
            "ticks": ""
           },
           "bgcolor": "rgb(17,17,17)",
           "radialaxis": {
            "gridcolor": "#506784",
            "linecolor": "#506784",
            "ticks": ""
           }
          },
          "scene": {
           "xaxis": {
            "backgroundcolor": "rgb(17,17,17)",
            "gridcolor": "#506784",
            "gridwidth": 2,
            "linecolor": "#506784",
            "showbackground": true,
            "ticks": "",
            "zerolinecolor": "#C8D4E3"
           },
           "yaxis": {
            "backgroundcolor": "rgb(17,17,17)",
            "gridcolor": "#506784",
            "gridwidth": 2,
            "linecolor": "#506784",
            "showbackground": true,
            "ticks": "",
            "zerolinecolor": "#C8D4E3"
           },
           "zaxis": {
            "backgroundcolor": "rgb(17,17,17)",
            "gridcolor": "#506784",
            "gridwidth": 2,
            "linecolor": "#506784",
            "showbackground": true,
            "ticks": "",
            "zerolinecolor": "#C8D4E3"
           }
          },
          "shapedefaults": {
           "line": {
            "color": "#f2f5fa"
           }
          },
          "sliderdefaults": {
           "bgcolor": "#C8D4E3",
           "bordercolor": "rgb(17,17,17)",
           "borderwidth": 1,
           "tickwidth": 0
          },
          "ternary": {
           "aaxis": {
            "gridcolor": "#506784",
            "linecolor": "#506784",
            "ticks": ""
           },
           "baxis": {
            "gridcolor": "#506784",
            "linecolor": "#506784",
            "ticks": ""
           },
           "bgcolor": "rgb(17,17,17)",
           "caxis": {
            "gridcolor": "#506784",
            "linecolor": "#506784",
            "ticks": ""
           }
          },
          "title": {
           "x": 0.05
          },
          "updatemenudefaults": {
           "bgcolor": "#506784",
           "borderwidth": 0
          },
          "xaxis": {
           "automargin": true,
           "gridcolor": "#283442",
           "linecolor": "#506784",
           "ticks": "",
           "title": {
            "standoff": 15
           },
           "zerolinecolor": "#283442",
           "zerolinewidth": 2
          },
          "yaxis": {
           "automargin": true,
           "gridcolor": "#283442",
           "linecolor": "#506784",
           "ticks": "",
           "title": {
            "standoff": 15
           },
           "zerolinecolor": "#283442",
           "zerolinewidth": 2
          }
         }
        },
        "title": {
         "text": "Count nan value in data table (total 4979 rows)"
        },
        "xaxis": {
         "anchor": "y",
         "domain": [
          0,
          1
         ],
         "title": {
          "text": "index"
         }
        },
        "yaxis": {
         "anchor": "x",
         "domain": [
          0,
          1
         ],
         "title": {
          "text": "amount"
         }
        }
       }
      }
     },
     "metadata": {},
     "output_type": "display_data"
    }
   ],
   "source": [
    "count_nan = chinese_dataset_1.isna().sum().to_frame().reset_index().rename(columns={0:\"amount\"})\n",
    "\n",
    "fig = px.line(count_nan, x=\"index\",y=\"amount\", template=\"plotly_dark\", title=f\"Count nan value in data table (total {len(chinese_dataset_1)} rows)\")\n",
    "fig.show()"
   ]
  },
  {
   "cell_type": "code",
   "execution_count": 140,
   "metadata": {},
   "outputs": [
    {
     "data": {
      "text/plain": [
       "{'B5.1. Room Length': {'Bedroom': 4.306029106029106,\n",
       "  'Classroom': 10.769897959183673,\n",
       "  'Dormitory': 4.227659574468086,\n",
       "  'Laboratory': 4.2,\n",
       "  'Living room': 7.01010101010101,\n",
       "  'Office': 10.581368469717985,\n",
       "  'Study': nan},\n",
       " 'B5.2. Room Width': {'Bedroom': 3.272141372141372,\n",
       "  'Classroom': 8.864158163265307,\n",
       "  'Dormitory': 4.6191489361702125,\n",
       "  'Laboratory': 3.6,\n",
       "  'Living room': 4.777777777777778,\n",
       "  'Office': 7.65913083680074,\n",
       "  'Study': nan},\n",
       " 'B5.Room Height (m)': {'Bedroom': 3.0487179487179485,\n",
       "  'Classroom': 3.9452685421994884,\n",
       "  'Dormitory': nan,\n",
       "  'Laboratory': nan,\n",
       "  'Living room': 2.7960000000000003,\n",
       "  'Office': 3.224581005586592,\n",
       "  'Study': nan}}"
      ]
     },
     "execution_count": 140,
     "metadata": {},
     "output_type": "execute_result"
    }
   ],
   "source": [
    "# Calculate the average Length, Width of each Building Functions\n",
    "\n",
    "chinese_dataset_1[[\"B5.1. Room Length\", \"B5.2. Room Width\"]] = chinese_dataset_1[\"B5.Room (LengthxWidth)\"].str.split(\"x\", n=1, expand=True)\n",
    "chinese_dataset_1[\"B5.1. Room Length\"] = pd.to_numeric(chinese_dataset_1[\"B5.1. Room Length\"], errors='coerce')\n",
    "chinese_dataset_1[\"B5.2. Room Width\"] = pd.to_numeric(chinese_dataset_1[\"B5.2. Room Width\"], errors='coerce')\n",
    "chinese_dataset_1[\"B5.Room Height (m)\"] = pd.to_numeric(chinese_dataset_1[\"B5.Room Height (m)\"], errors='coerce')\n",
    "\n",
    "avg_size_building_function = chinese_dataset_1.groupby([\"B2.Building Function\"]).agg({\"B5.1. Room Length\": \"mean\", \n",
    "                                                                                      \"B5.2. Room Width\": \"mean\",\n",
    "                                                                                      \"B5.Room Height (m)\":\"mean\"}).to_dict()\n",
    "avg_size_building_function "
   ]
  },
  {
   "cell_type": "code",
   "execution_count": 141,
   "metadata": {},
   "outputs": [],
   "source": [
    "# Fillnan Room Length\\Width\\Height with Average of its Building Function\n",
    "for measure in avg_size_building_function.items():\n",
    "    for value in measure[1].items():\n",
    "        chinese_dataset_1.loc[(chinese_dataset_1[\"B2.Building Function\"]==value[0]) & (chinese_dataset_1[measure[0]].isna()), measure[0]] = value[1]\n",
    "\n",
    "#Drop the old column\n",
    "chinese_dataset_1.drop(columns=[\"B5.Room (LengthxWidth)\"], inplace=True)"
   ]
  },
  {
   "cell_type": "code",
   "execution_count": 142,
   "metadata": {},
   "outputs": [
    {
     "data": {
      "text/html": [
       "<div>\n",
       "<style scoped>\n",
       "    .dataframe tbody tr th:only-of-type {\n",
       "        vertical-align: middle;\n",
       "    }\n",
       "\n",
       "    .dataframe tbody tr th {\n",
       "        vertical-align: top;\n",
       "    }\n",
       "\n",
       "    .dataframe thead th {\n",
       "        text-align: right;\n",
       "    }\n",
       "</style>\n",
       "<table border=\"1\" class=\"dataframe\">\n",
       "  <thead>\n",
       "    <tr style=\"text-align: right;\">\n",
       "      <th></th>\n",
       "      <th>A2.Date</th>\n",
       "      <th>A4.Season</th>\n",
       "      <th>A5.City</th>\n",
       "      <th>A6.Climate Zone</th>\n",
       "      <th>B1.Building Type</th>\n",
       "      <th>B2.Building Function</th>\n",
       "      <th>B4.Building Operation Mode</th>\n",
       "      <th>B5.Room Height (m)</th>\n",
       "      <th>C1.Sex</th>\n",
       "      <th>C2.Age</th>\n",
       "      <th>C3.Heightxcmx</th>\n",
       "      <th>C4.Weightxkgx</th>\n",
       "      <th>D1.TSV</th>\n",
       "      <th>D2.TCV</th>\n",
       "      <th>D3.TAV</th>\n",
       "      <th>D5.Clothing Insulation (clo)</th>\n",
       "      <th>D6.Metabolic Rate (met)</th>\n",
       "      <th>F1.Operative Temperature (x)</th>\n",
       "      <th>F2.Mean Radiant Temperature (x)</th>\n",
       "      <th>F3.Radiant Temperature Asymmetry (x)</th>\n",
       "      <th>F4.PMV</th>\n",
       "      <th>F5.PPD</th>\n",
       "      <th>Indoor Humidity (%)</th>\n",
       "      <th>Indoor Air Velocity (m/s)</th>\n",
       "      <th>B5.1. Room Length</th>\n",
       "      <th>B5.2. Room Width</th>\n",
       "    </tr>\n",
       "  </thead>\n",
       "  <tbody>\n",
       "    <tr>\n",
       "      <th>0</th>\n",
       "      <td>1/30/2019 10:35</td>\n",
       "      <td>Winter Season</td>\n",
       "      <td>Hebei Province,Handan City</td>\n",
       "      <td>Cold zone</td>\n",
       "      <td>Residential</td>\n",
       "      <td>Bedroom</td>\n",
       "      <td>Radiator heating</td>\n",
       "      <td>3.900000</td>\n",
       "      <td>Female</td>\n",
       "      <td>18-30</td>\n",
       "      <td>170</td>\n",
       "      <td>62</td>\n",
       "      <td>-1</td>\n",
       "      <td>1</td>\n",
       "      <td>0.1</td>\n",
       "      <td>1.1</td>\n",
       "      <td>1</td>\n",
       "      <td>20.8</td>\n",
       "      <td>20.9</td>\n",
       "      <td>0.74</td>\n",
       "      <td>-0.58</td>\n",
       "      <td>12.01</td>\n",
       "      <td>32</td>\n",
       "      <td>0</td>\n",
       "      <td>6.100000</td>\n",
       "      <td>3.400000</td>\n",
       "    </tr>\n",
       "    <tr>\n",
       "      <th>1</th>\n",
       "      <td>1/30/2019 10:42</td>\n",
       "      <td>Winter Season</td>\n",
       "      <td>Hebei Province,Handan City</td>\n",
       "      <td>Cold zone</td>\n",
       "      <td>Residential</td>\n",
       "      <td>Bedroom</td>\n",
       "      <td>Radiator heating</td>\n",
       "      <td>3.900000</td>\n",
       "      <td>Female</td>\n",
       "      <td>41-50</td>\n",
       "      <td>168</td>\n",
       "      <td>80</td>\n",
       "      <td>-1</td>\n",
       "      <td>1</td>\n",
       "      <td>1</td>\n",
       "      <td>1.83</td>\n",
       "      <td>0.9</td>\n",
       "      <td>20.8</td>\n",
       "      <td>20.9</td>\n",
       "      <td>0.74</td>\n",
       "      <td>-0.1</td>\n",
       "      <td>5.19</td>\n",
       "      <td>32</td>\n",
       "      <td>0</td>\n",
       "      <td>6.100000</td>\n",
       "      <td>3.400000</td>\n",
       "    </tr>\n",
       "    <tr>\n",
       "      <th>2</th>\n",
       "      <td>1/30/2019 10:45</td>\n",
       "      <td>Winter Season</td>\n",
       "      <td>Hebei Province,Handan City</td>\n",
       "      <td>Cold zone</td>\n",
       "      <td>Residential</td>\n",
       "      <td>Bedroom</td>\n",
       "      <td>Radiator heating</td>\n",
       "      <td>3.900000</td>\n",
       "      <td>Male</td>\n",
       "      <td>41-50</td>\n",
       "      <td>170</td>\n",
       "      <td>82</td>\n",
       "      <td>0</td>\n",
       "      <td>1</td>\n",
       "      <td>1</td>\n",
       "      <td>1.36</td>\n",
       "      <td>0.9</td>\n",
       "      <td>20.8</td>\n",
       "      <td>20.9</td>\n",
       "      <td>0.74</td>\n",
       "      <td>-0.66</td>\n",
       "      <td>14.14</td>\n",
       "      <td>32</td>\n",
       "      <td>0</td>\n",
       "      <td>6.100000</td>\n",
       "      <td>3.400000</td>\n",
       "    </tr>\n",
       "    <tr>\n",
       "      <th>3</th>\n",
       "      <td>1/30/2019 10:47</td>\n",
       "      <td>Winter Season</td>\n",
       "      <td>Hebei Province,Handan City</td>\n",
       "      <td>Cold zone</td>\n",
       "      <td>Residential</td>\n",
       "      <td>Bedroom</td>\n",
       "      <td>Radiator heating</td>\n",
       "      <td>3.900000</td>\n",
       "      <td>Male</td>\n",
       "      <td>18-30</td>\n",
       "      <td>178</td>\n",
       "      <td>65</td>\n",
       "      <td>0</td>\n",
       "      <td>1</td>\n",
       "      <td>1</td>\n",
       "      <td>1.58</td>\n",
       "      <td>0.9</td>\n",
       "      <td>20.8</td>\n",
       "      <td>20.9</td>\n",
       "      <td>0.74</td>\n",
       "      <td>-0.36</td>\n",
       "      <td>7.78</td>\n",
       "      <td>32</td>\n",
       "      <td>0</td>\n",
       "      <td>6.100000</td>\n",
       "      <td>3.400000</td>\n",
       "    </tr>\n",
       "    <tr>\n",
       "      <th>4</th>\n",
       "      <td>1/31/2019 20:20</td>\n",
       "      <td>Winter Season</td>\n",
       "      <td>Hebei Province,Handan City</td>\n",
       "      <td>Cold zone</td>\n",
       "      <td>Residential</td>\n",
       "      <td>Bedroom</td>\n",
       "      <td>Radiator heating</td>\n",
       "      <td>3.900000</td>\n",
       "      <td>Male</td>\n",
       "      <td>18-30</td>\n",
       "      <td>174</td>\n",
       "      <td>80</td>\n",
       "      <td>0</td>\n",
       "      <td>1</td>\n",
       "      <td>1</td>\n",
       "      <td>1.38</td>\n",
       "      <td>0.9</td>\n",
       "      <td>20</td>\n",
       "      <td>19.8</td>\n",
       "      <td>1.12</td>\n",
       "      <td>-0.82</td>\n",
       "      <td>19.45</td>\n",
       "      <td>33</td>\n",
       "      <td>0</td>\n",
       "      <td>6.100000</td>\n",
       "      <td>3.400000</td>\n",
       "    </tr>\n",
       "    <tr>\n",
       "      <th>...</th>\n",
       "      <td>...</td>\n",
       "      <td>...</td>\n",
       "      <td>...</td>\n",
       "      <td>...</td>\n",
       "      <td>...</td>\n",
       "      <td>...</td>\n",
       "      <td>...</td>\n",
       "      <td>...</td>\n",
       "      <td>...</td>\n",
       "      <td>...</td>\n",
       "      <td>...</td>\n",
       "      <td>...</td>\n",
       "      <td>...</td>\n",
       "      <td>...</td>\n",
       "      <td>...</td>\n",
       "      <td>...</td>\n",
       "      <td>...</td>\n",
       "      <td>...</td>\n",
       "      <td>...</td>\n",
       "      <td>...</td>\n",
       "      <td>...</td>\n",
       "      <td>...</td>\n",
       "      <td>...</td>\n",
       "      <td>...</td>\n",
       "      <td>...</td>\n",
       "      <td>...</td>\n",
       "    </tr>\n",
       "    <tr>\n",
       "      <th>4974</th>\n",
       "      <td>1/30/2018 16:21</td>\n",
       "      <td>Winter Season</td>\n",
       "      <td>Shaanxi Province, Xi'an City</td>\n",
       "      <td>Cold zone</td>\n",
       "      <td>Office</td>\n",
       "      <td>Office</td>\n",
       "      <td>Radiator heating</td>\n",
       "      <td>3.224581</td>\n",
       "      <td>Male</td>\n",
       "      <td>24</td>\n",
       "      <td>180.0</td>\n",
       "      <td>80.0</td>\n",
       "      <td>2.0</td>\n",
       "      <td>2.0</td>\n",
       "      <td>0.5</td>\n",
       "      <td>0.22</td>\n",
       "      <td>1.1</td>\n",
       "      <td>22.8</td>\n",
       "      <td>22.8</td>\n",
       "      <td>1.52</td>\n",
       "      <td>0.15</td>\n",
       "      <td>5.44</td>\n",
       "      <td>9</td>\n",
       "      <td>0.02</td>\n",
       "      <td>10.581368</td>\n",
       "      <td>7.659131</td>\n",
       "    </tr>\n",
       "    <tr>\n",
       "      <th>4975</th>\n",
       "      <td>1/30/2018 16:29</td>\n",
       "      <td>Winter Season</td>\n",
       "      <td>Shaanxi Province, Xi'an City</td>\n",
       "      <td>Cold zone</td>\n",
       "      <td>Office</td>\n",
       "      <td>Office</td>\n",
       "      <td>Radiator heating</td>\n",
       "      <td>3.224581</td>\n",
       "      <td>Male</td>\n",
       "      <td>25</td>\n",
       "      <td>185.0</td>\n",
       "      <td>83.0</td>\n",
       "      <td>3.0</td>\n",
       "      <td>4.0</td>\n",
       "      <td>-0.5</td>\n",
       "      <td>0.32</td>\n",
       "      <td>1.1</td>\n",
       "      <td>22.7</td>\n",
       "      <td>22.8</td>\n",
       "      <td>0.82</td>\n",
       "      <td>0.02</td>\n",
       "      <td>5.01</td>\n",
       "      <td>9</td>\n",
       "      <td>0.03</td>\n",
       "      <td>10.581368</td>\n",
       "      <td>7.659131</td>\n",
       "    </tr>\n",
       "    <tr>\n",
       "      <th>4976</th>\n",
       "      <td>1/30/2018 16:42</td>\n",
       "      <td>Winter Season</td>\n",
       "      <td>Shaanxi Province, Xi'an City</td>\n",
       "      <td>Cold zone</td>\n",
       "      <td>Office</td>\n",
       "      <td>Office</td>\n",
       "      <td>Radiator heating</td>\n",
       "      <td>3.224581</td>\n",
       "      <td>Male</td>\n",
       "      <td>24</td>\n",
       "      <td>170.0</td>\n",
       "      <td>60.0</td>\n",
       "      <td>1.0</td>\n",
       "      <td>1.0</td>\n",
       "      <td>0.5</td>\n",
       "      <td>0.58</td>\n",
       "      <td>1.1</td>\n",
       "      <td>21.8</td>\n",
       "      <td>22.4</td>\n",
       "      <td>1.87</td>\n",
       "      <td>-0.46</td>\n",
       "      <td>9.43</td>\n",
       "      <td>9</td>\n",
       "      <td>0.01</td>\n",
       "      <td>10.581368</td>\n",
       "      <td>7.659131</td>\n",
       "    </tr>\n",
       "    <tr>\n",
       "      <th>4977</th>\n",
       "      <td>1/30/2018 16:43</td>\n",
       "      <td>Winter Season</td>\n",
       "      <td>Shaanxi Province, Xi'an City</td>\n",
       "      <td>Cold zone</td>\n",
       "      <td>Office</td>\n",
       "      <td>Office</td>\n",
       "      <td>Radiator heating</td>\n",
       "      <td>3.224581</td>\n",
       "      <td>Female</td>\n",
       "      <td>23</td>\n",
       "      <td>158.0</td>\n",
       "      <td>54.0</td>\n",
       "      <td>1.0</td>\n",
       "      <td>2.0</td>\n",
       "      <td>0.5</td>\n",
       "      <td>0.44</td>\n",
       "      <td>1.1</td>\n",
       "      <td>21.8</td>\n",
       "      <td>22.4</td>\n",
       "      <td>1.87</td>\n",
       "      <td>-0.17</td>\n",
       "      <td>5.64</td>\n",
       "      <td>9</td>\n",
       "      <td>0.01</td>\n",
       "      <td>10.581368</td>\n",
       "      <td>7.659131</td>\n",
       "    </tr>\n",
       "    <tr>\n",
       "      <th>4978</th>\n",
       "      <td>1/30/2018 17:00</td>\n",
       "      <td>Winter Season</td>\n",
       "      <td>Shaanxi Province, Xi'an City</td>\n",
       "      <td>Cold zone</td>\n",
       "      <td>Office</td>\n",
       "      <td>Office</td>\n",
       "      <td>Radiator heating</td>\n",
       "      <td>3.224581</td>\n",
       "      <td>Male</td>\n",
       "      <td>24</td>\n",
       "      <td>170.0</td>\n",
       "      <td>51.0</td>\n",
       "      <td>1.0</td>\n",
       "      <td>2.0</td>\n",
       "      <td>0.5</td>\n",
       "      <td>0.41</td>\n",
       "      <td>1.0</td>\n",
       "      <td>22.1</td>\n",
       "      <td>22.1</td>\n",
       "      <td>0.98</td>\n",
       "      <td>-0.59</td>\n",
       "      <td>12.37</td>\n",
       "      <td>9</td>\n",
       "      <td>0.02</td>\n",
       "      <td>10.581368</td>\n",
       "      <td>7.659131</td>\n",
       "    </tr>\n",
       "  </tbody>\n",
       "</table>\n",
       "<p>4979 rows × 26 columns</p>\n",
       "</div>"
      ],
      "text/plain": [
       "              A2.Date      A4.Season                       A5.City  \\\n",
       "0     1/30/2019 10:35  Winter Season    Hebei Province,Handan City   \n",
       "1     1/30/2019 10:42  Winter Season    Hebei Province,Handan City   \n",
       "2     1/30/2019 10:45  Winter Season    Hebei Province,Handan City   \n",
       "3     1/30/2019 10:47  Winter Season    Hebei Province,Handan City   \n",
       "4     1/31/2019 20:20  Winter Season    Hebei Province,Handan City   \n",
       "...               ...            ...                           ...   \n",
       "4974  1/30/2018 16:21  Winter Season  Shaanxi Province, Xi'an City   \n",
       "4975  1/30/2018 16:29  Winter Season  Shaanxi Province, Xi'an City   \n",
       "4976  1/30/2018 16:42  Winter Season  Shaanxi Province, Xi'an City   \n",
       "4977  1/30/2018 16:43  Winter Season  Shaanxi Province, Xi'an City   \n",
       "4978  1/30/2018 17:00  Winter Season  Shaanxi Province, Xi'an City   \n",
       "\n",
       "     A6.Climate Zone B1.Building Type B2.Building Function  \\\n",
       "0          Cold zone      Residential              Bedroom   \n",
       "1          Cold zone      Residential              Bedroom   \n",
       "2          Cold zone      Residential              Bedroom   \n",
       "3          Cold zone      Residential              Bedroom   \n",
       "4          Cold zone      Residential              Bedroom   \n",
       "...              ...              ...                  ...   \n",
       "4974       Cold zone           Office               Office   \n",
       "4975       Cold zone           Office               Office   \n",
       "4976       Cold zone           Office               Office   \n",
       "4977       Cold zone           Office               Office   \n",
       "4978       Cold zone           Office               Office   \n",
       "\n",
       "     B4.Building Operation Mode  B5.Room Height (m)  C1.Sex C2.Age  \\\n",
       "0              Radiator heating            3.900000  Female  18-30   \n",
       "1              Radiator heating            3.900000  Female  41-50   \n",
       "2              Radiator heating            3.900000    Male  41-50   \n",
       "3              Radiator heating            3.900000    Male  18-30   \n",
       "4              Radiator heating            3.900000    Male  18-30   \n",
       "...                         ...                 ...     ...    ...   \n",
       "4974           Radiator heating            3.224581    Male     24   \n",
       "4975           Radiator heating            3.224581    Male     25   \n",
       "4976           Radiator heating            3.224581    Male     24   \n",
       "4977           Radiator heating            3.224581  Female     23   \n",
       "4978           Radiator heating            3.224581    Male     24   \n",
       "\n",
       "     C3.Heightxcmx C4.Weightxkgx D1.TSV D2.TCV D3.TAV  \\\n",
       "0              170            62     -1      1    0.1   \n",
       "1              168            80     -1      1      1   \n",
       "2              170            82      0      1      1   \n",
       "3              178            65      0      1      1   \n",
       "4              174            80      0      1      1   \n",
       "...            ...           ...    ...    ...    ...   \n",
       "4974         180.0          80.0    2.0    2.0    0.5   \n",
       "4975         185.0          83.0    3.0    4.0   -0.5   \n",
       "4976         170.0          60.0    1.0    1.0    0.5   \n",
       "4977         158.0          54.0    1.0    2.0    0.5   \n",
       "4978         170.0          51.0    1.0    2.0    0.5   \n",
       "\n",
       "     D5.Clothing Insulation (clo) D6.Metabolic Rate (met)  \\\n",
       "0                             1.1                       1   \n",
       "1                            1.83                     0.9   \n",
       "2                            1.36                     0.9   \n",
       "3                            1.58                     0.9   \n",
       "4                            1.38                     0.9   \n",
       "...                           ...                     ...   \n",
       "4974                         0.22                     1.1   \n",
       "4975                         0.32                     1.1   \n",
       "4976                         0.58                     1.1   \n",
       "4977                         0.44                     1.1   \n",
       "4978                         0.41                     1.0   \n",
       "\n",
       "     F1.Operative Temperature (x) F2.Mean Radiant Temperature (x)  \\\n",
       "0                            20.8                            20.9   \n",
       "1                            20.8                            20.9   \n",
       "2                            20.8                            20.9   \n",
       "3                            20.8                            20.9   \n",
       "4                              20                            19.8   \n",
       "...                           ...                             ...   \n",
       "4974                         22.8                            22.8   \n",
       "4975                         22.7                            22.8   \n",
       "4976                         21.8                            22.4   \n",
       "4977                         21.8                            22.4   \n",
       "4978                         22.1                            22.1   \n",
       "\n",
       "     F3.Radiant Temperature Asymmetry (x) F4.PMV F5.PPD Indoor Humidity (%)  \\\n",
       "0                                    0.74  -0.58  12.01                  32   \n",
       "1                                    0.74   -0.1   5.19                  32   \n",
       "2                                    0.74  -0.66  14.14                  32   \n",
       "3                                    0.74  -0.36   7.78                  32   \n",
       "4                                    1.12  -0.82  19.45                  33   \n",
       "...                                   ...    ...    ...                 ...   \n",
       "4974                                 1.52   0.15   5.44                   9   \n",
       "4975                                 0.82   0.02   5.01                   9   \n",
       "4976                                 1.87  -0.46   9.43                   9   \n",
       "4977                                 1.87  -0.17   5.64                   9   \n",
       "4978                                 0.98  -0.59  12.37                   9   \n",
       "\n",
       "     Indoor Air Velocity (m/s)  B5.1. Room Length  B5.2. Room Width  \n",
       "0                            0           6.100000          3.400000  \n",
       "1                            0           6.100000          3.400000  \n",
       "2                            0           6.100000          3.400000  \n",
       "3                            0           6.100000          3.400000  \n",
       "4                            0           6.100000          3.400000  \n",
       "...                        ...                ...               ...  \n",
       "4974                      0.02          10.581368          7.659131  \n",
       "4975                      0.03          10.581368          7.659131  \n",
       "4976                      0.01          10.581368          7.659131  \n",
       "4977                      0.01          10.581368          7.659131  \n",
       "4978                      0.02          10.581368          7.659131  \n",
       "\n",
       "[4979 rows x 26 columns]"
      ]
     },
     "execution_count": 142,
     "metadata": {},
     "output_type": "execute_result"
    }
   ],
   "source": [
    "chinese_dataset_1.dropna(subset=[\"B5.Room Height (m)\", \"C1.Sex\", \"C2.Age\", \"C3.Heightxcmx\", \"C4.Weightxkgx\", 'D3.TAV', 'F3.Radiant Temperature Asymmetry (x)'], how=\"any\", inplace=True)\n",
    "chinese_dataset_1 = chinese_dataset_1.reset_index(drop=True)\n",
    "chinese_dataset_1"
   ]
  },
  {
   "cell_type": "code",
   "execution_count": 143,
   "metadata": {},
   "outputs": [
    {
     "data": {
      "text/html": [
       "<div>\n",
       "<style scoped>\n",
       "    .dataframe tbody tr th:only-of-type {\n",
       "        vertical-align: middle;\n",
       "    }\n",
       "\n",
       "    .dataframe tbody tr th {\n",
       "        vertical-align: top;\n",
       "    }\n",
       "\n",
       "    .dataframe thead th {\n",
       "        text-align: right;\n",
       "    }\n",
       "</style>\n",
       "<table border=\"1\" class=\"dataframe\">\n",
       "  <thead>\n",
       "    <tr style=\"text-align: right;\">\n",
       "      <th></th>\n",
       "      <th>timestamp</th>\n",
       "      <th>season</th>\n",
       "      <th>city</th>\n",
       "      <th>climate_zone</th>\n",
       "      <th>building_type</th>\n",
       "      <th>building_function</th>\n",
       "      <th>building_operation_mode</th>\n",
       "      <th>room_height</th>\n",
       "      <th>room_length</th>\n",
       "      <th>room_width</th>\n",
       "      <th>person_gender</th>\n",
       "      <th>person_age</th>\n",
       "      <th>person_height</th>\n",
       "      <th>person_weight</th>\n",
       "      <th>person_cloth</th>\n",
       "      <th>person_activity</th>\n",
       "      <th>indoor_operative_temperature</th>\n",
       "      <th>indoor_mean_radiant_temp</th>\n",
       "      <th>indoor_asymmetry_temp</th>\n",
       "      <th>indoor_humidity</th>\n",
       "      <th>indoor_air_velocity</th>\n",
       "      <th>ashrae_predicted_mean_vote</th>\n",
       "      <th>ashrae_predicted_percentage_of_dissatisfied</th>\n",
       "      <th>label_thermal_sensation_vote</th>\n",
       "      <th>label_thermal_comfort_vote</th>\n",
       "      <th>label_thermal_acceptability_vote</th>\n",
       "    </tr>\n",
       "  </thead>\n",
       "  <tbody>\n",
       "    <tr>\n",
       "      <th>0</th>\n",
       "      <td>1/30/2019 10:35</td>\n",
       "      <td>Winter Season</td>\n",
       "      <td>Hebei Province,Handan City</td>\n",
       "      <td>Cold zone</td>\n",
       "      <td>Residential</td>\n",
       "      <td>Bedroom</td>\n",
       "      <td>Radiator heating</td>\n",
       "      <td>3.900000</td>\n",
       "      <td>6.100000</td>\n",
       "      <td>3.400000</td>\n",
       "      <td>Female</td>\n",
       "      <td>18-30</td>\n",
       "      <td>170</td>\n",
       "      <td>62</td>\n",
       "      <td>1.1</td>\n",
       "      <td>1</td>\n",
       "      <td>20.8</td>\n",
       "      <td>20.9</td>\n",
       "      <td>0.74</td>\n",
       "      <td>32</td>\n",
       "      <td>0</td>\n",
       "      <td>-0.58</td>\n",
       "      <td>12.01</td>\n",
       "      <td>-1</td>\n",
       "      <td>1</td>\n",
       "      <td>0.1</td>\n",
       "    </tr>\n",
       "    <tr>\n",
       "      <th>1</th>\n",
       "      <td>1/30/2019 10:42</td>\n",
       "      <td>Winter Season</td>\n",
       "      <td>Hebei Province,Handan City</td>\n",
       "      <td>Cold zone</td>\n",
       "      <td>Residential</td>\n",
       "      <td>Bedroom</td>\n",
       "      <td>Radiator heating</td>\n",
       "      <td>3.900000</td>\n",
       "      <td>6.100000</td>\n",
       "      <td>3.400000</td>\n",
       "      <td>Female</td>\n",
       "      <td>41-50</td>\n",
       "      <td>168</td>\n",
       "      <td>80</td>\n",
       "      <td>1.83</td>\n",
       "      <td>0.9</td>\n",
       "      <td>20.8</td>\n",
       "      <td>20.9</td>\n",
       "      <td>0.74</td>\n",
       "      <td>32</td>\n",
       "      <td>0</td>\n",
       "      <td>-0.1</td>\n",
       "      <td>5.19</td>\n",
       "      <td>-1</td>\n",
       "      <td>1</td>\n",
       "      <td>1</td>\n",
       "    </tr>\n",
       "    <tr>\n",
       "      <th>2</th>\n",
       "      <td>1/30/2019 10:45</td>\n",
       "      <td>Winter Season</td>\n",
       "      <td>Hebei Province,Handan City</td>\n",
       "      <td>Cold zone</td>\n",
       "      <td>Residential</td>\n",
       "      <td>Bedroom</td>\n",
       "      <td>Radiator heating</td>\n",
       "      <td>3.900000</td>\n",
       "      <td>6.100000</td>\n",
       "      <td>3.400000</td>\n",
       "      <td>Male</td>\n",
       "      <td>41-50</td>\n",
       "      <td>170</td>\n",
       "      <td>82</td>\n",
       "      <td>1.36</td>\n",
       "      <td>0.9</td>\n",
       "      <td>20.8</td>\n",
       "      <td>20.9</td>\n",
       "      <td>0.74</td>\n",
       "      <td>32</td>\n",
       "      <td>0</td>\n",
       "      <td>-0.66</td>\n",
       "      <td>14.14</td>\n",
       "      <td>0</td>\n",
       "      <td>1</td>\n",
       "      <td>1</td>\n",
       "    </tr>\n",
       "    <tr>\n",
       "      <th>3</th>\n",
       "      <td>1/30/2019 10:47</td>\n",
       "      <td>Winter Season</td>\n",
       "      <td>Hebei Province,Handan City</td>\n",
       "      <td>Cold zone</td>\n",
       "      <td>Residential</td>\n",
       "      <td>Bedroom</td>\n",
       "      <td>Radiator heating</td>\n",
       "      <td>3.900000</td>\n",
       "      <td>6.100000</td>\n",
       "      <td>3.400000</td>\n",
       "      <td>Male</td>\n",
       "      <td>18-30</td>\n",
       "      <td>178</td>\n",
       "      <td>65</td>\n",
       "      <td>1.58</td>\n",
       "      <td>0.9</td>\n",
       "      <td>20.8</td>\n",
       "      <td>20.9</td>\n",
       "      <td>0.74</td>\n",
       "      <td>32</td>\n",
       "      <td>0</td>\n",
       "      <td>-0.36</td>\n",
       "      <td>7.78</td>\n",
       "      <td>0</td>\n",
       "      <td>1</td>\n",
       "      <td>1</td>\n",
       "    </tr>\n",
       "    <tr>\n",
       "      <th>4</th>\n",
       "      <td>1/31/2019 20:20</td>\n",
       "      <td>Winter Season</td>\n",
       "      <td>Hebei Province,Handan City</td>\n",
       "      <td>Cold zone</td>\n",
       "      <td>Residential</td>\n",
       "      <td>Bedroom</td>\n",
       "      <td>Radiator heating</td>\n",
       "      <td>3.900000</td>\n",
       "      <td>6.100000</td>\n",
       "      <td>3.400000</td>\n",
       "      <td>Male</td>\n",
       "      <td>18-30</td>\n",
       "      <td>174</td>\n",
       "      <td>80</td>\n",
       "      <td>1.38</td>\n",
       "      <td>0.9</td>\n",
       "      <td>20</td>\n",
       "      <td>19.8</td>\n",
       "      <td>1.12</td>\n",
       "      <td>33</td>\n",
       "      <td>0</td>\n",
       "      <td>-0.82</td>\n",
       "      <td>19.45</td>\n",
       "      <td>0</td>\n",
       "      <td>1</td>\n",
       "      <td>1</td>\n",
       "    </tr>\n",
       "    <tr>\n",
       "      <th>...</th>\n",
       "      <td>...</td>\n",
       "      <td>...</td>\n",
       "      <td>...</td>\n",
       "      <td>...</td>\n",
       "      <td>...</td>\n",
       "      <td>...</td>\n",
       "      <td>...</td>\n",
       "      <td>...</td>\n",
       "      <td>...</td>\n",
       "      <td>...</td>\n",
       "      <td>...</td>\n",
       "      <td>...</td>\n",
       "      <td>...</td>\n",
       "      <td>...</td>\n",
       "      <td>...</td>\n",
       "      <td>...</td>\n",
       "      <td>...</td>\n",
       "      <td>...</td>\n",
       "      <td>...</td>\n",
       "      <td>...</td>\n",
       "      <td>...</td>\n",
       "      <td>...</td>\n",
       "      <td>...</td>\n",
       "      <td>...</td>\n",
       "      <td>...</td>\n",
       "      <td>...</td>\n",
       "    </tr>\n",
       "    <tr>\n",
       "      <th>4974</th>\n",
       "      <td>1/30/2018 16:21</td>\n",
       "      <td>Winter Season</td>\n",
       "      <td>Shaanxi Province, Xi'an City</td>\n",
       "      <td>Cold zone</td>\n",
       "      <td>Office</td>\n",
       "      <td>Office</td>\n",
       "      <td>Radiator heating</td>\n",
       "      <td>3.224581</td>\n",
       "      <td>10.581368</td>\n",
       "      <td>7.659131</td>\n",
       "      <td>Male</td>\n",
       "      <td>24</td>\n",
       "      <td>180.0</td>\n",
       "      <td>80.0</td>\n",
       "      <td>0.22</td>\n",
       "      <td>1.1</td>\n",
       "      <td>22.8</td>\n",
       "      <td>22.8</td>\n",
       "      <td>1.52</td>\n",
       "      <td>9</td>\n",
       "      <td>0.02</td>\n",
       "      <td>0.15</td>\n",
       "      <td>5.44</td>\n",
       "      <td>2.0</td>\n",
       "      <td>2.0</td>\n",
       "      <td>0.5</td>\n",
       "    </tr>\n",
       "    <tr>\n",
       "      <th>4975</th>\n",
       "      <td>1/30/2018 16:29</td>\n",
       "      <td>Winter Season</td>\n",
       "      <td>Shaanxi Province, Xi'an City</td>\n",
       "      <td>Cold zone</td>\n",
       "      <td>Office</td>\n",
       "      <td>Office</td>\n",
       "      <td>Radiator heating</td>\n",
       "      <td>3.224581</td>\n",
       "      <td>10.581368</td>\n",
       "      <td>7.659131</td>\n",
       "      <td>Male</td>\n",
       "      <td>25</td>\n",
       "      <td>185.0</td>\n",
       "      <td>83.0</td>\n",
       "      <td>0.32</td>\n",
       "      <td>1.1</td>\n",
       "      <td>22.7</td>\n",
       "      <td>22.8</td>\n",
       "      <td>0.82</td>\n",
       "      <td>9</td>\n",
       "      <td>0.03</td>\n",
       "      <td>0.02</td>\n",
       "      <td>5.01</td>\n",
       "      <td>3.0</td>\n",
       "      <td>4.0</td>\n",
       "      <td>-0.5</td>\n",
       "    </tr>\n",
       "    <tr>\n",
       "      <th>4976</th>\n",
       "      <td>1/30/2018 16:42</td>\n",
       "      <td>Winter Season</td>\n",
       "      <td>Shaanxi Province, Xi'an City</td>\n",
       "      <td>Cold zone</td>\n",
       "      <td>Office</td>\n",
       "      <td>Office</td>\n",
       "      <td>Radiator heating</td>\n",
       "      <td>3.224581</td>\n",
       "      <td>10.581368</td>\n",
       "      <td>7.659131</td>\n",
       "      <td>Male</td>\n",
       "      <td>24</td>\n",
       "      <td>170.0</td>\n",
       "      <td>60.0</td>\n",
       "      <td>0.58</td>\n",
       "      <td>1.1</td>\n",
       "      <td>21.8</td>\n",
       "      <td>22.4</td>\n",
       "      <td>1.87</td>\n",
       "      <td>9</td>\n",
       "      <td>0.01</td>\n",
       "      <td>-0.46</td>\n",
       "      <td>9.43</td>\n",
       "      <td>1.0</td>\n",
       "      <td>1.0</td>\n",
       "      <td>0.5</td>\n",
       "    </tr>\n",
       "    <tr>\n",
       "      <th>4977</th>\n",
       "      <td>1/30/2018 16:43</td>\n",
       "      <td>Winter Season</td>\n",
       "      <td>Shaanxi Province, Xi'an City</td>\n",
       "      <td>Cold zone</td>\n",
       "      <td>Office</td>\n",
       "      <td>Office</td>\n",
       "      <td>Radiator heating</td>\n",
       "      <td>3.224581</td>\n",
       "      <td>10.581368</td>\n",
       "      <td>7.659131</td>\n",
       "      <td>Female</td>\n",
       "      <td>23</td>\n",
       "      <td>158.0</td>\n",
       "      <td>54.0</td>\n",
       "      <td>0.44</td>\n",
       "      <td>1.1</td>\n",
       "      <td>21.8</td>\n",
       "      <td>22.4</td>\n",
       "      <td>1.87</td>\n",
       "      <td>9</td>\n",
       "      <td>0.01</td>\n",
       "      <td>-0.17</td>\n",
       "      <td>5.64</td>\n",
       "      <td>1.0</td>\n",
       "      <td>2.0</td>\n",
       "      <td>0.5</td>\n",
       "    </tr>\n",
       "    <tr>\n",
       "      <th>4978</th>\n",
       "      <td>1/30/2018 17:00</td>\n",
       "      <td>Winter Season</td>\n",
       "      <td>Shaanxi Province, Xi'an City</td>\n",
       "      <td>Cold zone</td>\n",
       "      <td>Office</td>\n",
       "      <td>Office</td>\n",
       "      <td>Radiator heating</td>\n",
       "      <td>3.224581</td>\n",
       "      <td>10.581368</td>\n",
       "      <td>7.659131</td>\n",
       "      <td>Male</td>\n",
       "      <td>24</td>\n",
       "      <td>170.0</td>\n",
       "      <td>51.0</td>\n",
       "      <td>0.41</td>\n",
       "      <td>1.0</td>\n",
       "      <td>22.1</td>\n",
       "      <td>22.1</td>\n",
       "      <td>0.98</td>\n",
       "      <td>9</td>\n",
       "      <td>0.02</td>\n",
       "      <td>-0.59</td>\n",
       "      <td>12.37</td>\n",
       "      <td>1.0</td>\n",
       "      <td>2.0</td>\n",
       "      <td>0.5</td>\n",
       "    </tr>\n",
       "  </tbody>\n",
       "</table>\n",
       "<p>4979 rows × 26 columns</p>\n",
       "</div>"
      ],
      "text/plain": [
       "            timestamp         season                          city  \\\n",
       "0     1/30/2019 10:35  Winter Season    Hebei Province,Handan City   \n",
       "1     1/30/2019 10:42  Winter Season    Hebei Province,Handan City   \n",
       "2     1/30/2019 10:45  Winter Season    Hebei Province,Handan City   \n",
       "3     1/30/2019 10:47  Winter Season    Hebei Province,Handan City   \n",
       "4     1/31/2019 20:20  Winter Season    Hebei Province,Handan City   \n",
       "...               ...            ...                           ...   \n",
       "4974  1/30/2018 16:21  Winter Season  Shaanxi Province, Xi'an City   \n",
       "4975  1/30/2018 16:29  Winter Season  Shaanxi Province, Xi'an City   \n",
       "4976  1/30/2018 16:42  Winter Season  Shaanxi Province, Xi'an City   \n",
       "4977  1/30/2018 16:43  Winter Season  Shaanxi Province, Xi'an City   \n",
       "4978  1/30/2018 17:00  Winter Season  Shaanxi Province, Xi'an City   \n",
       "\n",
       "     climate_zone building_type building_function building_operation_mode  \\\n",
       "0       Cold zone   Residential           Bedroom        Radiator heating   \n",
       "1       Cold zone   Residential           Bedroom        Radiator heating   \n",
       "2       Cold zone   Residential           Bedroom        Radiator heating   \n",
       "3       Cold zone   Residential           Bedroom        Radiator heating   \n",
       "4       Cold zone   Residential           Bedroom        Radiator heating   \n",
       "...           ...           ...               ...                     ...   \n",
       "4974    Cold zone        Office            Office        Radiator heating   \n",
       "4975    Cold zone        Office            Office        Radiator heating   \n",
       "4976    Cold zone        Office            Office        Radiator heating   \n",
       "4977    Cold zone        Office            Office        Radiator heating   \n",
       "4978    Cold zone        Office            Office        Radiator heating   \n",
       "\n",
       "      room_height  room_length  room_width person_gender person_age  \\\n",
       "0        3.900000     6.100000    3.400000        Female      18-30   \n",
       "1        3.900000     6.100000    3.400000        Female      41-50   \n",
       "2        3.900000     6.100000    3.400000          Male      41-50   \n",
       "3        3.900000     6.100000    3.400000          Male      18-30   \n",
       "4        3.900000     6.100000    3.400000          Male      18-30   \n",
       "...           ...          ...         ...           ...        ...   \n",
       "4974     3.224581    10.581368    7.659131          Male         24   \n",
       "4975     3.224581    10.581368    7.659131          Male         25   \n",
       "4976     3.224581    10.581368    7.659131          Male         24   \n",
       "4977     3.224581    10.581368    7.659131        Female         23   \n",
       "4978     3.224581    10.581368    7.659131          Male         24   \n",
       "\n",
       "     person_height person_weight person_cloth person_activity  \\\n",
       "0              170            62          1.1               1   \n",
       "1              168            80         1.83             0.9   \n",
       "2              170            82         1.36             0.9   \n",
       "3              178            65         1.58             0.9   \n",
       "4              174            80         1.38             0.9   \n",
       "...            ...           ...          ...             ...   \n",
       "4974         180.0          80.0         0.22             1.1   \n",
       "4975         185.0          83.0         0.32             1.1   \n",
       "4976         170.0          60.0         0.58             1.1   \n",
       "4977         158.0          54.0         0.44             1.1   \n",
       "4978         170.0          51.0         0.41             1.0   \n",
       "\n",
       "     indoor_operative_temperature indoor_mean_radiant_temp  \\\n",
       "0                            20.8                     20.9   \n",
       "1                            20.8                     20.9   \n",
       "2                            20.8                     20.9   \n",
       "3                            20.8                     20.9   \n",
       "4                              20                     19.8   \n",
       "...                           ...                      ...   \n",
       "4974                         22.8                     22.8   \n",
       "4975                         22.7                     22.8   \n",
       "4976                         21.8                     22.4   \n",
       "4977                         21.8                     22.4   \n",
       "4978                         22.1                     22.1   \n",
       "\n",
       "     indoor_asymmetry_temp indoor_humidity indoor_air_velocity  \\\n",
       "0                     0.74              32                   0   \n",
       "1                     0.74              32                   0   \n",
       "2                     0.74              32                   0   \n",
       "3                     0.74              32                   0   \n",
       "4                     1.12              33                   0   \n",
       "...                    ...             ...                 ...   \n",
       "4974                  1.52               9                0.02   \n",
       "4975                  0.82               9                0.03   \n",
       "4976                  1.87               9                0.01   \n",
       "4977                  1.87               9                0.01   \n",
       "4978                  0.98               9                0.02   \n",
       "\n",
       "     ashrae_predicted_mean_vote ashrae_predicted_percentage_of_dissatisfied  \\\n",
       "0                         -0.58                                       12.01   \n",
       "1                          -0.1                                        5.19   \n",
       "2                         -0.66                                       14.14   \n",
       "3                         -0.36                                        7.78   \n",
       "4                         -0.82                                       19.45   \n",
       "...                         ...                                         ...   \n",
       "4974                       0.15                                        5.44   \n",
       "4975                       0.02                                        5.01   \n",
       "4976                      -0.46                                        9.43   \n",
       "4977                      -0.17                                        5.64   \n",
       "4978                      -0.59                                       12.37   \n",
       "\n",
       "     label_thermal_sensation_vote label_thermal_comfort_vote  \\\n",
       "0                              -1                          1   \n",
       "1                              -1                          1   \n",
       "2                               0                          1   \n",
       "3                               0                          1   \n",
       "4                               0                          1   \n",
       "...                           ...                        ...   \n",
       "4974                          2.0                        2.0   \n",
       "4975                          3.0                        4.0   \n",
       "4976                          1.0                        1.0   \n",
       "4977                          1.0                        2.0   \n",
       "4978                          1.0                        2.0   \n",
       "\n",
       "     label_thermal_acceptability_vote  \n",
       "0                                 0.1  \n",
       "1                                   1  \n",
       "2                                   1  \n",
       "3                                   1  \n",
       "4                                   1  \n",
       "...                               ...  \n",
       "4974                              0.5  \n",
       "4975                             -0.5  \n",
       "4976                              0.5  \n",
       "4977                              0.5  \n",
       "4978                              0.5  \n",
       "\n",
       "[4979 rows x 26 columns]"
      ]
     },
     "execution_count": 143,
     "metadata": {},
     "output_type": "execute_result"
    }
   ],
   "source": [
    "chinese_dataset_1 = chinese_dataset_1[[\"A2.Date\", \"A4.Season\", \"A5.City\", \"A6.Climate Zone\", \n",
    "                                       \"B1.Building Type\", \"B2.Building Function\", \"B4.Building Operation Mode\",\n",
    "                                       \"B5.Room Height (m)\", \"B5.1. Room Length\", \"B5.2. Room Width\",\n",
    "                                       \"C1.Sex\", \"C2.Age\", \"C3.Heightxcmx\", \"C4.Weightxkgx\", \"D5.Clothing Insulation (clo)\", \"D6.Metabolic Rate (met)\",\n",
    "                                       \"F1.Operative Temperature (x)\", \"F2.Mean Radiant Temperature (x)\", \"F3.Radiant Temperature Asymmetry (x)\", \"Indoor Humidity (%)\", \"Indoor Air Velocity (m/s)\", \n",
    "                                       \"F4.PMV\", \"F5.PPD\", \n",
    "                                       \"D1.TSV\", \"D2.TCV\", \"D3.TAV\"]]\n",
    "chinese_dataset_1.rename(columns={\n",
    "    \"A2.Date\":\"timestamp\", \"A4.Season\":\"season\", \"A5.City\":\"city\", \"A6.Climate Zone\":\"climate_zone\",\n",
    "    \"B1.Building Type\":\"building_type\", \"B2.Building Function\":\"building_function\", \"B4.Building Operation Mode\":\"building_operation_mode\",\n",
    "    \"B5.Room Height (m)\":\"room_height\", \"B5.1. Room Length\":\"room_length\", \"B5.2. Room Width\":\"room_width\",\n",
    "    \"C1.Sex\":\"person_gender\", \"C2.Age\":\"person_age\", \"C3.Heightxcmx\":\"person_height\", \"C4.Weightxkgx\":\"person_weight\", \"D5.Clothing Insulation (clo)\":\"person_cloth\", \"D6.Metabolic Rate (met)\":\"person_activity\",\n",
    "    \"F1.Operative Temperature (x)\":\"indoor_operative_temperature\", \"F2.Mean Radiant Temperature (x)\":\"indoor_mean_radiant_temp\", \"F3.Radiant Temperature Asymmetry (x)\":\"indoor_asymmetry_temp\", \"Indoor Humidity (%)\":\"indoor_humidity\", \"Indoor Air Velocity (m/s)\":\"indoor_air_velocity\",\n",
    "    \"F4.PMV\":\"ashrae_predicted_mean_vote\", \"F5.PPD\":\"ashrae_predicted_percentage_of_dissatisfied\",\n",
    "    \"D1.TSV\":\"label_thermal_sensation_vote\", \"D2.TCV\":\"label_thermal_comfort_vote\", \"D3.TAV\":\"label_thermal_acceptability_vote\"\n",
    "}, inplace=True)\n",
    "\n",
    "chinese_dataset_1"
   ]
  },
  {
   "cell_type": "code",
   "execution_count": 144,
   "metadata": {},
   "outputs": [
    {
     "data": {
      "text/html": [
       "<div>\n",
       "<style scoped>\n",
       "    .dataframe tbody tr th:only-of-type {\n",
       "        vertical-align: middle;\n",
       "    }\n",
       "\n",
       "    .dataframe tbody tr th {\n",
       "        vertical-align: top;\n",
       "    }\n",
       "\n",
       "    .dataframe thead th {\n",
       "        text-align: right;\n",
       "    }\n",
       "</style>\n",
       "<table border=\"1\" class=\"dataframe\">\n",
       "  <thead>\n",
       "    <tr style=\"text-align: right;\">\n",
       "      <th></th>\n",
       "      <th>timestamp</th>\n",
       "      <th>season</th>\n",
       "      <th>city</th>\n",
       "      <th>climate_zone</th>\n",
       "      <th>building_type</th>\n",
       "      <th>building_function</th>\n",
       "      <th>building_operation_mode</th>\n",
       "      <th>room_height</th>\n",
       "      <th>room_length</th>\n",
       "      <th>room_width</th>\n",
       "      <th>person_gender</th>\n",
       "      <th>person_age</th>\n",
       "      <th>person_height</th>\n",
       "      <th>person_weight</th>\n",
       "      <th>person_cloth</th>\n",
       "      <th>person_activity</th>\n",
       "      <th>indoor_operative_temperature</th>\n",
       "      <th>indoor_mean_radiant_temp</th>\n",
       "      <th>indoor_asymmetry_temp</th>\n",
       "      <th>indoor_humidity</th>\n",
       "      <th>indoor_air_velocity</th>\n",
       "      <th>ashrae_predicted_mean_vote</th>\n",
       "      <th>ashrae_predicted_percentage_of_dissatisfied</th>\n",
       "      <th>label_thermal_sensation_vote</th>\n",
       "      <th>label_thermal_comfort_vote</th>\n",
       "      <th>label_thermal_acceptability_vote</th>\n",
       "    </tr>\n",
       "  </thead>\n",
       "  <tbody>\n",
       "    <tr>\n",
       "      <th>0</th>\n",
       "      <td>2019-01-30 10:35:00</td>\n",
       "      <td>Winter Season</td>\n",
       "      <td>Hebei Province,Handan City</td>\n",
       "      <td>Cold zone</td>\n",
       "      <td>Residential</td>\n",
       "      <td>Bedroom</td>\n",
       "      <td>Radiator heating</td>\n",
       "      <td>3.900000</td>\n",
       "      <td>6.100000</td>\n",
       "      <td>3.400000</td>\n",
       "      <td>Female</td>\n",
       "      <td>18-30</td>\n",
       "      <td>170</td>\n",
       "      <td>62</td>\n",
       "      <td>1.1</td>\n",
       "      <td>1</td>\n",
       "      <td>20.8</td>\n",
       "      <td>20.9</td>\n",
       "      <td>0.74</td>\n",
       "      <td>32</td>\n",
       "      <td>0</td>\n",
       "      <td>-0.58</td>\n",
       "      <td>12.01</td>\n",
       "      <td>-1</td>\n",
       "      <td>1</td>\n",
       "      <td>0.1</td>\n",
       "    </tr>\n",
       "    <tr>\n",
       "      <th>1</th>\n",
       "      <td>2019-01-30 10:42:00</td>\n",
       "      <td>Winter Season</td>\n",
       "      <td>Hebei Province,Handan City</td>\n",
       "      <td>Cold zone</td>\n",
       "      <td>Residential</td>\n",
       "      <td>Bedroom</td>\n",
       "      <td>Radiator heating</td>\n",
       "      <td>3.900000</td>\n",
       "      <td>6.100000</td>\n",
       "      <td>3.400000</td>\n",
       "      <td>Female</td>\n",
       "      <td>41-50</td>\n",
       "      <td>168</td>\n",
       "      <td>80</td>\n",
       "      <td>1.83</td>\n",
       "      <td>0.9</td>\n",
       "      <td>20.8</td>\n",
       "      <td>20.9</td>\n",
       "      <td>0.74</td>\n",
       "      <td>32</td>\n",
       "      <td>0</td>\n",
       "      <td>-0.1</td>\n",
       "      <td>5.19</td>\n",
       "      <td>-1</td>\n",
       "      <td>1</td>\n",
       "      <td>1</td>\n",
       "    </tr>\n",
       "    <tr>\n",
       "      <th>2</th>\n",
       "      <td>2019-01-30 10:45:00</td>\n",
       "      <td>Winter Season</td>\n",
       "      <td>Hebei Province,Handan City</td>\n",
       "      <td>Cold zone</td>\n",
       "      <td>Residential</td>\n",
       "      <td>Bedroom</td>\n",
       "      <td>Radiator heating</td>\n",
       "      <td>3.900000</td>\n",
       "      <td>6.100000</td>\n",
       "      <td>3.400000</td>\n",
       "      <td>Male</td>\n",
       "      <td>41-50</td>\n",
       "      <td>170</td>\n",
       "      <td>82</td>\n",
       "      <td>1.36</td>\n",
       "      <td>0.9</td>\n",
       "      <td>20.8</td>\n",
       "      <td>20.9</td>\n",
       "      <td>0.74</td>\n",
       "      <td>32</td>\n",
       "      <td>0</td>\n",
       "      <td>-0.66</td>\n",
       "      <td>14.14</td>\n",
       "      <td>0</td>\n",
       "      <td>1</td>\n",
       "      <td>1</td>\n",
       "    </tr>\n",
       "    <tr>\n",
       "      <th>3</th>\n",
       "      <td>2019-01-30 10:47:00</td>\n",
       "      <td>Winter Season</td>\n",
       "      <td>Hebei Province,Handan City</td>\n",
       "      <td>Cold zone</td>\n",
       "      <td>Residential</td>\n",
       "      <td>Bedroom</td>\n",
       "      <td>Radiator heating</td>\n",
       "      <td>3.900000</td>\n",
       "      <td>6.100000</td>\n",
       "      <td>3.400000</td>\n",
       "      <td>Male</td>\n",
       "      <td>18-30</td>\n",
       "      <td>178</td>\n",
       "      <td>65</td>\n",
       "      <td>1.58</td>\n",
       "      <td>0.9</td>\n",
       "      <td>20.8</td>\n",
       "      <td>20.9</td>\n",
       "      <td>0.74</td>\n",
       "      <td>32</td>\n",
       "      <td>0</td>\n",
       "      <td>-0.36</td>\n",
       "      <td>7.78</td>\n",
       "      <td>0</td>\n",
       "      <td>1</td>\n",
       "      <td>1</td>\n",
       "    </tr>\n",
       "    <tr>\n",
       "      <th>4</th>\n",
       "      <td>2019-01-31 20:20:00</td>\n",
       "      <td>Winter Season</td>\n",
       "      <td>Hebei Province,Handan City</td>\n",
       "      <td>Cold zone</td>\n",
       "      <td>Residential</td>\n",
       "      <td>Bedroom</td>\n",
       "      <td>Radiator heating</td>\n",
       "      <td>3.900000</td>\n",
       "      <td>6.100000</td>\n",
       "      <td>3.400000</td>\n",
       "      <td>Male</td>\n",
       "      <td>18-30</td>\n",
       "      <td>174</td>\n",
       "      <td>80</td>\n",
       "      <td>1.38</td>\n",
       "      <td>0.9</td>\n",
       "      <td>20</td>\n",
       "      <td>19.8</td>\n",
       "      <td>1.12</td>\n",
       "      <td>33</td>\n",
       "      <td>0</td>\n",
       "      <td>-0.82</td>\n",
       "      <td>19.45</td>\n",
       "      <td>0</td>\n",
       "      <td>1</td>\n",
       "      <td>1</td>\n",
       "    </tr>\n",
       "    <tr>\n",
       "      <th>...</th>\n",
       "      <td>...</td>\n",
       "      <td>...</td>\n",
       "      <td>...</td>\n",
       "      <td>...</td>\n",
       "      <td>...</td>\n",
       "      <td>...</td>\n",
       "      <td>...</td>\n",
       "      <td>...</td>\n",
       "      <td>...</td>\n",
       "      <td>...</td>\n",
       "      <td>...</td>\n",
       "      <td>...</td>\n",
       "      <td>...</td>\n",
       "      <td>...</td>\n",
       "      <td>...</td>\n",
       "      <td>...</td>\n",
       "      <td>...</td>\n",
       "      <td>...</td>\n",
       "      <td>...</td>\n",
       "      <td>...</td>\n",
       "      <td>...</td>\n",
       "      <td>...</td>\n",
       "      <td>...</td>\n",
       "      <td>...</td>\n",
       "      <td>...</td>\n",
       "      <td>...</td>\n",
       "    </tr>\n",
       "    <tr>\n",
       "      <th>4974</th>\n",
       "      <td>2018-01-30 16:21:00</td>\n",
       "      <td>Winter Season</td>\n",
       "      <td>Shaanxi Province, Xi'an City</td>\n",
       "      <td>Cold zone</td>\n",
       "      <td>Office</td>\n",
       "      <td>Office</td>\n",
       "      <td>Radiator heating</td>\n",
       "      <td>3.224581</td>\n",
       "      <td>10.581368</td>\n",
       "      <td>7.659131</td>\n",
       "      <td>Male</td>\n",
       "      <td>24</td>\n",
       "      <td>180.0</td>\n",
       "      <td>80.0</td>\n",
       "      <td>0.22</td>\n",
       "      <td>1.1</td>\n",
       "      <td>22.8</td>\n",
       "      <td>22.8</td>\n",
       "      <td>1.52</td>\n",
       "      <td>9</td>\n",
       "      <td>0.02</td>\n",
       "      <td>0.15</td>\n",
       "      <td>5.44</td>\n",
       "      <td>2.0</td>\n",
       "      <td>2.0</td>\n",
       "      <td>0.5</td>\n",
       "    </tr>\n",
       "    <tr>\n",
       "      <th>4975</th>\n",
       "      <td>2018-01-30 16:29:00</td>\n",
       "      <td>Winter Season</td>\n",
       "      <td>Shaanxi Province, Xi'an City</td>\n",
       "      <td>Cold zone</td>\n",
       "      <td>Office</td>\n",
       "      <td>Office</td>\n",
       "      <td>Radiator heating</td>\n",
       "      <td>3.224581</td>\n",
       "      <td>10.581368</td>\n",
       "      <td>7.659131</td>\n",
       "      <td>Male</td>\n",
       "      <td>25</td>\n",
       "      <td>185.0</td>\n",
       "      <td>83.0</td>\n",
       "      <td>0.32</td>\n",
       "      <td>1.1</td>\n",
       "      <td>22.7</td>\n",
       "      <td>22.8</td>\n",
       "      <td>0.82</td>\n",
       "      <td>9</td>\n",
       "      <td>0.03</td>\n",
       "      <td>0.02</td>\n",
       "      <td>5.01</td>\n",
       "      <td>3.0</td>\n",
       "      <td>4.0</td>\n",
       "      <td>-0.5</td>\n",
       "    </tr>\n",
       "    <tr>\n",
       "      <th>4976</th>\n",
       "      <td>2018-01-30 16:42:00</td>\n",
       "      <td>Winter Season</td>\n",
       "      <td>Shaanxi Province, Xi'an City</td>\n",
       "      <td>Cold zone</td>\n",
       "      <td>Office</td>\n",
       "      <td>Office</td>\n",
       "      <td>Radiator heating</td>\n",
       "      <td>3.224581</td>\n",
       "      <td>10.581368</td>\n",
       "      <td>7.659131</td>\n",
       "      <td>Male</td>\n",
       "      <td>24</td>\n",
       "      <td>170.0</td>\n",
       "      <td>60.0</td>\n",
       "      <td>0.58</td>\n",
       "      <td>1.1</td>\n",
       "      <td>21.8</td>\n",
       "      <td>22.4</td>\n",
       "      <td>1.87</td>\n",
       "      <td>9</td>\n",
       "      <td>0.01</td>\n",
       "      <td>-0.46</td>\n",
       "      <td>9.43</td>\n",
       "      <td>1.0</td>\n",
       "      <td>1.0</td>\n",
       "      <td>0.5</td>\n",
       "    </tr>\n",
       "    <tr>\n",
       "      <th>4977</th>\n",
       "      <td>2018-01-30 16:43:00</td>\n",
       "      <td>Winter Season</td>\n",
       "      <td>Shaanxi Province, Xi'an City</td>\n",
       "      <td>Cold zone</td>\n",
       "      <td>Office</td>\n",
       "      <td>Office</td>\n",
       "      <td>Radiator heating</td>\n",
       "      <td>3.224581</td>\n",
       "      <td>10.581368</td>\n",
       "      <td>7.659131</td>\n",
       "      <td>Female</td>\n",
       "      <td>23</td>\n",
       "      <td>158.0</td>\n",
       "      <td>54.0</td>\n",
       "      <td>0.44</td>\n",
       "      <td>1.1</td>\n",
       "      <td>21.8</td>\n",
       "      <td>22.4</td>\n",
       "      <td>1.87</td>\n",
       "      <td>9</td>\n",
       "      <td>0.01</td>\n",
       "      <td>-0.17</td>\n",
       "      <td>5.64</td>\n",
       "      <td>1.0</td>\n",
       "      <td>2.0</td>\n",
       "      <td>0.5</td>\n",
       "    </tr>\n",
       "    <tr>\n",
       "      <th>4978</th>\n",
       "      <td>2018-01-30 17:00:00</td>\n",
       "      <td>Winter Season</td>\n",
       "      <td>Shaanxi Province, Xi'an City</td>\n",
       "      <td>Cold zone</td>\n",
       "      <td>Office</td>\n",
       "      <td>Office</td>\n",
       "      <td>Radiator heating</td>\n",
       "      <td>3.224581</td>\n",
       "      <td>10.581368</td>\n",
       "      <td>7.659131</td>\n",
       "      <td>Male</td>\n",
       "      <td>24</td>\n",
       "      <td>170.0</td>\n",
       "      <td>51.0</td>\n",
       "      <td>0.41</td>\n",
       "      <td>1.0</td>\n",
       "      <td>22.1</td>\n",
       "      <td>22.1</td>\n",
       "      <td>0.98</td>\n",
       "      <td>9</td>\n",
       "      <td>0.02</td>\n",
       "      <td>-0.59</td>\n",
       "      <td>12.37</td>\n",
       "      <td>1.0</td>\n",
       "      <td>2.0</td>\n",
       "      <td>0.5</td>\n",
       "    </tr>\n",
       "  </tbody>\n",
       "</table>\n",
       "<p>4979 rows × 26 columns</p>\n",
       "</div>"
      ],
      "text/plain": [
       "               timestamp         season                          city  \\\n",
       "0    2019-01-30 10:35:00  Winter Season    Hebei Province,Handan City   \n",
       "1    2019-01-30 10:42:00  Winter Season    Hebei Province,Handan City   \n",
       "2    2019-01-30 10:45:00  Winter Season    Hebei Province,Handan City   \n",
       "3    2019-01-30 10:47:00  Winter Season    Hebei Province,Handan City   \n",
       "4    2019-01-31 20:20:00  Winter Season    Hebei Province,Handan City   \n",
       "...                  ...            ...                           ...   \n",
       "4974 2018-01-30 16:21:00  Winter Season  Shaanxi Province, Xi'an City   \n",
       "4975 2018-01-30 16:29:00  Winter Season  Shaanxi Province, Xi'an City   \n",
       "4976 2018-01-30 16:42:00  Winter Season  Shaanxi Province, Xi'an City   \n",
       "4977 2018-01-30 16:43:00  Winter Season  Shaanxi Province, Xi'an City   \n",
       "4978 2018-01-30 17:00:00  Winter Season  Shaanxi Province, Xi'an City   \n",
       "\n",
       "     climate_zone building_type building_function building_operation_mode  \\\n",
       "0       Cold zone   Residential           Bedroom        Radiator heating   \n",
       "1       Cold zone   Residential           Bedroom        Radiator heating   \n",
       "2       Cold zone   Residential           Bedroom        Radiator heating   \n",
       "3       Cold zone   Residential           Bedroom        Radiator heating   \n",
       "4       Cold zone   Residential           Bedroom        Radiator heating   \n",
       "...           ...           ...               ...                     ...   \n",
       "4974    Cold zone        Office            Office        Radiator heating   \n",
       "4975    Cold zone        Office            Office        Radiator heating   \n",
       "4976    Cold zone        Office            Office        Radiator heating   \n",
       "4977    Cold zone        Office            Office        Radiator heating   \n",
       "4978    Cold zone        Office            Office        Radiator heating   \n",
       "\n",
       "      room_height  room_length  room_width person_gender person_age  \\\n",
       "0        3.900000     6.100000    3.400000        Female      18-30   \n",
       "1        3.900000     6.100000    3.400000        Female      41-50   \n",
       "2        3.900000     6.100000    3.400000          Male      41-50   \n",
       "3        3.900000     6.100000    3.400000          Male      18-30   \n",
       "4        3.900000     6.100000    3.400000          Male      18-30   \n",
       "...           ...          ...         ...           ...        ...   \n",
       "4974     3.224581    10.581368    7.659131          Male         24   \n",
       "4975     3.224581    10.581368    7.659131          Male         25   \n",
       "4976     3.224581    10.581368    7.659131          Male         24   \n",
       "4977     3.224581    10.581368    7.659131        Female         23   \n",
       "4978     3.224581    10.581368    7.659131          Male         24   \n",
       "\n",
       "     person_height person_weight person_cloth person_activity  \\\n",
       "0              170            62          1.1               1   \n",
       "1              168            80         1.83             0.9   \n",
       "2              170            82         1.36             0.9   \n",
       "3              178            65         1.58             0.9   \n",
       "4              174            80         1.38             0.9   \n",
       "...            ...           ...          ...             ...   \n",
       "4974         180.0          80.0         0.22             1.1   \n",
       "4975         185.0          83.0         0.32             1.1   \n",
       "4976         170.0          60.0         0.58             1.1   \n",
       "4977         158.0          54.0         0.44             1.1   \n",
       "4978         170.0          51.0         0.41             1.0   \n",
       "\n",
       "     indoor_operative_temperature indoor_mean_radiant_temp  \\\n",
       "0                            20.8                     20.9   \n",
       "1                            20.8                     20.9   \n",
       "2                            20.8                     20.9   \n",
       "3                            20.8                     20.9   \n",
       "4                              20                     19.8   \n",
       "...                           ...                      ...   \n",
       "4974                         22.8                     22.8   \n",
       "4975                         22.7                     22.8   \n",
       "4976                         21.8                     22.4   \n",
       "4977                         21.8                     22.4   \n",
       "4978                         22.1                     22.1   \n",
       "\n",
       "     indoor_asymmetry_temp indoor_humidity indoor_air_velocity  \\\n",
       "0                     0.74              32                   0   \n",
       "1                     0.74              32                   0   \n",
       "2                     0.74              32                   0   \n",
       "3                     0.74              32                   0   \n",
       "4                     1.12              33                   0   \n",
       "...                    ...             ...                 ...   \n",
       "4974                  1.52               9                0.02   \n",
       "4975                  0.82               9                0.03   \n",
       "4976                  1.87               9                0.01   \n",
       "4977                  1.87               9                0.01   \n",
       "4978                  0.98               9                0.02   \n",
       "\n",
       "     ashrae_predicted_mean_vote ashrae_predicted_percentage_of_dissatisfied  \\\n",
       "0                         -0.58                                       12.01   \n",
       "1                          -0.1                                        5.19   \n",
       "2                         -0.66                                       14.14   \n",
       "3                         -0.36                                        7.78   \n",
       "4                         -0.82                                       19.45   \n",
       "...                         ...                                         ...   \n",
       "4974                       0.15                                        5.44   \n",
       "4975                       0.02                                        5.01   \n",
       "4976                      -0.46                                        9.43   \n",
       "4977                      -0.17                                        5.64   \n",
       "4978                      -0.59                                       12.37   \n",
       "\n",
       "     label_thermal_sensation_vote label_thermal_comfort_vote  \\\n",
       "0                              -1                          1   \n",
       "1                              -1                          1   \n",
       "2                               0                          1   \n",
       "3                               0                          1   \n",
       "4                               0                          1   \n",
       "...                           ...                        ...   \n",
       "4974                          2.0                        2.0   \n",
       "4975                          3.0                        4.0   \n",
       "4976                          1.0                        1.0   \n",
       "4977                          1.0                        2.0   \n",
       "4978                          1.0                        2.0   \n",
       "\n",
       "     label_thermal_acceptability_vote  \n",
       "0                                 0.1  \n",
       "1                                   1  \n",
       "2                                   1  \n",
       "3                                   1  \n",
       "4                                   1  \n",
       "...                               ...  \n",
       "4974                              0.5  \n",
       "4975                             -0.5  \n",
       "4976                              0.5  \n",
       "4977                              0.5  \n",
       "4978                              0.5  \n",
       "\n",
       "[4979 rows x 26 columns]"
      ]
     },
     "execution_count": 144,
     "metadata": {},
     "output_type": "execute_result"
    }
   ],
   "source": [
    "chinese_dataset_1['timestamp'] = pd.to_datetime(chinese_dataset_1['timestamp'])\n",
    "chinese_dataset_1"
   ]
  },
  {
   "cell_type": "code",
   "execution_count": 145,
   "metadata": {},
   "outputs": [
    {
     "data": {
      "text/html": [
       "<div>\n",
       "<style scoped>\n",
       "    .dataframe tbody tr th:only-of-type {\n",
       "        vertical-align: middle;\n",
       "    }\n",
       "\n",
       "    .dataframe tbody tr th {\n",
       "        vertical-align: top;\n",
       "    }\n",
       "\n",
       "    .dataframe thead th {\n",
       "        text-align: right;\n",
       "    }\n",
       "</style>\n",
       "<table border=\"1\" class=\"dataframe\">\n",
       "  <thead>\n",
       "    <tr style=\"text-align: right;\">\n",
       "      <th></th>\n",
       "      <th>month</th>\n",
       "      <th>day</th>\n",
       "      <th>hour</th>\n",
       "      <th>minute</th>\n",
       "      <th>season</th>\n",
       "      <th>climate_zone</th>\n",
       "      <th>building_type</th>\n",
       "      <th>building_function</th>\n",
       "      <th>building_operation_mode</th>\n",
       "      <th>room_height</th>\n",
       "      <th>room_length</th>\n",
       "      <th>room_width</th>\n",
       "      <th>person_gender</th>\n",
       "      <th>person_age</th>\n",
       "      <th>person_height</th>\n",
       "      <th>person_weight</th>\n",
       "      <th>person_cloth</th>\n",
       "      <th>person_activity</th>\n",
       "      <th>indoor_operative_temperature</th>\n",
       "      <th>indoor_mean_radiant_temp</th>\n",
       "      <th>indoor_asymmetry_temp</th>\n",
       "      <th>indoor_humidity</th>\n",
       "      <th>indoor_air_velocity</th>\n",
       "      <th>ashrae_predicted_mean_vote</th>\n",
       "      <th>ashrae_predicted_percentage_of_dissatisfied</th>\n",
       "      <th>label_thermal_sensation_vote</th>\n",
       "      <th>label_thermal_comfort_vote</th>\n",
       "      <th>label_thermal_acceptability_vote</th>\n",
       "    </tr>\n",
       "  </thead>\n",
       "  <tbody>\n",
       "    <tr>\n",
       "      <th>0</th>\n",
       "      <td>1</td>\n",
       "      <td>30</td>\n",
       "      <td>10</td>\n",
       "      <td>35</td>\n",
       "      <td>Winter Season</td>\n",
       "      <td>Cold zone</td>\n",
       "      <td>Residential</td>\n",
       "      <td>Bedroom</td>\n",
       "      <td>Radiator heating</td>\n",
       "      <td>3.900000</td>\n",
       "      <td>6.100000</td>\n",
       "      <td>3.400000</td>\n",
       "      <td>Female</td>\n",
       "      <td>18-30</td>\n",
       "      <td>170</td>\n",
       "      <td>62</td>\n",
       "      <td>1.1</td>\n",
       "      <td>1</td>\n",
       "      <td>20.8</td>\n",
       "      <td>20.9</td>\n",
       "      <td>0.74</td>\n",
       "      <td>32</td>\n",
       "      <td>0</td>\n",
       "      <td>-0.58</td>\n",
       "      <td>12.01</td>\n",
       "      <td>-1</td>\n",
       "      <td>1</td>\n",
       "      <td>0.1</td>\n",
       "    </tr>\n",
       "    <tr>\n",
       "      <th>1</th>\n",
       "      <td>1</td>\n",
       "      <td>30</td>\n",
       "      <td>10</td>\n",
       "      <td>42</td>\n",
       "      <td>Winter Season</td>\n",
       "      <td>Cold zone</td>\n",
       "      <td>Residential</td>\n",
       "      <td>Bedroom</td>\n",
       "      <td>Radiator heating</td>\n",
       "      <td>3.900000</td>\n",
       "      <td>6.100000</td>\n",
       "      <td>3.400000</td>\n",
       "      <td>Female</td>\n",
       "      <td>41-50</td>\n",
       "      <td>168</td>\n",
       "      <td>80</td>\n",
       "      <td>1.83</td>\n",
       "      <td>0.9</td>\n",
       "      <td>20.8</td>\n",
       "      <td>20.9</td>\n",
       "      <td>0.74</td>\n",
       "      <td>32</td>\n",
       "      <td>0</td>\n",
       "      <td>-0.1</td>\n",
       "      <td>5.19</td>\n",
       "      <td>-1</td>\n",
       "      <td>1</td>\n",
       "      <td>1</td>\n",
       "    </tr>\n",
       "    <tr>\n",
       "      <th>2</th>\n",
       "      <td>1</td>\n",
       "      <td>30</td>\n",
       "      <td>10</td>\n",
       "      <td>45</td>\n",
       "      <td>Winter Season</td>\n",
       "      <td>Cold zone</td>\n",
       "      <td>Residential</td>\n",
       "      <td>Bedroom</td>\n",
       "      <td>Radiator heating</td>\n",
       "      <td>3.900000</td>\n",
       "      <td>6.100000</td>\n",
       "      <td>3.400000</td>\n",
       "      <td>Male</td>\n",
       "      <td>41-50</td>\n",
       "      <td>170</td>\n",
       "      <td>82</td>\n",
       "      <td>1.36</td>\n",
       "      <td>0.9</td>\n",
       "      <td>20.8</td>\n",
       "      <td>20.9</td>\n",
       "      <td>0.74</td>\n",
       "      <td>32</td>\n",
       "      <td>0</td>\n",
       "      <td>-0.66</td>\n",
       "      <td>14.14</td>\n",
       "      <td>0</td>\n",
       "      <td>1</td>\n",
       "      <td>1</td>\n",
       "    </tr>\n",
       "    <tr>\n",
       "      <th>3</th>\n",
       "      <td>1</td>\n",
       "      <td>30</td>\n",
       "      <td>10</td>\n",
       "      <td>47</td>\n",
       "      <td>Winter Season</td>\n",
       "      <td>Cold zone</td>\n",
       "      <td>Residential</td>\n",
       "      <td>Bedroom</td>\n",
       "      <td>Radiator heating</td>\n",
       "      <td>3.900000</td>\n",
       "      <td>6.100000</td>\n",
       "      <td>3.400000</td>\n",
       "      <td>Male</td>\n",
       "      <td>18-30</td>\n",
       "      <td>178</td>\n",
       "      <td>65</td>\n",
       "      <td>1.58</td>\n",
       "      <td>0.9</td>\n",
       "      <td>20.8</td>\n",
       "      <td>20.9</td>\n",
       "      <td>0.74</td>\n",
       "      <td>32</td>\n",
       "      <td>0</td>\n",
       "      <td>-0.36</td>\n",
       "      <td>7.78</td>\n",
       "      <td>0</td>\n",
       "      <td>1</td>\n",
       "      <td>1</td>\n",
       "    </tr>\n",
       "    <tr>\n",
       "      <th>4</th>\n",
       "      <td>1</td>\n",
       "      <td>31</td>\n",
       "      <td>20</td>\n",
       "      <td>20</td>\n",
       "      <td>Winter Season</td>\n",
       "      <td>Cold zone</td>\n",
       "      <td>Residential</td>\n",
       "      <td>Bedroom</td>\n",
       "      <td>Radiator heating</td>\n",
       "      <td>3.900000</td>\n",
       "      <td>6.100000</td>\n",
       "      <td>3.400000</td>\n",
       "      <td>Male</td>\n",
       "      <td>18-30</td>\n",
       "      <td>174</td>\n",
       "      <td>80</td>\n",
       "      <td>1.38</td>\n",
       "      <td>0.9</td>\n",
       "      <td>20</td>\n",
       "      <td>19.8</td>\n",
       "      <td>1.12</td>\n",
       "      <td>33</td>\n",
       "      <td>0</td>\n",
       "      <td>-0.82</td>\n",
       "      <td>19.45</td>\n",
       "      <td>0</td>\n",
       "      <td>1</td>\n",
       "      <td>1</td>\n",
       "    </tr>\n",
       "    <tr>\n",
       "      <th>...</th>\n",
       "      <td>...</td>\n",
       "      <td>...</td>\n",
       "      <td>...</td>\n",
       "      <td>...</td>\n",
       "      <td>...</td>\n",
       "      <td>...</td>\n",
       "      <td>...</td>\n",
       "      <td>...</td>\n",
       "      <td>...</td>\n",
       "      <td>...</td>\n",
       "      <td>...</td>\n",
       "      <td>...</td>\n",
       "      <td>...</td>\n",
       "      <td>...</td>\n",
       "      <td>...</td>\n",
       "      <td>...</td>\n",
       "      <td>...</td>\n",
       "      <td>...</td>\n",
       "      <td>...</td>\n",
       "      <td>...</td>\n",
       "      <td>...</td>\n",
       "      <td>...</td>\n",
       "      <td>...</td>\n",
       "      <td>...</td>\n",
       "      <td>...</td>\n",
       "      <td>...</td>\n",
       "      <td>...</td>\n",
       "      <td>...</td>\n",
       "    </tr>\n",
       "    <tr>\n",
       "      <th>4974</th>\n",
       "      <td>1</td>\n",
       "      <td>30</td>\n",
       "      <td>16</td>\n",
       "      <td>21</td>\n",
       "      <td>Winter Season</td>\n",
       "      <td>Cold zone</td>\n",
       "      <td>Office</td>\n",
       "      <td>Office</td>\n",
       "      <td>Radiator heating</td>\n",
       "      <td>3.224581</td>\n",
       "      <td>10.581368</td>\n",
       "      <td>7.659131</td>\n",
       "      <td>Male</td>\n",
       "      <td>24</td>\n",
       "      <td>180.0</td>\n",
       "      <td>80.0</td>\n",
       "      <td>0.22</td>\n",
       "      <td>1.1</td>\n",
       "      <td>22.8</td>\n",
       "      <td>22.8</td>\n",
       "      <td>1.52</td>\n",
       "      <td>9</td>\n",
       "      <td>0.02</td>\n",
       "      <td>0.15</td>\n",
       "      <td>5.44</td>\n",
       "      <td>2.0</td>\n",
       "      <td>2.0</td>\n",
       "      <td>0.5</td>\n",
       "    </tr>\n",
       "    <tr>\n",
       "      <th>4975</th>\n",
       "      <td>1</td>\n",
       "      <td>30</td>\n",
       "      <td>16</td>\n",
       "      <td>29</td>\n",
       "      <td>Winter Season</td>\n",
       "      <td>Cold zone</td>\n",
       "      <td>Office</td>\n",
       "      <td>Office</td>\n",
       "      <td>Radiator heating</td>\n",
       "      <td>3.224581</td>\n",
       "      <td>10.581368</td>\n",
       "      <td>7.659131</td>\n",
       "      <td>Male</td>\n",
       "      <td>25</td>\n",
       "      <td>185.0</td>\n",
       "      <td>83.0</td>\n",
       "      <td>0.32</td>\n",
       "      <td>1.1</td>\n",
       "      <td>22.7</td>\n",
       "      <td>22.8</td>\n",
       "      <td>0.82</td>\n",
       "      <td>9</td>\n",
       "      <td>0.03</td>\n",
       "      <td>0.02</td>\n",
       "      <td>5.01</td>\n",
       "      <td>3.0</td>\n",
       "      <td>4.0</td>\n",
       "      <td>-0.5</td>\n",
       "    </tr>\n",
       "    <tr>\n",
       "      <th>4976</th>\n",
       "      <td>1</td>\n",
       "      <td>30</td>\n",
       "      <td>16</td>\n",
       "      <td>42</td>\n",
       "      <td>Winter Season</td>\n",
       "      <td>Cold zone</td>\n",
       "      <td>Office</td>\n",
       "      <td>Office</td>\n",
       "      <td>Radiator heating</td>\n",
       "      <td>3.224581</td>\n",
       "      <td>10.581368</td>\n",
       "      <td>7.659131</td>\n",
       "      <td>Male</td>\n",
       "      <td>24</td>\n",
       "      <td>170.0</td>\n",
       "      <td>60.0</td>\n",
       "      <td>0.58</td>\n",
       "      <td>1.1</td>\n",
       "      <td>21.8</td>\n",
       "      <td>22.4</td>\n",
       "      <td>1.87</td>\n",
       "      <td>9</td>\n",
       "      <td>0.01</td>\n",
       "      <td>-0.46</td>\n",
       "      <td>9.43</td>\n",
       "      <td>1.0</td>\n",
       "      <td>1.0</td>\n",
       "      <td>0.5</td>\n",
       "    </tr>\n",
       "    <tr>\n",
       "      <th>4977</th>\n",
       "      <td>1</td>\n",
       "      <td>30</td>\n",
       "      <td>16</td>\n",
       "      <td>43</td>\n",
       "      <td>Winter Season</td>\n",
       "      <td>Cold zone</td>\n",
       "      <td>Office</td>\n",
       "      <td>Office</td>\n",
       "      <td>Radiator heating</td>\n",
       "      <td>3.224581</td>\n",
       "      <td>10.581368</td>\n",
       "      <td>7.659131</td>\n",
       "      <td>Female</td>\n",
       "      <td>23</td>\n",
       "      <td>158.0</td>\n",
       "      <td>54.0</td>\n",
       "      <td>0.44</td>\n",
       "      <td>1.1</td>\n",
       "      <td>21.8</td>\n",
       "      <td>22.4</td>\n",
       "      <td>1.87</td>\n",
       "      <td>9</td>\n",
       "      <td>0.01</td>\n",
       "      <td>-0.17</td>\n",
       "      <td>5.64</td>\n",
       "      <td>1.0</td>\n",
       "      <td>2.0</td>\n",
       "      <td>0.5</td>\n",
       "    </tr>\n",
       "    <tr>\n",
       "      <th>4978</th>\n",
       "      <td>1</td>\n",
       "      <td>30</td>\n",
       "      <td>17</td>\n",
       "      <td>0</td>\n",
       "      <td>Winter Season</td>\n",
       "      <td>Cold zone</td>\n",
       "      <td>Office</td>\n",
       "      <td>Office</td>\n",
       "      <td>Radiator heating</td>\n",
       "      <td>3.224581</td>\n",
       "      <td>10.581368</td>\n",
       "      <td>7.659131</td>\n",
       "      <td>Male</td>\n",
       "      <td>24</td>\n",
       "      <td>170.0</td>\n",
       "      <td>51.0</td>\n",
       "      <td>0.41</td>\n",
       "      <td>1.0</td>\n",
       "      <td>22.1</td>\n",
       "      <td>22.1</td>\n",
       "      <td>0.98</td>\n",
       "      <td>9</td>\n",
       "      <td>0.02</td>\n",
       "      <td>-0.59</td>\n",
       "      <td>12.37</td>\n",
       "      <td>1.0</td>\n",
       "      <td>2.0</td>\n",
       "      <td>0.5</td>\n",
       "    </tr>\n",
       "  </tbody>\n",
       "</table>\n",
       "<p>4979 rows × 28 columns</p>\n",
       "</div>"
      ],
      "text/plain": [
       "      month  day  hour  minute         season climate_zone building_type  \\\n",
       "0         1   30    10      35  Winter Season    Cold zone   Residential   \n",
       "1         1   30    10      42  Winter Season    Cold zone   Residential   \n",
       "2         1   30    10      45  Winter Season    Cold zone   Residential   \n",
       "3         1   30    10      47  Winter Season    Cold zone   Residential   \n",
       "4         1   31    20      20  Winter Season    Cold zone   Residential   \n",
       "...     ...  ...   ...     ...            ...          ...           ...   \n",
       "4974      1   30    16      21  Winter Season    Cold zone        Office   \n",
       "4975      1   30    16      29  Winter Season    Cold zone        Office   \n",
       "4976      1   30    16      42  Winter Season    Cold zone        Office   \n",
       "4977      1   30    16      43  Winter Season    Cold zone        Office   \n",
       "4978      1   30    17       0  Winter Season    Cold zone        Office   \n",
       "\n",
       "     building_function building_operation_mode  room_height  room_length  \\\n",
       "0              Bedroom        Radiator heating     3.900000     6.100000   \n",
       "1              Bedroom        Radiator heating     3.900000     6.100000   \n",
       "2              Bedroom        Radiator heating     3.900000     6.100000   \n",
       "3              Bedroom        Radiator heating     3.900000     6.100000   \n",
       "4              Bedroom        Radiator heating     3.900000     6.100000   \n",
       "...                ...                     ...          ...          ...   \n",
       "4974            Office        Radiator heating     3.224581    10.581368   \n",
       "4975            Office        Radiator heating     3.224581    10.581368   \n",
       "4976            Office        Radiator heating     3.224581    10.581368   \n",
       "4977            Office        Radiator heating     3.224581    10.581368   \n",
       "4978            Office        Radiator heating     3.224581    10.581368   \n",
       "\n",
       "      room_width person_gender person_age person_height person_weight  \\\n",
       "0       3.400000        Female      18-30           170            62   \n",
       "1       3.400000        Female      41-50           168            80   \n",
       "2       3.400000          Male      41-50           170            82   \n",
       "3       3.400000          Male      18-30           178            65   \n",
       "4       3.400000          Male      18-30           174            80   \n",
       "...          ...           ...        ...           ...           ...   \n",
       "4974    7.659131          Male         24         180.0          80.0   \n",
       "4975    7.659131          Male         25         185.0          83.0   \n",
       "4976    7.659131          Male         24         170.0          60.0   \n",
       "4977    7.659131        Female         23         158.0          54.0   \n",
       "4978    7.659131          Male         24         170.0          51.0   \n",
       "\n",
       "     person_cloth person_activity indoor_operative_temperature  \\\n",
       "0             1.1               1                         20.8   \n",
       "1            1.83             0.9                         20.8   \n",
       "2            1.36             0.9                         20.8   \n",
       "3            1.58             0.9                         20.8   \n",
       "4            1.38             0.9                           20   \n",
       "...           ...             ...                          ...   \n",
       "4974         0.22             1.1                         22.8   \n",
       "4975         0.32             1.1                         22.7   \n",
       "4976         0.58             1.1                         21.8   \n",
       "4977         0.44             1.1                         21.8   \n",
       "4978         0.41             1.0                         22.1   \n",
       "\n",
       "     indoor_mean_radiant_temp indoor_asymmetry_temp indoor_humidity  \\\n",
       "0                        20.9                  0.74              32   \n",
       "1                        20.9                  0.74              32   \n",
       "2                        20.9                  0.74              32   \n",
       "3                        20.9                  0.74              32   \n",
       "4                        19.8                  1.12              33   \n",
       "...                       ...                   ...             ...   \n",
       "4974                     22.8                  1.52               9   \n",
       "4975                     22.8                  0.82               9   \n",
       "4976                     22.4                  1.87               9   \n",
       "4977                     22.4                  1.87               9   \n",
       "4978                     22.1                  0.98               9   \n",
       "\n",
       "     indoor_air_velocity ashrae_predicted_mean_vote  \\\n",
       "0                      0                      -0.58   \n",
       "1                      0                       -0.1   \n",
       "2                      0                      -0.66   \n",
       "3                      0                      -0.36   \n",
       "4                      0                      -0.82   \n",
       "...                  ...                        ...   \n",
       "4974                0.02                       0.15   \n",
       "4975                0.03                       0.02   \n",
       "4976                0.01                      -0.46   \n",
       "4977                0.01                      -0.17   \n",
       "4978                0.02                      -0.59   \n",
       "\n",
       "     ashrae_predicted_percentage_of_dissatisfied label_thermal_sensation_vote  \\\n",
       "0                                          12.01                           -1   \n",
       "1                                           5.19                           -1   \n",
       "2                                          14.14                            0   \n",
       "3                                           7.78                            0   \n",
       "4                                          19.45                            0   \n",
       "...                                          ...                          ...   \n",
       "4974                                        5.44                          2.0   \n",
       "4975                                        5.01                          3.0   \n",
       "4976                                        9.43                          1.0   \n",
       "4977                                        5.64                          1.0   \n",
       "4978                                       12.37                          1.0   \n",
       "\n",
       "     label_thermal_comfort_vote label_thermal_acceptability_vote  \n",
       "0                             1                              0.1  \n",
       "1                             1                                1  \n",
       "2                             1                                1  \n",
       "3                             1                                1  \n",
       "4                             1                                1  \n",
       "...                         ...                              ...  \n",
       "4974                        2.0                              0.5  \n",
       "4975                        4.0                             -0.5  \n",
       "4976                        1.0                              0.5  \n",
       "4977                        2.0                              0.5  \n",
       "4978                        2.0                              0.5  \n",
       "\n",
       "[4979 rows x 28 columns]"
      ]
     },
     "execution_count": 145,
     "metadata": {},
     "output_type": "execute_result"
    }
   ],
   "source": [
    "chinese_dataset_1.insert(loc=1, column=\"month\", value=chinese_dataset_1['timestamp'].dt.month)\n",
    "chinese_dataset_1.insert(loc=2, column=\"day\", value=chinese_dataset_1['timestamp'].dt.day)\n",
    "chinese_dataset_1.insert(loc=3, column=\"hour\", value=chinese_dataset_1['timestamp'].dt.hour)\n",
    "chinese_dataset_1.insert(loc=4, column=\"minute\", value=chinese_dataset_1['timestamp'].dt.minute)\n",
    "\n",
    "chinese_dataset_1.drop(columns=[\"timestamp\",\"city\"], inplace=True)\n",
    "\n",
    "chinese_dataset_1"
   ]
  },
  {
   "cell_type": "code",
   "execution_count": 146,
   "metadata": {},
   "outputs": [],
   "source": [
    "SEASON_MAPPING = {'Winter Season':0, 'Transition Season':1, 'Summer Season':2} # Value increase follow by heat \n",
    "ONE_HOT = True\n",
    "\n",
    "if ONE_HOT:\n",
    "    chinese_dataset_1 = pd.get_dummies(chinese_dataset_1, prefix=[\"person_gender\"], columns=[\"person_gender\"], dtype=float)\n",
    "    chinese_dataset_1 = pd.get_dummies(chinese_dataset_1, prefix=[\"season\"], columns=[\"season\"], dtype=float)\n",
    "    chinese_dataset_1 = pd.get_dummies(chinese_dataset_1, prefix=[\"climate_zone\"], columns=[\"climate_zone\"], dtype=float)\n",
    "    chinese_dataset_1 = pd.get_dummies(chinese_dataset_1, prefix=[\"building_type \"], columns=[\"building_type\"], dtype=float)\n",
    "    chinese_dataset_1 = pd.get_dummies(chinese_dataset_1, prefix=[\"building_function\"], columns=[\"building_function\"], dtype=float)\n",
    "    chinese_dataset_1 = pd.get_dummies(chinese_dataset_1, prefix=[\"building_operation_mode\"], columns=[\"building_operation_mode\"], dtype=float)\n",
    "\n",
    "\n"
   ]
  },
  {
   "cell_type": "code",
   "execution_count": 147,
   "metadata": {},
   "outputs": [
    {
     "data": {
      "text/html": [
       "<div>\n",
       "<style scoped>\n",
       "    .dataframe tbody tr th:only-of-type {\n",
       "        vertical-align: middle;\n",
       "    }\n",
       "\n",
       "    .dataframe tbody tr th {\n",
       "        vertical-align: top;\n",
       "    }\n",
       "\n",
       "    .dataframe thead th {\n",
       "        text-align: right;\n",
       "    }\n",
       "</style>\n",
       "<table border=\"1\" class=\"dataframe\">\n",
       "  <thead>\n",
       "    <tr style=\"text-align: right;\">\n",
       "      <th></th>\n",
       "      <th>month</th>\n",
       "      <th>day</th>\n",
       "      <th>hour</th>\n",
       "      <th>minute</th>\n",
       "      <th>room_height</th>\n",
       "      <th>room_length</th>\n",
       "      <th>room_width</th>\n",
       "      <th>person_age</th>\n",
       "      <th>person_height</th>\n",
       "      <th>person_weight</th>\n",
       "      <th>person_cloth</th>\n",
       "      <th>person_activity</th>\n",
       "      <th>indoor_operative_temperature</th>\n",
       "      <th>indoor_mean_radiant_temp</th>\n",
       "      <th>indoor_asymmetry_temp</th>\n",
       "      <th>indoor_humidity</th>\n",
       "      <th>indoor_air_velocity</th>\n",
       "      <th>ashrae_predicted_mean_vote</th>\n",
       "      <th>ashrae_predicted_percentage_of_dissatisfied</th>\n",
       "      <th>label_thermal_sensation_vote</th>\n",
       "      <th>label_thermal_comfort_vote</th>\n",
       "      <th>label_thermal_acceptability_vote</th>\n",
       "      <th>person_gender_Female</th>\n",
       "      <th>person_gender_Male</th>\n",
       "      <th>season_Summer Season</th>\n",
       "      <th>season_Transition Season</th>\n",
       "      <th>season_Winter Season</th>\n",
       "      <th>climate_zone_Cold zone</th>\n",
       "      <th>climate_zone_Hot summer and cold winter zone</th>\n",
       "      <th>climate_zone_Severe cold zone</th>\n",
       "      <th>building_type _Educational</th>\n",
       "      <th>building_type _Office</th>\n",
       "      <th>building_type _Residential</th>\n",
       "      <th>building_function_Bedroom</th>\n",
       "      <th>building_function_Classroom</th>\n",
       "      <th>building_function_Living room</th>\n",
       "      <th>building_function_Office</th>\n",
       "      <th>building_operation_mode_Air conditioning heating</th>\n",
       "      <th>building_operation_mode_Ceiling capillary heating</th>\n",
       "      <th>building_operation_mode_Cold radiation ceiling cooling</th>\n",
       "      <th>building_operation_mode_Convection cooling</th>\n",
       "      <th>building_operation_mode_Convection heating</th>\n",
       "      <th>building_operation_mode_Naturally Ventilated</th>\n",
       "      <th>building_operation_mode_Others</th>\n",
       "      <th>building_operation_mode_Radiant floor cooling</th>\n",
       "      <th>building_operation_mode_Radiant floor heating</th>\n",
       "      <th>building_operation_mode_Radiator heating</th>\n",
       "    </tr>\n",
       "  </thead>\n",
       "  <tbody>\n",
       "    <tr>\n",
       "      <th>0</th>\n",
       "      <td>1</td>\n",
       "      <td>30</td>\n",
       "      <td>10</td>\n",
       "      <td>35</td>\n",
       "      <td>3.900000</td>\n",
       "      <td>6.100000</td>\n",
       "      <td>3.400000</td>\n",
       "      <td>18-30</td>\n",
       "      <td>170</td>\n",
       "      <td>62</td>\n",
       "      <td>1.1</td>\n",
       "      <td>1</td>\n",
       "      <td>20.8</td>\n",
       "      <td>20.9</td>\n",
       "      <td>0.74</td>\n",
       "      <td>32</td>\n",
       "      <td>0</td>\n",
       "      <td>-0.58</td>\n",
       "      <td>12.01</td>\n",
       "      <td>-1</td>\n",
       "      <td>1</td>\n",
       "      <td>0.1</td>\n",
       "      <td>1.0</td>\n",
       "      <td>0.0</td>\n",
       "      <td>0.0</td>\n",
       "      <td>0.0</td>\n",
       "      <td>1.0</td>\n",
       "      <td>1.0</td>\n",
       "      <td>0.0</td>\n",
       "      <td>0.0</td>\n",
       "      <td>0.0</td>\n",
       "      <td>0.0</td>\n",
       "      <td>1.0</td>\n",
       "      <td>1.0</td>\n",
       "      <td>0.0</td>\n",
       "      <td>0.0</td>\n",
       "      <td>0.0</td>\n",
       "      <td>0.0</td>\n",
       "      <td>0.0</td>\n",
       "      <td>0.0</td>\n",
       "      <td>0.0</td>\n",
       "      <td>0.0</td>\n",
       "      <td>0.0</td>\n",
       "      <td>0.0</td>\n",
       "      <td>0.0</td>\n",
       "      <td>0.0</td>\n",
       "      <td>1.0</td>\n",
       "    </tr>\n",
       "    <tr>\n",
       "      <th>1</th>\n",
       "      <td>1</td>\n",
       "      <td>30</td>\n",
       "      <td>10</td>\n",
       "      <td>42</td>\n",
       "      <td>3.900000</td>\n",
       "      <td>6.100000</td>\n",
       "      <td>3.400000</td>\n",
       "      <td>41-50</td>\n",
       "      <td>168</td>\n",
       "      <td>80</td>\n",
       "      <td>1.83</td>\n",
       "      <td>0.9</td>\n",
       "      <td>20.8</td>\n",
       "      <td>20.9</td>\n",
       "      <td>0.74</td>\n",
       "      <td>32</td>\n",
       "      <td>0</td>\n",
       "      <td>-0.1</td>\n",
       "      <td>5.19</td>\n",
       "      <td>-1</td>\n",
       "      <td>1</td>\n",
       "      <td>1</td>\n",
       "      <td>1.0</td>\n",
       "      <td>0.0</td>\n",
       "      <td>0.0</td>\n",
       "      <td>0.0</td>\n",
       "      <td>1.0</td>\n",
       "      <td>1.0</td>\n",
       "      <td>0.0</td>\n",
       "      <td>0.0</td>\n",
       "      <td>0.0</td>\n",
       "      <td>0.0</td>\n",
       "      <td>1.0</td>\n",
       "      <td>1.0</td>\n",
       "      <td>0.0</td>\n",
       "      <td>0.0</td>\n",
       "      <td>0.0</td>\n",
       "      <td>0.0</td>\n",
       "      <td>0.0</td>\n",
       "      <td>0.0</td>\n",
       "      <td>0.0</td>\n",
       "      <td>0.0</td>\n",
       "      <td>0.0</td>\n",
       "      <td>0.0</td>\n",
       "      <td>0.0</td>\n",
       "      <td>0.0</td>\n",
       "      <td>1.0</td>\n",
       "    </tr>\n",
       "    <tr>\n",
       "      <th>2</th>\n",
       "      <td>1</td>\n",
       "      <td>30</td>\n",
       "      <td>10</td>\n",
       "      <td>45</td>\n",
       "      <td>3.900000</td>\n",
       "      <td>6.100000</td>\n",
       "      <td>3.400000</td>\n",
       "      <td>41-50</td>\n",
       "      <td>170</td>\n",
       "      <td>82</td>\n",
       "      <td>1.36</td>\n",
       "      <td>0.9</td>\n",
       "      <td>20.8</td>\n",
       "      <td>20.9</td>\n",
       "      <td>0.74</td>\n",
       "      <td>32</td>\n",
       "      <td>0</td>\n",
       "      <td>-0.66</td>\n",
       "      <td>14.14</td>\n",
       "      <td>0</td>\n",
       "      <td>1</td>\n",
       "      <td>1</td>\n",
       "      <td>0.0</td>\n",
       "      <td>1.0</td>\n",
       "      <td>0.0</td>\n",
       "      <td>0.0</td>\n",
       "      <td>1.0</td>\n",
       "      <td>1.0</td>\n",
       "      <td>0.0</td>\n",
       "      <td>0.0</td>\n",
       "      <td>0.0</td>\n",
       "      <td>0.0</td>\n",
       "      <td>1.0</td>\n",
       "      <td>1.0</td>\n",
       "      <td>0.0</td>\n",
       "      <td>0.0</td>\n",
       "      <td>0.0</td>\n",
       "      <td>0.0</td>\n",
       "      <td>0.0</td>\n",
       "      <td>0.0</td>\n",
       "      <td>0.0</td>\n",
       "      <td>0.0</td>\n",
       "      <td>0.0</td>\n",
       "      <td>0.0</td>\n",
       "      <td>0.0</td>\n",
       "      <td>0.0</td>\n",
       "      <td>1.0</td>\n",
       "    </tr>\n",
       "    <tr>\n",
       "      <th>3</th>\n",
       "      <td>1</td>\n",
       "      <td>30</td>\n",
       "      <td>10</td>\n",
       "      <td>47</td>\n",
       "      <td>3.900000</td>\n",
       "      <td>6.100000</td>\n",
       "      <td>3.400000</td>\n",
       "      <td>18-30</td>\n",
       "      <td>178</td>\n",
       "      <td>65</td>\n",
       "      <td>1.58</td>\n",
       "      <td>0.9</td>\n",
       "      <td>20.8</td>\n",
       "      <td>20.9</td>\n",
       "      <td>0.74</td>\n",
       "      <td>32</td>\n",
       "      <td>0</td>\n",
       "      <td>-0.36</td>\n",
       "      <td>7.78</td>\n",
       "      <td>0</td>\n",
       "      <td>1</td>\n",
       "      <td>1</td>\n",
       "      <td>0.0</td>\n",
       "      <td>1.0</td>\n",
       "      <td>0.0</td>\n",
       "      <td>0.0</td>\n",
       "      <td>1.0</td>\n",
       "      <td>1.0</td>\n",
       "      <td>0.0</td>\n",
       "      <td>0.0</td>\n",
       "      <td>0.0</td>\n",
       "      <td>0.0</td>\n",
       "      <td>1.0</td>\n",
       "      <td>1.0</td>\n",
       "      <td>0.0</td>\n",
       "      <td>0.0</td>\n",
       "      <td>0.0</td>\n",
       "      <td>0.0</td>\n",
       "      <td>0.0</td>\n",
       "      <td>0.0</td>\n",
       "      <td>0.0</td>\n",
       "      <td>0.0</td>\n",
       "      <td>0.0</td>\n",
       "      <td>0.0</td>\n",
       "      <td>0.0</td>\n",
       "      <td>0.0</td>\n",
       "      <td>1.0</td>\n",
       "    </tr>\n",
       "    <tr>\n",
       "      <th>4</th>\n",
       "      <td>1</td>\n",
       "      <td>31</td>\n",
       "      <td>20</td>\n",
       "      <td>20</td>\n",
       "      <td>3.900000</td>\n",
       "      <td>6.100000</td>\n",
       "      <td>3.400000</td>\n",
       "      <td>18-30</td>\n",
       "      <td>174</td>\n",
       "      <td>80</td>\n",
       "      <td>1.38</td>\n",
       "      <td>0.9</td>\n",
       "      <td>20</td>\n",
       "      <td>19.8</td>\n",
       "      <td>1.12</td>\n",
       "      <td>33</td>\n",
       "      <td>0</td>\n",
       "      <td>-0.82</td>\n",
       "      <td>19.45</td>\n",
       "      <td>0</td>\n",
       "      <td>1</td>\n",
       "      <td>1</td>\n",
       "      <td>0.0</td>\n",
       "      <td>1.0</td>\n",
       "      <td>0.0</td>\n",
       "      <td>0.0</td>\n",
       "      <td>1.0</td>\n",
       "      <td>1.0</td>\n",
       "      <td>0.0</td>\n",
       "      <td>0.0</td>\n",
       "      <td>0.0</td>\n",
       "      <td>0.0</td>\n",
       "      <td>1.0</td>\n",
       "      <td>1.0</td>\n",
       "      <td>0.0</td>\n",
       "      <td>0.0</td>\n",
       "      <td>0.0</td>\n",
       "      <td>0.0</td>\n",
       "      <td>0.0</td>\n",
       "      <td>0.0</td>\n",
       "      <td>0.0</td>\n",
       "      <td>0.0</td>\n",
       "      <td>0.0</td>\n",
       "      <td>0.0</td>\n",
       "      <td>0.0</td>\n",
       "      <td>0.0</td>\n",
       "      <td>1.0</td>\n",
       "    </tr>\n",
       "    <tr>\n",
       "      <th>...</th>\n",
       "      <td>...</td>\n",
       "      <td>...</td>\n",
       "      <td>...</td>\n",
       "      <td>...</td>\n",
       "      <td>...</td>\n",
       "      <td>...</td>\n",
       "      <td>...</td>\n",
       "      <td>...</td>\n",
       "      <td>...</td>\n",
       "      <td>...</td>\n",
       "      <td>...</td>\n",
       "      <td>...</td>\n",
       "      <td>...</td>\n",
       "      <td>...</td>\n",
       "      <td>...</td>\n",
       "      <td>...</td>\n",
       "      <td>...</td>\n",
       "      <td>...</td>\n",
       "      <td>...</td>\n",
       "      <td>...</td>\n",
       "      <td>...</td>\n",
       "      <td>...</td>\n",
       "      <td>...</td>\n",
       "      <td>...</td>\n",
       "      <td>...</td>\n",
       "      <td>...</td>\n",
       "      <td>...</td>\n",
       "      <td>...</td>\n",
       "      <td>...</td>\n",
       "      <td>...</td>\n",
       "      <td>...</td>\n",
       "      <td>...</td>\n",
       "      <td>...</td>\n",
       "      <td>...</td>\n",
       "      <td>...</td>\n",
       "      <td>...</td>\n",
       "      <td>...</td>\n",
       "      <td>...</td>\n",
       "      <td>...</td>\n",
       "      <td>...</td>\n",
       "      <td>...</td>\n",
       "      <td>...</td>\n",
       "      <td>...</td>\n",
       "      <td>...</td>\n",
       "      <td>...</td>\n",
       "      <td>...</td>\n",
       "      <td>...</td>\n",
       "    </tr>\n",
       "    <tr>\n",
       "      <th>4974</th>\n",
       "      <td>1</td>\n",
       "      <td>30</td>\n",
       "      <td>16</td>\n",
       "      <td>21</td>\n",
       "      <td>3.224581</td>\n",
       "      <td>10.581368</td>\n",
       "      <td>7.659131</td>\n",
       "      <td>24</td>\n",
       "      <td>180.0</td>\n",
       "      <td>80.0</td>\n",
       "      <td>0.22</td>\n",
       "      <td>1.1</td>\n",
       "      <td>22.8</td>\n",
       "      <td>22.8</td>\n",
       "      <td>1.52</td>\n",
       "      <td>9</td>\n",
       "      <td>0.02</td>\n",
       "      <td>0.15</td>\n",
       "      <td>5.44</td>\n",
       "      <td>2.0</td>\n",
       "      <td>2.0</td>\n",
       "      <td>0.5</td>\n",
       "      <td>0.0</td>\n",
       "      <td>1.0</td>\n",
       "      <td>0.0</td>\n",
       "      <td>0.0</td>\n",
       "      <td>1.0</td>\n",
       "      <td>1.0</td>\n",
       "      <td>0.0</td>\n",
       "      <td>0.0</td>\n",
       "      <td>0.0</td>\n",
       "      <td>1.0</td>\n",
       "      <td>0.0</td>\n",
       "      <td>0.0</td>\n",
       "      <td>0.0</td>\n",
       "      <td>0.0</td>\n",
       "      <td>1.0</td>\n",
       "      <td>0.0</td>\n",
       "      <td>0.0</td>\n",
       "      <td>0.0</td>\n",
       "      <td>0.0</td>\n",
       "      <td>0.0</td>\n",
       "      <td>0.0</td>\n",
       "      <td>0.0</td>\n",
       "      <td>0.0</td>\n",
       "      <td>0.0</td>\n",
       "      <td>1.0</td>\n",
       "    </tr>\n",
       "    <tr>\n",
       "      <th>4975</th>\n",
       "      <td>1</td>\n",
       "      <td>30</td>\n",
       "      <td>16</td>\n",
       "      <td>29</td>\n",
       "      <td>3.224581</td>\n",
       "      <td>10.581368</td>\n",
       "      <td>7.659131</td>\n",
       "      <td>25</td>\n",
       "      <td>185.0</td>\n",
       "      <td>83.0</td>\n",
       "      <td>0.32</td>\n",
       "      <td>1.1</td>\n",
       "      <td>22.7</td>\n",
       "      <td>22.8</td>\n",
       "      <td>0.82</td>\n",
       "      <td>9</td>\n",
       "      <td>0.03</td>\n",
       "      <td>0.02</td>\n",
       "      <td>5.01</td>\n",
       "      <td>3.0</td>\n",
       "      <td>4.0</td>\n",
       "      <td>-0.5</td>\n",
       "      <td>0.0</td>\n",
       "      <td>1.0</td>\n",
       "      <td>0.0</td>\n",
       "      <td>0.0</td>\n",
       "      <td>1.0</td>\n",
       "      <td>1.0</td>\n",
       "      <td>0.0</td>\n",
       "      <td>0.0</td>\n",
       "      <td>0.0</td>\n",
       "      <td>1.0</td>\n",
       "      <td>0.0</td>\n",
       "      <td>0.0</td>\n",
       "      <td>0.0</td>\n",
       "      <td>0.0</td>\n",
       "      <td>1.0</td>\n",
       "      <td>0.0</td>\n",
       "      <td>0.0</td>\n",
       "      <td>0.0</td>\n",
       "      <td>0.0</td>\n",
       "      <td>0.0</td>\n",
       "      <td>0.0</td>\n",
       "      <td>0.0</td>\n",
       "      <td>0.0</td>\n",
       "      <td>0.0</td>\n",
       "      <td>1.0</td>\n",
       "    </tr>\n",
       "    <tr>\n",
       "      <th>4976</th>\n",
       "      <td>1</td>\n",
       "      <td>30</td>\n",
       "      <td>16</td>\n",
       "      <td>42</td>\n",
       "      <td>3.224581</td>\n",
       "      <td>10.581368</td>\n",
       "      <td>7.659131</td>\n",
       "      <td>24</td>\n",
       "      <td>170.0</td>\n",
       "      <td>60.0</td>\n",
       "      <td>0.58</td>\n",
       "      <td>1.1</td>\n",
       "      <td>21.8</td>\n",
       "      <td>22.4</td>\n",
       "      <td>1.87</td>\n",
       "      <td>9</td>\n",
       "      <td>0.01</td>\n",
       "      <td>-0.46</td>\n",
       "      <td>9.43</td>\n",
       "      <td>1.0</td>\n",
       "      <td>1.0</td>\n",
       "      <td>0.5</td>\n",
       "      <td>0.0</td>\n",
       "      <td>1.0</td>\n",
       "      <td>0.0</td>\n",
       "      <td>0.0</td>\n",
       "      <td>1.0</td>\n",
       "      <td>1.0</td>\n",
       "      <td>0.0</td>\n",
       "      <td>0.0</td>\n",
       "      <td>0.0</td>\n",
       "      <td>1.0</td>\n",
       "      <td>0.0</td>\n",
       "      <td>0.0</td>\n",
       "      <td>0.0</td>\n",
       "      <td>0.0</td>\n",
       "      <td>1.0</td>\n",
       "      <td>0.0</td>\n",
       "      <td>0.0</td>\n",
       "      <td>0.0</td>\n",
       "      <td>0.0</td>\n",
       "      <td>0.0</td>\n",
       "      <td>0.0</td>\n",
       "      <td>0.0</td>\n",
       "      <td>0.0</td>\n",
       "      <td>0.0</td>\n",
       "      <td>1.0</td>\n",
       "    </tr>\n",
       "    <tr>\n",
       "      <th>4977</th>\n",
       "      <td>1</td>\n",
       "      <td>30</td>\n",
       "      <td>16</td>\n",
       "      <td>43</td>\n",
       "      <td>3.224581</td>\n",
       "      <td>10.581368</td>\n",
       "      <td>7.659131</td>\n",
       "      <td>23</td>\n",
       "      <td>158.0</td>\n",
       "      <td>54.0</td>\n",
       "      <td>0.44</td>\n",
       "      <td>1.1</td>\n",
       "      <td>21.8</td>\n",
       "      <td>22.4</td>\n",
       "      <td>1.87</td>\n",
       "      <td>9</td>\n",
       "      <td>0.01</td>\n",
       "      <td>-0.17</td>\n",
       "      <td>5.64</td>\n",
       "      <td>1.0</td>\n",
       "      <td>2.0</td>\n",
       "      <td>0.5</td>\n",
       "      <td>1.0</td>\n",
       "      <td>0.0</td>\n",
       "      <td>0.0</td>\n",
       "      <td>0.0</td>\n",
       "      <td>1.0</td>\n",
       "      <td>1.0</td>\n",
       "      <td>0.0</td>\n",
       "      <td>0.0</td>\n",
       "      <td>0.0</td>\n",
       "      <td>1.0</td>\n",
       "      <td>0.0</td>\n",
       "      <td>0.0</td>\n",
       "      <td>0.0</td>\n",
       "      <td>0.0</td>\n",
       "      <td>1.0</td>\n",
       "      <td>0.0</td>\n",
       "      <td>0.0</td>\n",
       "      <td>0.0</td>\n",
       "      <td>0.0</td>\n",
       "      <td>0.0</td>\n",
       "      <td>0.0</td>\n",
       "      <td>0.0</td>\n",
       "      <td>0.0</td>\n",
       "      <td>0.0</td>\n",
       "      <td>1.0</td>\n",
       "    </tr>\n",
       "    <tr>\n",
       "      <th>4978</th>\n",
       "      <td>1</td>\n",
       "      <td>30</td>\n",
       "      <td>17</td>\n",
       "      <td>0</td>\n",
       "      <td>3.224581</td>\n",
       "      <td>10.581368</td>\n",
       "      <td>7.659131</td>\n",
       "      <td>24</td>\n",
       "      <td>170.0</td>\n",
       "      <td>51.0</td>\n",
       "      <td>0.41</td>\n",
       "      <td>1.0</td>\n",
       "      <td>22.1</td>\n",
       "      <td>22.1</td>\n",
       "      <td>0.98</td>\n",
       "      <td>9</td>\n",
       "      <td>0.02</td>\n",
       "      <td>-0.59</td>\n",
       "      <td>12.37</td>\n",
       "      <td>1.0</td>\n",
       "      <td>2.0</td>\n",
       "      <td>0.5</td>\n",
       "      <td>0.0</td>\n",
       "      <td>1.0</td>\n",
       "      <td>0.0</td>\n",
       "      <td>0.0</td>\n",
       "      <td>1.0</td>\n",
       "      <td>1.0</td>\n",
       "      <td>0.0</td>\n",
       "      <td>0.0</td>\n",
       "      <td>0.0</td>\n",
       "      <td>1.0</td>\n",
       "      <td>0.0</td>\n",
       "      <td>0.0</td>\n",
       "      <td>0.0</td>\n",
       "      <td>0.0</td>\n",
       "      <td>1.0</td>\n",
       "      <td>0.0</td>\n",
       "      <td>0.0</td>\n",
       "      <td>0.0</td>\n",
       "      <td>0.0</td>\n",
       "      <td>0.0</td>\n",
       "      <td>0.0</td>\n",
       "      <td>0.0</td>\n",
       "      <td>0.0</td>\n",
       "      <td>0.0</td>\n",
       "      <td>1.0</td>\n",
       "    </tr>\n",
       "  </tbody>\n",
       "</table>\n",
       "<p>4979 rows × 47 columns</p>\n",
       "</div>"
      ],
      "text/plain": [
       "      month  day  hour  minute  room_height  room_length  room_width  \\\n",
       "0         1   30    10      35     3.900000     6.100000    3.400000   \n",
       "1         1   30    10      42     3.900000     6.100000    3.400000   \n",
       "2         1   30    10      45     3.900000     6.100000    3.400000   \n",
       "3         1   30    10      47     3.900000     6.100000    3.400000   \n",
       "4         1   31    20      20     3.900000     6.100000    3.400000   \n",
       "...     ...  ...   ...     ...          ...          ...         ...   \n",
       "4974      1   30    16      21     3.224581    10.581368    7.659131   \n",
       "4975      1   30    16      29     3.224581    10.581368    7.659131   \n",
       "4976      1   30    16      42     3.224581    10.581368    7.659131   \n",
       "4977      1   30    16      43     3.224581    10.581368    7.659131   \n",
       "4978      1   30    17       0     3.224581    10.581368    7.659131   \n",
       "\n",
       "     person_age person_height person_weight person_cloth person_activity  \\\n",
       "0         18-30           170            62          1.1               1   \n",
       "1         41-50           168            80         1.83             0.9   \n",
       "2         41-50           170            82         1.36             0.9   \n",
       "3         18-30           178            65         1.58             0.9   \n",
       "4         18-30           174            80         1.38             0.9   \n",
       "...         ...           ...           ...          ...             ...   \n",
       "4974         24         180.0          80.0         0.22             1.1   \n",
       "4975         25         185.0          83.0         0.32             1.1   \n",
       "4976         24         170.0          60.0         0.58             1.1   \n",
       "4977         23         158.0          54.0         0.44             1.1   \n",
       "4978         24         170.0          51.0         0.41             1.0   \n",
       "\n",
       "     indoor_operative_temperature indoor_mean_radiant_temp  \\\n",
       "0                            20.8                     20.9   \n",
       "1                            20.8                     20.9   \n",
       "2                            20.8                     20.9   \n",
       "3                            20.8                     20.9   \n",
       "4                              20                     19.8   \n",
       "...                           ...                      ...   \n",
       "4974                         22.8                     22.8   \n",
       "4975                         22.7                     22.8   \n",
       "4976                         21.8                     22.4   \n",
       "4977                         21.8                     22.4   \n",
       "4978                         22.1                     22.1   \n",
       "\n",
       "     indoor_asymmetry_temp indoor_humidity indoor_air_velocity  \\\n",
       "0                     0.74              32                   0   \n",
       "1                     0.74              32                   0   \n",
       "2                     0.74              32                   0   \n",
       "3                     0.74              32                   0   \n",
       "4                     1.12              33                   0   \n",
       "...                    ...             ...                 ...   \n",
       "4974                  1.52               9                0.02   \n",
       "4975                  0.82               9                0.03   \n",
       "4976                  1.87               9                0.01   \n",
       "4977                  1.87               9                0.01   \n",
       "4978                  0.98               9                0.02   \n",
       "\n",
       "     ashrae_predicted_mean_vote ashrae_predicted_percentage_of_dissatisfied  \\\n",
       "0                         -0.58                                       12.01   \n",
       "1                          -0.1                                        5.19   \n",
       "2                         -0.66                                       14.14   \n",
       "3                         -0.36                                        7.78   \n",
       "4                         -0.82                                       19.45   \n",
       "...                         ...                                         ...   \n",
       "4974                       0.15                                        5.44   \n",
       "4975                       0.02                                        5.01   \n",
       "4976                      -0.46                                        9.43   \n",
       "4977                      -0.17                                        5.64   \n",
       "4978                      -0.59                                       12.37   \n",
       "\n",
       "     label_thermal_sensation_vote label_thermal_comfort_vote  \\\n",
       "0                              -1                          1   \n",
       "1                              -1                          1   \n",
       "2                               0                          1   \n",
       "3                               0                          1   \n",
       "4                               0                          1   \n",
       "...                           ...                        ...   \n",
       "4974                          2.0                        2.0   \n",
       "4975                          3.0                        4.0   \n",
       "4976                          1.0                        1.0   \n",
       "4977                          1.0                        2.0   \n",
       "4978                          1.0                        2.0   \n",
       "\n",
       "     label_thermal_acceptability_vote  person_gender_Female  \\\n",
       "0                                 0.1                   1.0   \n",
       "1                                   1                   1.0   \n",
       "2                                   1                   0.0   \n",
       "3                                   1                   0.0   \n",
       "4                                   1                   0.0   \n",
       "...                               ...                   ...   \n",
       "4974                              0.5                   0.0   \n",
       "4975                             -0.5                   0.0   \n",
       "4976                              0.5                   0.0   \n",
       "4977                              0.5                   1.0   \n",
       "4978                              0.5                   0.0   \n",
       "\n",
       "      person_gender_Male  season_Summer Season  season_Transition Season  \\\n",
       "0                    0.0                   0.0                       0.0   \n",
       "1                    0.0                   0.0                       0.0   \n",
       "2                    1.0                   0.0                       0.0   \n",
       "3                    1.0                   0.0                       0.0   \n",
       "4                    1.0                   0.0                       0.0   \n",
       "...                  ...                   ...                       ...   \n",
       "4974                 1.0                   0.0                       0.0   \n",
       "4975                 1.0                   0.0                       0.0   \n",
       "4976                 1.0                   0.0                       0.0   \n",
       "4977                 0.0                   0.0                       0.0   \n",
       "4978                 1.0                   0.0                       0.0   \n",
       "\n",
       "      season_Winter Season  climate_zone_Cold zone  \\\n",
       "0                      1.0                     1.0   \n",
       "1                      1.0                     1.0   \n",
       "2                      1.0                     1.0   \n",
       "3                      1.0                     1.0   \n",
       "4                      1.0                     1.0   \n",
       "...                    ...                     ...   \n",
       "4974                   1.0                     1.0   \n",
       "4975                   1.0                     1.0   \n",
       "4976                   1.0                     1.0   \n",
       "4977                   1.0                     1.0   \n",
       "4978                   1.0                     1.0   \n",
       "\n",
       "      climate_zone_Hot summer and cold winter zone  \\\n",
       "0                                              0.0   \n",
       "1                                              0.0   \n",
       "2                                              0.0   \n",
       "3                                              0.0   \n",
       "4                                              0.0   \n",
       "...                                            ...   \n",
       "4974                                           0.0   \n",
       "4975                                           0.0   \n",
       "4976                                           0.0   \n",
       "4977                                           0.0   \n",
       "4978                                           0.0   \n",
       "\n",
       "      climate_zone_Severe cold zone  building_type _Educational  \\\n",
       "0                               0.0                         0.0   \n",
       "1                               0.0                         0.0   \n",
       "2                               0.0                         0.0   \n",
       "3                               0.0                         0.0   \n",
       "4                               0.0                         0.0   \n",
       "...                             ...                         ...   \n",
       "4974                            0.0                         0.0   \n",
       "4975                            0.0                         0.0   \n",
       "4976                            0.0                         0.0   \n",
       "4977                            0.0                         0.0   \n",
       "4978                            0.0                         0.0   \n",
       "\n",
       "      building_type _Office  building_type _Residential  \\\n",
       "0                       0.0                         1.0   \n",
       "1                       0.0                         1.0   \n",
       "2                       0.0                         1.0   \n",
       "3                       0.0                         1.0   \n",
       "4                       0.0                         1.0   \n",
       "...                     ...                         ...   \n",
       "4974                    1.0                         0.0   \n",
       "4975                    1.0                         0.0   \n",
       "4976                    1.0                         0.0   \n",
       "4977                    1.0                         0.0   \n",
       "4978                    1.0                         0.0   \n",
       "\n",
       "      building_function_Bedroom  building_function_Classroom  \\\n",
       "0                           1.0                          0.0   \n",
       "1                           1.0                          0.0   \n",
       "2                           1.0                          0.0   \n",
       "3                           1.0                          0.0   \n",
       "4                           1.0                          0.0   \n",
       "...                         ...                          ...   \n",
       "4974                        0.0                          0.0   \n",
       "4975                        0.0                          0.0   \n",
       "4976                        0.0                          0.0   \n",
       "4977                        0.0                          0.0   \n",
       "4978                        0.0                          0.0   \n",
       "\n",
       "      building_function_Living room  building_function_Office  \\\n",
       "0                               0.0                       0.0   \n",
       "1                               0.0                       0.0   \n",
       "2                               0.0                       0.0   \n",
       "3                               0.0                       0.0   \n",
       "4                               0.0                       0.0   \n",
       "...                             ...                       ...   \n",
       "4974                            0.0                       1.0   \n",
       "4975                            0.0                       1.0   \n",
       "4976                            0.0                       1.0   \n",
       "4977                            0.0                       1.0   \n",
       "4978                            0.0                       1.0   \n",
       "\n",
       "      building_operation_mode_Air conditioning heating  \\\n",
       "0                                                  0.0   \n",
       "1                                                  0.0   \n",
       "2                                                  0.0   \n",
       "3                                                  0.0   \n",
       "4                                                  0.0   \n",
       "...                                                ...   \n",
       "4974                                               0.0   \n",
       "4975                                               0.0   \n",
       "4976                                               0.0   \n",
       "4977                                               0.0   \n",
       "4978                                               0.0   \n",
       "\n",
       "      building_operation_mode_Ceiling capillary heating  \\\n",
       "0                                                   0.0   \n",
       "1                                                   0.0   \n",
       "2                                                   0.0   \n",
       "3                                                   0.0   \n",
       "4                                                   0.0   \n",
       "...                                                 ...   \n",
       "4974                                                0.0   \n",
       "4975                                                0.0   \n",
       "4976                                                0.0   \n",
       "4977                                                0.0   \n",
       "4978                                                0.0   \n",
       "\n",
       "      building_operation_mode_Cold radiation ceiling cooling  \\\n",
       "0                                                   0.0        \n",
       "1                                                   0.0        \n",
       "2                                                   0.0        \n",
       "3                                                   0.0        \n",
       "4                                                   0.0        \n",
       "...                                                 ...        \n",
       "4974                                                0.0        \n",
       "4975                                                0.0        \n",
       "4976                                                0.0        \n",
       "4977                                                0.0        \n",
       "4978                                                0.0        \n",
       "\n",
       "      building_operation_mode_Convection cooling  \\\n",
       "0                                            0.0   \n",
       "1                                            0.0   \n",
       "2                                            0.0   \n",
       "3                                            0.0   \n",
       "4                                            0.0   \n",
       "...                                          ...   \n",
       "4974                                         0.0   \n",
       "4975                                         0.0   \n",
       "4976                                         0.0   \n",
       "4977                                         0.0   \n",
       "4978                                         0.0   \n",
       "\n",
       "      building_operation_mode_Convection heating  \\\n",
       "0                                            0.0   \n",
       "1                                            0.0   \n",
       "2                                            0.0   \n",
       "3                                            0.0   \n",
       "4                                            0.0   \n",
       "...                                          ...   \n",
       "4974                                         0.0   \n",
       "4975                                         0.0   \n",
       "4976                                         0.0   \n",
       "4977                                         0.0   \n",
       "4978                                         0.0   \n",
       "\n",
       "      building_operation_mode_Naturally Ventilated  \\\n",
       "0                                              0.0   \n",
       "1                                              0.0   \n",
       "2                                              0.0   \n",
       "3                                              0.0   \n",
       "4                                              0.0   \n",
       "...                                            ...   \n",
       "4974                                           0.0   \n",
       "4975                                           0.0   \n",
       "4976                                           0.0   \n",
       "4977                                           0.0   \n",
       "4978                                           0.0   \n",
       "\n",
       "      building_operation_mode_Others  \\\n",
       "0                                0.0   \n",
       "1                                0.0   \n",
       "2                                0.0   \n",
       "3                                0.0   \n",
       "4                                0.0   \n",
       "...                              ...   \n",
       "4974                             0.0   \n",
       "4975                             0.0   \n",
       "4976                             0.0   \n",
       "4977                             0.0   \n",
       "4978                             0.0   \n",
       "\n",
       "      building_operation_mode_Radiant floor cooling  \\\n",
       "0                                               0.0   \n",
       "1                                               0.0   \n",
       "2                                               0.0   \n",
       "3                                               0.0   \n",
       "4                                               0.0   \n",
       "...                                             ...   \n",
       "4974                                            0.0   \n",
       "4975                                            0.0   \n",
       "4976                                            0.0   \n",
       "4977                                            0.0   \n",
       "4978                                            0.0   \n",
       "\n",
       "      building_operation_mode_Radiant floor heating  \\\n",
       "0                                               0.0   \n",
       "1                                               0.0   \n",
       "2                                               0.0   \n",
       "3                                               0.0   \n",
       "4                                               0.0   \n",
       "...                                             ...   \n",
       "4974                                            0.0   \n",
       "4975                                            0.0   \n",
       "4976                                            0.0   \n",
       "4977                                            0.0   \n",
       "4978                                            0.0   \n",
       "\n",
       "      building_operation_mode_Radiator heating  \n",
       "0                                          1.0  \n",
       "1                                          1.0  \n",
       "2                                          1.0  \n",
       "3                                          1.0  \n",
       "4                                          1.0  \n",
       "...                                        ...  \n",
       "4974                                       1.0  \n",
       "4975                                       1.0  \n",
       "4976                                       1.0  \n",
       "4977                                       1.0  \n",
       "4978                                       1.0  \n",
       "\n",
       "[4979 rows x 47 columns]"
      ]
     },
     "execution_count": 147,
     "metadata": {},
     "output_type": "execute_result"
    }
   ],
   "source": [
    "chinese_dataset_1"
   ]
  },
  {
   "cell_type": "code",
   "execution_count": 148,
   "metadata": {},
   "outputs": [
    {
     "data": {
      "text/plain": [
       "array([35, 42, 45, 47, 20, 24, 27,  6,  8, 10, 48, 51, 53, 29, 32, 52, 54,\n",
       "       58,  0, 25, 59,  1, 46, 50, 57, 19, 37, 41, 12, 21, 34, 39, 11, 18,\n",
       "       55, 23, 28, 49,  2, 14,  9, 15, 38,  4, 31, 16, 13, 33, 40, 22, 44,\n",
       "       43,  5, 26, 36, 30, 56,  7,  3, 17])"
      ]
     },
     "execution_count": 148,
     "metadata": {},
     "output_type": "execute_result"
    }
   ],
   "source": [
    "chinese_dataset_1['minute'].unique()"
   ]
  },
  {
   "cell_type": "code",
   "execution_count": 149,
   "metadata": {},
   "outputs": [],
   "source": [
    "chinese_dataset_1['person_age'] = chinese_dataset_1['person_age'].apply(lambda x: [int(a) for a in re.findall(r\"\\d+\", x)])\n",
    "chinese_dataset_1['person_age'] = chinese_dataset_1['person_age'].apply(lambda x: sum(x)/len(x))"
   ]
  },
  {
   "cell_type": "code",
   "execution_count": 150,
   "metadata": {},
   "outputs": [],
   "source": [
    "chinese_dataset_1['month'] = chinese_dataset_1['month'].apply(lambda x: (x-1)/(12-1))\n",
    "chinese_dataset_1['day'] = chinese_dataset_1['day'].apply(lambda x: (x-1)/(31-1))\n",
    "chinese_dataset_1['hour'] = chinese_dataset_1['hour'].apply(lambda x: (x-0)/(24-0))\n",
    "chinese_dataset_1['minute'] = chinese_dataset_1['minute'].apply(lambda x: (x-0)/(59-0))"
   ]
  },
  {
   "cell_type": "code",
   "execution_count": 151,
   "metadata": {},
   "outputs": [
    {
     "data": {
      "text/plain": [
       "47"
      ]
     },
     "execution_count": 151,
     "metadata": {},
     "output_type": "execute_result"
    }
   ],
   "source": [
    "len(chinese_dataset_1.columns)"
   ]
  },
  {
   "cell_type": "code",
   "execution_count": 152,
   "metadata": {},
   "outputs": [
    {
     "name": "stdout",
     "output_type": "stream",
     "text": [
      "Thermal acceptability: \n",
      " [-1.0, -0.9, -0.5, -0.5, -0.4, -0.3, -0.2, -0.1, 0.1, 0.1, 0.2, 0.3, 0.4, 0.5, 0.5, 0.6, 0.7, 0.8, 0.9, 1.0, 1.0]\n"
     ]
    }
   ],
   "source": [
    "print(\"Thermal acceptability: \\n\",sorted([float(x) for x in chinese_dataset_1[\"label_thermal_acceptability_vote\"].unique()]))"
   ]
  },
  {
   "cell_type": "code",
   "execution_count": 153,
   "metadata": {},
   "outputs": [
    {
     "data": {
      "text/plain": [
       "array(['0.1', '1', '-0.1', '-1', '-0.2', '0.2', '0.6', '-0.4', '0.9',\n",
       "       '0.3', '0.4', '0.5', '0.7', '-0.3', '-0.9', '-0.5', '0.8', 0.1,\n",
       "       0.5, 1.0, -0.5], dtype=object)"
      ]
     },
     "execution_count": 153,
     "metadata": {},
     "output_type": "execute_result"
    }
   ],
   "source": [
    "chinese_dataset_1[\"label_thermal_acceptability_vote\"].unique()"
   ]
  },
  {
   "cell_type": "code",
   "execution_count": 154,
   "metadata": {},
   "outputs": [
    {
     "name": "stdout",
     "output_type": "stream",
     "text": [
      "Thermal comfort: \n",
      " [1.0, 1.0, 1.3, 1.5, 1.7, 1.9, 2.0, 2.0, 2.4, 2.5, 2.7, 3.0, 3.0, 4.0, 4.0, 5.0, 5.0]\n"
     ]
    }
   ],
   "source": [
    "print(\"Thermal comfort: \\n\",sorted([float(x) for x in chinese_dataset_1[\"label_thermal_comfort_vote\"].unique()]))"
   ]
  },
  {
   "cell_type": "code",
   "execution_count": 155,
   "metadata": {},
   "outputs": [
    {
     "name": "stdout",
     "output_type": "stream",
     "text": [
      "Thermal sensation: \n",
      " [-3.0, -3.0, -2.2, -2.0, -2.0, -1.5, -1.4, -1.3, -1.2, -1.1, -1.0, -1.0, -0.9, -0.8, -0.7, -0.6, -0.5, -0.4, -0.3, -0.2, -0.1, 0.0, 0.0, 0.1, 0.2, 0.3, 0.4, 0.5, 0.6, 0.7, 0.8, 0.9, 1.0, 1.0, 1.1, 1.2, 1.3, 1.4, 1.5, 1.6, 1.7, 1.8, 1.9, 2.0, 2.0, 2.1, 2.2, 2.3, 2.4, 2.5, 2.6, 2.7, 2.8, 2.9, 3.0, 3.0]\n"
     ]
    }
   ],
   "source": [
    "print(\"Thermal sensation: \\n\",sorted([float(x) for x in chinese_dataset_1[\"label_thermal_sensation_vote\"].unique()]))"
   ]
  },
  {
   "cell_type": "code",
   "execution_count": 156,
   "metadata": {},
   "outputs": [],
   "source": [
    "thermal_accept_map = {\n",
    "    -1.0:0,\n",
    "    -0.9:0,\n",
    "    -0.5:0,\n",
    "    -0.4:0,\n",
    "    -0.3:1,\n",
    "    -0.2:1, \n",
    "    -0.1:1, \n",
    "    0.1:1, \n",
    "    0.2:2, \n",
    "    0.3:2, \n",
    "    0.4:2, \n",
    "    0.5:3, \n",
    "    0.6:3, \n",
    "    0.7:3, \n",
    "    0.8:3,\n",
    "    0.9:3,\n",
    "    1.0:3\n",
    "}\n",
    "\n",
    "thermal_comfort_map = {\n",
    "    1.0:0, \n",
    "    1.3:0, \n",
    "    1.5:0, \n",
    "    1.7:1, \n",
    "    1.9:1, \n",
    "    2.0:1, \n",
    "    2.4:1, \n",
    "    2.5:2, \n",
    "    2.7:2, \n",
    "    3.0:2, \n",
    "    4.0:3, \n",
    "    5.0:4\n",
    "}\n",
    "\n",
    "thermal_sensation_map = {\n",
    "    -3.0:0, -2.2:1, -2.0:1, -1.5:1, -1.4:1, -1.3:1, -1.2:2, -1.1:2, -1.0:2, -0.9:2, -0.8:2, -0.7:2, -0.6:2, -0.5:2, -0.4:3, -0.3:3, -0.2:3, -0.1:3, 0.0:3, 0.1:3, 0.2:3, 0.3:3, 0.4:3, 0.5:3, 0.6:4, 0.7:4, 0.8:4, 0.9:4, 1.0:4, 1.1:4, 1.2:4, 1.3:5, 1.4:5, 1.5:5, 1.6:5, 1.7:5, 1.8:5, 1.9:5, 2.0:5, 2.1:5, 2.2:5, 2.3:5, 2.4:5, 2.5:6, 2.6:6, 2.7:6, 2.8:6, 2.9:6, 3.0:6\n",
    "}\n",
    "\n"
   ]
  },
  {
   "cell_type": "code",
   "execution_count": 157,
   "metadata": {},
   "outputs": [],
   "source": [
    "chinese_dataset_1[\"label_thermal_acceptability_vote\"] = chinese_dataset_1[\"label_thermal_acceptability_vote\"].astype(float)\n",
    "chinese_dataset_1[\"label_thermal_comfort_vote\"] = chinese_dataset_1[\"label_thermal_comfort_vote\"].astype(float)\n",
    "chinese_dataset_1[\"label_thermal_sensation_vote\"] = chinese_dataset_1[\"label_thermal_sensation_vote\"].astype(float)\n",
    "# "
   ]
  },
  {
   "cell_type": "code",
   "execution_count": 158,
   "metadata": {},
   "outputs": [],
   "source": [
    "chinese_dataset_1[\"label_thermal_acceptability_vote\"] = chinese_dataset_1[\"label_thermal_acceptability_vote\"].map(thermal_accept_map)\n",
    "chinese_dataset_1[\"label_thermal_comfort_vote\"] = chinese_dataset_1[\"label_thermal_comfort_vote\"].map(thermal_comfort_map)\n",
    "chinese_dataset_1[\"label_thermal_sensation_vote\"] = chinese_dataset_1[\"label_thermal_sensation_vote\"].map(thermal_sensation_map)"
   ]
  },
  {
   "cell_type": "code",
   "execution_count": 159,
   "metadata": {},
   "outputs": [
    {
     "data": {
      "text/html": [
       "<div>\n",
       "<style scoped>\n",
       "    .dataframe tbody tr th:only-of-type {\n",
       "        vertical-align: middle;\n",
       "    }\n",
       "\n",
       "    .dataframe tbody tr th {\n",
       "        vertical-align: top;\n",
       "    }\n",
       "\n",
       "    .dataframe thead th {\n",
       "        text-align: right;\n",
       "    }\n",
       "</style>\n",
       "<table border=\"1\" class=\"dataframe\">\n",
       "  <thead>\n",
       "    <tr style=\"text-align: right;\">\n",
       "      <th></th>\n",
       "      <th>month</th>\n",
       "      <th>day</th>\n",
       "      <th>hour</th>\n",
       "      <th>minute</th>\n",
       "      <th>room_height</th>\n",
       "      <th>room_length</th>\n",
       "      <th>room_width</th>\n",
       "      <th>person_age</th>\n",
       "      <th>person_height</th>\n",
       "      <th>person_weight</th>\n",
       "      <th>person_cloth</th>\n",
       "      <th>person_activity</th>\n",
       "      <th>indoor_operative_temperature</th>\n",
       "      <th>indoor_mean_radiant_temp</th>\n",
       "      <th>indoor_asymmetry_temp</th>\n",
       "      <th>indoor_humidity</th>\n",
       "      <th>indoor_air_velocity</th>\n",
       "      <th>ashrae_predicted_mean_vote</th>\n",
       "      <th>ashrae_predicted_percentage_of_dissatisfied</th>\n",
       "      <th>label_thermal_sensation_vote</th>\n",
       "      <th>label_thermal_comfort_vote</th>\n",
       "      <th>label_thermal_acceptability_vote</th>\n",
       "      <th>person_gender_Female</th>\n",
       "      <th>person_gender_Male</th>\n",
       "      <th>season_Summer Season</th>\n",
       "      <th>season_Transition Season</th>\n",
       "      <th>season_Winter Season</th>\n",
       "      <th>climate_zone_Cold zone</th>\n",
       "      <th>climate_zone_Hot summer and cold winter zone</th>\n",
       "      <th>climate_zone_Severe cold zone</th>\n",
       "      <th>building_type _Educational</th>\n",
       "      <th>building_type _Office</th>\n",
       "      <th>building_type _Residential</th>\n",
       "      <th>building_function_Bedroom</th>\n",
       "      <th>building_function_Classroom</th>\n",
       "      <th>building_function_Living room</th>\n",
       "      <th>building_function_Office</th>\n",
       "      <th>building_operation_mode_Air conditioning heating</th>\n",
       "      <th>building_operation_mode_Ceiling capillary heating</th>\n",
       "      <th>building_operation_mode_Cold radiation ceiling cooling</th>\n",
       "      <th>building_operation_mode_Convection cooling</th>\n",
       "      <th>building_operation_mode_Convection heating</th>\n",
       "      <th>building_operation_mode_Naturally Ventilated</th>\n",
       "      <th>building_operation_mode_Others</th>\n",
       "      <th>building_operation_mode_Radiant floor cooling</th>\n",
       "      <th>building_operation_mode_Radiant floor heating</th>\n",
       "      <th>building_operation_mode_Radiator heating</th>\n",
       "    </tr>\n",
       "  </thead>\n",
       "  <tbody>\n",
       "    <tr>\n",
       "      <th>0</th>\n",
       "      <td>0.0</td>\n",
       "      <td>0.966667</td>\n",
       "      <td>0.416667</td>\n",
       "      <td>0.593220</td>\n",
       "      <td>3.900000</td>\n",
       "      <td>6.100000</td>\n",
       "      <td>3.400000</td>\n",
       "      <td>24.0</td>\n",
       "      <td>170</td>\n",
       "      <td>62</td>\n",
       "      <td>1.1</td>\n",
       "      <td>1</td>\n",
       "      <td>20.8</td>\n",
       "      <td>20.9</td>\n",
       "      <td>0.74</td>\n",
       "      <td>32</td>\n",
       "      <td>0</td>\n",
       "      <td>-0.58</td>\n",
       "      <td>12.01</td>\n",
       "      <td>2</td>\n",
       "      <td>0</td>\n",
       "      <td>1</td>\n",
       "      <td>1.0</td>\n",
       "      <td>0.0</td>\n",
       "      <td>0.0</td>\n",
       "      <td>0.0</td>\n",
       "      <td>1.0</td>\n",
       "      <td>1.0</td>\n",
       "      <td>0.0</td>\n",
       "      <td>0.0</td>\n",
       "      <td>0.0</td>\n",
       "      <td>0.0</td>\n",
       "      <td>1.0</td>\n",
       "      <td>1.0</td>\n",
       "      <td>0.0</td>\n",
       "      <td>0.0</td>\n",
       "      <td>0.0</td>\n",
       "      <td>0.0</td>\n",
       "      <td>0.0</td>\n",
       "      <td>0.0</td>\n",
       "      <td>0.0</td>\n",
       "      <td>0.0</td>\n",
       "      <td>0.0</td>\n",
       "      <td>0.0</td>\n",
       "      <td>0.0</td>\n",
       "      <td>0.0</td>\n",
       "      <td>1.0</td>\n",
       "    </tr>\n",
       "    <tr>\n",
       "      <th>1</th>\n",
       "      <td>0.0</td>\n",
       "      <td>0.966667</td>\n",
       "      <td>0.416667</td>\n",
       "      <td>0.711864</td>\n",
       "      <td>3.900000</td>\n",
       "      <td>6.100000</td>\n",
       "      <td>3.400000</td>\n",
       "      <td>45.5</td>\n",
       "      <td>168</td>\n",
       "      <td>80</td>\n",
       "      <td>1.83</td>\n",
       "      <td>0.9</td>\n",
       "      <td>20.8</td>\n",
       "      <td>20.9</td>\n",
       "      <td>0.74</td>\n",
       "      <td>32</td>\n",
       "      <td>0</td>\n",
       "      <td>-0.1</td>\n",
       "      <td>5.19</td>\n",
       "      <td>2</td>\n",
       "      <td>0</td>\n",
       "      <td>3</td>\n",
       "      <td>1.0</td>\n",
       "      <td>0.0</td>\n",
       "      <td>0.0</td>\n",
       "      <td>0.0</td>\n",
       "      <td>1.0</td>\n",
       "      <td>1.0</td>\n",
       "      <td>0.0</td>\n",
       "      <td>0.0</td>\n",
       "      <td>0.0</td>\n",
       "      <td>0.0</td>\n",
       "      <td>1.0</td>\n",
       "      <td>1.0</td>\n",
       "      <td>0.0</td>\n",
       "      <td>0.0</td>\n",
       "      <td>0.0</td>\n",
       "      <td>0.0</td>\n",
       "      <td>0.0</td>\n",
       "      <td>0.0</td>\n",
       "      <td>0.0</td>\n",
       "      <td>0.0</td>\n",
       "      <td>0.0</td>\n",
       "      <td>0.0</td>\n",
       "      <td>0.0</td>\n",
       "      <td>0.0</td>\n",
       "      <td>1.0</td>\n",
       "    </tr>\n",
       "    <tr>\n",
       "      <th>2</th>\n",
       "      <td>0.0</td>\n",
       "      <td>0.966667</td>\n",
       "      <td>0.416667</td>\n",
       "      <td>0.762712</td>\n",
       "      <td>3.900000</td>\n",
       "      <td>6.100000</td>\n",
       "      <td>3.400000</td>\n",
       "      <td>45.5</td>\n",
       "      <td>170</td>\n",
       "      <td>82</td>\n",
       "      <td>1.36</td>\n",
       "      <td>0.9</td>\n",
       "      <td>20.8</td>\n",
       "      <td>20.9</td>\n",
       "      <td>0.74</td>\n",
       "      <td>32</td>\n",
       "      <td>0</td>\n",
       "      <td>-0.66</td>\n",
       "      <td>14.14</td>\n",
       "      <td>3</td>\n",
       "      <td>0</td>\n",
       "      <td>3</td>\n",
       "      <td>0.0</td>\n",
       "      <td>1.0</td>\n",
       "      <td>0.0</td>\n",
       "      <td>0.0</td>\n",
       "      <td>1.0</td>\n",
       "      <td>1.0</td>\n",
       "      <td>0.0</td>\n",
       "      <td>0.0</td>\n",
       "      <td>0.0</td>\n",
       "      <td>0.0</td>\n",
       "      <td>1.0</td>\n",
       "      <td>1.0</td>\n",
       "      <td>0.0</td>\n",
       "      <td>0.0</td>\n",
       "      <td>0.0</td>\n",
       "      <td>0.0</td>\n",
       "      <td>0.0</td>\n",
       "      <td>0.0</td>\n",
       "      <td>0.0</td>\n",
       "      <td>0.0</td>\n",
       "      <td>0.0</td>\n",
       "      <td>0.0</td>\n",
       "      <td>0.0</td>\n",
       "      <td>0.0</td>\n",
       "      <td>1.0</td>\n",
       "    </tr>\n",
       "    <tr>\n",
       "      <th>3</th>\n",
       "      <td>0.0</td>\n",
       "      <td>0.966667</td>\n",
       "      <td>0.416667</td>\n",
       "      <td>0.796610</td>\n",
       "      <td>3.900000</td>\n",
       "      <td>6.100000</td>\n",
       "      <td>3.400000</td>\n",
       "      <td>24.0</td>\n",
       "      <td>178</td>\n",
       "      <td>65</td>\n",
       "      <td>1.58</td>\n",
       "      <td>0.9</td>\n",
       "      <td>20.8</td>\n",
       "      <td>20.9</td>\n",
       "      <td>0.74</td>\n",
       "      <td>32</td>\n",
       "      <td>0</td>\n",
       "      <td>-0.36</td>\n",
       "      <td>7.78</td>\n",
       "      <td>3</td>\n",
       "      <td>0</td>\n",
       "      <td>3</td>\n",
       "      <td>0.0</td>\n",
       "      <td>1.0</td>\n",
       "      <td>0.0</td>\n",
       "      <td>0.0</td>\n",
       "      <td>1.0</td>\n",
       "      <td>1.0</td>\n",
       "      <td>0.0</td>\n",
       "      <td>0.0</td>\n",
       "      <td>0.0</td>\n",
       "      <td>0.0</td>\n",
       "      <td>1.0</td>\n",
       "      <td>1.0</td>\n",
       "      <td>0.0</td>\n",
       "      <td>0.0</td>\n",
       "      <td>0.0</td>\n",
       "      <td>0.0</td>\n",
       "      <td>0.0</td>\n",
       "      <td>0.0</td>\n",
       "      <td>0.0</td>\n",
       "      <td>0.0</td>\n",
       "      <td>0.0</td>\n",
       "      <td>0.0</td>\n",
       "      <td>0.0</td>\n",
       "      <td>0.0</td>\n",
       "      <td>1.0</td>\n",
       "    </tr>\n",
       "    <tr>\n",
       "      <th>4</th>\n",
       "      <td>0.0</td>\n",
       "      <td>1.000000</td>\n",
       "      <td>0.833333</td>\n",
       "      <td>0.338983</td>\n",
       "      <td>3.900000</td>\n",
       "      <td>6.100000</td>\n",
       "      <td>3.400000</td>\n",
       "      <td>24.0</td>\n",
       "      <td>174</td>\n",
       "      <td>80</td>\n",
       "      <td>1.38</td>\n",
       "      <td>0.9</td>\n",
       "      <td>20</td>\n",
       "      <td>19.8</td>\n",
       "      <td>1.12</td>\n",
       "      <td>33</td>\n",
       "      <td>0</td>\n",
       "      <td>-0.82</td>\n",
       "      <td>19.45</td>\n",
       "      <td>3</td>\n",
       "      <td>0</td>\n",
       "      <td>3</td>\n",
       "      <td>0.0</td>\n",
       "      <td>1.0</td>\n",
       "      <td>0.0</td>\n",
       "      <td>0.0</td>\n",
       "      <td>1.0</td>\n",
       "      <td>1.0</td>\n",
       "      <td>0.0</td>\n",
       "      <td>0.0</td>\n",
       "      <td>0.0</td>\n",
       "      <td>0.0</td>\n",
       "      <td>1.0</td>\n",
       "      <td>1.0</td>\n",
       "      <td>0.0</td>\n",
       "      <td>0.0</td>\n",
       "      <td>0.0</td>\n",
       "      <td>0.0</td>\n",
       "      <td>0.0</td>\n",
       "      <td>0.0</td>\n",
       "      <td>0.0</td>\n",
       "      <td>0.0</td>\n",
       "      <td>0.0</td>\n",
       "      <td>0.0</td>\n",
       "      <td>0.0</td>\n",
       "      <td>0.0</td>\n",
       "      <td>1.0</td>\n",
       "    </tr>\n",
       "    <tr>\n",
       "      <th>...</th>\n",
       "      <td>...</td>\n",
       "      <td>...</td>\n",
       "      <td>...</td>\n",
       "      <td>...</td>\n",
       "      <td>...</td>\n",
       "      <td>...</td>\n",
       "      <td>...</td>\n",
       "      <td>...</td>\n",
       "      <td>...</td>\n",
       "      <td>...</td>\n",
       "      <td>...</td>\n",
       "      <td>...</td>\n",
       "      <td>...</td>\n",
       "      <td>...</td>\n",
       "      <td>...</td>\n",
       "      <td>...</td>\n",
       "      <td>...</td>\n",
       "      <td>...</td>\n",
       "      <td>...</td>\n",
       "      <td>...</td>\n",
       "      <td>...</td>\n",
       "      <td>...</td>\n",
       "      <td>...</td>\n",
       "      <td>...</td>\n",
       "      <td>...</td>\n",
       "      <td>...</td>\n",
       "      <td>...</td>\n",
       "      <td>...</td>\n",
       "      <td>...</td>\n",
       "      <td>...</td>\n",
       "      <td>...</td>\n",
       "      <td>...</td>\n",
       "      <td>...</td>\n",
       "      <td>...</td>\n",
       "      <td>...</td>\n",
       "      <td>...</td>\n",
       "      <td>...</td>\n",
       "      <td>...</td>\n",
       "      <td>...</td>\n",
       "      <td>...</td>\n",
       "      <td>...</td>\n",
       "      <td>...</td>\n",
       "      <td>...</td>\n",
       "      <td>...</td>\n",
       "      <td>...</td>\n",
       "      <td>...</td>\n",
       "      <td>...</td>\n",
       "    </tr>\n",
       "    <tr>\n",
       "      <th>4974</th>\n",
       "      <td>0.0</td>\n",
       "      <td>0.966667</td>\n",
       "      <td>0.666667</td>\n",
       "      <td>0.355932</td>\n",
       "      <td>3.224581</td>\n",
       "      <td>10.581368</td>\n",
       "      <td>7.659131</td>\n",
       "      <td>24.0</td>\n",
       "      <td>180.0</td>\n",
       "      <td>80.0</td>\n",
       "      <td>0.22</td>\n",
       "      <td>1.1</td>\n",
       "      <td>22.8</td>\n",
       "      <td>22.8</td>\n",
       "      <td>1.52</td>\n",
       "      <td>9</td>\n",
       "      <td>0.02</td>\n",
       "      <td>0.15</td>\n",
       "      <td>5.44</td>\n",
       "      <td>5</td>\n",
       "      <td>1</td>\n",
       "      <td>3</td>\n",
       "      <td>0.0</td>\n",
       "      <td>1.0</td>\n",
       "      <td>0.0</td>\n",
       "      <td>0.0</td>\n",
       "      <td>1.0</td>\n",
       "      <td>1.0</td>\n",
       "      <td>0.0</td>\n",
       "      <td>0.0</td>\n",
       "      <td>0.0</td>\n",
       "      <td>1.0</td>\n",
       "      <td>0.0</td>\n",
       "      <td>0.0</td>\n",
       "      <td>0.0</td>\n",
       "      <td>0.0</td>\n",
       "      <td>1.0</td>\n",
       "      <td>0.0</td>\n",
       "      <td>0.0</td>\n",
       "      <td>0.0</td>\n",
       "      <td>0.0</td>\n",
       "      <td>0.0</td>\n",
       "      <td>0.0</td>\n",
       "      <td>0.0</td>\n",
       "      <td>0.0</td>\n",
       "      <td>0.0</td>\n",
       "      <td>1.0</td>\n",
       "    </tr>\n",
       "    <tr>\n",
       "      <th>4975</th>\n",
       "      <td>0.0</td>\n",
       "      <td>0.966667</td>\n",
       "      <td>0.666667</td>\n",
       "      <td>0.491525</td>\n",
       "      <td>3.224581</td>\n",
       "      <td>10.581368</td>\n",
       "      <td>7.659131</td>\n",
       "      <td>25.0</td>\n",
       "      <td>185.0</td>\n",
       "      <td>83.0</td>\n",
       "      <td>0.32</td>\n",
       "      <td>1.1</td>\n",
       "      <td>22.7</td>\n",
       "      <td>22.8</td>\n",
       "      <td>0.82</td>\n",
       "      <td>9</td>\n",
       "      <td>0.03</td>\n",
       "      <td>0.02</td>\n",
       "      <td>5.01</td>\n",
       "      <td>6</td>\n",
       "      <td>3</td>\n",
       "      <td>0</td>\n",
       "      <td>0.0</td>\n",
       "      <td>1.0</td>\n",
       "      <td>0.0</td>\n",
       "      <td>0.0</td>\n",
       "      <td>1.0</td>\n",
       "      <td>1.0</td>\n",
       "      <td>0.0</td>\n",
       "      <td>0.0</td>\n",
       "      <td>0.0</td>\n",
       "      <td>1.0</td>\n",
       "      <td>0.0</td>\n",
       "      <td>0.0</td>\n",
       "      <td>0.0</td>\n",
       "      <td>0.0</td>\n",
       "      <td>1.0</td>\n",
       "      <td>0.0</td>\n",
       "      <td>0.0</td>\n",
       "      <td>0.0</td>\n",
       "      <td>0.0</td>\n",
       "      <td>0.0</td>\n",
       "      <td>0.0</td>\n",
       "      <td>0.0</td>\n",
       "      <td>0.0</td>\n",
       "      <td>0.0</td>\n",
       "      <td>1.0</td>\n",
       "    </tr>\n",
       "    <tr>\n",
       "      <th>4976</th>\n",
       "      <td>0.0</td>\n",
       "      <td>0.966667</td>\n",
       "      <td>0.666667</td>\n",
       "      <td>0.711864</td>\n",
       "      <td>3.224581</td>\n",
       "      <td>10.581368</td>\n",
       "      <td>7.659131</td>\n",
       "      <td>24.0</td>\n",
       "      <td>170.0</td>\n",
       "      <td>60.0</td>\n",
       "      <td>0.58</td>\n",
       "      <td>1.1</td>\n",
       "      <td>21.8</td>\n",
       "      <td>22.4</td>\n",
       "      <td>1.87</td>\n",
       "      <td>9</td>\n",
       "      <td>0.01</td>\n",
       "      <td>-0.46</td>\n",
       "      <td>9.43</td>\n",
       "      <td>4</td>\n",
       "      <td>0</td>\n",
       "      <td>3</td>\n",
       "      <td>0.0</td>\n",
       "      <td>1.0</td>\n",
       "      <td>0.0</td>\n",
       "      <td>0.0</td>\n",
       "      <td>1.0</td>\n",
       "      <td>1.0</td>\n",
       "      <td>0.0</td>\n",
       "      <td>0.0</td>\n",
       "      <td>0.0</td>\n",
       "      <td>1.0</td>\n",
       "      <td>0.0</td>\n",
       "      <td>0.0</td>\n",
       "      <td>0.0</td>\n",
       "      <td>0.0</td>\n",
       "      <td>1.0</td>\n",
       "      <td>0.0</td>\n",
       "      <td>0.0</td>\n",
       "      <td>0.0</td>\n",
       "      <td>0.0</td>\n",
       "      <td>0.0</td>\n",
       "      <td>0.0</td>\n",
       "      <td>0.0</td>\n",
       "      <td>0.0</td>\n",
       "      <td>0.0</td>\n",
       "      <td>1.0</td>\n",
       "    </tr>\n",
       "    <tr>\n",
       "      <th>4977</th>\n",
       "      <td>0.0</td>\n",
       "      <td>0.966667</td>\n",
       "      <td>0.666667</td>\n",
       "      <td>0.728814</td>\n",
       "      <td>3.224581</td>\n",
       "      <td>10.581368</td>\n",
       "      <td>7.659131</td>\n",
       "      <td>23.0</td>\n",
       "      <td>158.0</td>\n",
       "      <td>54.0</td>\n",
       "      <td>0.44</td>\n",
       "      <td>1.1</td>\n",
       "      <td>21.8</td>\n",
       "      <td>22.4</td>\n",
       "      <td>1.87</td>\n",
       "      <td>9</td>\n",
       "      <td>0.01</td>\n",
       "      <td>-0.17</td>\n",
       "      <td>5.64</td>\n",
       "      <td>4</td>\n",
       "      <td>1</td>\n",
       "      <td>3</td>\n",
       "      <td>1.0</td>\n",
       "      <td>0.0</td>\n",
       "      <td>0.0</td>\n",
       "      <td>0.0</td>\n",
       "      <td>1.0</td>\n",
       "      <td>1.0</td>\n",
       "      <td>0.0</td>\n",
       "      <td>0.0</td>\n",
       "      <td>0.0</td>\n",
       "      <td>1.0</td>\n",
       "      <td>0.0</td>\n",
       "      <td>0.0</td>\n",
       "      <td>0.0</td>\n",
       "      <td>0.0</td>\n",
       "      <td>1.0</td>\n",
       "      <td>0.0</td>\n",
       "      <td>0.0</td>\n",
       "      <td>0.0</td>\n",
       "      <td>0.0</td>\n",
       "      <td>0.0</td>\n",
       "      <td>0.0</td>\n",
       "      <td>0.0</td>\n",
       "      <td>0.0</td>\n",
       "      <td>0.0</td>\n",
       "      <td>1.0</td>\n",
       "    </tr>\n",
       "    <tr>\n",
       "      <th>4978</th>\n",
       "      <td>0.0</td>\n",
       "      <td>0.966667</td>\n",
       "      <td>0.708333</td>\n",
       "      <td>0.000000</td>\n",
       "      <td>3.224581</td>\n",
       "      <td>10.581368</td>\n",
       "      <td>7.659131</td>\n",
       "      <td>24.0</td>\n",
       "      <td>170.0</td>\n",
       "      <td>51.0</td>\n",
       "      <td>0.41</td>\n",
       "      <td>1.0</td>\n",
       "      <td>22.1</td>\n",
       "      <td>22.1</td>\n",
       "      <td>0.98</td>\n",
       "      <td>9</td>\n",
       "      <td>0.02</td>\n",
       "      <td>-0.59</td>\n",
       "      <td>12.37</td>\n",
       "      <td>4</td>\n",
       "      <td>1</td>\n",
       "      <td>3</td>\n",
       "      <td>0.0</td>\n",
       "      <td>1.0</td>\n",
       "      <td>0.0</td>\n",
       "      <td>0.0</td>\n",
       "      <td>1.0</td>\n",
       "      <td>1.0</td>\n",
       "      <td>0.0</td>\n",
       "      <td>0.0</td>\n",
       "      <td>0.0</td>\n",
       "      <td>1.0</td>\n",
       "      <td>0.0</td>\n",
       "      <td>0.0</td>\n",
       "      <td>0.0</td>\n",
       "      <td>0.0</td>\n",
       "      <td>1.0</td>\n",
       "      <td>0.0</td>\n",
       "      <td>0.0</td>\n",
       "      <td>0.0</td>\n",
       "      <td>0.0</td>\n",
       "      <td>0.0</td>\n",
       "      <td>0.0</td>\n",
       "      <td>0.0</td>\n",
       "      <td>0.0</td>\n",
       "      <td>0.0</td>\n",
       "      <td>1.0</td>\n",
       "    </tr>\n",
       "  </tbody>\n",
       "</table>\n",
       "<p>4979 rows × 47 columns</p>\n",
       "</div>"
      ],
      "text/plain": [
       "      month       day      hour    minute  room_height  room_length  \\\n",
       "0       0.0  0.966667  0.416667  0.593220     3.900000     6.100000   \n",
       "1       0.0  0.966667  0.416667  0.711864     3.900000     6.100000   \n",
       "2       0.0  0.966667  0.416667  0.762712     3.900000     6.100000   \n",
       "3       0.0  0.966667  0.416667  0.796610     3.900000     6.100000   \n",
       "4       0.0  1.000000  0.833333  0.338983     3.900000     6.100000   \n",
       "...     ...       ...       ...       ...          ...          ...   \n",
       "4974    0.0  0.966667  0.666667  0.355932     3.224581    10.581368   \n",
       "4975    0.0  0.966667  0.666667  0.491525     3.224581    10.581368   \n",
       "4976    0.0  0.966667  0.666667  0.711864     3.224581    10.581368   \n",
       "4977    0.0  0.966667  0.666667  0.728814     3.224581    10.581368   \n",
       "4978    0.0  0.966667  0.708333  0.000000     3.224581    10.581368   \n",
       "\n",
       "      room_width  person_age person_height person_weight person_cloth  \\\n",
       "0       3.400000        24.0           170            62          1.1   \n",
       "1       3.400000        45.5           168            80         1.83   \n",
       "2       3.400000        45.5           170            82         1.36   \n",
       "3       3.400000        24.0           178            65         1.58   \n",
       "4       3.400000        24.0           174            80         1.38   \n",
       "...          ...         ...           ...           ...          ...   \n",
       "4974    7.659131        24.0         180.0          80.0         0.22   \n",
       "4975    7.659131        25.0         185.0          83.0         0.32   \n",
       "4976    7.659131        24.0         170.0          60.0         0.58   \n",
       "4977    7.659131        23.0         158.0          54.0         0.44   \n",
       "4978    7.659131        24.0         170.0          51.0         0.41   \n",
       "\n",
       "     person_activity indoor_operative_temperature indoor_mean_radiant_temp  \\\n",
       "0                  1                         20.8                     20.9   \n",
       "1                0.9                         20.8                     20.9   \n",
       "2                0.9                         20.8                     20.9   \n",
       "3                0.9                         20.8                     20.9   \n",
       "4                0.9                           20                     19.8   \n",
       "...              ...                          ...                      ...   \n",
       "4974             1.1                         22.8                     22.8   \n",
       "4975             1.1                         22.7                     22.8   \n",
       "4976             1.1                         21.8                     22.4   \n",
       "4977             1.1                         21.8                     22.4   \n",
       "4978             1.0                         22.1                     22.1   \n",
       "\n",
       "     indoor_asymmetry_temp indoor_humidity indoor_air_velocity  \\\n",
       "0                     0.74              32                   0   \n",
       "1                     0.74              32                   0   \n",
       "2                     0.74              32                   0   \n",
       "3                     0.74              32                   0   \n",
       "4                     1.12              33                   0   \n",
       "...                    ...             ...                 ...   \n",
       "4974                  1.52               9                0.02   \n",
       "4975                  0.82               9                0.03   \n",
       "4976                  1.87               9                0.01   \n",
       "4977                  1.87               9                0.01   \n",
       "4978                  0.98               9                0.02   \n",
       "\n",
       "     ashrae_predicted_mean_vote ashrae_predicted_percentage_of_dissatisfied  \\\n",
       "0                         -0.58                                       12.01   \n",
       "1                          -0.1                                        5.19   \n",
       "2                         -0.66                                       14.14   \n",
       "3                         -0.36                                        7.78   \n",
       "4                         -0.82                                       19.45   \n",
       "...                         ...                                         ...   \n",
       "4974                       0.15                                        5.44   \n",
       "4975                       0.02                                        5.01   \n",
       "4976                      -0.46                                        9.43   \n",
       "4977                      -0.17                                        5.64   \n",
       "4978                      -0.59                                       12.37   \n",
       "\n",
       "      label_thermal_sensation_vote  label_thermal_comfort_vote  \\\n",
       "0                                2                           0   \n",
       "1                                2                           0   \n",
       "2                                3                           0   \n",
       "3                                3                           0   \n",
       "4                                3                           0   \n",
       "...                            ...                         ...   \n",
       "4974                             5                           1   \n",
       "4975                             6                           3   \n",
       "4976                             4                           0   \n",
       "4977                             4                           1   \n",
       "4978                             4                           1   \n",
       "\n",
       "      label_thermal_acceptability_vote  person_gender_Female  \\\n",
       "0                                    1                   1.0   \n",
       "1                                    3                   1.0   \n",
       "2                                    3                   0.0   \n",
       "3                                    3                   0.0   \n",
       "4                                    3                   0.0   \n",
       "...                                ...                   ...   \n",
       "4974                                 3                   0.0   \n",
       "4975                                 0                   0.0   \n",
       "4976                                 3                   0.0   \n",
       "4977                                 3                   1.0   \n",
       "4978                                 3                   0.0   \n",
       "\n",
       "      person_gender_Male  season_Summer Season  season_Transition Season  \\\n",
       "0                    0.0                   0.0                       0.0   \n",
       "1                    0.0                   0.0                       0.0   \n",
       "2                    1.0                   0.0                       0.0   \n",
       "3                    1.0                   0.0                       0.0   \n",
       "4                    1.0                   0.0                       0.0   \n",
       "...                  ...                   ...                       ...   \n",
       "4974                 1.0                   0.0                       0.0   \n",
       "4975                 1.0                   0.0                       0.0   \n",
       "4976                 1.0                   0.0                       0.0   \n",
       "4977                 0.0                   0.0                       0.0   \n",
       "4978                 1.0                   0.0                       0.0   \n",
       "\n",
       "      season_Winter Season  climate_zone_Cold zone  \\\n",
       "0                      1.0                     1.0   \n",
       "1                      1.0                     1.0   \n",
       "2                      1.0                     1.0   \n",
       "3                      1.0                     1.0   \n",
       "4                      1.0                     1.0   \n",
       "...                    ...                     ...   \n",
       "4974                   1.0                     1.0   \n",
       "4975                   1.0                     1.0   \n",
       "4976                   1.0                     1.0   \n",
       "4977                   1.0                     1.0   \n",
       "4978                   1.0                     1.0   \n",
       "\n",
       "      climate_zone_Hot summer and cold winter zone  \\\n",
       "0                                              0.0   \n",
       "1                                              0.0   \n",
       "2                                              0.0   \n",
       "3                                              0.0   \n",
       "4                                              0.0   \n",
       "...                                            ...   \n",
       "4974                                           0.0   \n",
       "4975                                           0.0   \n",
       "4976                                           0.0   \n",
       "4977                                           0.0   \n",
       "4978                                           0.0   \n",
       "\n",
       "      climate_zone_Severe cold zone  building_type _Educational  \\\n",
       "0                               0.0                         0.0   \n",
       "1                               0.0                         0.0   \n",
       "2                               0.0                         0.0   \n",
       "3                               0.0                         0.0   \n",
       "4                               0.0                         0.0   \n",
       "...                             ...                         ...   \n",
       "4974                            0.0                         0.0   \n",
       "4975                            0.0                         0.0   \n",
       "4976                            0.0                         0.0   \n",
       "4977                            0.0                         0.0   \n",
       "4978                            0.0                         0.0   \n",
       "\n",
       "      building_type _Office  building_type _Residential  \\\n",
       "0                       0.0                         1.0   \n",
       "1                       0.0                         1.0   \n",
       "2                       0.0                         1.0   \n",
       "3                       0.0                         1.0   \n",
       "4                       0.0                         1.0   \n",
       "...                     ...                         ...   \n",
       "4974                    1.0                         0.0   \n",
       "4975                    1.0                         0.0   \n",
       "4976                    1.0                         0.0   \n",
       "4977                    1.0                         0.0   \n",
       "4978                    1.0                         0.0   \n",
       "\n",
       "      building_function_Bedroom  building_function_Classroom  \\\n",
       "0                           1.0                          0.0   \n",
       "1                           1.0                          0.0   \n",
       "2                           1.0                          0.0   \n",
       "3                           1.0                          0.0   \n",
       "4                           1.0                          0.0   \n",
       "...                         ...                          ...   \n",
       "4974                        0.0                          0.0   \n",
       "4975                        0.0                          0.0   \n",
       "4976                        0.0                          0.0   \n",
       "4977                        0.0                          0.0   \n",
       "4978                        0.0                          0.0   \n",
       "\n",
       "      building_function_Living room  building_function_Office  \\\n",
       "0                               0.0                       0.0   \n",
       "1                               0.0                       0.0   \n",
       "2                               0.0                       0.0   \n",
       "3                               0.0                       0.0   \n",
       "4                               0.0                       0.0   \n",
       "...                             ...                       ...   \n",
       "4974                            0.0                       1.0   \n",
       "4975                            0.0                       1.0   \n",
       "4976                            0.0                       1.0   \n",
       "4977                            0.0                       1.0   \n",
       "4978                            0.0                       1.0   \n",
       "\n",
       "      building_operation_mode_Air conditioning heating  \\\n",
       "0                                                  0.0   \n",
       "1                                                  0.0   \n",
       "2                                                  0.0   \n",
       "3                                                  0.0   \n",
       "4                                                  0.0   \n",
       "...                                                ...   \n",
       "4974                                               0.0   \n",
       "4975                                               0.0   \n",
       "4976                                               0.0   \n",
       "4977                                               0.0   \n",
       "4978                                               0.0   \n",
       "\n",
       "      building_operation_mode_Ceiling capillary heating  \\\n",
       "0                                                   0.0   \n",
       "1                                                   0.0   \n",
       "2                                                   0.0   \n",
       "3                                                   0.0   \n",
       "4                                                   0.0   \n",
       "...                                                 ...   \n",
       "4974                                                0.0   \n",
       "4975                                                0.0   \n",
       "4976                                                0.0   \n",
       "4977                                                0.0   \n",
       "4978                                                0.0   \n",
       "\n",
       "      building_operation_mode_Cold radiation ceiling cooling  \\\n",
       "0                                                   0.0        \n",
       "1                                                   0.0        \n",
       "2                                                   0.0        \n",
       "3                                                   0.0        \n",
       "4                                                   0.0        \n",
       "...                                                 ...        \n",
       "4974                                                0.0        \n",
       "4975                                                0.0        \n",
       "4976                                                0.0        \n",
       "4977                                                0.0        \n",
       "4978                                                0.0        \n",
       "\n",
       "      building_operation_mode_Convection cooling  \\\n",
       "0                                            0.0   \n",
       "1                                            0.0   \n",
       "2                                            0.0   \n",
       "3                                            0.0   \n",
       "4                                            0.0   \n",
       "...                                          ...   \n",
       "4974                                         0.0   \n",
       "4975                                         0.0   \n",
       "4976                                         0.0   \n",
       "4977                                         0.0   \n",
       "4978                                         0.0   \n",
       "\n",
       "      building_operation_mode_Convection heating  \\\n",
       "0                                            0.0   \n",
       "1                                            0.0   \n",
       "2                                            0.0   \n",
       "3                                            0.0   \n",
       "4                                            0.0   \n",
       "...                                          ...   \n",
       "4974                                         0.0   \n",
       "4975                                         0.0   \n",
       "4976                                         0.0   \n",
       "4977                                         0.0   \n",
       "4978                                         0.0   \n",
       "\n",
       "      building_operation_mode_Naturally Ventilated  \\\n",
       "0                                              0.0   \n",
       "1                                              0.0   \n",
       "2                                              0.0   \n",
       "3                                              0.0   \n",
       "4                                              0.0   \n",
       "...                                            ...   \n",
       "4974                                           0.0   \n",
       "4975                                           0.0   \n",
       "4976                                           0.0   \n",
       "4977                                           0.0   \n",
       "4978                                           0.0   \n",
       "\n",
       "      building_operation_mode_Others  \\\n",
       "0                                0.0   \n",
       "1                                0.0   \n",
       "2                                0.0   \n",
       "3                                0.0   \n",
       "4                                0.0   \n",
       "...                              ...   \n",
       "4974                             0.0   \n",
       "4975                             0.0   \n",
       "4976                             0.0   \n",
       "4977                             0.0   \n",
       "4978                             0.0   \n",
       "\n",
       "      building_operation_mode_Radiant floor cooling  \\\n",
       "0                                               0.0   \n",
       "1                                               0.0   \n",
       "2                                               0.0   \n",
       "3                                               0.0   \n",
       "4                                               0.0   \n",
       "...                                             ...   \n",
       "4974                                            0.0   \n",
       "4975                                            0.0   \n",
       "4976                                            0.0   \n",
       "4977                                            0.0   \n",
       "4978                                            0.0   \n",
       "\n",
       "      building_operation_mode_Radiant floor heating  \\\n",
       "0                                               0.0   \n",
       "1                                               0.0   \n",
       "2                                               0.0   \n",
       "3                                               0.0   \n",
       "4                                               0.0   \n",
       "...                                             ...   \n",
       "4974                                            0.0   \n",
       "4975                                            0.0   \n",
       "4976                                            0.0   \n",
       "4977                                            0.0   \n",
       "4978                                            0.0   \n",
       "\n",
       "      building_operation_mode_Radiator heating  \n",
       "0                                          1.0  \n",
       "1                                          1.0  \n",
       "2                                          1.0  \n",
       "3                                          1.0  \n",
       "4                                          1.0  \n",
       "...                                        ...  \n",
       "4974                                       1.0  \n",
       "4975                                       1.0  \n",
       "4976                                       1.0  \n",
       "4977                                       1.0  \n",
       "4978                                       1.0  \n",
       "\n",
       "[4979 rows x 47 columns]"
      ]
     },
     "execution_count": 159,
     "metadata": {},
     "output_type": "execute_result"
    }
   ],
   "source": [
    "chinese_dataset_1"
   ]
  },
  {
   "cell_type": "code",
   "execution_count": 80,
   "metadata": {},
   "outputs": [],
   "source": [
    "chinese_dataset_1.to_csv(\"Dataset/clean_data/chinese_ver0.1.csv\", index=False)"
   ]
  },
  {
   "cell_type": "code",
   "execution_count": null,
   "metadata": {},
   "outputs": [],
   "source": []
  }
 ],
 "metadata": {
  "kernelspec": {
   "display_name": "Python 3",
   "language": "python",
   "name": "python3"
  },
  "language_info": {
   "codemirror_mode": {
    "name": "ipython",
    "version": 3
   },
   "file_extension": ".py",
   "mimetype": "text/x-python",
   "name": "python",
   "nbconvert_exporter": "python",
   "pygments_lexer": "ipython3",
   "version": "3.9.18"
  }
 },
 "nbformat": 4,
 "nbformat_minor": 2
}
